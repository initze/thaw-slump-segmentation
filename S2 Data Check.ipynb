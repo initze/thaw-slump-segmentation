{
 "cells": [
  {
   "cell_type": "code",
   "execution_count": 24,
   "id": "2296b990",
   "metadata": {},
   "outputs": [],
   "source": [
    "import rasterio as rio\n",
    "from pathlib import Path\n",
    "import numpy as np"
   ]
  },
  {
   "cell_type": "code",
   "execution_count": 25,
   "id": "c76d195d",
   "metadata": {
    "scrolled": false
   },
   "outputs": [],
   "source": [
    "scenes = dict()\n",
    "\n",
    "for tif in Path('data/Sentinel2/').glob('*/*.tif'):\n",
    "  with rio.open(tif) as raster:\n",
    "    h, w = raster.shape\n",
    "    scenes[tif.parent.name] = h * w"
   ]
  },
  {
   "cell_type": "code",
   "execution_count": 32,
   "id": "fcb741ac",
   "metadata": {
    "scrolled": false
   },
   "outputs": [
    {
     "data": {
      "text/plain": [
       "421099.7009345794"
      ]
     },
     "execution_count": 32,
     "metadata": {},
     "output_type": "execute_result"
    }
   ],
   "source": [
    "np.mean(list(scenes.values()))"
   ]
  },
  {
   "cell_type": "code",
   "execution_count": 31,
   "id": "ce88738d",
   "metadata": {},
   "outputs": [
    {
     "data": {
      "text/plain": [
       "dict_values([225, 352170, 34782, 87880, 34782, 34780, 238210, 34220, 24344, 402480, 428945, 245502, 457240, 455244, 774508, 111440, 75600, 34782, 204425, 907953, 449793, 442224, 906688, 2463064, 84024, 364039, 130800, 488708, 34596, 34596, 456596, 227836, 323705, 410228, 176026, 54944, 350980, 432247, 477012, 1766088, 2701408, 18260, 1118000, 101752, 2873925, 232254, 1008, 34782, 53440, 5587, 133110, 456596, 453600, 657776, 101265, 864494, 541020, 456596, 327240, 1906688, 350235, 258445, 42622, 550956, 335097, 458833, 1457631, 821749, 92568, 29596, 389620, 205535, 514541, 350980, 13699, 825497, 187272, 101108, 64090, 366560, 319774, 205232, 101265, 34596, 453376, 34782, 49266, 12810, 195619, 249162, 34596, 182427, 64090, 522900, 1305007, 774508, 285, 408900, 1889960, 469371, 148876, 101108, 112, 1457631, 324852, 2520, 245502])"
      ]
     },
     "execution_count": 31,
     "metadata": {},
     "output_type": "execute_result"
    }
   ],
   "source": [
    "scenes.values()"
   ]
  },
  {
   "cell_type": "code",
   "execution_count": null,
   "id": "61dae1a7",
   "metadata": {},
   "outputs": [],
   "source": []
  }
 ],
 "metadata": {
  "kernelspec": {
   "display_name": "Python 3 (ipykernel)",
   "language": "python",
   "name": "python3"
  },
  "language_info": {
   "codemirror_mode": {
    "name": "ipython",
    "version": 3
   },
   "file_extension": ".py",
   "mimetype": "text/x-python",
   "name": "python",
   "nbconvert_exporter": "python",
   "pygments_lexer": "ipython3",
   "version": "3.9.13"
  }
 },
 "nbformat": 4,
 "nbformat_minor": 5
}
