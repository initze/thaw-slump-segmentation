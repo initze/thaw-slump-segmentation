{
 "cells": [
  {
   "cell_type": "code",
   "execution_count": 2,
   "id": "2edcf7d2",
   "metadata": {},
   "outputs": [],
   "source": [
    "import ee\n",
    "import hvplot.xarray\n",
    "import xarray\n",
    "\n",
    "import rasterio as rio\n",
    "import rioxarray\n",
    "\n",
    "import xarray\n",
    "import numpy as np\n",
    "import pandas as pd\n",
    "import geopandas as gpd\n",
    "from pathlib import Path\n",
    "from tqdm.notebook import tqdm\n",
    "import math\n",
    "import json\n",
    "from datetime import datetime"
   ]
  },
  {
   "cell_type": "code",
   "execution_count": 3,
   "id": "5e0ae476",
   "metadata": {},
   "outputs": [],
   "source": [
    "dfs = []\n",
    "\n",
    "for shp in Path('data/ML_training_labels/retrogressive_thaw_slumps/').glob('*/*.shp'):\n",
    "  dfs.append(gpd.read_file(shp))\n",
    "  \n",
    "gdf = pd.concat(dfs).reset_index(drop=True)"
   ]
  },
  {
   "cell_type": "markdown",
   "id": "09e7bb88",
   "metadata": {},
   "source": [
    "# The `geedim` way\n",
    "\n",
    "Best approach so far – TODO: Parallelization"
   ]
  },
  {
   "cell_type": "code",
   "execution_count": 33,
   "id": "35912c18",
   "metadata": {},
   "outputs": [],
   "source": [
    "import geedim as gd\n",
    "gd.Initialize()\n",
    "\n",
    "BANDS = ['B1', 'B2', 'B3', 'B4', 'B5', 'B6', 'B7', 'B8', 'B8A', 'B9', 'B10', 'B11', 'B12']\n",
    "\n",
    "lookback  = pd.Timedelta(days=5)\n",
    "lookahead = pd.Timedelta(days=5)\n",
    "\n",
    "s2 = gd.MaskedCollection.from_name(\"COPERNICUS/S2_HARMONIZED\")"
   ]
  },
  {
   "cell_type": "code",
   "execution_count": 34,
   "id": "0f8d6da7",
   "metadata": {
    "collapsed": true
   },
   "outputs": [
    {
     "data": {
      "application/vnd.jupyter.widget-view+json": {
       "model_id": "38608fef2c92493193847b0af826e4fe",
       "version_major": 2,
       "version_minor": 0
      },
      "text/plain": [
       "  0%|          | 0/154 [00:00<?, ?it/s]"
      ]
     },
     "metadata": {},
     "output_type": "display_data"
    },
    {
     "name": "stdout",
     "output_type": "stream",
     "text": [
      "Found 3 scenes for 20180702_025400_0f31\n"
     ]
    },
    {
     "data": {
      "application/vnd.jupyter.widget-view+json": {
       "model_id": "9ed3c61e8b974cdf856477fb7a3f1af5",
       "version_major": 2,
       "version_minor": 0
      },
      "text/plain": [
       "20180627T035541_20180627T035537_T51WWS.tif: |           | 0.00/40.2M (raw) [  0.0%] in 00:00 (eta:     ?)"
      ]
     },
     "metadata": {},
     "output_type": "display_data"
    },
    {
     "data": {
      "application/vnd.jupyter.widget-view+json": {
       "model_id": "e8162fc705b849c58506eafd168e8411",
       "version_major": 2,
       "version_minor": 0
      },
      "text/plain": [
       "20180702T035539_20180702T035535_T51WWS.tif: |           | 0.00/40.2M (raw) [  0.0%] in 00:00 (eta:     ?)"
      ]
     },
     "metadata": {},
     "output_type": "display_data"
    },
    {
     "data": {
      "application/vnd.jupyter.widget-view+json": {
       "model_id": "75af0624e8ff4f5688070f54b6853189",
       "version_major": 2,
       "version_minor": 0
      },
      "text/plain": [
       "20180704T034541_20180704T034535_T51WWS.tif: |           | 0.00/40.2M (raw) [  0.0%] in 00:00 (eta:     ?)"
      ]
     },
     "metadata": {},
     "output_type": "display_data"
    },
    {
     "name": "stdout",
     "output_type": "stream",
     "text": [
      "Found 3 scenes for 20180702_025401_0f31\n"
     ]
    },
    {
     "data": {
      "application/vnd.jupyter.widget-view+json": {
       "model_id": "208c26e004f444deb26205de52983e65",
       "version_major": 2,
       "version_minor": 0
      },
      "text/plain": [
       "20180627T035541_20180627T035537_T51WWS.tif: |           | 0.00/9.86k (raw) [  0.0%] in 00:00 (eta:     ?)"
      ]
     },
     "metadata": {},
     "output_type": "display_data"
    },
    {
     "data": {
      "application/vnd.jupyter.widget-view+json": {
       "model_id": "28a06009ef434a59a5e665aa5dd6a79d",
       "version_major": 2,
       "version_minor": 0
      },
      "text/plain": [
       "20180702T035539_20180702T035535_T51WWS.tif: |           | 0.00/9.86k (raw) [  0.0%] in 00:00 (eta:     ?)"
      ]
     },
     "metadata": {},
     "output_type": "display_data"
    },
    {
     "data": {
      "application/vnd.jupyter.widget-view+json": {
       "model_id": "f678e3401a68494da761b8da959b29e1",
       "version_major": 2,
       "version_minor": 0
      },
      "text/plain": [
       "20180704T034541_20180704T034535_T51WWS.tif: |           | 0.00/9.86k (raw) [  0.0%] in 00:00 (eta:     ?)"
      ]
     },
     "metadata": {},
     "output_type": "display_data"
    },
    {
     "name": "stdout",
     "output_type": "stream",
     "text": [
      "Found 1 scenes for 20180703_192559_1006\n"
     ]
    },
    {
     "data": {
      "application/vnd.jupyter.widget-view+json": {
       "model_id": "3c277929a5a945e492fa92db11ee5216",
       "version_major": 2,
       "version_minor": 0
      },
      "text/plain": [
       "20180703T201009_20180703T201332_T11XMB.tif: |           | 0.00/40.4M (raw) [  0.0%] in 00:00 (eta:     ?)"
      ]
     },
     "metadata": {},
     "output_type": "display_data"
    },
    {
     "name": "stdout",
     "output_type": "stream",
     "text": [
      "Found 1 scenes for 20180703_192600_1006\n"
     ]
    },
    {
     "data": {
      "application/vnd.jupyter.widget-view+json": {
       "model_id": "cc3c373a23ed431d9502f752a72dd230",
       "version_major": 2,
       "version_minor": 0
      },
      "text/plain": [
       "20180703T201009_20180703T201332_T11XMB.tif: |           | 0.00/48.5M (raw) [  0.0%] in 00:00 (eta:     ?)"
      ]
     },
     "metadata": {},
     "output_type": "display_data"
    },
    {
     "name": "stdout",
     "output_type": "stream",
     "text": [
      "Found 0 scenes for 20180704_075857_1044\n",
      "Found 0 scenes for 20180708_075756_1011\n",
      "Found 1 scenes for 20180710_025407_101b\n"
     ]
    },
    {
     "data": {
      "application/vnd.jupyter.widget-view+json": {
       "model_id": "53d058cd0cdf42d8b18898324b201b4c",
       "version_major": 2,
       "version_minor": 0
      },
      "text/plain": [
       "20180714T034541_20180714T034723_T51WWS.tif: |           | 0.00/20.4M (raw) [  0.0%] in 00:00 (eta:     ?)"
      ]
     },
     "metadata": {},
     "output_type": "display_data"
    },
    {
     "name": "stdout",
     "output_type": "stream",
     "text": [
      "Found 1 scenes for 20180710_025408_101b\n"
     ]
    },
    {
     "data": {
      "application/vnd.jupyter.widget-view+json": {
       "model_id": "1154242c6f2e45bca3353947dfe7c8e1",
       "version_major": 2,
       "version_minor": 0
      },
      "text/plain": [
       "20180714T034541_20180714T034723_T51WWS.tif: |           | 0.00/8.95M (raw) [  0.0%] in 00:00 (eta:     ?)"
      ]
     },
     "metadata": {},
     "output_type": "display_data"
    },
    {
     "name": "stdout",
     "output_type": "stream",
     "text": [
      "Found 2 scenes for 20180716_025343_0f35\n"
     ]
    },
    {
     "data": {
      "application/vnd.jupyter.widget-view+json": {
       "model_id": "6b537098d08c44a99f58f4c6db5746a3",
       "version_major": 2,
       "version_minor": 0
      },
      "text/plain": [
       "20180714T034541_20180714T034723_T51WWS.tif: |           | 0.00/40.1M (raw) [  0.0%] in 00:00 (eta:     ?)"
      ]
     },
     "metadata": {},
     "output_type": "display_data"
    },
    {
     "data": {
      "application/vnd.jupyter.widget-view+json": {
       "model_id": "58d74e62d38c4619bfc65e1580798be7",
       "version_major": 2,
       "version_minor": 0
      },
      "text/plain": [
       "20180716T033539_20180716T033533_T51WWS.tif: |           | 0.00/40.1M (raw) [  0.0%] in 00:00 (eta:     ?)"
      ]
     },
     "metadata": {},
     "output_type": "display_data"
    },
    {
     "name": "stdout",
     "output_type": "stream",
     "text": [
      "Found 2 scenes for 20180716_025344_0f35\n"
     ]
    },
    {
     "data": {
      "application/vnd.jupyter.widget-view+json": {
       "model_id": "c061f2e8553a4730a757fbae9b9b440e",
       "version_major": 2,
       "version_minor": 0
      },
      "text/plain": [
       "20180714T034541_20180714T034723_T51WWS.tif: |           | 0.00/5.64M (raw) [  0.0%] in 00:00 (eta:     ?)"
      ]
     },
     "metadata": {},
     "output_type": "display_data"
    },
    {
     "data": {
      "application/vnd.jupyter.widget-view+json": {
       "model_id": "df8040d8455d4d8dae9378aa0392292d",
       "version_major": 2,
       "version_minor": 0
      },
      "text/plain": [
       "20180716T033539_20180716T033533_T51WWS.tif: |           | 0.00/5.64M (raw) [  0.0%] in 00:00 (eta:     ?)"
      ]
     },
     "metadata": {},
     "output_type": "display_data"
    },
    {
     "name": "stdout",
     "output_type": "stream",
     "text": [
      "Found 3 scenes for 20180722_025446_102e\n"
     ]
    },
    {
     "data": {
      "application/vnd.jupyter.widget-view+json": {
       "model_id": "e3042bc063b84fb1a147de7d33b392b0",
       "version_major": 2,
       "version_minor": 0
      },
      "text/plain": [
       "20180722T035539_20180722T035534_T51WWS.tif: |           | 0.00/3.04M (raw) [  0.0%] in 00:00 (eta:     ?)"
      ]
     },
     "metadata": {},
     "output_type": "display_data"
    },
    {
     "data": {
      "application/vnd.jupyter.widget-view+json": {
       "model_id": "a915966a48ef4bd3a0c3c032d741922f",
       "version_major": 2,
       "version_minor": 0
      },
      "text/plain": [
       "20180724T034541_20180724T034535_T51WWS.tif: |           | 0.00/3.04M (raw) [  0.0%] in 00:00 (eta:     ?)"
      ]
     },
     "metadata": {},
     "output_type": "display_data"
    },
    {
     "data": {
      "application/vnd.jupyter.widget-view+json": {
       "model_id": "b6cffffc6a134af6a731e401c38f0311",
       "version_major": 2,
       "version_minor": 0
      },
      "text/plain": [
       "20180726T033529_20180726T033532_T51WWS.tif: |           | 0.00/3.04M (raw) [  0.0%] in 00:00 (eta:     ?)"
      ]
     },
     "metadata": {},
     "output_type": "display_data"
    },
    {
     "name": "stdout",
     "output_type": "stream",
     "text": [
      "Found 1 scenes for 20180729_193040_0f43\n"
     ]
    },
    {
     "data": {
      "application/vnd.jupyter.widget-view+json": {
       "model_id": "c492ca0b2dd340c08fdcbeff1c6dbe73",
       "version_major": 2,
       "version_minor": 0
      },
      "text/plain": [
       "20180727T204021_20180727T204019_T11XMA.tif: |           | 0.00/16.1M (raw) [  0.0%] in 00:00 (eta:     ?)"
      ]
     },
     "metadata": {},
     "output_type": "display_data"
    },
    {
     "name": "stdout",
     "output_type": "stream",
     "text": [
      "Found 1 scenes for 20180729_193041_0f43\n"
     ]
    },
    {
     "data": {
      "application/vnd.jupyter.widget-view+json": {
       "model_id": "19c4804e61124576ad0da5af69de748e",
       "version_major": 2,
       "version_minor": 0
      },
      "text/plain": [
       "20180727T204021_20180727T204019_T11XMA.tif: |           | 0.00/79.8M (raw) [  0.0%] in 00:00 (eta:     ?)"
      ]
     },
     "metadata": {},
     "output_type": "display_data"
    },
    {
     "name": "stdout",
     "output_type": "stream",
     "text": [
      "Found 6 scenes for 20180730_025452_1012\n"
     ]
    },
    {
     "data": {
      "application/vnd.jupyter.widget-view+json": {
       "model_id": "70c50401133446929e870e9585442839",
       "version_major": 2,
       "version_minor": 0
      },
      "text/plain": [
       "20180726T033529_20180726T033532_T51WWS.tif: |           | 0.00/3.04M (raw) [  0.0%] in 00:00 (eta:     ?)"
      ]
     },
     "metadata": {},
     "output_type": "display_data"
    },
    {
     "data": {
      "application/vnd.jupyter.widget-view+json": {
       "model_id": "fc7cdf47e36447588cc9025ae2a13577",
       "version_major": 2,
       "version_minor": 0
      },
      "text/plain": [
       "20180727T035541_20180727T035537_T51WWS.tif: |           | 0.00/3.04M (raw) [  0.0%] in 00:00 (eta:     ?)"
      ]
     },
     "metadata": {},
     "output_type": "display_data"
    },
    {
     "data": {
      "application/vnd.jupyter.widget-view+json": {
       "model_id": "e86e182196ea4bdda188c19be9915cae",
       "version_major": 2,
       "version_minor": 0
      },
      "text/plain": [
       "20180729T034529_20180729T034531_T51WWS.tif: |           | 0.00/3.04M (raw) [  0.0%] in 00:00 (eta:     ?)"
      ]
     },
     "metadata": {},
     "output_type": "display_data"
    },
    {
     "data": {
      "application/vnd.jupyter.widget-view+json": {
       "model_id": "3727b7d9a8784403be09104cffe7178b",
       "version_major": 2,
       "version_minor": 0
      },
      "text/plain": [
       "20180731T033541_20180731T033828_T51WWS.tif: |           | 0.00/3.04M (raw) [  0.0%] in 00:00 (eta:     ?)"
      ]
     },
     "metadata": {},
     "output_type": "display_data"
    },
    {
     "data": {
      "application/vnd.jupyter.widget-view+json": {
       "model_id": "3e018454c3d04bb1b23e2c5c85bed0a4",
       "version_major": 2,
       "version_minor": 0
      },
      "text/plain": [
       "20180801T035709_20180801T035704_T51WWS.tif: |           | 0.00/3.04M (raw) [  0.0%] in 00:00 (eta:     ?)"
      ]
     },
     "metadata": {},
     "output_type": "display_data"
    },
    {
     "data": {
      "application/vnd.jupyter.widget-view+json": {
       "model_id": "9bd10962b8d4410d9db34bc034023ffc",
       "version_major": 2,
       "version_minor": 0
      },
      "text/plain": [
       "20180803T034541_20180803T034535_T51WWS.tif: |           | 0.00/3.04M (raw) [  0.0%] in 00:00 (eta:     ?)"
      ]
     },
     "metadata": {},
     "output_type": "display_data"
    },
    {
     "name": "stdout",
     "output_type": "stream",
     "text": [
      "Found 0 scenes for 20180801_075817_1021\n",
      "Found 0 scenes for 20180825_164603_0f2a\n",
      "Found 0 scenes for 20180825_164604_0f2a\n",
      "Found 0 scenes for 20180829_025607_1034\n",
      "Found 3 scenes for 20180829_025608_1034\n"
     ]
    },
    {
     "data": {
      "application/vnd.jupyter.widget-view+json": {
       "model_id": "5e2638afc3134481b8f73ff01f6a9ce8",
       "version_major": 2,
       "version_minor": 0
      },
      "text/plain": [
       "20180825T033529_20180825T033526_T51WWS.tif: |           | 0.00/39.9M (raw) [  0.0%] in 00:00 (eta:     ?)"
      ]
     },
     "metadata": {},
     "output_type": "display_data"
    },
    {
     "data": {
      "application/vnd.jupyter.widget-view+json": {
       "model_id": "90a137f64f1144038208257c349dd3cb",
       "version_major": 2,
       "version_minor": 0
      },
      "text/plain": [
       "20180826T035541_20180826T035535_T51WWS.tif: |           | 0.00/39.9M (raw) [  0.0%] in 00:00 (eta:     ?)"
      ]
     },
     "metadata": {},
     "output_type": "display_data"
    },
    {
     "data": {
      "application/vnd.jupyter.widget-view+json": {
       "model_id": "92f2e78a6ec84999b36b7ac4e97c9d19",
       "version_major": 2,
       "version_minor": 0
      },
      "text/plain": [
       "20180828T034529_20180828T034525_T51WWS.tif: |           | 0.00/39.9M (raw) [  0.0%] in 00:00 (eta:     ?)"
      ]
     },
     "metadata": {},
     "output_type": "display_data"
    },
    {
     "name": "stdout",
     "output_type": "stream",
     "text": [
      "Found 5 scenes for 20180921_203252_101f\n"
     ]
    },
    {
     "data": {
      "application/vnd.jupyter.widget-view+json": {
       "model_id": "2475d59ae98042dfbd698ad018f8bb47",
       "version_major": 2,
       "version_minor": 0
      },
      "text/plain": [
       "20180916T210109_20180916T210105_T07WET.tif: |           | 0.00/13.1M (raw) [  0.0%] in 00:00 (eta:     ?)"
      ]
     },
     "metadata": {},
     "output_type": "display_data"
    },
    {
     "data": {
      "application/vnd.jupyter.widget-view+json": {
       "model_id": "fdcd8261d3a142c6ae6fcc421d980b25",
       "version_major": 2,
       "version_minor": 0
      },
      "text/plain": [
       "20180919T211509_20180919T211505_T07WET.tif: |           | 0.00/13.1M (raw) [  0.0%] in 00:00 (eta:     ?)"
      ]
     },
     "metadata": {},
     "output_type": "display_data"
    },
    {
     "data": {
      "application/vnd.jupyter.widget-view+json": {
       "model_id": "35f27973c7644c29a1bf20d3c7bc43a6",
       "version_major": 2,
       "version_minor": 0
      },
      "text/plain": [
       "20180920T213521_20180920T213524_T07WET.tif: |           | 0.00/13.1M (raw) [  0.0%] in 00:00 (eta:     ?)"
      ]
     },
     "metadata": {},
     "output_type": "display_data"
    },
    {
     "data": {
      "application/vnd.jupyter.widget-view+json": {
       "model_id": "56c44f547f3e4b1b900aac10c303e7ee",
       "version_major": 2,
       "version_minor": 0
      },
      "text/plain": [
       "20180921T210141_20180921T210216_T07WET.tif: |           | 0.00/13.1M (raw) [  0.0%] in 00:00 (eta:     ?)"
      ]
     },
     "metadata": {},
     "output_type": "display_data"
    },
    {
     "data": {
      "application/vnd.jupyter.widget-view+json": {
       "model_id": "4e36549d72cc4fd290d60bd1241aaaa5",
       "version_major": 2,
       "version_minor": 0
      },
      "text/plain": [
       "20180924T211511_20180924T211509_T07WET.tif: |           | 0.00/13.1M (raw) [  0.0%] in 00:00 (eta:     ?)"
      ]
     },
     "metadata": {},
     "output_type": "display_data"
    },
    {
     "name": "stdout",
     "output_type": "stream",
     "text": [
      "Found 1 scenes for 20180923_080225_0f34\n"
     ]
    },
    {
     "data": {
      "application/vnd.jupyter.widget-view+json": {
       "model_id": "6977b2b594e547e896fcfc7334a4697b",
       "version_major": 2,
       "version_minor": 0
      },
      "text/plain": [
       "20180920T085619_20180920T090006_T38WPB.tif: |           | 0.00/88.7k (raw) [  0.0%] in 00:00 (eta:     ?)"
      ]
     },
     "metadata": {},
     "output_type": "display_data"
    },
    {
     "name": "stdout",
     "output_type": "stream",
     "text": [
      "Found 0 scenes for 20180923_080226_0f34\n",
      "Found 0 scenes for 20190606_030140_0f3f\n",
      "Found 3 scenes for 20190606_030141_0f3f\n"
     ]
    },
    {
     "data": {
      "application/vnd.jupyter.widget-view+json": {
       "model_id": "0dc7639d59194315b076658c9f7532b4",
       "version_major": 2,
       "version_minor": 0
      },
      "text/plain": [
       "20190601T033549_20190601T033543_T51WWS.tif: |           | 0.00/5.64M (raw) [  0.0%] in 00:00 (eta:     ?)"
      ]
     },
     "metadata": {},
     "output_type": "display_data"
    },
    {
     "data": {
      "application/vnd.jupyter.widget-view+json": {
       "model_id": "c77fe7716fed447f8e8922aab7398870",
       "version_major": 2,
       "version_minor": 0
      },
      "text/plain": [
       "20190602T035541_20190602T035539_T51WWS.tif: |           | 0.00/5.64M (raw) [  0.0%] in 00:00 (eta:     ?)"
      ]
     },
     "metadata": {},
     "output_type": "display_data"
    },
    {
     "data": {
      "application/vnd.jupyter.widget-view+json": {
       "model_id": "d9f358117fd74072a06ac8b8e051faeb",
       "version_major": 2,
       "version_minor": 0
      },
      "text/plain": [
       "20190606T033541_20190606T033537_T51WWS.tif: |           | 0.00/5.64M (raw) [  0.0%] in 00:00 (eta:     ?)"
      ]
     },
     "metadata": {},
     "output_type": "display_data"
    },
    {
     "name": "stdout",
     "output_type": "stream",
     "text": [
      "Found 2 scenes for 20190607_001259_0f44\n"
     ]
    },
    {
     "data": {
      "application/vnd.jupyter.widget-view+json": {
       "model_id": "1a474581ca7347c2a83a4a07b4d8fa9f",
       "version_major": 2,
       "version_minor": 0
      },
      "text/plain": [
       "20190602T035541_20190602T035539_T51WWS.tif: |           | 0.00/16.5M (raw) [  0.0%] in 00:00 (eta:     ?)"
      ]
     },
     "metadata": {},
     "output_type": "display_data"
    },
    {
     "data": {
      "application/vnd.jupyter.widget-view+json": {
       "model_id": "a3d66cdb57ed446b85c900cf1e57bfe4",
       "version_major": 2,
       "version_minor": 0
      },
      "text/plain": [
       "20190606T033541_20190606T033537_T51WWS.tif: |           | 0.00/16.5M (raw) [  0.0%] in 00:00 (eta:     ?)"
      ]
     },
     "metadata": {},
     "output_type": "display_data"
    },
    {
     "name": "stdout",
     "output_type": "stream",
     "text": [
      "Found 2 scenes for 20190607_001300_0f44\n"
     ]
    },
    {
     "data": {
      "application/vnd.jupyter.widget-view+json": {
       "model_id": "b31ecca6ec0e448e9a4bf4426f45390a",
       "version_major": 2,
       "version_minor": 0
      },
      "text/plain": [
       "20190602T035541_20190602T035539_T51WWS.tif: |           | 0.00/21.0M (raw) [  0.0%] in 00:00 (eta:     ?)"
      ]
     },
     "metadata": {},
     "output_type": "display_data"
    },
    {
     "data": {
      "application/vnd.jupyter.widget-view+json": {
       "model_id": "95c7055106474a2e82c2eb060659db07",
       "version_major": 2,
       "version_minor": 0
      },
      "text/plain": [
       "20190606T033541_20190606T033537_T51WWS.tif: |           | 0.00/21.0M (raw) [  0.0%] in 00:00 (eta:     ?)"
      ]
     },
     "metadata": {},
     "output_type": "display_data"
    },
    {
     "name": "stdout",
     "output_type": "stream",
     "text": [
      "Found 4 scenes for 20190607_204203_1044\n"
     ]
    },
    {
     "data": {
      "application/vnd.jupyter.widget-view+json": {
       "model_id": "5a8e808262a547e981b0815b7da312e2",
       "version_major": 2,
       "version_minor": 0
      },
      "text/plain": [
       "20190606T211519_20190606T211521_T07WET.tif: |           | 0.00/3.75M (raw) [  0.0%] in 00:00 (eta:     ?)"
      ]
     },
     "metadata": {},
     "output_type": "display_data"
    },
    {
     "data": {
      "application/vnd.jupyter.widget-view+json": {
       "model_id": "80fafb34a86c45b0bd6a318bd9bf133b",
       "version_major": 2,
       "version_minor": 0
      },
      "text/plain": [
       "20190607T213531_20190607T213531_T07WET.tif: |           | 0.00/3.75M (raw) [  0.0%] in 00:00 (eta:     ?)"
      ]
     },
     "metadata": {},
     "output_type": "display_data"
    },
    {
     "data": {
      "application/vnd.jupyter.widget-view+json": {
       "model_id": "ee8f88b62dcd465c84bbe0f399e1984b",
       "version_major": 2,
       "version_minor": 0
      },
      "text/plain": [
       "20190608T210021_20190608T210314_T07WET.tif: |           | 0.00/3.75M (raw) [  0.0%] in 00:00 (eta:     ?)"
      ]
     },
     "metadata": {},
     "output_type": "display_data"
    },
    {
     "data": {
      "application/vnd.jupyter.widget-view+json": {
       "model_id": "e31dd169418c4cc68bdcfa9c046bb088",
       "version_major": 2,
       "version_minor": 0
      },
      "text/plain": [
       "20190611T211521_20190611T211516_T07WET.tif: |           | 0.00/3.75M (raw) [  0.0%] in 00:00 (eta:     ?)"
      ]
     },
     "metadata": {},
     "output_type": "display_data"
    },
    {
     "name": "stdout",
     "output_type": "stream",
     "text": [
      "Found 0 scenes for 20190607_204204_1044\n",
      "Found 0 scenes for 20190607_204205_1044\n",
      "Found 3 scenes for 20190610_201139_0f15\n"
     ]
    },
    {
     "data": {
      "application/vnd.jupyter.widget-view+json": {
       "model_id": "33922ff73da14407a4de627d28a9b550",
       "version_major": 2,
       "version_minor": 0
      },
      "text/plain": [
       "20190607T204029_20190607T204229_T08WNB.tif: |           | 0.00/18.1M (raw) [  0.0%] in 00:00 (eta:     ?)"
      ]
     },
     "metadata": {},
     "output_type": "display_data"
    },
    {
     "data": {
      "application/vnd.jupyter.widget-view+json": {
       "model_id": "bb81bd525af241ce834d8225795c16c7",
       "version_major": 2,
       "version_minor": 0
      },
      "text/plain": [
       "20190608T210021_20190608T210314_T08WNB.tif: |           | 0.00/18.1M (raw) [  0.0%] in 00:00 (eta:     ?)"
      ]
     },
     "metadata": {},
     "output_type": "display_data"
    },
    {
     "data": {
      "application/vnd.jupyter.widget-view+json": {
       "model_id": "f8b18445deca471a84021341b51f2910",
       "version_major": 2,
       "version_minor": 0
      },
      "text/plain": [
       "20190610T205029_20190610T205118_T08WNB.tif: |           | 0.00/18.1M (raw) [  0.0%] in 00:00 (eta:     ?)"
      ]
     },
     "metadata": {},
     "output_type": "display_data"
    },
    {
     "name": "stdout",
     "output_type": "stream",
     "text": [
      "Found 3 scenes for 20190610_201140_0f15\n"
     ]
    },
    {
     "data": {
      "application/vnd.jupyter.widget-view+json": {
       "model_id": "c49218271bff497f9555be5d1703033a",
       "version_major": 2,
       "version_minor": 0
      },
      "text/plain": [
       "20190607T204029_20190607T204229_T08WNB.tif: |           | 0.00/9.81M (raw) [  0.0%] in 00:00 (eta:     ?)"
      ]
     },
     "metadata": {},
     "output_type": "display_data"
    },
    {
     "data": {
      "application/vnd.jupyter.widget-view+json": {
       "model_id": "a510215028b949399a73cbd71566512a",
       "version_major": 2,
       "version_minor": 0
      },
      "text/plain": [
       "20190608T210021_20190608T210314_T08WNB.tif: |           | 0.00/9.81M (raw) [  0.0%] in 00:00 (eta:     ?)"
      ]
     },
     "metadata": {},
     "output_type": "display_data"
    },
    {
     "data": {
      "application/vnd.jupyter.widget-view+json": {
       "model_id": "56653ccaaa8a4b87936d4ca99c3ccfd1",
       "version_major": 2,
       "version_minor": 0
      },
      "text/plain": [
       "20190610T205029_20190610T205118_T08WNB.tif: |           | 0.00/9.81M (raw) [  0.0%] in 00:00 (eta:     ?)"
      ]
     },
     "metadata": {},
     "output_type": "display_data"
    },
    {
     "name": "stdout",
     "output_type": "stream",
     "text": [
      "Found 5 scenes for 20190618_013705_23_1062\n"
     ]
    },
    {
     "data": {
      "application/vnd.jupyter.widget-view+json": {
       "model_id": "a8a7a5e487e749429882c7f9eaa6784a",
       "version_major": 2,
       "version_minor": 0
      },
      "text/plain": [
       "20190617T035549_20190617T035544_T51WWS.tif: |           | 0.00/3.01M (raw) [  0.0%] in 00:00 (eta:     ?)"
      ]
     },
     "metadata": {},
     "output_type": "display_data"
    },
    {
     "data": {
      "application/vnd.jupyter.widget-view+json": {
       "model_id": "541baa6527674b8ba2c1638a78813793",
       "version_major": 2,
       "version_minor": 0
      },
      "text/plain": [
       "20190618T032549_20190618T032649_T51WWS.tif: |           | 0.00/3.01M (raw) [  0.0%] in 00:00 (eta:     ?)"
      ]
     },
     "metadata": {},
     "output_type": "display_data"
    },
    {
     "data": {
      "application/vnd.jupyter.widget-view+json": {
       "model_id": "dc761f29ac504603a6e980b231150db3",
       "version_major": 2,
       "version_minor": 0
      },
      "text/plain": [
       "20190619T034541_20190619T034538_T51WWS.tif: |           | 0.00/3.01M (raw) [  0.0%] in 00:00 (eta:     ?)"
      ]
     },
     "metadata": {},
     "output_type": "display_data"
    },
    {
     "data": {
      "application/vnd.jupyter.widget-view+json": {
       "model_id": "bfb03054c9214ded93bfc6c5bc8143f5",
       "version_major": 2,
       "version_minor": 0
      },
      "text/plain": [
       "20190621T033549_20190621T033543_T51WWS.tif: |           | 0.00/3.01M (raw) [  0.0%] in 00:00 (eta:     ?)"
      ]
     },
     "metadata": {},
     "output_type": "display_data"
    },
    {
     "data": {
      "application/vnd.jupyter.widget-view+json": {
       "model_id": "01f4e71be4ab4fd3aa38d6c892bd180b",
       "version_major": 2,
       "version_minor": 0
      },
      "text/plain": [
       "20190622T035541_20190622T035541_T51WWS.tif: |           | 0.00/3.01M (raw) [  0.0%] in 00:00 (eta:     ?)"
      ]
     },
     "metadata": {},
     "output_type": "display_data"
    },
    {
     "name": "stdout",
     "output_type": "stream",
     "text": [
      "Found 4 scenes for 20190618_013707_30_1062\n"
     ]
    },
    {
     "data": {
      "application/vnd.jupyter.widget-view+json": {
       "model_id": "0a45f2d59be3471dbf0a1c1c7cce768e",
       "version_major": 2,
       "version_minor": 0
      },
      "text/plain": [
       "20190617T035549_20190617T035544_T51WWS.tif: |           | 0.00/39.9M (raw) [  0.0%] in 00:00 (eta:     ?)"
      ]
     },
     "metadata": {},
     "output_type": "display_data"
    },
    {
     "data": {
      "application/vnd.jupyter.widget-view+json": {
       "model_id": "36667ca758174bc59d248f9ec8dc937a",
       "version_major": 2,
       "version_minor": 0
      },
      "text/plain": [
       "20190619T034541_20190619T034538_T51WWS.tif: |           | 0.00/39.9M (raw) [  0.0%] in 00:00 (eta:     ?)"
      ]
     },
     "metadata": {},
     "output_type": "display_data"
    },
    {
     "data": {
      "application/vnd.jupyter.widget-view+json": {
       "model_id": "ed7db06bf5d0436aac86f4630abc8913",
       "version_major": 2,
       "version_minor": 0
      },
      "text/plain": [
       "20190621T033549_20190621T033543_T51WWS.tif: |           | 0.00/39.9M (raw) [  0.0%] in 00:00 (eta:     ?)"
      ]
     },
     "metadata": {},
     "output_type": "display_data"
    },
    {
     "data": {
      "application/vnd.jupyter.widget-view+json": {
       "model_id": "c62b65e2747b4a3c9c322abd7716cb0a",
       "version_major": 2,
       "version_minor": 0
      },
      "text/plain": [
       "20190622T035541_20190622T035541_T51WWS.tif: |           | 0.00/39.9M (raw) [  0.0%] in 00:00 (eta:     ?)"
      ]
     },
     "metadata": {},
     "output_type": "display_data"
    },
    {
     "name": "stdout",
     "output_type": "stream",
     "text": [
      "Found 3 scenes for 20190619_203634_0f4e\n"
     ]
    },
    {
     "data": {
      "application/vnd.jupyter.widget-view+json": {
       "model_id": "300df13fe86f49faa0e93f11aa8c0844",
       "version_major": 2,
       "version_minor": 0
      },
      "text/plain": [
       "20190621T211521_20190621T211517_T07WET.tif: |           | 0.00/39.6M (raw) [  0.0%] in 00:00 (eta:     ?)"
      ]
     },
     "metadata": {},
     "output_type": "display_data"
    },
    {
     "data": {
      "application/vnd.jupyter.widget-view+json": {
       "model_id": "8ab9ee3af18d4ad787a4426b817a9aa8",
       "version_major": 2,
       "version_minor": 0
      },
      "text/plain": [
       "20190622T213539_20190622T213537_T07WET.tif: |           | 0.00/39.6M (raw) [  0.0%] in 00:00 (eta:     ?)"
      ]
     },
     "metadata": {},
     "output_type": "display_data"
    },
    {
     "data": {
      "application/vnd.jupyter.widget-view+json": {
       "model_id": "7672ac36977c4af1b614bc4f79251470",
       "version_major": 2,
       "version_minor": 0
      },
      "text/plain": [
       "20190623T210029_20190623T210228_T07WET.tif: |           | 0.00/39.6M (raw) [  0.0%] in 00:00 (eta:     ?)"
      ]
     },
     "metadata": {},
     "output_type": "display_data"
    },
    {
     "name": "stdout",
     "output_type": "stream",
     "text": [
      "Found 3 scenes for 20190619_203635_0f4e\n"
     ]
    },
    {
     "data": {
      "application/vnd.jupyter.widget-view+json": {
       "model_id": "3de8d95f3e484eefb04c58d93f89d1fc",
       "version_major": 2,
       "version_minor": 0
      },
      "text/plain": [
       "20190621T211521_20190621T211517_T07WET.tif: |           | 0.00/20.0M (raw) [  0.0%] in 00:00 (eta:     ?)"
      ]
     },
     "metadata": {},
     "output_type": "display_data"
    },
    {
     "data": {
      "application/vnd.jupyter.widget-view+json": {
       "model_id": "f18ec166aae74584b3d09b94b68c48d2",
       "version_major": 2,
       "version_minor": 0
      },
      "text/plain": [
       "20190622T213539_20190622T213537_T07WET.tif: |           | 0.00/20.0M (raw) [  0.0%] in 00:00 (eta:     ?)"
      ]
     },
     "metadata": {},
     "output_type": "display_data"
    },
    {
     "data": {
      "application/vnd.jupyter.widget-view+json": {
       "model_id": "cfc44c4239c7429c9558fa668487c426",
       "version_major": 2,
       "version_minor": 0
      },
      "text/plain": [
       "20190623T210029_20190623T210228_T07WET.tif: |           | 0.00/20.0M (raw) [  0.0%] in 00:00 (eta:     ?)"
      ]
     },
     "metadata": {},
     "output_type": "display_data"
    },
    {
     "name": "stdout",
     "output_type": "stream",
     "text": [
      "Found 5 scenes for 20190620_201330_100a\n"
     ]
    },
    {
     "data": {
      "application/vnd.jupyter.widget-view+json": {
       "model_id": "8f1d61d2f9484097994490f35d43dbb3",
       "version_major": 2,
       "version_minor": 0
      },
      "text/plain": [
       "20190617T204029_20190617T204229_T08WNB.tif: |           | 0.00/1.61M (raw) [  0.0%] in 00:00 (eta:     ?)"
      ]
     },
     "metadata": {},
     "output_type": "display_data"
    },
    {
     "data": {
      "application/vnd.jupyter.widget-view+json": {
       "model_id": "35343c4ff83347578e13d615d3b7337b",
       "version_major": 2,
       "version_minor": 0
      },
      "text/plain": [
       "20190618T210031_20190618T210025_T08WNB.tif: |           | 0.00/1.61M (raw) [  0.0%] in 00:00 (eta:     ?)"
      ]
     },
     "metadata": {},
     "output_type": "display_data"
    },
    {
     "data": {
      "application/vnd.jupyter.widget-view+json": {
       "model_id": "79963d9ee59a44869e161b6300d9c7d2",
       "version_major": 2,
       "version_minor": 0
      },
      "text/plain": [
       "20190620T205029_20190620T205539_T08WNB.tif: |           | 0.00/1.61M (raw) [  0.0%] in 00:00 (eta:     ?)"
      ]
     },
     "metadata": {},
     "output_type": "display_data"
    },
    {
     "data": {
      "application/vnd.jupyter.widget-view+json": {
       "model_id": "d69a59135bf3415b8ad9af6f7fe88cac",
       "version_major": 2,
       "version_minor": 0
      },
      "text/plain": [
       "20190622T204021_20190622T204141_T08WNB.tif: |           | 0.00/1.61M (raw) [  0.0%] in 00:00 (eta:     ?)"
      ]
     },
     "metadata": {},
     "output_type": "display_data"
    },
    {
     "data": {
      "application/vnd.jupyter.widget-view+json": {
       "model_id": "34e3b0796b7c423fa03d12dcbbffca5b",
       "version_major": 2,
       "version_minor": 0
      },
      "text/plain": [
       "20190623T210029_20190623T210228_T08WNB.tif: |           | 0.00/1.61M (raw) [  0.0%] in 00:00 (eta:     ?)"
      ]
     },
     "metadata": {},
     "output_type": "display_data"
    },
    {
     "name": "stdout",
     "output_type": "stream",
     "text": [
      "Found 0 scenes for 20190620_201331_100a\n",
      "Found 5 scenes for 20190620_201332_100a\n"
     ]
    },
    {
     "data": {
      "application/vnd.jupyter.widget-view+json": {
       "model_id": "9fa31ad506a5485aa555d10f28e021b9",
       "version_major": 2,
       "version_minor": 0
      },
      "text/plain": [
       "20190617T204029_20190617T204229_T08WNB.tif: |           | 0.00/7.39M (raw) [  0.0%] in 00:00 (eta:     ?)"
      ]
     },
     "metadata": {},
     "output_type": "display_data"
    },
    {
     "data": {
      "application/vnd.jupyter.widget-view+json": {
       "model_id": "242fd6bd62fd4ab0927e4cad0c153339",
       "version_major": 2,
       "version_minor": 0
      },
      "text/plain": [
       "20190618T210031_20190618T210025_T08WNB.tif: |           | 0.00/7.39M (raw) [  0.0%] in 00:00 (eta:     ?)"
      ]
     },
     "metadata": {},
     "output_type": "display_data"
    },
    {
     "data": {
      "application/vnd.jupyter.widget-view+json": {
       "model_id": "ad1b07c4cf264aacbd179255fd882b05",
       "version_major": 2,
       "version_minor": 0
      },
      "text/plain": [
       "20190620T205029_20190620T205539_T08WNB.tif: |           | 0.00/7.39M (raw) [  0.0%] in 00:00 (eta:     ?)"
      ]
     },
     "metadata": {},
     "output_type": "display_data"
    },
    {
     "data": {
      "application/vnd.jupyter.widget-view+json": {
       "model_id": "d783fd4f3d7345a4bbf5886d2aa51c31",
       "version_major": 2,
       "version_minor": 0
      },
      "text/plain": [
       "20190622T204021_20190622T204141_T08WNB.tif: |           | 0.00/7.39M (raw) [  0.0%] in 00:00 (eta:     ?)"
      ]
     },
     "metadata": {},
     "output_type": "display_data"
    },
    {
     "data": {
      "application/vnd.jupyter.widget-view+json": {
       "model_id": "b9a65d17b6f84a8d86fa62975163365b",
       "version_major": 2,
       "version_minor": 0
      },
      "text/plain": [
       "20190623T210029_20190623T210228_T08WNB.tif: |           | 0.00/7.39M (raw) [  0.0%] in 00:00 (eta:     ?)"
      ]
     },
     "metadata": {},
     "output_type": "display_data"
    },
    {
     "name": "stdout",
     "output_type": "stream",
     "text": [
      "Found 3 scenes for 20190621_204122_0f12\n"
     ]
    },
    {
     "data": {
      "application/vnd.jupyter.widget-view+json": {
       "model_id": "94966a1bcff44979b8deb57e8219b61c",
       "version_major": 2,
       "version_minor": 0
      },
      "text/plain": [
       "20190621T211521_20190621T211517_T07WET.tif: |           | 0.00/45.3M (raw) [  0.0%] in 00:00 (eta:     ?)"
      ]
     },
     "metadata": {},
     "output_type": "display_data"
    },
    {
     "data": {
      "application/vnd.jupyter.widget-view+json": {
       "model_id": "bd241bb2b59f4732bea43957afba002d",
       "version_major": 2,
       "version_minor": 0
      },
      "text/plain": [
       "20190622T213539_20190622T213537_T07WET.tif: |           | 0.00/45.3M (raw) [  0.0%] in 00:00 (eta:     ?)"
      ]
     },
     "metadata": {},
     "output_type": "display_data"
    },
    {
     "data": {
      "application/vnd.jupyter.widget-view+json": {
       "model_id": "a238539f07614b72be030ea8ced8aa12",
       "version_major": 2,
       "version_minor": 0
      },
      "text/plain": [
       "20190623T210029_20190623T210228_T07WET.tif: |           | 0.00/45.3M (raw) [  0.0%] in 00:00 (eta:     ?)"
      ]
     },
     "metadata": {},
     "output_type": "display_data"
    },
    {
     "name": "stdout",
     "output_type": "stream",
     "text": [
      "Found 0 scenes for 20190621_204124_0f12\n",
      "Found 0 scenes for 20190622_164800_1048\n",
      "Found 4 scenes for 20190622_164801_1048\n"
     ]
    },
    {
     "data": {
      "application/vnd.jupyter.widget-view+json": {
       "model_id": "b36d74c62b424a44916e84e4c8f42528",
       "version_major": 2,
       "version_minor": 0
      },
      "text/plain": [
       "20190617T204029_20190617T204229_T09WWT.tif: |           | 0.00/41.3M (raw) [  0.0%] in 00:00 (eta:     ?)"
      ]
     },
     "metadata": {},
     "output_type": "display_data"
    },
    {
     "data": {
      "application/vnd.jupyter.widget-view+json": {
       "model_id": "cca594f07dc84a178c54d949f1d2e5d1",
       "version_major": 2,
       "version_minor": 0
      },
      "text/plain": [
       "20190621T201859_20190621T201857_T09WWT.tif: |           | 0.00/41.3M (raw) [  0.0%] in 00:00 (eta:     ?)"
      ]
     },
     "metadata": {},
     "output_type": "display_data"
    },
    {
     "data": {
      "application/vnd.jupyter.widget-view+json": {
       "model_id": "62cd5b5a2dc149cc9c0d26edba4f33d2",
       "version_major": 2,
       "version_minor": 0
      },
      "text/plain": [
       "20190622T204021_20190622T204141_T09WWT.tif: |           | 0.00/41.3M (raw) [  0.0%] in 00:00 (eta:     ?)"
      ]
     },
     "metadata": {},
     "output_type": "display_data"
    },
    {
     "data": {
      "application/vnd.jupyter.widget-view+json": {
       "model_id": "62d37a99ed9a4ccf8e375dce18741d8b",
       "version_major": 2,
       "version_minor": 0
      },
      "text/plain": [
       "20190624T202849_20190624T203522_T09WWT.tif: |           | 0.00/41.3M (raw) [  0.0%] in 00:00 (eta:     ?)"
      ]
     },
     "metadata": {},
     "output_type": "display_data"
    },
    {
     "name": "stdout",
     "output_type": "stream",
     "text": [
      "Found 4 scenes for 20190622_164802_1048\n"
     ]
    },
    {
     "data": {
      "application/vnd.jupyter.widget-view+json": {
       "model_id": "90359e94bbee475894022c3c74c2c840",
       "version_major": 2,
       "version_minor": 0
      },
      "text/plain": [
       "20190617T204029_20190617T204229_T09WWT.tif: |           | 0.00/4.34M (raw) [  0.0%] in 00:00 (eta:     ?)"
      ]
     },
     "metadata": {},
     "output_type": "display_data"
    },
    {
     "data": {
      "application/vnd.jupyter.widget-view+json": {
       "model_id": "768c7a5e93f9453b8adcbdf6f69eb30a",
       "version_major": 2,
       "version_minor": 0
      },
      "text/plain": [
       "20190621T201859_20190621T201857_T09WWT.tif: |           | 0.00/4.34M (raw) [  0.0%] in 00:00 (eta:     ?)"
      ]
     },
     "metadata": {},
     "output_type": "display_data"
    },
    {
     "data": {
      "application/vnd.jupyter.widget-view+json": {
       "model_id": "930a114313d340b3a46c50dbd8b5124a",
       "version_major": 2,
       "version_minor": 0
      },
      "text/plain": [
       "20190622T204021_20190622T204141_T09WWT.tif: |           | 0.00/4.34M (raw) [  0.0%] in 00:00 (eta:     ?)"
      ]
     },
     "metadata": {},
     "output_type": "display_data"
    },
    {
     "data": {
      "application/vnd.jupyter.widget-view+json": {
       "model_id": "2773a3a82ed849969a79640aa58b455b",
       "version_major": 2,
       "version_minor": 0
      },
      "text/plain": [
       "20190624T202849_20190624T203522_T09WWT.tif: |           | 0.00/4.34M (raw) [  0.0%] in 00:00 (eta:     ?)"
      ]
     },
     "metadata": {},
     "output_type": "display_data"
    },
    {
     "name": "stdout",
     "output_type": "stream",
     "text": [
      "Found 4 scenes for 20190628_030541_1027\n"
     ]
    },
    {
     "data": {
      "application/vnd.jupyter.widget-view+json": {
       "model_id": "bfdb5d76862c4bbaac25798944c53f20",
       "version_major": 2,
       "version_minor": 0
      },
      "text/plain": [
       "20190624T034539_20190624T034632_T51WWS.tif: |           | 0.00/40.2M (raw) [  0.0%] in 00:00 (eta:     ?)"
      ]
     },
     "metadata": {},
     "output_type": "display_data"
    },
    {
     "data": {
      "application/vnd.jupyter.widget-view+json": {
       "model_id": "5b1333792b9f45bcae1bd8cfed4172c1",
       "version_major": 2,
       "version_minor": 0
      },
      "text/plain": [
       "20190626T033541_20190626T033539_T51WWS.tif: |           | 0.00/40.2M (raw) [  0.0%] in 00:00 (eta:     ?)"
      ]
     },
     "metadata": {},
     "output_type": "display_data"
    },
    {
     "data": {
      "application/vnd.jupyter.widget-view+json": {
       "model_id": "a4026d2bbc49446e8fa92fec05454c42",
       "version_major": 2,
       "version_minor": 0
      },
      "text/plain": [
       "20190627T035549_20190627T035545_T51WWS.tif: |           | 0.00/40.2M (raw) [  0.0%] in 00:00 (eta:     ?)"
      ]
     },
     "metadata": {},
     "output_type": "display_data"
    },
    {
     "data": {
      "application/vnd.jupyter.widget-view+json": {
       "model_id": "ab50e11ed67140bdbbc75b61b1901966",
       "version_major": 2,
       "version_minor": 0
      },
      "text/plain": [
       "20190629T034541_20190629T034539_T51WWS.tif: |           | 0.00/40.2M (raw) [  0.0%] in 00:00 (eta:     ?)"
      ]
     },
     "metadata": {},
     "output_type": "display_data"
    },
    {
     "name": "stdout",
     "output_type": "stream",
     "text": [
      "Found 4 scenes for 20190628_030542_1027\n"
     ]
    },
    {
     "data": {
      "application/vnd.jupyter.widget-view+json": {
       "model_id": "be9a31095b774320b6e4c6738bc0d614",
       "version_major": 2,
       "version_minor": 0
      },
      "text/plain": [
       "20190624T034539_20190624T034632_T51WWS.tif: |           | 0.00/25.1k (raw) [  0.0%] in 00:00 (eta:     ?)"
      ]
     },
     "metadata": {},
     "output_type": "display_data"
    },
    {
     "data": {
      "application/vnd.jupyter.widget-view+json": {
       "model_id": "d10ad35ed9864864b1a440deac6c7184",
       "version_major": 2,
       "version_minor": 0
      },
      "text/plain": [
       "20190626T033541_20190626T033539_T51WWS.tif: |           | 0.00/25.1k (raw) [  0.0%] in 00:00 (eta:     ?)"
      ]
     },
     "metadata": {},
     "output_type": "display_data"
    },
    {
     "data": {
      "application/vnd.jupyter.widget-view+json": {
       "model_id": "65020776495148fdb7fc811945f1ed14",
       "version_major": 2,
       "version_minor": 0
      },
      "text/plain": [
       "20190627T035549_20190627T035545_T51WWS.tif: |           | 0.00/25.1k (raw) [  0.0%] in 00:00 (eta:     ?)"
      ]
     },
     "metadata": {},
     "output_type": "display_data"
    },
    {
     "data": {
      "application/vnd.jupyter.widget-view+json": {
       "model_id": "5aa35a2e4d6643a98523fd77aeb2e1d6",
       "version_major": 2,
       "version_minor": 0
      },
      "text/plain": [
       "20190629T034541_20190629T034539_T51WWS.tif: |           | 0.00/25.1k (raw) [  0.0%] in 00:00 (eta:     ?)"
      ]
     },
     "metadata": {},
     "output_type": "display_data"
    },
    {
     "name": "stdout",
     "output_type": "stream",
     "text": [
      "Found 0 scenes for 20190628_064358_48_106a\n",
      "Found 0 scenes for 20190702_050924_0f49\n",
      "Found 0 scenes for 20190702_050925_0f49\n",
      "Found 0 scenes for 20190702_064217_29_1065\n",
      "Found 6 scenes for 20190702_160541_0f49\n"
     ]
    },
    {
     "data": {
      "application/vnd.jupyter.widget-view+json": {
       "model_id": "c3e1fe81ed8345d6b72d72fb485db5b7",
       "version_major": 2,
       "version_minor": 0
      },
      "text/plain": [
       "20190702T204021_20190702T204023_T10XFF.tif: |           | 0.00/21.6M (raw) [  0.0%] in 00:00 (eta:     ?)"
      ]
     },
     "metadata": {},
     "output_type": "display_data"
    },
    {
     "data": {
      "application/vnd.jupyter.widget-view+json": {
       "model_id": "a8cc7842839f46af89840b5fff456209",
       "version_major": 2,
       "version_minor": 0
      },
      "text/plain": [
       "20190702T204021_20190702T204023_T11XMA.tif: |           | 0.00/17.2M (raw) [  0.0%] in 00:00 (eta:     ?)"
      ]
     },
     "metadata": {},
     "output_type": "display_data"
    },
    {
     "data": {
      "application/vnd.jupyter.widget-view+json": {
       "model_id": "dbdb184adc774461aecf7ca696db2e0a",
       "version_major": 2,
       "version_minor": 0
      },
      "text/plain": [
       "20190703T200901_20190703T200857_T11XMA.tif: |           | 0.00/17.2M (raw) [  0.0%] in 00:00 (eta:     ?)"
      ]
     },
     "metadata": {},
     "output_type": "display_data"
    },
    {
     "data": {
      "application/vnd.jupyter.widget-view+json": {
       "model_id": "e4024171730746489ff5fd4c856a5fa4",
       "version_major": 2,
       "version_minor": 0
      },
      "text/plain": [
       "20190703T200901_20190703T200857_T10XFF.tif: |           | 0.00/21.6M (raw) [  0.0%] in 00:00 (eta:     ?)"
      ]
     },
     "metadata": {},
     "output_type": "display_data"
    },
    {
     "data": {
      "application/vnd.jupyter.widget-view+json": {
       "model_id": "da5d7ff9e30e40f6824de2c8b67a9173",
       "version_major": 2,
       "version_minor": 0
      },
      "text/plain": [
       "20190704T202849_20190704T203359_T10XFF.tif: |           | 0.00/21.6M (raw) [  0.0%] in 00:00 (eta:     ?)"
      ]
     },
     "metadata": {},
     "output_type": "display_data"
    },
    {
     "data": {
      "application/vnd.jupyter.widget-view+json": {
       "model_id": "4ba842d08f8048d982632deb1bfdfcf7",
       "version_major": 2,
       "version_minor": 0
      },
      "text/plain": [
       "20190704T202849_20190704T203359_T11XMA.tif: |           | 0.00/17.2M (raw) [  0.0%] in 00:00 (eta:     ?)"
      ]
     },
     "metadata": {},
     "output_type": "display_data"
    },
    {
     "name": "stdout",
     "output_type": "stream",
     "text": [
      "Found 3 scenes for 20190702_160542_0f49\n"
     ]
    },
    {
     "data": {
      "application/vnd.jupyter.widget-view+json": {
       "model_id": "46c42a97def041208aee5190d546664c",
       "version_major": 2,
       "version_minor": 0
      },
      "text/plain": [
       "20190702T204021_20190702T204023_T10XFF.tif: |           | 0.00/57.9M (raw) [  0.0%] in 00:00 (eta:     ?)"
      ]
     },
     "metadata": {},
     "output_type": "display_data"
    },
    {
     "data": {
      "application/vnd.jupyter.widget-view+json": {
       "model_id": "c1b02107b4274c9d993917bddc8a0c17",
       "version_major": 2,
       "version_minor": 0
      },
      "text/plain": [
       "20190703T200901_20190703T200857_T10XFF.tif: |           | 0.00/57.9M (raw) [  0.0%] in 00:00 (eta:     ?)"
      ]
     },
     "metadata": {},
     "output_type": "display_data"
    },
    {
     "data": {
      "application/vnd.jupyter.widget-view+json": {
       "model_id": "9e90a4916e2d46ad942f7ec647d40937",
       "version_major": 2,
       "version_minor": 0
      },
      "text/plain": [
       "20190704T202849_20190704T203359_T10XFF.tif: |           | 0.00/57.9M (raw) [  0.0%] in 00:00 (eta:     ?)"
      ]
     },
     "metadata": {},
     "output_type": "display_data"
    },
    {
     "name": "stdout",
     "output_type": "stream",
     "text": [
      "Found 6 scenes for 20190702_160543_0f49\n"
     ]
    },
    {
     "data": {
      "application/vnd.jupyter.widget-view+json": {
       "model_id": "9404a1ed7e3540d9a77debc081f80df0",
       "version_major": 2,
       "version_minor": 0
      },
      "text/plain": [
       "20190702T204021_20190702T204023_T10XFF.tif: |           | 0.00/2.59M (raw) [  0.0%] in 00:00 (eta:     ?)"
      ]
     },
     "metadata": {},
     "output_type": "display_data"
    },
    {
     "data": {
      "application/vnd.jupyter.widget-view+json": {
       "model_id": "0cf07cc84dd3439585399c85f3c1c592",
       "version_major": 2,
       "version_minor": 0
      },
      "text/plain": [
       "20190702T204021_20190702T204023_T11XMA.tif: |           | 0.00/2.14M (raw) [  0.0%] in 00:00 (eta:     ?)"
      ]
     },
     "metadata": {},
     "output_type": "display_data"
    },
    {
     "data": {
      "application/vnd.jupyter.widget-view+json": {
       "model_id": "a405d8944106481c83879028bd61e603",
       "version_major": 2,
       "version_minor": 0
      },
      "text/plain": [
       "20190703T200901_20190703T200857_T11XMA.tif: |           | 0.00/2.14M (raw) [  0.0%] in 00:00 (eta:     ?)"
      ]
     },
     "metadata": {},
     "output_type": "display_data"
    },
    {
     "data": {
      "application/vnd.jupyter.widget-view+json": {
       "model_id": "240179770878467ea25031369defe296",
       "version_major": 2,
       "version_minor": 0
      },
      "text/plain": [
       "20190703T200901_20190703T200857_T10XFF.tif: |           | 0.00/2.59M (raw) [  0.0%] in 00:00 (eta:     ?)"
      ]
     },
     "metadata": {},
     "output_type": "display_data"
    },
    {
     "data": {
      "application/vnd.jupyter.widget-view+json": {
       "model_id": "516c3341bb614bec8f1b13bb216df820",
       "version_major": 2,
       "version_minor": 0
      },
      "text/plain": [
       "20190704T202849_20190704T203359_T10XFF.tif: |           | 0.00/2.59M (raw) [  0.0%] in 00:00 (eta:     ?)"
      ]
     },
     "metadata": {},
     "output_type": "display_data"
    },
    {
     "data": {
      "application/vnd.jupyter.widget-view+json": {
       "model_id": "2582c9b17e71496d9f007c6b182c0c2d",
       "version_major": 2,
       "version_minor": 0
      },
      "text/plain": [
       "20190704T202849_20190704T203359_T11XMA.tif: |           | 0.00/2.14M (raw) [  0.0%] in 00:00 (eta:     ?)"
      ]
     },
     "metadata": {},
     "output_type": "display_data"
    },
    {
     "name": "stdout",
     "output_type": "stream",
     "text": [
      "Found 0 scenes for 20190703_201901_1006\n",
      "Found 2 scenes for 20190703_201902_1006\n"
     ]
    },
    {
     "data": {
      "application/vnd.jupyter.widget-view+json": {
       "model_id": "ba5d665263644abf80ae29979b43cbc9",
       "version_major": 2,
       "version_minor": 0
      },
      "text/plain": [
       "20190628T210031_20190628T210026_T08WNB.tif: |           | 0.00/22.7M (raw) [  0.0%] in 00:00 (eta:     ?)"
      ]
     },
     "metadata": {},
     "output_type": "display_data"
    },
    {
     "data": {
      "application/vnd.jupyter.widget-view+json": {
       "model_id": "44d74c1cc2024402852515bc45a2f609",
       "version_major": 2,
       "version_minor": 0
      },
      "text/plain": [
       "20190630T205029_20190630T205138_T08WNB.tif: |           | 0.00/22.7M (raw) [  0.0%] in 00:00 (eta:     ?)"
      ]
     },
     "metadata": {},
     "output_type": "display_data"
    },
    {
     "name": "stdout",
     "output_type": "stream",
     "text": [
      "Found 3 scenes for 20190704_172438_93_1067\n"
     ]
    },
    {
     "data": {
      "application/vnd.jupyter.widget-view+json": {
       "model_id": "f54940619a964894be17d85612bb0f96",
       "version_major": 2,
       "version_minor": 0
      },
      "text/plain": [
       "20190703T200901_20190703T200857_T11XMB.tif: |           | 0.00/79.9M (raw) [  0.0%] in 00:00 (eta:     ?)"
      ]
     },
     "metadata": {},
     "output_type": "display_data"
    },
    {
     "data": {
      "application/vnd.jupyter.widget-view+json": {
       "model_id": "44423783832d43b1b3151d843e4f26eb",
       "version_major": 2,
       "version_minor": 0
      },
      "text/plain": [
       "20190704T202849_20190704T203359_T11XMB.tif: |           | 0.00/79.9M (raw) [  0.0%] in 00:00 (eta:     ?)"
      ]
     },
     "metadata": {},
     "output_type": "display_data"
    },
    {
     "data": {
      "application/vnd.jupyter.widget-view+json": {
       "model_id": "cda5dbd9d81249b0afda218c6af75c53",
       "version_major": 2,
       "version_minor": 0
      },
      "text/plain": [
       "20190708T200859_20190708T201404_T11XMB.tif: |           | 0.00/79.9M (raw) [  0.0%] in 00:00 (eta:     ?)"
      ]
     },
     "metadata": {},
     "output_type": "display_data"
    },
    {
     "name": "stdout",
     "output_type": "stream",
     "text": [
      "Found 0 scenes for 20190704_172440_99_1067\n",
      "Found 1 scenes for 20190708_201059_101b\n"
     ]
    },
    {
     "data": {
      "application/vnd.jupyter.widget-view+json": {
       "model_id": "26f1d45f51434fe2a1ee0a5751f1a529",
       "version_major": 2,
       "version_minor": 0
      },
      "text/plain": [
       "20190710T205029_20190710T205203_T08WNB.tif: |           | 0.00/11.7M (raw) [  0.0%] in 00:00 (eta:     ?)"
      ]
     },
     "metadata": {},
     "output_type": "display_data"
    },
    {
     "name": "stdout",
     "output_type": "stream",
     "text": [
      "Found 1 scenes for 20190708_201100_101b\n"
     ]
    },
    {
     "data": {
      "application/vnd.jupyter.widget-view+json": {
       "model_id": "ff0feb910ef44fa4aa76e3a057b0e7a7",
       "version_major": 2,
       "version_minor": 0
      },
      "text/plain": [
       "20190710T205029_20190710T205203_T08WNB.tif: |           | 0.00/21.9M (raw) [  0.0%] in 00:00 (eta:     ?)"
      ]
     },
     "metadata": {},
     "output_type": "display_data"
    },
    {
     "name": "stdout",
     "output_type": "stream",
     "text": [
      "Found 2 scenes for 20190713_184804_64_1067\n"
     ]
    },
    {
     "data": {
      "application/vnd.jupyter.widget-view+json": {
       "model_id": "571b0ae1b23445909e1421ccec0d1f40",
       "version_major": 2,
       "version_minor": 0
      },
      "text/plain": [
       "20190710T205029_20190710T205203_T08WNB.tif: |           | 0.00/42.0M (raw) [  0.0%] in 00:00 (eta:     ?)"
      ]
     },
     "metadata": {},
     "output_type": "display_data"
    },
    {
     "data": {
      "application/vnd.jupyter.widget-view+json": {
       "model_id": "73947768e7cb410a9b903214971e1b02",
       "version_major": 2,
       "version_minor": 0
      },
      "text/plain": [
       "20190713T210029_20190713T210229_T08WNB.tif: |           | 0.00/42.0M (raw) [  0.0%] in 00:00 (eta:     ?)"
      ]
     },
     "metadata": {},
     "output_type": "display_data"
    },
    {
     "name": "stdout",
     "output_type": "stream",
     "text": [
      "Found 2 scenes for 20190713_184806_71_1067\n"
     ]
    },
    {
     "data": {
      "application/vnd.jupyter.widget-view+json": {
       "model_id": "c592a3ab028649068487d310269db48d",
       "version_major": 2,
       "version_minor": 0
      },
      "text/plain": [
       "20190710T205029_20190710T205203_T08WNB.tif: |           | 0.00/4.70M (raw) [  0.0%] in 00:00 (eta:     ?)"
      ]
     },
     "metadata": {},
     "output_type": "display_data"
    },
    {
     "data": {
      "application/vnd.jupyter.widget-view+json": {
       "model_id": "6a87be4d40b74ffd915ab41414e9c8a6",
       "version_major": 2,
       "version_minor": 0
      },
      "text/plain": [
       "20190713T210029_20190713T210229_T08WNB.tif: |           | 0.00/4.70M (raw) [  0.0%] in 00:00 (eta:     ?)"
      ]
     },
     "metadata": {},
     "output_type": "display_data"
    },
    {
     "name": "stdout",
     "output_type": "stream",
     "text": [
      "Found 1 scenes for 20190714_194358_1035\n"
     ]
    },
    {
     "data": {
      "application/vnd.jupyter.widget-view+json": {
       "model_id": "40059b7d4e7d45be9a11f8490e9eb347",
       "version_major": 2,
       "version_minor": 0
      },
      "text/plain": [
       "20190714T202849_20190714T202852_T09WWT.tif: |           | 0.00/37.7M (raw) [  0.0%] in 00:00 (eta:     ?)"
      ]
     },
     "metadata": {},
     "output_type": "display_data"
    },
    {
     "name": "stdout",
     "output_type": "stream",
     "text": [
      "Found 1 scenes for 20190714_194359_1035\n"
     ]
    },
    {
     "data": {
      "application/vnd.jupyter.widget-view+json": {
       "model_id": "47dc2934a8af41d9908dc4e1dd50069e",
       "version_major": 2,
       "version_minor": 0
      },
      "text/plain": [
       "20190714T202849_20190714T202852_T09WWT.tif: |           | 0.00/98.4M (raw) [  0.0%] in 00:00 (eta:     ?)"
      ]
     },
     "metadata": {},
     "output_type": "display_data"
    },
    {
     "name": "stdout",
     "output_type": "stream",
     "text": [
      "Found 1 scenes for 20190714_194400_1035\n"
     ]
    },
    {
     "data": {
      "application/vnd.jupyter.widget-view+json": {
       "model_id": "e539f6bc8cdc41bd82dea6f075e82124",
       "version_major": 2,
       "version_minor": 0
      },
      "text/plain": [
       "20190714T202849_20190714T202852_T09WWT.tif: |           | 0.00/19.8k (raw) [  0.0%] in 00:00 (eta:     ?)"
      ]
     },
     "metadata": {},
     "output_type": "display_data"
    },
    {
     "name": "stdout",
     "output_type": "stream",
     "text": [
      "Found 2 scenes for 20190715_000856_0f2a\n"
     ]
    },
    {
     "data": {
      "application/vnd.jupyter.widget-view+json": {
       "model_id": "06a6547dd03c4b718f48840d8a6e8696",
       "version_major": 2,
       "version_minor": 0
      },
      "text/plain": [
       "20190711T033549_20190711T033544_T51WWS.tif: |           | 0.00/34.3M (raw) [  0.0%] in 00:00 (eta:     ?)"
      ]
     },
     "metadata": {},
     "output_type": "display_data"
    },
    {
     "data": {
      "application/vnd.jupyter.widget-view+json": {
       "model_id": "cd6a110d92e44b4abf33de00371479c1",
       "version_major": 2,
       "version_minor": 0
      },
      "text/plain": [
       "20190719T034541_20190719T034540_T51WWS.tif: |           | 0.00/34.3M (raw) [  0.0%] in 00:00 (eta:     ?)"
      ]
     },
     "metadata": {},
     "output_type": "display_data"
    },
    {
     "name": "stdout",
     "output_type": "stream",
     "text": [
      "Found 0 scenes for 20190715_000857_0f2a\n",
      "Found 2 scenes for 20190716_014045_22_106a\n"
     ]
    },
    {
     "data": {
      "application/vnd.jupyter.widget-view+json": {
       "model_id": "4c28f4efb0694779b246eb140715e60a",
       "version_major": 2,
       "version_minor": 0
      },
      "text/plain": [
       "20190711T033549_20190711T033544_T51WWS.tif: |           | 0.00/40.2M (raw) [  0.0%] in 00:00 (eta:     ?)"
      ]
     },
     "metadata": {},
     "output_type": "display_data"
    },
    {
     "data": {
      "application/vnd.jupyter.widget-view+json": {
       "model_id": "b56a84245ca84b7397c9a241cd240e1e",
       "version_major": 2,
       "version_minor": 0
      },
      "text/plain": [
       "20190719T034541_20190719T034540_T51WWS.tif: |           | 0.00/40.2M (raw) [  0.0%] in 00:00 (eta:     ?)"
      ]
     },
     "metadata": {},
     "output_type": "display_data"
    },
    {
     "name": "stdout",
     "output_type": "stream",
     "text": [
      "Found 0 scenes for 20190719_030812_1006\n",
      "Found 2 scenes for 20190719_030813_1006\n"
     ]
    },
    {
     "data": {
      "application/vnd.jupyter.widget-view+json": {
       "model_id": "90b945db7ed24f81be69787bed090bcb",
       "version_major": 2,
       "version_minor": 0
      },
      "text/plain": [
       "20190719T034541_20190719T034540_T51WWS.tif: |           | 0.00/40.2M (raw) [  0.0%] in 00:00 (eta:     ?)"
      ]
     },
     "metadata": {},
     "output_type": "display_data"
    },
    {
     "data": {
      "application/vnd.jupyter.widget-view+json": {
       "model_id": "cb1f0e528316435a885e7c90e6d4a66c",
       "version_major": 2,
       "version_minor": 0
      },
      "text/plain": [
       "20190722T035541_20190722T035542_T51WWS.tif: |           | 0.00/40.2M (raw) [  0.0%] in 00:00 (eta:     ?)"
      ]
     },
     "metadata": {},
     "output_type": "display_data"
    },
    {
     "name": "stdout",
     "output_type": "stream",
     "text": [
      "Found 2 scenes for 20190722_030702_1039\n"
     ]
    },
    {
     "data": {
      "application/vnd.jupyter.widget-view+json": {
       "model_id": "40ecb66a51534545903eb27e5fb41c8f",
       "version_major": 2,
       "version_minor": 0
      },
      "text/plain": [
       "20190719T034541_20190719T034540_T51WWS.tif: |           | 0.00/21.6M (raw) [  0.0%] in 00:00 (eta:     ?)"
      ]
     },
     "metadata": {},
     "output_type": "display_data"
    },
    {
     "data": {
      "application/vnd.jupyter.widget-view+json": {
       "model_id": "9572c0cac04e4d638d31280a883ee56a",
       "version_major": 2,
       "version_minor": 0
      },
      "text/plain": [
       "20190722T035541_20190722T035542_T51WWS.tif: |           | 0.00/21.6M (raw) [  0.0%] in 00:00 (eta:     ?)"
      ]
     },
     "metadata": {},
     "output_type": "display_data"
    },
    {
     "name": "stdout",
     "output_type": "stream",
     "text": [
      "Found 2 scenes for 20190722_030703_1039\n"
     ]
    },
    {
     "data": {
      "application/vnd.jupyter.widget-view+json": {
       "model_id": "aecda45fec7c4033bf3de0d88f53bb19",
       "version_major": 2,
       "version_minor": 0
      },
      "text/plain": [
       "20190719T034541_20190719T034540_T51WWS.tif: |           | 0.00/8.90M (raw) [  0.0%] in 00:00 (eta:     ?)"
      ]
     },
     "metadata": {},
     "output_type": "display_data"
    },
    {
     "data": {
      "application/vnd.jupyter.widget-view+json": {
       "model_id": "95ccf60277cd4b43b7ccdf782249b452",
       "version_major": 2,
       "version_minor": 0
      },
      "text/plain": [
       "20190722T035541_20190722T035542_T51WWS.tif: |           | 0.00/8.90M (raw) [  0.0%] in 00:00 (eta:     ?)"
      ]
     },
     "metadata": {},
     "output_type": "display_data"
    },
    {
     "name": "stdout",
     "output_type": "stream",
     "text": [
      "Found 1 scenes for 20190723_080935_103b\n"
     ]
    },
    {
     "data": {
      "application/vnd.jupyter.widget-view+json": {
       "model_id": "8c077c04dd994c32b96f0c7798faf5bb",
       "version_major": 2,
       "version_minor": 0
      },
      "text/plain": [
       "20190724T084609_20190724T084607_T38WPB.tif: |           | 0.00/28.5M (raw) [  0.0%] in 00:00 (eta:     ?)"
      ]
     },
     "metadata": {},
     "output_type": "display_data"
    },
    {
     "name": "stdout",
     "output_type": "stream",
     "text": [
      "Found 0 scenes for 20190723_080936_103b\n",
      "Found 0 scenes for 20190723_080937_103b\n",
      "Found 1 scenes for 20190726_193719_0f17\n"
     ]
    },
    {
     "data": {
      "application/vnd.jupyter.widget-view+json": {
       "model_id": "c0d65b5e3eb442c19be0841d532df15c",
       "version_major": 2,
       "version_minor": 0
      },
      "text/plain": [
       "20190726T201851_20190726T201854_T11XMB.tif: |           | 0.00/7.73M (raw) [  0.0%] in 00:00 (eta:     ?)"
      ]
     },
     "metadata": {},
     "output_type": "display_data"
    },
    {
     "name": "stdout",
     "output_type": "stream",
     "text": [
      "Found 1 scenes for 20190726_193720_0f17\n"
     ]
    },
    {
     "data": {
      "application/vnd.jupyter.widget-view+json": {
       "model_id": "0403e80526ea4ecc8b0300b290a6f32e",
       "version_major": 2,
       "version_minor": 0
      },
      "text/plain": [
       "20190726T201851_20190726T201854_T11XMB.tif: |           | 0.00/72.3M (raw) [  0.0%] in 00:00 (eta:     ?)"
      ]
     },
     "metadata": {},
     "output_type": "display_data"
    },
    {
     "name": "stdout",
     "output_type": "stream",
     "text": [
      "Found 0 scenes for 20190726_193721_0f17\n",
      "Found 4 scenes for 20190727_030648_1040\n"
     ]
    },
    {
     "data": {
      "application/vnd.jupyter.widget-view+json": {
       "model_id": "06247529f6d844ca9f51c850df2ce322",
       "version_major": 2,
       "version_minor": 0
      },
      "text/plain": [
       "20190722T035541_20190722T035542_T51WWS.tif: |           | 0.00/3.04M (raw) [  0.0%] in 00:00 (eta:     ?)"
      ]
     },
     "metadata": {},
     "output_type": "display_data"
    },
    {
     "data": {
      "application/vnd.jupyter.widget-view+json": {
       "model_id": "3149bc0cc14141398664ad01f9a505bf",
       "version_major": 2,
       "version_minor": 0
      },
      "text/plain": [
       "20190727T035549_20190727T035545_T51WWS.tif: |           | 0.00/3.04M (raw) [  0.0%] in 00:00 (eta:     ?)"
      ]
     },
     "metadata": {},
     "output_type": "display_data"
    },
    {
     "data": {
      "application/vnd.jupyter.widget-view+json": {
       "model_id": "d800c31acb7f47c48947ad23c6fb50f1",
       "version_major": 2,
       "version_minor": 0
      },
      "text/plain": [
       "20190729T034541_20190729T034539_T51WWS.tif: |           | 0.00/3.04M (raw) [  0.0%] in 00:00 (eta:     ?)"
      ]
     },
     "metadata": {},
     "output_type": "display_data"
    },
    {
     "data": {
      "application/vnd.jupyter.widget-view+json": {
       "model_id": "e3d2a35cd99744969d4379d79d797197",
       "version_major": 2,
       "version_minor": 0
      },
      "text/plain": [
       "20190731T033549_20190731T033543_T51WWS.tif: |           | 0.00/3.04M (raw) [  0.0%] in 00:00 (eta:     ?)"
      ]
     },
     "metadata": {},
     "output_type": "display_data"
    },
    {
     "name": "stdout",
     "output_type": "stream",
     "text": [
      "Found 4 scenes for 20190727_030649_1040\n"
     ]
    },
    {
     "data": {
      "application/vnd.jupyter.widget-view+json": {
       "model_id": "7af11c710d914b649fdc739c78f54635",
       "version_major": 2,
       "version_minor": 0
      },
      "text/plain": [
       "20190722T035541_20190722T035542_T51WWS.tif: |           | 0.00/36.1M (raw) [  0.0%] in 00:00 (eta:     ?)"
      ]
     },
     "metadata": {},
     "output_type": "display_data"
    },
    {
     "data": {
      "application/vnd.jupyter.widget-view+json": {
       "model_id": "ca223ae9101849e9a54fd220ec42c09a",
       "version_major": 2,
       "version_minor": 0
      },
      "text/plain": [
       "20190727T035549_20190727T035545_T51WWS.tif: |           | 0.00/36.1M (raw) [  0.0%] in 00:00 (eta:     ?)"
      ]
     },
     "metadata": {},
     "output_type": "display_data"
    },
    {
     "data": {
      "application/vnd.jupyter.widget-view+json": {
       "model_id": "29e73e64b1424a0ebb5a81c6be5a78f6",
       "version_major": 2,
       "version_minor": 0
      },
      "text/plain": [
       "20190729T034541_20190729T034539_T51WWS.tif: |           | 0.00/36.1M (raw) [  0.0%] in 00:00 (eta:     ?)"
      ]
     },
     "metadata": {},
     "output_type": "display_data"
    },
    {
     "data": {
      "application/vnd.jupyter.widget-view+json": {
       "model_id": "9348aa52c65748e09a400121aa5ac4a9",
       "version_major": 2,
       "version_minor": 0
      },
      "text/plain": [
       "20190731T033549_20190731T033543_T51WWS.tif: |           | 0.00/36.1M (raw) [  0.0%] in 00:00 (eta:     ?)"
      ]
     },
     "metadata": {},
     "output_type": "display_data"
    },
    {
     "name": "stdout",
     "output_type": "stream",
     "text": [
      "Found 1 scenes for 20190727_160820_1_1020\n"
     ]
    },
    {
     "data": {
      "application/vnd.jupyter.widget-view+json": {
       "model_id": "b067aad741ce4505b95453d688ffcf59",
       "version_major": 2,
       "version_minor": 0
      },
      "text/plain": [
       "20190727T204029_20190727T204026_T10XFF.tif: |           | 0.00/47.6M (raw) [  0.0%] in 00:00 (eta:     ?)"
      ]
     },
     "metadata": {},
     "output_type": "display_data"
    },
    {
     "name": "stdout",
     "output_type": "stream",
     "text": [
      "Found 0 scenes for 20190727_194259_100c\n",
      "Found 4 scenes for 20190727_202025_1034\n"
     ]
    },
    {
     "data": {
      "application/vnd.jupyter.widget-view+json": {
       "model_id": "59a3d1b66e3947f1a44e180b9176478a",
       "version_major": 2,
       "version_minor": 0
      },
      "text/plain": [
       "20190725T205031_20190725T205026_T08WNB.tif: |           | 0.00/11.5M (raw) [  0.0%] in 00:00 (eta:     ?)"
      ]
     },
     "metadata": {},
     "output_type": "display_data"
    },
    {
     "data": {
      "application/vnd.jupyter.widget-view+json": {
       "model_id": "6ad2160895d5456db0b55eb0c4707fb3",
       "version_major": 2,
       "version_minor": 0
      },
      "text/plain": [
       "20190727T204029_20190727T204507_T08WNB.tif: |           | 0.00/11.5M (raw) [  0.0%] in 00:00 (eta:     ?)"
      ]
     },
     "metadata": {},
     "output_type": "display_data"
    },
    {
     "data": {
      "application/vnd.jupyter.widget-view+json": {
       "model_id": "838d7c4a23d64c689ec81d6b0bc165a3",
       "version_major": 2,
       "version_minor": 0
      },
      "text/plain": [
       "20190728T210031_20190728T210026_T08WNB.tif: |           | 0.00/11.5M (raw) [  0.0%] in 00:00 (eta:     ?)"
      ]
     },
     "metadata": {},
     "output_type": "display_data"
    },
    {
     "data": {
      "application/vnd.jupyter.widget-view+json": {
       "model_id": "10cfc9094fbe4b799feb286142bcb202",
       "version_major": 2,
       "version_minor": 0
      },
      "text/plain": [
       "20190730T205029_20190730T205119_T08WNB.tif: |           | 0.00/11.5M (raw) [  0.0%] in 00:00 (eta:     ?)"
      ]
     },
     "metadata": {},
     "output_type": "display_data"
    },
    {
     "name": "stdout",
     "output_type": "stream",
     "text": [
      "Found 4 scenes for 20190727_202026_1034\n"
     ]
    },
    {
     "data": {
      "application/vnd.jupyter.widget-view+json": {
       "model_id": "7a9aaffb0935424998d69bf3e78ff8e7",
       "version_major": 2,
       "version_minor": 0
      },
      "text/plain": [
       "20190725T205031_20190725T205026_T08WNB.tif: |           | 0.00/18.1M (raw) [  0.0%] in 00:00 (eta:     ?)"
      ]
     },
     "metadata": {},
     "output_type": "display_data"
    },
    {
     "data": {
      "application/vnd.jupyter.widget-view+json": {
       "model_id": "eace1306000546e6b939f87f772a1d08",
       "version_major": 2,
       "version_minor": 0
      },
      "text/plain": [
       "20190727T204029_20190727T204507_T08WNB.tif: |           | 0.00/18.1M (raw) [  0.0%] in 00:00 (eta:     ?)"
      ]
     },
     "metadata": {},
     "output_type": "display_data"
    },
    {
     "data": {
      "application/vnd.jupyter.widget-view+json": {
       "model_id": "b138435a7dab495ba7ab7e485e92ff1e",
       "version_major": 2,
       "version_minor": 0
      },
      "text/plain": [
       "20190728T210031_20190728T210026_T08WNB.tif: |           | 0.00/18.1M (raw) [  0.0%] in 00:00 (eta:     ?)"
      ]
     },
     "metadata": {},
     "output_type": "display_data"
    },
    {
     "data": {
      "application/vnd.jupyter.widget-view+json": {
       "model_id": "0cfc4cd9186f42c6b73ef4da6dabe97f",
       "version_major": 2,
       "version_minor": 0
      },
      "text/plain": [
       "20190730T205029_20190730T205119_T08WNB.tif: |           | 0.00/18.1M (raw) [  0.0%] in 00:00 (eta:     ?)"
      ]
     },
     "metadata": {},
     "output_type": "display_data"
    },
    {
     "name": "stdout",
     "output_type": "stream",
     "text": [
      "Found 5 scenes for 20190731_000801_1053\n"
     ]
    },
    {
     "data": {
      "application/vnd.jupyter.widget-view+json": {
       "model_id": "1e1f721578ac41d5a4a91b9109aaf287",
       "version_major": 2,
       "version_minor": 0
      },
      "text/plain": [
       "20190727T035549_20190727T035545_T51WWS.tif: |           | 0.00/30.9M (raw) [  0.0%] in 00:00 (eta:     ?)"
      ]
     },
     "metadata": {},
     "output_type": "display_data"
    },
    {
     "data": {
      "application/vnd.jupyter.widget-view+json": {
       "model_id": "9902e092742845469537a6d72c91de2d",
       "version_major": 2,
       "version_minor": 0
      },
      "text/plain": [
       "20190729T034541_20190729T034539_T51WWS.tif: |           | 0.00/30.9M (raw) [  0.0%] in 00:00 (eta:     ?)"
      ]
     },
     "metadata": {},
     "output_type": "display_data"
    },
    {
     "data": {
      "application/vnd.jupyter.widget-view+json": {
       "model_id": "9b41ace344b6406a90b0282e8d91944f",
       "version_major": 2,
       "version_minor": 0
      },
      "text/plain": [
       "20190731T033549_20190731T033543_T51WWS.tif: |           | 0.00/30.9M (raw) [  0.0%] in 00:00 (eta:     ?)"
      ]
     },
     "metadata": {},
     "output_type": "display_data"
    },
    {
     "data": {
      "application/vnd.jupyter.widget-view+json": {
       "model_id": "b20aabbe2274434e8730ef4a4bb588e1",
       "version_major": 2,
       "version_minor": 0
      },
      "text/plain": [
       "20190801T035541_20190801T035541_T51WWS.tif: |           | 0.00/30.9M (raw) [  0.0%] in 00:00 (eta:     ?)"
      ]
     },
     "metadata": {},
     "output_type": "display_data"
    },
    {
     "data": {
      "application/vnd.jupyter.widget-view+json": {
       "model_id": "28fadbd90cc4415497e1f0bb83e4e0e2",
       "version_major": 2,
       "version_minor": 0
      },
      "text/plain": [
       "20190803T034539_20190803T034546_T51WWS.tif: |           | 0.00/30.9M (raw) [  0.0%] in 00:00 (eta:     ?)"
      ]
     },
     "metadata": {},
     "output_type": "display_data"
    },
    {
     "name": "stdout",
     "output_type": "stream",
     "text": [
      "Found 5 scenes for 20190731_000802_1_1053\n"
     ]
    },
    {
     "data": {
      "application/vnd.jupyter.widget-view+json": {
       "model_id": "ff3dc0ab177e4027b03b88c2c24b4c5c",
       "version_major": 2,
       "version_minor": 0
      },
      "text/plain": [
       "20190727T035549_20190727T035545_T51WWS.tif: |           | 0.00/3.04M (raw) [  0.0%] in 00:00 (eta:     ?)"
      ]
     },
     "metadata": {},
     "output_type": "display_data"
    },
    {
     "data": {
      "application/vnd.jupyter.widget-view+json": {
       "model_id": "c880915d0d6343d79cecf46407cf73b7",
       "version_major": 2,
       "version_minor": 0
      },
      "text/plain": [
       "20190729T034541_20190729T034539_T51WWS.tif: |           | 0.00/3.04M (raw) [  0.0%] in 00:00 (eta:     ?)"
      ]
     },
     "metadata": {},
     "output_type": "display_data"
    },
    {
     "data": {
      "application/vnd.jupyter.widget-view+json": {
       "model_id": "a13dfb95c609412abf9c7ff6769f0918",
       "version_major": 2,
       "version_minor": 0
      },
      "text/plain": [
       "20190731T033549_20190731T033543_T51WWS.tif: |           | 0.00/3.04M (raw) [  0.0%] in 00:00 (eta:     ?)"
      ]
     },
     "metadata": {},
     "output_type": "display_data"
    },
    {
     "data": {
      "application/vnd.jupyter.widget-view+json": {
       "model_id": "49a2079d2e744c3f8ff22df48211a536",
       "version_major": 2,
       "version_minor": 0
      },
      "text/plain": [
       "20190801T035541_20190801T035541_T51WWS.tif: |           | 0.00/3.04M (raw) [  0.0%] in 00:00 (eta:     ?)"
      ]
     },
     "metadata": {},
     "output_type": "display_data"
    },
    {
     "data": {
      "application/vnd.jupyter.widget-view+json": {
       "model_id": "be011563dd1b4f43a696546081146a22",
       "version_major": 2,
       "version_minor": 0
      },
      "text/plain": [
       "20190803T034539_20190803T034546_T51WWS.tif: |           | 0.00/3.04M (raw) [  0.0%] in 00:00 (eta:     ?)"
      ]
     },
     "metadata": {},
     "output_type": "display_data"
    },
    {
     "name": "stdout",
     "output_type": "stream",
     "text": [
      "Found 0 scenes for 20190801_080518_1014\n",
      "Found 5 scenes for 20190803_000717_0f49\n"
     ]
    },
    {
     "data": {
      "application/vnd.jupyter.widget-view+json": {
       "model_id": "bcb87adea61d4045bb108ae797d8238c",
       "version_major": 2,
       "version_minor": 0
      },
      "text/plain": [
       "20190729T034541_20190729T034539_T51WWS.tif: |           | 0.00/30.9M (raw) [  0.0%] in 00:00 (eta:     ?)"
      ]
     },
     "metadata": {},
     "output_type": "display_data"
    },
    {
     "data": {
      "application/vnd.jupyter.widget-view+json": {
       "model_id": "aa01e80524ae4cd1b635780fa2ce61c2",
       "version_major": 2,
       "version_minor": 0
      },
      "text/plain": [
       "20190731T033549_20190731T033543_T51WWS.tif: |           | 0.00/30.9M (raw) [  0.0%] in 00:00 (eta:     ?)"
      ]
     },
     "metadata": {},
     "output_type": "display_data"
    },
    {
     "data": {
      "application/vnd.jupyter.widget-view+json": {
       "model_id": "1ba77a9cd46b4611b9774e77ecacdab5",
       "version_major": 2,
       "version_minor": 0
      },
      "text/plain": [
       "20190801T035541_20190801T035541_T51WWS.tif: |           | 0.00/30.9M (raw) [  0.0%] in 00:00 (eta:     ?)"
      ]
     },
     "metadata": {},
     "output_type": "display_data"
    },
    {
     "data": {
      "application/vnd.jupyter.widget-view+json": {
       "model_id": "c1ddc49514614777aee8ec21a566a2cb",
       "version_major": 2,
       "version_minor": 0
      },
      "text/plain": [
       "20190803T034539_20190803T034546_T51WWS.tif: |           | 0.00/30.9M (raw) [  0.0%] in 00:00 (eta:     ?)"
      ]
     },
     "metadata": {},
     "output_type": "display_data"
    },
    {
     "data": {
      "application/vnd.jupyter.widget-view+json": {
       "model_id": "99afd2f797f640f5baf626bdb67e5012",
       "version_major": 2,
       "version_minor": 0
      },
      "text/plain": [
       "20190806T035549_20190806T035544_T51WWS.tif: |           | 0.00/30.9M (raw) [  0.0%] in 00:00 (eta:     ?)"
      ]
     },
     "metadata": {},
     "output_type": "display_data"
    },
    {
     "name": "stdout",
     "output_type": "stream",
     "text": [
      "Found 5 scenes for 20190803_000718_0f49\n"
     ]
    },
    {
     "data": {
      "application/vnd.jupyter.widget-view+json": {
       "model_id": "626fb31861b74d75bf64ca31dde99d28",
       "version_major": 2,
       "version_minor": 0
      },
      "text/plain": [
       "20190729T034541_20190729T034539_T51WWS.tif: |           | 0.00/3.06M (raw) [  0.0%] in 00:00 (eta:     ?)"
      ]
     },
     "metadata": {},
     "output_type": "display_data"
    },
    {
     "data": {
      "application/vnd.jupyter.widget-view+json": {
       "model_id": "9572790ed9ac4548babf9dd7e05a1b20",
       "version_major": 2,
       "version_minor": 0
      },
      "text/plain": [
       "20190731T033549_20190731T033543_T51WWS.tif: |           | 0.00/3.06M (raw) [  0.0%] in 00:00 (eta:     ?)"
      ]
     },
     "metadata": {},
     "output_type": "display_data"
    },
    {
     "data": {
      "application/vnd.jupyter.widget-view+json": {
       "model_id": "27fcab407b37469897f3a26c560d4c25",
       "version_major": 2,
       "version_minor": 0
      },
      "text/plain": [
       "20190801T035541_20190801T035541_T51WWS.tif: |           | 0.00/3.06M (raw) [  0.0%] in 00:00 (eta:     ?)"
      ]
     },
     "metadata": {},
     "output_type": "display_data"
    },
    {
     "data": {
      "application/vnd.jupyter.widget-view+json": {
       "model_id": "ec759398883742bc8e9892a9b01fe414",
       "version_major": 2,
       "version_minor": 0
      },
      "text/plain": [
       "20190803T034539_20190803T034546_T51WWS.tif: |           | 0.00/3.06M (raw) [  0.0%] in 00:00 (eta:     ?)"
      ]
     },
     "metadata": {},
     "output_type": "display_data"
    },
    {
     "data": {
      "application/vnd.jupyter.widget-view+json": {
       "model_id": "78e14ee62b044eae85df6e6b1ad9e896",
       "version_major": 2,
       "version_minor": 0
      },
      "text/plain": [
       "20190806T035549_20190806T035544_T51WWS.tif: |           | 0.00/3.06M (raw) [  0.0%] in 00:00 (eta:     ?)"
      ]
     },
     "metadata": {},
     "output_type": "display_data"
    },
    {
     "name": "stdout",
     "output_type": "stream",
     "text": [
      "Found 1 scenes for 20190803_164435_1048\n"
     ]
    },
    {
     "data": {
      "application/vnd.jupyter.widget-view+json": {
       "model_id": "43a3ed430a2044409be6c05630aa9932",
       "version_major": 2,
       "version_minor": 0
      },
      "text/plain": [
       "20190803T202849_20190803T202949_T09WWT.tif: |            | 0.00/222k (raw) [  0.0%] in 00:00 (eta:     ?)"
      ]
     },
     "metadata": {},
     "output_type": "display_data"
    },
    {
     "name": "stdout",
     "output_type": "stream",
     "text": [
      "Found 1 scenes for 20190803_164436_1048\n"
     ]
    },
    {
     "data": {
      "application/vnd.jupyter.widget-view+json": {
       "model_id": "b2be5007e8ac4b3eabbce75d4a87e96d",
       "version_major": 2,
       "version_minor": 0
      },
      "text/plain": [
       "20190803T202849_20190803T202949_T09WWT.tif: |           | 0.00/29.5M (raw) [  0.0%] in 00:00 (eta:     ?)"
      ]
     },
     "metadata": {},
     "output_type": "display_data"
    },
    {
     "name": "stdout",
     "output_type": "stream",
     "text": [
      "Found 1 scenes for 20190803_164437_1048\n"
     ]
    },
    {
     "data": {
      "application/vnd.jupyter.widget-view+json": {
       "model_id": "40c0f49cf2304f7a96d60760b2cbeed9",
       "version_major": 2,
       "version_minor": 0
      },
      "text/plain": [
       "20190803T202849_20190803T202949_T09WWT.tif: |           | 0.00/28.8M (raw) [  0.0%] in 00:00 (eta:     ?)"
      ]
     },
     "metadata": {},
     "output_type": "display_data"
    },
    {
     "name": "stdout",
     "output_type": "stream",
     "text": [
      "Found 0 scenes for 20190803_164438_1048\n",
      "Found 0 scenes for 20190808_201538_1018\n",
      "Found 0 scenes for 20190808_201539_1018\n",
      "Found 0 scenes for 20190813_082915_68_105c\n",
      "Found 0 scenes for 20190813_082918_17_105c\n",
      "Found 0 scenes for 20190814_080304_100c\n",
      "Found 4 scenes for 20190815_030625_1001\n"
     ]
    },
    {
     "data": {
      "application/vnd.jupyter.widget-view+json": {
       "model_id": "dad90b769f7946df8f12ba8540c43636",
       "version_major": 2,
       "version_minor": 0
      },
      "text/plain": [
       "20190811T035541_20190811T035540_T51WWS.tif: |           | 0.00/3.06M (raw) [  0.0%] in 00:00 (eta:     ?)"
      ]
     },
     "metadata": {},
     "output_type": "display_data"
    },
    {
     "data": {
      "application/vnd.jupyter.widget-view+json": {
       "model_id": "e43af8021bb14d1d9aabe2e62f08ee16",
       "version_major": 2,
       "version_minor": 0
      },
      "text/plain": [
       "20190813T034539_20190813T034541_T51WWS.tif: |           | 0.00/3.06M (raw) [  0.0%] in 00:00 (eta:     ?)"
      ]
     },
     "metadata": {},
     "output_type": "display_data"
    },
    {
     "data": {
      "application/vnd.jupyter.widget-view+json": {
       "model_id": "c12a5851cb734498a78ffefecd60052e",
       "version_major": 2,
       "version_minor": 0
      },
      "text/plain": [
       "20190815T033541_20190815T033538_T51WWS.tif: |           | 0.00/3.06M (raw) [  0.0%] in 00:00 (eta:     ?)"
      ]
     },
     "metadata": {},
     "output_type": "display_data"
    },
    {
     "data": {
      "application/vnd.jupyter.widget-view+json": {
       "model_id": "b1353b7ff67c4089885aafc41d223192",
       "version_major": 2,
       "version_minor": 0
      },
      "text/plain": [
       "20190818T034541_20190818T034537_T51WWS.tif: |           | 0.00/3.06M (raw) [  0.0%] in 00:00 (eta:     ?)"
      ]
     },
     "metadata": {},
     "output_type": "display_data"
    },
    {
     "name": "stdout",
     "output_type": "stream",
     "text": [
      "Found 4 scenes for 20190815_030626_1001\n"
     ]
    },
    {
     "data": {
      "application/vnd.jupyter.widget-view+json": {
       "model_id": "5d583d00d8e748289155ec77f6f0a597",
       "version_major": 2,
       "version_minor": 0
      },
      "text/plain": [
       "20190811T035541_20190811T035540_T51WWS.tif: |           | 0.00/8.90M (raw) [  0.0%] in 00:00 (eta:     ?)"
      ]
     },
     "metadata": {},
     "output_type": "display_data"
    },
    {
     "data": {
      "application/vnd.jupyter.widget-view+json": {
       "model_id": "61fc1eb3bc864631b3b59f4cb02a2cc5",
       "version_major": 2,
       "version_minor": 0
      },
      "text/plain": [
       "20190813T034539_20190813T034541_T51WWS.tif: |           | 0.00/8.90M (raw) [  0.0%] in 00:00 (eta:     ?)"
      ]
     },
     "metadata": {},
     "output_type": "display_data"
    },
    {
     "data": {
      "application/vnd.jupyter.widget-view+json": {
       "model_id": "1256bdf62b7b4e4b89557f116d518378",
       "version_major": 2,
       "version_minor": 0
      },
      "text/plain": [
       "20190815T033541_20190815T033538_T51WWS.tif: |           | 0.00/8.90M (raw) [  0.0%] in 00:00 (eta:     ?)"
      ]
     },
     "metadata": {},
     "output_type": "display_data"
    },
    {
     "data": {
      "application/vnd.jupyter.widget-view+json": {
       "model_id": "455df881a32c413d8ddac1e6eda1c68d",
       "version_major": 2,
       "version_minor": 0
      },
      "text/plain": [
       "20190818T034541_20190818T034537_T51WWS.tif: |           | 0.00/8.90M (raw) [  0.0%] in 00:00 (eta:     ?)"
      ]
     },
     "metadata": {},
     "output_type": "display_data"
    },
    {
     "name": "stdout",
     "output_type": "stream",
     "text": [
      "Found 0 scenes for 20190815_080515_0f4e\n",
      "Found 5 scenes for 20190815_080516_0f4e\n"
     ]
    },
    {
     "data": {
      "application/vnd.jupyter.widget-view+json": {
       "model_id": "93b6e0e01c724a538b30b2a06aa931da",
       "version_major": 2,
       "version_minor": 0
      },
      "text/plain": [
       "20190813T084609_20190813T084941_T38WPC.tif: |           | 0.00/36.0M (raw) [  0.0%] in 00:00 (eta:     ?)"
      ]
     },
     "metadata": {},
     "output_type": "display_data"
    },
    {
     "data": {
      "application/vnd.jupyter.widget-view+json": {
       "model_id": "9f9c9117e4ef45519f177430f1c8a252",
       "version_major": 2,
       "version_minor": 0
      },
      "text/plain": [
       "20190813T084609_20190813T084941_T38WPB.tif: |           | 0.00/36.0M (raw) [  0.0%] in 00:00 (eta:     ?)"
      ]
     },
     "metadata": {},
     "output_type": "display_data"
    },
    {
     "data": {
      "application/vnd.jupyter.widget-view+json": {
       "model_id": "e2b2b03ed0f04fcdb69d116e415b140c",
       "version_major": 2,
       "version_minor": 0
      },
      "text/plain": [
       "20190815T083601_20190815T083603_T38WPC.tif: |           | 0.00/36.0M (raw) [  0.0%] in 00:00 (eta:     ?)"
      ]
     },
     "metadata": {},
     "output_type": "display_data"
    },
    {
     "data": {
      "application/vnd.jupyter.widget-view+json": {
       "model_id": "20073d51d7264141ac5beec32cad0a46",
       "version_major": 2,
       "version_minor": 0
      },
      "text/plain": [
       "20190818T084601_20190818T085006_T38WPC.tif: |           | 0.00/36.0M (raw) [  0.0%] in 00:00 (eta:     ?)"
      ]
     },
     "metadata": {},
     "output_type": "display_data"
    },
    {
     "data": {
      "application/vnd.jupyter.widget-view+json": {
       "model_id": "3f8ea5faae34475982644b5c6991cce2",
       "version_major": 2,
       "version_minor": 0
      },
      "text/plain": [
       "20190818T084601_20190818T085006_T38WPB.tif: |           | 0.00/36.0M (raw) [  0.0%] in 00:00 (eta:     ?)"
      ]
     },
     "metadata": {},
     "output_type": "display_data"
    },
    {
     "name": "stdout",
     "output_type": "stream",
     "text": [
      "Found 0 scenes for 20190819_080913_1012\n",
      "Found 3 scenes for 20190819_080914_1012\n"
     ]
    },
    {
     "data": {
      "application/vnd.jupyter.widget-view+json": {
       "model_id": "c05ce4d3a16140feb80dc240c690ec8a",
       "version_major": 2,
       "version_minor": 0
      },
      "text/plain": [
       "20190815T083601_20190815T083603_T38WPC.tif: |           | 0.00/32.0M (raw) [  0.0%] in 00:00 (eta:     ?)"
      ]
     },
     "metadata": {},
     "output_type": "display_data"
    },
    {
     "data": {
      "application/vnd.jupyter.widget-view+json": {
       "model_id": "122995d39dc84564b34dea8409fe06da",
       "version_major": 2,
       "version_minor": 0
      },
      "text/plain": [
       "20190818T084601_20190818T085006_T38WPC.tif: |           | 0.00/32.0M (raw) [  0.0%] in 00:00 (eta:     ?)"
      ]
     },
     "metadata": {},
     "output_type": "display_data"
    },
    {
     "data": {
      "application/vnd.jupyter.widget-view+json": {
       "model_id": "b0cb67cafd72472d960f991869a5441f",
       "version_major": 2,
       "version_minor": 0
      },
      "text/plain": [
       "20190818T084601_20190818T085006_T38WPB.tif: |           | 0.00/32.0M (raw) [  0.0%] in 00:00 (eta:     ?)"
      ]
     },
     "metadata": {},
     "output_type": "display_data"
    },
    {
     "name": "stdout",
     "output_type": "stream",
     "text": [
      "Found 3 scenes for 20190819_080915_1012\n"
     ]
    },
    {
     "data": {
      "application/vnd.jupyter.widget-view+json": {
       "model_id": "b8b6a0f8604f44b0b136c8609a1082ee",
       "version_major": 2,
       "version_minor": 0
      },
      "text/plain": [
       "20190815T083601_20190815T083603_T38WPC.tif: |           | 0.00/1.21M (raw) [  0.0%] in 00:00 (eta:     ?)"
      ]
     },
     "metadata": {},
     "output_type": "display_data"
    },
    {
     "data": {
      "application/vnd.jupyter.widget-view+json": {
       "model_id": "90a6078500694b398403e0a9fc17862d",
       "version_major": 2,
       "version_minor": 0
      },
      "text/plain": [
       "20190818T084601_20190818T085006_T38WPC.tif: |           | 0.00/1.21M (raw) [  0.0%] in 00:00 (eta:     ?)"
      ]
     },
     "metadata": {},
     "output_type": "display_data"
    },
    {
     "data": {
      "application/vnd.jupyter.widget-view+json": {
       "model_id": "21def1e8b0fd4d13baad0169a27c8b3c",
       "version_major": 2,
       "version_minor": 0
      },
      "text/plain": [
       "20190818T084601_20190818T085006_T38WPB.tif: |           | 0.00/1.21M (raw) [  0.0%] in 00:00 (eta:     ?)"
      ]
     },
     "metadata": {},
     "output_type": "display_data"
    },
    {
     "name": "stdout",
     "output_type": "stream",
     "text": [
      "Found 0 scenes for 20190819_080917_1012\n",
      "Found 1 scenes for 20190820_164142_0f21\n"
     ]
    },
    {
     "data": {
      "application/vnd.jupyter.widget-view+json": {
       "model_id": "20ec0807176c4c7dbe9b226d24932627",
       "version_major": 2,
       "version_minor": 0
      },
      "text/plain": [
       "20190821T204021_20190821T204118_T09WWT.tif: |           | 0.00/3.06M (raw) [  0.0%] in 00:00 (eta:     ?)"
      ]
     },
     "metadata": {},
     "output_type": "display_data"
    },
    {
     "name": "stdout",
     "output_type": "stream",
     "text": [
      "Found 1 scenes for 20190820_164143_0f21\n"
     ]
    },
    {
     "data": {
      "application/vnd.jupyter.widget-view+json": {
       "model_id": "68f4a4c408c642759a38511ce901e832",
       "version_major": 2,
       "version_minor": 0
      },
      "text/plain": [
       "20190821T204021_20190821T204118_T09WWT.tif: |           | 0.00/32.3M (raw) [  0.0%] in 00:00 (eta:     ?)"
      ]
     },
     "metadata": {},
     "output_type": "display_data"
    },
    {
     "name": "stdout",
     "output_type": "stream",
     "text": [
      "Found 0 scenes for 20190820_164144_0f21\n",
      "Found 0 scenes for 20190822_081236_101f\n",
      "Found 4 scenes for 20190829_030342_1006\n"
     ]
    },
    {
     "data": {
      "application/vnd.jupyter.widget-view+json": {
       "model_id": "7095cc697dd14411b757aaf52a065b8f",
       "version_major": 2,
       "version_minor": 0
      },
      "text/plain": [
       "20190825T033541_20190825T033537_T51WWS.tif: |           | 0.00/3.06M (raw) [  0.0%] in 00:00 (eta:     ?)"
      ]
     },
     "metadata": {},
     "output_type": "display_data"
    },
    {
     "data": {
      "application/vnd.jupyter.widget-view+json": {
       "model_id": "cf98e3213a03465e8d79233122012cc3",
       "version_major": 2,
       "version_minor": 0
      },
      "text/plain": [
       "20190826T035539_20190826T035541_T51WWS.tif: |           | 0.00/3.06M (raw) [  0.0%] in 00:00 (eta:     ?)"
      ]
     },
     "metadata": {},
     "output_type": "display_data"
    },
    {
     "data": {
      "application/vnd.jupyter.widget-view+json": {
       "model_id": "468b61968f404ea9b435088b7f62ffaf",
       "version_major": 2,
       "version_minor": 0
      },
      "text/plain": [
       "20190828T034541_20190828T034749_T51WWS.tif: |           | 0.00/3.06M (raw) [  0.0%] in 00:00 (eta:     ?)"
      ]
     },
     "metadata": {},
     "output_type": "display_data"
    },
    {
     "data": {
      "application/vnd.jupyter.widget-view+json": {
       "model_id": "99f1167eecbb4c4eb894274432be4f0c",
       "version_major": 2,
       "version_minor": 0
      },
      "text/plain": [
       "20190831T035541_20190831T035537_T51WWS.tif: |           | 0.00/3.06M (raw) [  0.0%] in 00:00 (eta:     ?)"
      ]
     },
     "metadata": {},
     "output_type": "display_data"
    },
    {
     "name": "stdout",
     "output_type": "stream",
     "text": [
      "Found 4 scenes for 20190829_030343_1006\n"
     ]
    },
    {
     "data": {
      "application/vnd.jupyter.widget-view+json": {
       "model_id": "2ed141a074d64b41b09a8036b8ba343f",
       "version_major": 2,
       "version_minor": 0
      },
      "text/plain": [
       "20190825T033541_20190825T033537_T51WWS.tif: |           | 0.00/30.8M (raw) [  0.0%] in 00:00 (eta:     ?)"
      ]
     },
     "metadata": {},
     "output_type": "display_data"
    },
    {
     "data": {
      "application/vnd.jupyter.widget-view+json": {
       "model_id": "c255dcebe1d543ec8c37850179f886bd",
       "version_major": 2,
       "version_minor": 0
      },
      "text/plain": [
       "20190826T035539_20190826T035541_T51WWS.tif: |           | 0.00/30.8M (raw) [  0.0%] in 00:00 (eta:     ?)"
      ]
     },
     "metadata": {},
     "output_type": "display_data"
    },
    {
     "data": {
      "application/vnd.jupyter.widget-view+json": {
       "model_id": "886f66128dd747528db5eb7aab18bd61",
       "version_major": 2,
       "version_minor": 0
      },
      "text/plain": [
       "20190828T034541_20190828T034749_T51WWS.tif: |           | 0.00/30.8M (raw) [  0.0%] in 00:00 (eta:     ?)"
      ]
     },
     "metadata": {},
     "output_type": "display_data"
    },
    {
     "data": {
      "application/vnd.jupyter.widget-view+json": {
       "model_id": "497e1bb61f064d498c6531cbb8a4a8bc",
       "version_major": 2,
       "version_minor": 0
      },
      "text/plain": [
       "20190831T035541_20190831T035537_T51WWS.tif: |           | 0.00/30.8M (raw) [  0.0%] in 00:00 (eta:     ?)"
      ]
     },
     "metadata": {},
     "output_type": "display_data"
    },
    {
     "name": "stdout",
     "output_type": "stream",
     "text": [
      "Found 3 scenes for 20190831_030654_0f35\n"
     ]
    },
    {
     "data": {
      "application/vnd.jupyter.widget-view+json": {
       "model_id": "58e87574ef3f447fa9108d12e32449c4",
       "version_major": 2,
       "version_minor": 0
      },
      "text/plain": [
       "20190826T035539_20190826T035541_T51WWS.tif: |           | 0.00/3.06M (raw) [  0.0%] in 00:00 (eta:     ?)"
      ]
     },
     "metadata": {},
     "output_type": "display_data"
    },
    {
     "data": {
      "application/vnd.jupyter.widget-view+json": {
       "model_id": "d24596a96e9a413baf718734c3cda512",
       "version_major": 2,
       "version_minor": 0
      },
      "text/plain": [
       "20190828T034541_20190828T034749_T51WWS.tif: |           | 0.00/3.06M (raw) [  0.0%] in 00:00 (eta:     ?)"
      ]
     },
     "metadata": {},
     "output_type": "display_data"
    },
    {
     "data": {
      "application/vnd.jupyter.widget-view+json": {
       "model_id": "0372fc94a3e64a8dbdce0401b161411c",
       "version_major": 2,
       "version_minor": 0
      },
      "text/plain": [
       "20190831T035541_20190831T035537_T51WWS.tif: |           | 0.00/3.06M (raw) [  0.0%] in 00:00 (eta:     ?)"
      ]
     },
     "metadata": {},
     "output_type": "display_data"
    },
    {
     "name": "stdout",
     "output_type": "stream",
     "text": [
      "Found 3 scenes for 20190831_030655_0f35\n"
     ]
    },
    {
     "data": {
      "application/vnd.jupyter.widget-view+json": {
       "model_id": "9e85e5c33a4546778f999c5c530ac0ac",
       "version_major": 2,
       "version_minor": 0
      },
      "text/plain": [
       "20190826T035539_20190826T035541_T51WWS.tif: |           | 0.00/35.4M (raw) [  0.0%] in 00:00 (eta:     ?)"
      ]
     },
     "metadata": {},
     "output_type": "display_data"
    },
    {
     "data": {
      "application/vnd.jupyter.widget-view+json": {
       "model_id": "9f3fa53b104d4174be6d7d1a68ec4fe5",
       "version_major": 2,
       "version_minor": 0
      },
      "text/plain": [
       "20190828T034541_20190828T034749_T51WWS.tif: |           | 0.00/35.4M (raw) [  0.0%] in 00:00 (eta:     ?)"
      ]
     },
     "metadata": {},
     "output_type": "display_data"
    },
    {
     "data": {
      "application/vnd.jupyter.widget-view+json": {
       "model_id": "5972f45103bb41478741eaf2d4be1387",
       "version_major": 2,
       "version_minor": 0
      },
      "text/plain": [
       "20190831T035541_20190831T035537_T51WWS.tif: |           | 0.00/35.4M (raw) [  0.0%] in 00:00 (eta:     ?)"
      ]
     },
     "metadata": {},
     "output_type": "display_data"
    },
    {
     "name": "stdout",
     "output_type": "stream",
     "text": [
      "Found 3 scenes for 20190902_203942_103b\n"
     ]
    },
    {
     "data": {
      "application/vnd.jupyter.widget-view+json": {
       "model_id": "4d62be9adfe54c30bc5a0f18235b09e0",
       "version_major": 2,
       "version_minor": 0
      },
      "text/plain": [
       "20190901T210029_20190901T210024_T07WET.tif: |           | 0.00/38.9M (raw) [  0.0%] in 00:00 (eta:     ?)"
      ]
     },
     "metadata": {},
     "output_type": "display_data"
    },
    {
     "data": {
      "application/vnd.jupyter.widget-view+json": {
       "model_id": "49158ba1ee924aceabbc2e35cdcd46d8",
       "version_major": 2,
       "version_minor": 0
      },
      "text/plain": [
       "20190902T212521_20190902T212522_T07WET.tif: |           | 0.00/38.9M (raw) [  0.0%] in 00:00 (eta:     ?)"
      ]
     },
     "metadata": {},
     "output_type": "display_data"
    },
    {
     "data": {
      "application/vnd.jupyter.widget-view+json": {
       "model_id": "1908d2fbdc5f4d0ba5a9a137a1fa370d",
       "version_major": 2,
       "version_minor": 0
      },
      "text/plain": [
       "20190906T210021_20190906T210437_T07WET.tif: |           | 0.00/38.9M (raw) [  0.0%] in 00:00 (eta:     ?)"
      ]
     },
     "metadata": {},
     "output_type": "display_data"
    },
    {
     "name": "stdout",
     "output_type": "stream",
     "text": [
      "Found 3 scenes for 20190902_203943_103b\n"
     ]
    },
    {
     "data": {
      "application/vnd.jupyter.widget-view+json": {
       "model_id": "9b2e38eedb604a9ba602d2d499377f27",
       "version_major": 2,
       "version_minor": 0
      },
      "text/plain": [
       "20190901T210029_20190901T210024_T07WET.tif: |           | 0.00/18.0M (raw) [  0.0%] in 00:00 (eta:     ?)"
      ]
     },
     "metadata": {},
     "output_type": "display_data"
    },
    {
     "data": {
      "application/vnd.jupyter.widget-view+json": {
       "model_id": "a762ac8d4ec74a848cd8f4961346e64e",
       "version_major": 2,
       "version_minor": 0
      },
      "text/plain": [
       "20190902T212521_20190902T212522_T07WET.tif: |           | 0.00/18.0M (raw) [  0.0%] in 00:00 (eta:     ?)"
      ]
     },
     "metadata": {},
     "output_type": "display_data"
    },
    {
     "data": {
      "application/vnd.jupyter.widget-view+json": {
       "model_id": "656c1b763c1346438f1fe9d9ac26bc20",
       "version_major": 2,
       "version_minor": 0
      },
      "text/plain": [
       "20190906T210021_20190906T210437_T07WET.tif: |           | 0.00/18.0M (raw) [  0.0%] in 00:00 (eta:     ?)"
      ]
     },
     "metadata": {},
     "output_type": "display_data"
    },
    {
     "name": "stdout",
     "output_type": "stream",
     "text": [
      "Found 0 scenes for 20190903_075606_0e0f\n",
      "Found 0 scenes for 20190904_193046_0e2f\n",
      "Found 3 scenes for 20190904_193047_0e2f\n"
     ]
    },
    {
     "data": {
      "application/vnd.jupyter.widget-view+json": {
       "model_id": "bd8bb7e1cbb94e3f8653e6d1aac8b8fe",
       "version_major": 2,
       "version_minor": 0
      },
      "text/plain": [
       "20190903T195919_20190903T195919_T11XMB.tif: |           | 0.00/72.6M (raw) [  0.0%] in 00:00 (eta:     ?)"
      ]
     },
     "metadata": {},
     "output_type": "display_data"
    },
    {
     "data": {
      "application/vnd.jupyter.widget-view+json": {
       "model_id": "1e005aec499243de9cd98f0a173a397c",
       "version_major": 2,
       "version_minor": 0
      },
      "text/plain": [
       "20190904T201931_20190904T202032_T11XMB.tif: |           | 0.00/72.6M (raw) [  0.0%] in 00:00 (eta:     ?)"
      ]
     },
     "metadata": {},
     "output_type": "display_data"
    },
    {
     "data": {
      "application/vnd.jupyter.widget-view+json": {
       "model_id": "d8416976b782471d8736a570f3438bed",
       "version_major": 2,
       "version_minor": 0
      },
      "text/plain": [
       "20190907T203011_20190907T203043_T11XMB.tif: |           | 0.00/72.6M (raw) [  0.0%] in 00:00 (eta:     ?)"
      ]
     },
     "metadata": {},
     "output_type": "display_data"
    },
    {
     "name": "stdout",
     "output_type": "stream",
     "text": [
      "Found 3 scenes for 20190904_193048_0e2f\n"
     ]
    },
    {
     "data": {
      "application/vnd.jupyter.widget-view+json": {
       "model_id": "9e03d80dd83b48f581cb3cb42006a909",
       "version_major": 2,
       "version_minor": 0
      },
      "text/plain": [
       "20190903T195919_20190903T195919_T11XMB.tif: |           | 0.00/15.5M (raw) [  0.0%] in 00:00 (eta:     ?)"
      ]
     },
     "metadata": {},
     "output_type": "display_data"
    },
    {
     "data": {
      "application/vnd.jupyter.widget-view+json": {
       "model_id": "05bab4e7ea504421b6eaf21324adb686",
       "version_major": 2,
       "version_minor": 0
      },
      "text/plain": [
       "20190904T201931_20190904T202032_T11XMB.tif: |           | 0.00/15.5M (raw) [  0.0%] in 00:00 (eta:     ?)"
      ]
     },
     "metadata": {},
     "output_type": "display_data"
    },
    {
     "data": {
      "application/vnd.jupyter.widget-view+json": {
       "model_id": "890206f01fcb42c581a7e45e66d9004b",
       "version_major": 2,
       "version_minor": 0
      },
      "text/plain": [
       "20190907T203011_20190907T203043_T11XMB.tif: |           | 0.00/15.5M (raw) [  0.0%] in 00:00 (eta:     ?)"
      ]
     },
     "metadata": {},
     "output_type": "display_data"
    },
    {
     "name": "stdout",
     "output_type": "stream",
     "text": [
      "Found 0 scenes for 20190905_081012_1004\n",
      "Found 0 scenes for 20190905_081013_1004\n",
      "Found 4 scenes for 20190905_081014_1004\n"
     ]
    },
    {
     "data": {
      "application/vnd.jupyter.widget-view+json": {
       "model_id": "06b0c4e8d3a5429d869bc316b972b52e",
       "version_major": 2,
       "version_minor": 0
      },
      "text/plain": [
       "20190905T085559_20190905T090010_T38WPC.tif: |           | 0.00/4.84M (raw) [  0.0%] in 00:00 (eta:     ?)"
      ]
     },
     "metadata": {},
     "output_type": "display_data"
    },
    {
     "data": {
      "application/vnd.jupyter.widget-view+json": {
       "model_id": "71f599983ea14ab2bb5f4387904382b7",
       "version_major": 2,
       "version_minor": 0
      },
      "text/plain": [
       "20190905T085559_20190905T090010_T38WPB.tif: |           | 0.00/4.84M (raw) [  0.0%] in 00:00 (eta:     ?)"
      ]
     },
     "metadata": {},
     "output_type": "display_data"
    },
    {
     "data": {
      "application/vnd.jupyter.widget-view+json": {
       "model_id": "fde4fbcf6cd043638240905e0f3ef0ac",
       "version_major": 2,
       "version_minor": 0
      },
      "text/plain": [
       "20190907T084601_20190907T084906_T38WPC.tif: |           | 0.00/4.84M (raw) [  0.0%] in 00:00 (eta:     ?)"
      ]
     },
     "metadata": {},
     "output_type": "display_data"
    },
    {
     "data": {
      "application/vnd.jupyter.widget-view+json": {
       "model_id": "3037bb90783c4c708f1c9fa7c4ef6f13",
       "version_major": 2,
       "version_minor": 0
      },
      "text/plain": [
       "20190907T084601_20190907T084906_T38WPB.tif: |           | 0.00/4.84M (raw) [  0.0%] in 00:00 (eta:     ?)"
      ]
     },
     "metadata": {},
     "output_type": "display_data"
    },
    {
     "name": "stdout",
     "output_type": "stream",
     "text": [
      "Found 0 scenes for 20190905_195022_1032\n",
      "Found 4 scenes for 20190905_195023_1032\n"
     ]
    },
    {
     "data": {
      "application/vnd.jupyter.widget-view+json": {
       "model_id": "05533acde2024255b83e5367d23b882d",
       "version_major": 2,
       "version_minor": 0
      },
      "text/plain": [
       "20190902T202929_20190902T203500_T09WWT.tif: |           | 0.00/43.0M (raw) [  0.0%] in 00:00 (eta:     ?)"
      ]
     },
     "metadata": {},
     "output_type": "display_data"
    },
    {
     "data": {
      "application/vnd.jupyter.widget-view+json": {
       "model_id": "28d3719ced5640b390ef8782513238c5",
       "version_major": 2,
       "version_minor": 0
      },
      "text/plain": [
       "20190905T204019_20190905T204223_T09WWT.tif: |           | 0.00/43.0M (raw) [  0.0%] in 00:00 (eta:     ?)"
      ]
     },
     "metadata": {},
     "output_type": "display_data"
    },
    {
     "data": {
      "application/vnd.jupyter.widget-view+json": {
       "model_id": "4c747a01239448e58459f55fc93ce81e",
       "version_major": 2,
       "version_minor": 0
      },
      "text/plain": [
       "20190907T203011_20190907T203043_T09WWT.tif: |           | 0.00/43.0M (raw) [  0.0%] in 00:00 (eta:     ?)"
      ]
     },
     "metadata": {},
     "output_type": "display_data"
    },
    {
     "data": {
      "application/vnd.jupyter.widget-view+json": {
       "model_id": "f956e86975e5452fa21dae8082c8dc34",
       "version_major": 2,
       "version_minor": 0
      },
      "text/plain": [
       "20190909T202009_20190909T202018_T09WWT.tif: |           | 0.00/43.0M (raw) [  0.0%] in 00:00 (eta:     ?)"
      ]
     },
     "metadata": {},
     "output_type": "display_data"
    },
    {
     "name": "stdout",
     "output_type": "stream",
     "text": [
      "Found 0 scenes for 20190907_081306_100c\n",
      "Found 4 scenes for 20190907_081307_100c\n"
     ]
    },
    {
     "data": {
      "application/vnd.jupyter.widget-view+json": {
       "model_id": "d327401ad3d7486097ef4857a8790f9b",
       "version_major": 2,
       "version_minor": 0
      },
      "text/plain": [
       "20190905T085559_20190905T090010_T38WPC.tif: |           | 0.00/28.6M (raw) [  0.0%] in 00:00 (eta:     ?)"
      ]
     },
     "metadata": {},
     "output_type": "display_data"
    },
    {
     "data": {
      "application/vnd.jupyter.widget-view+json": {
       "model_id": "7b6053957a394c69a6da27f322a491d7",
       "version_major": 2,
       "version_minor": 0
      },
      "text/plain": [
       "20190905T085559_20190905T090010_T38WPB.tif: |           | 0.00/28.6M (raw) [  0.0%] in 00:00 (eta:     ?)"
      ]
     },
     "metadata": {},
     "output_type": "display_data"
    },
    {
     "data": {
      "application/vnd.jupyter.widget-view+json": {
       "model_id": "86f9cca885aa477999c9c528519c7970",
       "version_major": 2,
       "version_minor": 0
      },
      "text/plain": [
       "20190907T084601_20190907T084906_T38WPC.tif: |           | 0.00/28.6M (raw) [  0.0%] in 00:00 (eta:     ?)"
      ]
     },
     "metadata": {},
     "output_type": "display_data"
    },
    {
     "data": {
      "application/vnd.jupyter.widget-view+json": {
       "model_id": "44c8a7fbdf7940eebe4170cce191914a",
       "version_major": 2,
       "version_minor": 0
      },
      "text/plain": [
       "20190907T084601_20190907T084906_T38WPB.tif: |           | 0.00/28.6M (raw) [  0.0%] in 00:00 (eta:     ?)"
      ]
     },
     "metadata": {},
     "output_type": "display_data"
    },
    {
     "name": "stdout",
     "output_type": "stream",
     "text": [
      "Found 0 scenes for 20190907_081308_100c\n",
      "Found 0 scenes for 20190907_081309_100c\n",
      "Found 5 scenes for 20190907_195118_1034\n"
     ]
    },
    {
     "data": {
      "application/vnd.jupyter.widget-view+json": {
       "model_id": "3c59be1b4e194e79a75320f7651a6a0f",
       "version_major": 2,
       "version_minor": 0
      },
      "text/plain": [
       "20190902T202929_20190902T203500_T09WWT.tif: |           | 0.00/31.0M (raw) [  0.0%] in 00:00 (eta:     ?)"
      ]
     },
     "metadata": {},
     "output_type": "display_data"
    },
    {
     "data": {
      "application/vnd.jupyter.widget-view+json": {
       "model_id": "fd2adc42a61445b8ad6e1c47a6e21ace",
       "version_major": 2,
       "version_minor": 0
      },
      "text/plain": [
       "20190905T204019_20190905T204223_T09WWT.tif: |           | 0.00/31.0M (raw) [  0.0%] in 00:00 (eta:     ?)"
      ]
     },
     "metadata": {},
     "output_type": "display_data"
    },
    {
     "data": {
      "application/vnd.jupyter.widget-view+json": {
       "model_id": "964faa304b3141bd8517059a132a9fa7",
       "version_major": 2,
       "version_minor": 0
      },
      "text/plain": [
       "20190906T200939_20190906T200951_T09WWT.tif: |           | 0.00/31.0M (raw) [  0.0%] in 00:00 (eta:     ?)"
      ]
     },
     "metadata": {},
     "output_type": "display_data"
    },
    {
     "data": {
      "application/vnd.jupyter.widget-view+json": {
       "model_id": "a3b39f63a05c4f3aadc9d74d3e558e7a",
       "version_major": 2,
       "version_minor": 0
      },
      "text/plain": [
       "20190907T203011_20190907T203043_T09WWT.tif: |           | 0.00/31.0M (raw) [  0.0%] in 00:00 (eta:     ?)"
      ]
     },
     "metadata": {},
     "output_type": "display_data"
    },
    {
     "data": {
      "application/vnd.jupyter.widget-view+json": {
       "model_id": "da99e92e42c84ef9955cc659e29aa41e",
       "version_major": 2,
       "version_minor": 0
      },
      "text/plain": [
       "20190909T202009_20190909T202018_T09WWT.tif: |           | 0.00/31.0M (raw) [  0.0%] in 00:00 (eta:     ?)"
      ]
     },
     "metadata": {},
     "output_type": "display_data"
    },
    {
     "name": "stdout",
     "output_type": "stream",
     "text": [
      "Found 0 scenes for 20190907_195119_1034\n",
      "Found 3 scenes for 20190907_203545_84_105c\n"
     ]
    },
    {
     "data": {
      "application/vnd.jupyter.widget-view+json": {
       "model_id": "6def5ee0f5b14100ba275896906256c6",
       "version_major": 2,
       "version_minor": 0
      },
      "text/plain": [
       "20190903T205021_20190903T205021_T08WNB.tif: |           | 0.00/46.0M (raw) [  0.0%] in 00:00 (eta:     ?)"
      ]
     },
     "metadata": {},
     "output_type": "display_data"
    },
    {
     "data": {
      "application/vnd.jupyter.widget-view+json": {
       "model_id": "2ece6f4656284867bea35c10ef989845",
       "version_major": 2,
       "version_minor": 0
      },
      "text/plain": [
       "20190906T210021_20190906T210437_T08WNB.tif: |           | 0.00/46.0M (raw) [  0.0%] in 00:00 (eta:     ?)"
      ]
     },
     "metadata": {},
     "output_type": "display_data"
    },
    {
     "data": {
      "application/vnd.jupyter.widget-view+json": {
       "model_id": "7858f0eb371c4b1bb4104f9e756011da",
       "version_major": 2,
       "version_minor": 0
      },
      "text/plain": [
       "20190911T210029_20190911T210040_T08WNB.tif: |           | 0.00/46.0M (raw) [  0.0%] in 00:00 (eta:     ?)"
      ]
     },
     "metadata": {},
     "output_type": "display_data"
    },
    {
     "name": "stdout",
     "output_type": "stream",
     "text": [
      "Found 6 scenes for 20190910_194626_103e\n"
     ]
    },
    {
     "data": {
      "application/vnd.jupyter.widget-view+json": {
       "model_id": "15c340a676d245d2bb0e154d7129c354",
       "version_major": 2,
       "version_minor": 0
      },
      "text/plain": [
       "20190905T204019_20190905T204223_T11XMA.tif: |           | 0.00/4.20M (raw) [  0.0%] in 00:00 (eta:     ?)"
      ]
     },
     "metadata": {},
     "output_type": "display_data"
    },
    {
     "data": {
      "application/vnd.jupyter.widget-view+json": {
       "model_id": "b710c52767e24f3eb22d9f696c9f825b",
       "version_major": 2,
       "version_minor": 0
      },
      "text/plain": [
       "20190905T204019_20190905T204223_T10XFF.tif: |           | 0.00/6.65M (raw) [  0.0%] in 00:00 (eta:     ?)"
      ]
     },
     "metadata": {},
     "output_type": "display_data"
    },
    {
     "data": {
      "application/vnd.jupyter.widget-view+json": {
       "model_id": "b908aaf4d44b407d9fe0b5c7bd9ba0ee",
       "version_major": 2,
       "version_minor": 0
      },
      "text/plain": [
       "20190907T203011_20190907T203043_T11XMA.tif: |           | 0.00/4.20M (raw) [  0.0%] in 00:00 (eta:     ?)"
      ]
     },
     "metadata": {},
     "output_type": "display_data"
    },
    {
     "data": {
      "application/vnd.jupyter.widget-view+json": {
       "model_id": "ba816b224a2043e687ad4de1ffa42738",
       "version_major": 2,
       "version_minor": 0
      },
      "text/plain": [
       "20190907T203011_20190907T203043_T10XFF.tif: |           | 0.00/6.65M (raw) [  0.0%] in 00:00 (eta:     ?)"
      ]
     },
     "metadata": {},
     "output_type": "display_data"
    },
    {
     "data": {
      "application/vnd.jupyter.widget-view+json": {
       "model_id": "fed2efc4b30c4435b3ddd2741b4b12c8",
       "version_major": 2,
       "version_minor": 0
      },
      "text/plain": [
       "20190911T201021_20190911T201015_T11XMA.tif: |           | 0.00/4.20M (raw) [  0.0%] in 00:00 (eta:     ?)"
      ]
     },
     "metadata": {},
     "output_type": "display_data"
    },
    {
     "data": {
      "application/vnd.jupyter.widget-view+json": {
       "model_id": "7f4ddc3ca8264cb1ac0e89093f117291",
       "version_major": 2,
       "version_minor": 0
      },
      "text/plain": [
       "20190911T201021_20190911T201015_T10XFF.tif: |           | 0.00/6.65M (raw) [  0.0%] in 00:00 (eta:     ?)"
      ]
     },
     "metadata": {},
     "output_type": "display_data"
    },
    {
     "name": "stdout",
     "output_type": "stream",
     "text": [
      "Found 3 scenes for 20190910_194627_103e\n"
     ]
    },
    {
     "data": {
      "application/vnd.jupyter.widget-view+json": {
       "model_id": "537ab6bf0b0e4a14b4d115ca5db1cad8",
       "version_major": 2,
       "version_minor": 0
      },
      "text/plain": [
       "20190905T204019_20190905T204223_T11XMA.tif: |           | 0.00/38.0M (raw) [  0.0%] in 00:00 (eta:     ?)"
      ]
     },
     "metadata": {},
     "output_type": "display_data"
    },
    {
     "data": {
      "application/vnd.jupyter.widget-view+json": {
       "model_id": "49625b54c67d46c49464af2d0ec579c6",
       "version_major": 2,
       "version_minor": 0
      },
      "text/plain": [
       "20190907T203011_20190907T203043_T11XMA.tif: |           | 0.00/38.0M (raw) [  0.0%] in 00:00 (eta:     ?)"
      ]
     },
     "metadata": {},
     "output_type": "display_data"
    },
    {
     "data": {
      "application/vnd.jupyter.widget-view+json": {
       "model_id": "6dcf6359ad2e45a4a9100c77dae54f3e",
       "version_major": 2,
       "version_minor": 0
      },
      "text/plain": [
       "20190911T201021_20190911T201015_T11XMA.tif: |           | 0.00/38.0M (raw) [  0.0%] in 00:00 (eta:     ?)"
      ]
     },
     "metadata": {},
     "output_type": "display_data"
    },
    {
     "name": "stdout",
     "output_type": "stream",
     "text": [
      "Found 2 scenes for 20190913_030436_1005\n"
     ]
    },
    {
     "data": {
      "application/vnd.jupyter.widget-view+json": {
       "model_id": "b6c7140a10444d7ca1df5937584a0a27",
       "version_major": 2,
       "version_minor": 0
      },
      "text/plain": [
       "20190912T034539_20190912T034535_T51WWS.tif: |           | 0.00/21.6M (raw) [  0.0%] in 00:00 (eta:     ?)"
      ]
     },
     "metadata": {},
     "output_type": "display_data"
    },
    {
     "data": {
      "application/vnd.jupyter.widget-view+json": {
       "model_id": "252ce2a13f4348d0a35a095b3cbcb8ae",
       "version_major": 2,
       "version_minor": 0
      },
      "text/plain": [
       "20190915T035539_20190915T035536_T51WWS.tif: |           | 0.00/21.6M (raw) [  0.0%] in 00:00 (eta:     ?)"
      ]
     },
     "metadata": {},
     "output_type": "display_data"
    },
    {
     "name": "stdout",
     "output_type": "stream",
     "text": [
      "Found 2 scenes for 20190913_030437_1005\n"
     ]
    },
    {
     "data": {
      "application/vnd.jupyter.widget-view+json": {
       "model_id": "48c045819a03420fa9a50fd063aeb80b",
       "version_major": 2,
       "version_minor": 0
      },
      "text/plain": [
       "20190912T034539_20190912T034535_T51WWS.tif: |           | 0.00/8.91M (raw) [  0.0%] in 00:00 (eta:     ?)"
      ]
     },
     "metadata": {},
     "output_type": "display_data"
    },
    {
     "data": {
      "application/vnd.jupyter.widget-view+json": {
       "model_id": "ab4740e793604161b85fbf336e032be0",
       "version_major": 2,
       "version_minor": 0
      },
      "text/plain": [
       "20190915T035539_20190915T035536_T51WWS.tif: |           | 0.00/8.91M (raw) [  0.0%] in 00:00 (eta:     ?)"
      ]
     },
     "metadata": {},
     "output_type": "display_data"
    },
    {
     "name": "stdout",
     "output_type": "stream",
     "text": [
      "Found 2 scenes for 20190916_030410_1010\n"
     ]
    },
    {
     "data": {
      "application/vnd.jupyter.widget-view+json": {
       "model_id": "d76c624c54e8469f8f2b26f6cdc98aa5",
       "version_major": 2,
       "version_minor": 0
      },
      "text/plain": [
       "20190912T034539_20190912T034535_T51WWS.tif: |           | 0.00/3.06M (raw) [  0.0%] in 00:00 (eta:     ?)"
      ]
     },
     "metadata": {},
     "output_type": "display_data"
    },
    {
     "data": {
      "application/vnd.jupyter.widget-view+json": {
       "model_id": "1a706e454bd6414f8144bb078169d5c0",
       "version_major": 2,
       "version_minor": 0
      },
      "text/plain": [
       "20190915T035539_20190915T035536_T51WWS.tif: |           | 0.00/3.06M (raw) [  0.0%] in 00:00 (eta:     ?)"
      ]
     },
     "metadata": {},
     "output_type": "display_data"
    },
    {
     "name": "stdout",
     "output_type": "stream",
     "text": [
      "Found 2 scenes for 20190916_030411_1010\n"
     ]
    },
    {
     "data": {
      "application/vnd.jupyter.widget-view+json": {
       "model_id": "a0fd72547094496286bba045058eaf99",
       "version_major": 2,
       "version_minor": 0
      },
      "text/plain": [
       "20190912T034539_20190912T034535_T51WWS.tif: |           | 0.00/8.91M (raw) [  0.0%] in 00:00 (eta:     ?)"
      ]
     },
     "metadata": {},
     "output_type": "display_data"
    },
    {
     "data": {
      "application/vnd.jupyter.widget-view+json": {
       "model_id": "cd4d9740e0a94d54b1051b6264eb5fbd",
       "version_major": 2,
       "version_minor": 0
      },
      "text/plain": [
       "20190915T035539_20190915T035536_T51WWS.tif: |           | 0.00/8.91M (raw) [  0.0%] in 00:00 (eta:     ?)"
      ]
     },
     "metadata": {},
     "output_type": "display_data"
    },
    {
     "name": "stdout",
     "output_type": "stream",
     "text": [
      "Found 5 scenes for 20190921_080320_1011\n"
     ]
    },
    {
     "data": {
      "application/vnd.jupyter.widget-view+json": {
       "model_id": "bd43dc22240345248c58f080962a4daa",
       "version_major": 2,
       "version_minor": 0
      },
      "text/plain": [
       "20190919T083619_20190919T083937_T39WVT.tif: |           | 0.00/1.13M (raw) [  0.0%] in 00:00 (eta:     ?)"
      ]
     },
     "metadata": {},
     "output_type": "display_data"
    },
    {
     "data": {
      "application/vnd.jupyter.widget-view+json": {
       "model_id": "0604f37460d84676942ab1589912ebbb",
       "version_major": 2,
       "version_minor": 0
      },
      "text/plain": [
       "20190919T083619_20190919T083937_T38WPC.tif: |           | 0.00/1.35M (raw) [  0.0%] in 00:00 (eta:     ?)"
      ]
     },
     "metadata": {},
     "output_type": "display_data"
    },
    {
     "data": {
      "application/vnd.jupyter.widget-view+json": {
       "model_id": "02de834c4aef4f67be725a4d4305d075",
       "version_major": 2,
       "version_minor": 0
      },
      "text/plain": [
       "20190919T083619_20190919T083937_T39WVS.tif: |           | 0.00/1.13M (raw) [  0.0%] in 00:00 (eta:     ?)"
      ]
     },
     "metadata": {},
     "output_type": "display_data"
    },
    {
     "data": {
      "application/vnd.jupyter.widget-view+json": {
       "model_id": "864efbcb76c046aba1f513b13b4001fa",
       "version_major": 2,
       "version_minor": 0
      },
      "text/plain": [
       "20190920T085631_20190920T085857_T39WVT.tif: |           | 0.00/1.13M (raw) [  0.0%] in 00:00 (eta:     ?)"
      ]
     },
     "metadata": {},
     "output_type": "display_data"
    },
    {
     "data": {
      "application/vnd.jupyter.widget-view+json": {
       "model_id": "40a4636dbfbd48c08c99ca0f49543c72",
       "version_major": 2,
       "version_minor": 0
      },
      "text/plain": [
       "20190920T085631_20190920T085857_T39WVS.tif: |           | 0.00/1.13M (raw) [  0.0%] in 00:00 (eta:     ?)"
      ]
     },
     "metadata": {},
     "output_type": "display_data"
    },
    {
     "name": "stdout",
     "output_type": "stream",
     "text": [
      "Found 3 scenes for 20190921_080321_1011\n"
     ]
    },
    {
     "data": {
      "application/vnd.jupyter.widget-view+json": {
       "model_id": "f4863e19acff40238ebe4adf15345798",
       "version_major": 2,
       "version_minor": 0
      },
      "text/plain": [
       "20190919T083619_20190919T083937_T38WPC.tif: |           | 0.00/28.1M (raw) [  0.0%] in 00:00 (eta:     ?)"
      ]
     },
     "metadata": {},
     "output_type": "display_data"
    },
    {
     "data": {
      "application/vnd.jupyter.widget-view+json": {
       "model_id": "9837ae9a97c94f5eab2fe645925c06ab",
       "version_major": 2,
       "version_minor": 0
      },
      "text/plain": [
       "20190919T083619_20190919T083937_T38WPB.tif: |           | 0.00/28.1M (raw) [  0.0%] in 00:00 (eta:     ?)"
      ]
     },
     "metadata": {},
     "output_type": "display_data"
    },
    {
     "data": {
      "application/vnd.jupyter.widget-view+json": {
       "model_id": "3a1a8b017ac040728a6a0ffa009c85df",
       "version_major": 2,
       "version_minor": 0
      },
      "text/plain": [
       "20190920T085631_20190920T085857_T38WPB.tif: |           | 0.00/28.1M (raw) [  0.0%] in 00:00 (eta:     ?)"
      ]
     },
     "metadata": {},
     "output_type": "display_data"
    },
    {
     "name": "stdout",
     "output_type": "stream",
     "text": [
      "Found 3 scenes for 20190921_080322_1011\n"
     ]
    },
    {
     "data": {
      "application/vnd.jupyter.widget-view+json": {
       "model_id": "cdfa80cacaba431781ce1bd791fd7562",
       "version_major": 2,
       "version_minor": 0
      },
      "text/plain": [
       "20190919T083619_20190919T083937_T38WPC.tif: |           | 0.00/2.60M (raw) [  0.0%] in 00:00 (eta:     ?)"
      ]
     },
     "metadata": {},
     "output_type": "display_data"
    },
    {
     "data": {
      "application/vnd.jupyter.widget-view+json": {
       "model_id": "4c82c52079f946e6ba5078bad4b3aae1",
       "version_major": 2,
       "version_minor": 0
      },
      "text/plain": [
       "20190919T083619_20190919T083937_T38WPB.tif: |           | 0.00/2.60M (raw) [  0.0%] in 00:00 (eta:     ?)"
      ]
     },
     "metadata": {},
     "output_type": "display_data"
    },
    {
     "data": {
      "application/vnd.jupyter.widget-view+json": {
       "model_id": "2adf0847ef4b4c6db0f2c72dcabaa05e",
       "version_major": 2,
       "version_minor": 0
      },
      "text/plain": [
       "20190920T085631_20190920T085857_T38WPB.tif: |           | 0.00/2.60M (raw) [  0.0%] in 00:00 (eta:     ?)"
      ]
     },
     "metadata": {},
     "output_type": "display_data"
    },
    {
     "name": "stdout",
     "output_type": "stream",
     "text": [
      "Found 1 scenes for 20190928_201420_1035\n"
     ]
    },
    {
     "data": {
      "application/vnd.jupyter.widget-view+json": {
       "model_id": "7f4943f227a74f30803bf607916a5383",
       "version_major": 2,
       "version_minor": 0
      },
      "text/plain": [
       "20190925T204209_20190925T204208_T08WNB.tif: |           | 0.00/8.15M (raw) [  0.0%] in 00:00 (eta:     ?)"
      ]
     },
     "metadata": {},
     "output_type": "display_data"
    },
    {
     "name": "stdout",
     "output_type": "stream",
     "text": [
      "Found 0 scenes for 20190928_201421_1035\n",
      "Found 1 scenes for 20190928_201422_1035\n"
     ]
    },
    {
     "data": {
      "application/vnd.jupyter.widget-view+json": {
       "model_id": "330bcbda1e5c47f193877ddad87ef168",
       "version_major": 2,
       "version_minor": 0
      },
      "text/plain": [
       "20190925T204209_20190925T204208_T08WNB.tif: |            | 0.00/492k (raw) [  0.0%] in 00:00 (eta:     ?)"
      ]
     },
     "metadata": {},
     "output_type": "display_data"
    },
    {
     "name": "stdout",
     "output_type": "stream",
     "text": [
      "Found 5 scenes for 20200722_081437_1032\n"
     ]
    },
    {
     "data": {
      "application/vnd.jupyter.widget-view+json": {
       "model_id": "2071c71ee6b64ee6a3ebedf7cbeda389",
       "version_major": 2,
       "version_minor": 0
      },
      "text/plain": [
       "20200722T091601_20200722T091558_T39XWB.tif: |           | 0.00/68.2M (raw) [  0.0%] in 00:00 (eta:     ?)"
      ]
     },
     "metadata": {},
     "output_type": "display_data"
    },
    {
     "data": {
      "application/vnd.jupyter.widget-view+json": {
       "model_id": "b5101db873fa43f2a97dc3ddd386706a",
       "version_major": 2,
       "version_minor": 0
      },
      "text/plain": [
       "20200723T084601_20200723T084817_T39XWB.tif: |           | 0.00/68.2M (raw) [  0.0%] in 00:00 (eta:     ?)"
      ]
     },
     "metadata": {},
     "output_type": "display_data"
    },
    {
     "data": {
      "application/vnd.jupyter.widget-view+json": {
       "model_id": "32413d6e2f1c45d5b5cef5cb6b6122ed",
       "version_major": 2,
       "version_minor": 0
      },
      "text/plain": [
       "20200724T090559_20200724T090556_T39XWB.tif: |           | 0.00/68.2M (raw) [  0.0%] in 00:00 (eta:     ?)"
      ]
     },
     "metadata": {},
     "output_type": "display_data"
    },
    {
     "data": {
      "application/vnd.jupyter.widget-view+json": {
       "model_id": "a3865d7fe9d0497eaee7c488730eebee",
       "version_major": 2,
       "version_minor": 0
      },
      "text/plain": [
       "20200725T083559_20200725T083754_T39XWB.tif: |           | 0.00/68.2M (raw) [  0.0%] in 00:00 (eta:     ?)"
      ]
     },
     "metadata": {},
     "output_type": "display_data"
    },
    {
     "data": {
      "application/vnd.jupyter.widget-view+json": {
       "model_id": "23c1d12119b7488fbcf73ed2ac9cc694",
       "version_major": 2,
       "version_minor": 0
      },
      "text/plain": [
       "20200726T085601_20200726T085601_T39XWB.tif: |           | 0.00/68.2M (raw) [  0.0%] in 00:00 (eta:     ?)"
      ]
     },
     "metadata": {},
     "output_type": "display_data"
    },
    {
     "name": "stdout",
     "output_type": "stream",
     "text": [
      "Found 5 scenes for 20200722_081438_1032\n"
     ]
    },
    {
     "data": {
      "application/vnd.jupyter.widget-view+json": {
       "model_id": "2f3d951482c34f81ae5e178fb7d92e36",
       "version_major": 2,
       "version_minor": 0
      },
      "text/plain": [
       "20200722T091601_20200722T091558_T39XWB.tif: |           | 0.00/68.2M (raw) [  0.0%] in 00:00 (eta:     ?)"
      ]
     },
     "metadata": {},
     "output_type": "display_data"
    },
    {
     "data": {
      "application/vnd.jupyter.widget-view+json": {
       "model_id": "48b6909731a54bb0ad9156f8848d0a0e",
       "version_major": 2,
       "version_minor": 0
      },
      "text/plain": [
       "20200723T084601_20200723T084817_T39XWB.tif: |           | 0.00/68.2M (raw) [  0.0%] in 00:00 (eta:     ?)"
      ]
     },
     "metadata": {},
     "output_type": "display_data"
    },
    {
     "data": {
      "application/vnd.jupyter.widget-view+json": {
       "model_id": "22e1c7b86b0e4bcc81a942225d7ccf13",
       "version_major": 2,
       "version_minor": 0
      },
      "text/plain": [
       "20200724T090559_20200724T090556_T39XWB.tif: |           | 0.00/68.2M (raw) [  0.0%] in 00:00 (eta:     ?)"
      ]
     },
     "metadata": {},
     "output_type": "display_data"
    },
    {
     "data": {
      "application/vnd.jupyter.widget-view+json": {
       "model_id": "f3c9cfe38e7d417386d3070e92d23731",
       "version_major": 2,
       "version_minor": 0
      },
      "text/plain": [
       "20200725T083559_20200725T083754_T39XWB.tif: |           | 0.00/68.2M (raw) [  0.0%] in 00:00 (eta:     ?)"
      ]
     },
     "metadata": {},
     "output_type": "display_data"
    },
    {
     "data": {
      "application/vnd.jupyter.widget-view+json": {
       "model_id": "2c5201ab37884d2998039cfbd6f7c414",
       "version_major": 2,
       "version_minor": 0
      },
      "text/plain": [
       "20200726T085601_20200726T085601_T39XWB.tif: |           | 0.00/68.2M (raw) [  0.0%] in 00:00 (eta:     ?)"
      ]
     },
     "metadata": {},
     "output_type": "display_data"
    },
    {
     "name": "stdout",
     "output_type": "stream",
     "text": [
      "Found 3 scenes for 20200814_044131_1026\n"
     ]
    },
    {
     "data": {
      "application/vnd.jupyter.widget-view+json": {
       "model_id": "23887ea1108c4e01afafa561e080803e",
       "version_major": 2,
       "version_minor": 0
      },
      "text/plain": [
       "20200814T051659_20200814T051654_T49XED.tif: |            | 0.00/115M (raw) [  0.0%] in 00:00 (eta:     ?)"
      ]
     },
     "metadata": {},
     "output_type": "display_data"
    },
    {
     "data": {
      "application/vnd.jupyter.widget-view+json": {
       "model_id": "6c65d2ce781f44938f7c221c520db93c",
       "version_major": 2,
       "version_minor": 0
      },
      "text/plain": [
       "20200815T053651_20200815T053647_T49XED.tif: |            | 0.00/115M (raw) [  0.0%] in 00:00 (eta:     ?)"
      ]
     },
     "metadata": {},
     "output_type": "display_data"
    },
    {
     "data": {
      "application/vnd.jupyter.widget-view+json": {
       "model_id": "8871caf9909c401aaa0d9ab26fedd784",
       "version_major": 2,
       "version_minor": 0
      },
      "text/plain": [
       "20200816T050701_20200816T050659_T49XED.tif: |            | 0.00/115M (raw) [  0.0%] in 00:00 (eta:     ?)"
      ]
     },
     "metadata": {},
     "output_type": "display_data"
    },
    {
     "name": "stdout",
     "output_type": "stream",
     "text": [
      "Found 3 scenes for 20200814_044132_1026\n"
     ]
    },
    {
     "data": {
      "application/vnd.jupyter.widget-view+json": {
       "model_id": "b85875fe91a541c899879ca8f8d29a06",
       "version_major": 2,
       "version_minor": 0
      },
      "text/plain": [
       "20200814T051659_20200814T051654_T49XED.tif: |            | 0.00/128M (raw) [  0.0%] in 00:00 (eta:     ?)"
      ]
     },
     "metadata": {},
     "output_type": "display_data"
    },
    {
     "data": {
      "application/vnd.jupyter.widget-view+json": {
       "model_id": "e5e45ac0caae4d789b14fd4b6f6d7ff9",
       "version_major": 2,
       "version_minor": 0
      },
      "text/plain": [
       "20200815T053651_20200815T053647_T49XED.tif: |            | 0.00/128M (raw) [  0.0%] in 00:00 (eta:     ?)"
      ]
     },
     "metadata": {},
     "output_type": "display_data"
    },
    {
     "data": {
      "application/vnd.jupyter.widget-view+json": {
       "model_id": "1be5282892474e8899f0ffe8313cb64f",
       "version_major": 2,
       "version_minor": 0
      },
      "text/plain": [
       "20200816T050701_20200816T050659_T49XED.tif: |            | 0.00/128M (raw) [  0.0%] in 00:00 (eta:     ?)"
      ]
     },
     "metadata": {},
     "output_type": "display_data"
    },
    {
     "name": "stdout",
     "output_type": "stream",
     "text": [
      "Found 3 scenes for 20200814_044133_1026\n"
     ]
    },
    {
     "data": {
      "application/vnd.jupyter.widget-view+json": {
       "model_id": "33743db175024cc8a6acc95da6f3b319",
       "version_major": 2,
       "version_minor": 0
      },
      "text/plain": [
       "20200814T051659_20200814T051654_T49XED.tif: |            | 0.00/128M (raw) [  0.0%] in 00:00 (eta:     ?)"
      ]
     },
     "metadata": {},
     "output_type": "display_data"
    },
    {
     "data": {
      "application/vnd.jupyter.widget-view+json": {
       "model_id": "41f8c2fab6364112bcb1fa3bf94b02e7",
       "version_major": 2,
       "version_minor": 0
      },
      "text/plain": [
       "20200815T053651_20200815T053647_T49XED.tif: |            | 0.00/128M (raw) [  0.0%] in 00:00 (eta:     ?)"
      ]
     },
     "metadata": {},
     "output_type": "display_data"
    },
    {
     "data": {
      "application/vnd.jupyter.widget-view+json": {
       "model_id": "89c3de4dea964445a6bfc274e04a0ec0",
       "version_major": 2,
       "version_minor": 0
      },
      "text/plain": [
       "20200816T050701_20200816T050659_T49XED.tif: |            | 0.00/128M (raw) [  0.0%] in 00:00 (eta:     ?)"
      ]
     },
     "metadata": {},
     "output_type": "display_data"
    },
    {
     "name": "stdout",
     "output_type": "stream",
     "text": [
      "Found 2 scenes for 3649691_4572917_2020-08-14_1039\n"
     ]
    },
    {
     "data": {
      "application/vnd.jupyter.widget-view+json": {
       "model_id": "2c305cda19e5475ab25f1d9ad876ddfd",
       "version_major": 2,
       "version_minor": 0
      },
      "text/plain": [
       "20200815T062629_20200815T062631_T45XWB.tif: |            | 0.00/253M (raw) [  0.0%] in 00:00 (eta:     ?)"
      ]
     },
     "metadata": {},
     "output_type": "display_data"
    },
    {
     "data": {
      "application/vnd.jupyter.widget-view+json": {
       "model_id": "56627c8b1f314bd7b07270b7084c716e",
       "version_major": 2,
       "version_minor": 0
      },
      "text/plain": [
       "20200818T063629_20200818T063629_T45XWB.tif: |            | 0.00/253M (raw) [  0.0%] in 00:00 (eta:     ?)"
      ]
     },
     "metadata": {},
     "output_type": "display_data"
    },
    {
     "name": "stdout",
     "output_type": "stream",
     "text": [
      "Found 1 scenes for 4694518_0870514_2021-07-15_1064\n"
     ]
    },
    {
     "data": {
      "application/vnd.jupyter.widget-view+json": {
       "model_id": "f062059e67a74ff8979dac05ba8bc424",
       "version_major": 2,
       "version_minor": 0
      },
      "text/plain": [
       "20210717T210031_20210717T210025_T08WMA.tif: |           | 0.00/76.1M (raw) [  0.0%] in 00:00 (eta:     ?)"
      ]
     },
     "metadata": {},
     "output_type": "display_data"
    },
    {
     "name": "stdout",
     "output_type": "stream",
     "text": [
      "Found 1 scenes for 4706735_4472312_2021-07-19_1034\n"
     ]
    },
    {
     "data": {
      "application/vnd.jupyter.widget-view+json": {
       "model_id": "bed03dcc59de4da39f3e6cd72e3a94e7",
       "version_major": 2,
       "version_minor": 0
      },
      "text/plain": [
       "20210720T065629_20210720T065624_T43WFV.tif: |            | 0.00/217M (raw) [  0.0%] in 00:00 (eta:     ?)"
      ]
     },
     "metadata": {},
     "output_type": "display_data"
    },
    {
     "name": "stdout",
     "output_type": "stream",
     "text": [
      "Found 3 scenes for 4709512_4372018_2021-07-20_2427\n"
     ]
    },
    {
     "data": {
      "application/vnd.jupyter.widget-view+json": {
       "model_id": "fa8df826430c4d06ab5e8f0f25a1d671",
       "version_major": 2,
       "version_minor": 0
      },
      "text/plain": [
       "20210718T070621_20210718T070624_T43WEV.tif: |            | 0.00/166M (raw) [  0.0%] in 00:00 (eta:     ?)"
      ]
     },
     "metadata": {},
     "output_type": "display_data"
    },
    {
     "data": {
      "application/vnd.jupyter.widget-view+json": {
       "model_id": "e95f05ed1ab0483dbdfc1656a4f7fc72",
       "version_major": 2,
       "version_minor": 0
      },
      "text/plain": [
       "20210720T065629_20210720T065624_T43WEV.tif: |            | 0.00/166M (raw) [  0.0%] in 00:00 (eta:     ?)"
      ]
     },
     "metadata": {},
     "output_type": "display_data"
    },
    {
     "data": {
      "application/vnd.jupyter.widget-view+json": {
       "model_id": "f3ad43ed63824cae9ca3d65d77fad066",
       "version_major": 2,
       "version_minor": 0
      },
      "text/plain": [
       "20210723T070629_20210723T070721_T43WEV.tif: |            | 0.00/166M (raw) [  0.0%] in 00:00 (eta:     ?)"
      ]
     },
     "metadata": {},
     "output_type": "display_data"
    },
    {
     "name": "stdout",
     "output_type": "stream",
     "text": [
      "Found 3 scenes for 4713120_5272315_2021-07-21_2463\n"
     ]
    },
    {
     "data": {
      "application/vnd.jupyter.widget-view+json": {
       "model_id": "7580b6d7d1ad48c0afb40f9ef9c14e09",
       "version_major": 2,
       "version_minor": 0
      },
      "text/plain": [
       "20210718T034541_20210718T034538_T52WEE.tif: |            | 0.00/168M (raw) [  0.0%] in 00:00 (eta:     ?)"
      ]
     },
     "metadata": {},
     "output_type": "display_data"
    },
    {
     "data": {
      "application/vnd.jupyter.widget-view+json": {
       "model_id": "00a0a1b4d6104716b20cd20953249b97",
       "version_major": 2,
       "version_minor": 0
      },
      "text/plain": [
       "20210721T035541_20210721T035540_T52WEE.tif: |            | 0.00/168M (raw) [  0.0%] in 00:00 (eta:     ?)"
      ]
     },
     "metadata": {},
     "output_type": "display_data"
    },
    {
     "data": {
      "application/vnd.jupyter.widget-view+json": {
       "model_id": "f3921440256d4d66ad849b3732f18fb3",
       "version_major": 2,
       "version_minor": 0
      },
      "text/plain": [
       "20210723T034539_20210723T034536_T52WEE.tif: |            | 0.00/168M (raw) [  0.0%] in 00:00 (eta:     ?)"
      ]
     },
     "metadata": {},
     "output_type": "display_data"
    },
    {
     "name": "stdout",
     "output_type": "stream",
     "text": [
      "Found 1 scenes for 4751812_3973218_2021-08-01_1026\n"
     ]
    },
    {
     "data": {
      "application/vnd.jupyter.widget-view+json": {
       "model_id": "42c871e7017c4f00bee2c3872294f744",
       "version_major": 2,
       "version_minor": 0
      },
      "text/plain": [
       "20210801T091559_20210801T091554_T39XWB.tif: |            | 0.00/155M (raw) [  0.0%] in 00:00 (eta:     ?)"
      ]
     },
     "metadata": {},
     "output_type": "display_data"
    },
    {
     "name": "stdout",
     "output_type": "stream",
     "text": [
      "Found 2 scenes for 4770635_4572716_2021-08-06_2416\n"
     ]
    },
    {
     "data": {
      "application/vnd.jupyter.widget-view+json": {
       "model_id": "21e4fd95476f4649b559431583cb1ddc",
       "version_major": 2,
       "version_minor": 0
      },
      "text/plain": [
       "20210805T062631_20210805T062631_T45XWA.tif: |            | 0.00/238M (raw) [  0.0%] in 00:00 (eta:     ?)"
      ]
     },
     "metadata": {},
     "output_type": "display_data"
    },
    {
     "data": {
      "application/vnd.jupyter.widget-view+json": {
       "model_id": "dca334156ba242d69364de51bac35ff2",
       "version_major": 2,
       "version_minor": 0
      },
      "text/plain": [
       "20210806T064629_20210806T064625_T45XWA.tif: |            | 0.00/238M (raw) [  0.0%] in 00:00 (eta:     ?)"
      ]
     },
     "metadata": {},
     "output_type": "display_data"
    }
   ],
   "source": [
    "for (image_id, image_date, region), shapes in tqdm(gdf.groupby(['image_id', 'image_date', 'region'])):\n",
    "  date = pd.to_datetime(image_date) \n",
    "\n",
    "  # Calculate UTM Zone from the region centroid\n",
    "  centroid_x = 0.5 * (shapes.bounds.minx.min() + shapes.bounds.maxx.max())\n",
    "  UTMZone = int(math.ceil((180 + centroid_x) / 6))\n",
    "  CRS = f'EPSG:326{UTMZone:02d}'\n",
    "  \n",
    "  # Define ROI as a ee Geometry\n",
    "  shapes = shapes.to_crs(CRS)\n",
    "  bounds = shapes.bounds\n",
    "  bounds = ee.Geometry.Rectangle(\n",
    "    # xMin, yMin, xMax, yMax\n",
    "    [bounds.minx.min(), bounds.miny.min(),\n",
    "     bounds.maxx.max(), bounds.maxy.max()],\n",
    "    proj=CRS, geodesic=True, evenOdd=False)\n",
    "\n",
    "  \n",
    "  imgs = s2.search(\n",
    "    start_date=date - lookback,  # Select starting `lookback` days before PSOrthoTile\n",
    "    end_date=date + lookahead,   # Select until `lookahead` days after PSOrthoTile\n",
    "    region=bounds,\n",
    "    fill_portion=90,             # Ensure at least 90% of pixels are valid\n",
    "    custom_filter='CLOUDY_PIXEL_PERCENTAGE < 20'  # Filter Scenes with too many clouds\n",
    "  )\n",
    "  \n",
    "  print(f'Found {len(imgs.properties)} scenes for {image_id}')\n",
    "  for img in imgs.properties:\n",
    "    s2_id = img.split('/')[-1]\n",
    "    outpath = Path(f'data/Sentinel2/{image_id}/{s2_id}.tif')\n",
    "    outpath.parent.mkdir(parents=True, exist_ok=True)\n",
    "    \n",
    "    # By default, geedim downloads scenes at native resolution and CRS\n",
    "    gd.MaskedImage.from_id(img).download(outpath, region=bounds)\n",
    "    \n",
    "    # Save S2 image metadata, we might need that later\n",
    "    with outpath.with_suffix('.json').open('w') as f:\n",
    "      json.dump(imgs.properties[img], f)"
   ]
  },
  {
   "cell_type": "markdown",
   "id": "233f3816",
   "metadata": {},
   "source": [
    "# The vanilla `ee` way\n",
    "\n",
    "Works, but is kind of clumsy with regards to getting the data in and out of GDrive."
   ]
  },
  {
   "cell_type": "code",
   "execution_count": 4,
   "id": "c235976e",
   "metadata": {
    "scrolled": false
   },
   "outputs": [
    {
     "data": {
      "application/vnd.jupyter.widget-view+json": {
       "model_id": "bced566fff524e15b26730d20658770d",
       "version_major": 2,
       "version_minor": 0
      },
      "text/plain": [
       "  0%|          | 0/154 [00:00<?, ?it/s]"
      ]
     },
     "metadata": {},
     "output_type": "display_data"
    },
    {
     "name": "stdout",
     "output_type": "stream",
     "text": [
      "20180702_025400_0f31: 6\n",
      "Done with 20180702_025400_0f31\n"
     ]
    }
   ],
   "source": [
    "ee.Initialize()\n",
    "\n",
    "DRIVE_FOLDER = 'RTS_S2'\n",
    "BANDS = ['B1', 'B2', 'B3', 'B4', 'B5', 'B6', 'B7', 'B8', 'B8A', 'B9', 'B10', 'B11', 'B12']\n",
    "\n",
    "s2 = ee.ImageCollection(\"COPERNICUS/S2_HARMONIZED\")\n",
    "\n",
    "lookback  = pd.Timedelta(days=14)\n",
    "lookahead = pd.Timedelta(days=7)\n",
    "\n",
    "tasklist = []\n",
    "\n",
    "for (image_id, image_date, region), shapes in tqdm(gdf.groupby(['image_id', 'image_date', 'region'])): \n",
    "  centroid_x = 0.5 * (shapes.bounds.minx.min() + shapes.bounds.maxx.max())\n",
    "  UTMZone = int(math.ceil((180 + centroid_x) / 6))\n",
    "  CRS = f'EPSG:326{UTMZone:02d}'\n",
    "  \n",
    "  shapes = shapes.to_crs(CRS)\n",
    "  bounds = shapes.bounds\n",
    "  bounds = ee.Geometry.Rectangle(\n",
    "    # xMin, yMin, xMax, yMax\n",
    "    [bounds.minx.min(), bounds.miny.min(),\n",
    "     bounds.maxx.max(), bounds.maxy.max()],\n",
    "    proj=CRS, geodesic=True, evenOdd=False)\n",
    "  \n",
    "  date = pd.to_datetime(image_date)\n",
    "  \n",
    "  imgs = s2\n",
    "  imgs = imgs.filterDate(date-lookback, date+lookahead)\n",
    "  imgs = imgs.filterBounds(bounds)\n",
    "  # imgs = imgs.filter(ee.Filter.intersects(leftField='.all', rightValue=ee.Feature(bounds)))\n",
    "  imgs = imgs.filter(ee.Filter.contains(leftField='.all', rightValue=ee.Feature(bounds)))\n",
    "  imgs = imgs.filter(ee.Filter.lt('CLOUDY_PIXEL_PERCENTAGE', 20))\n",
    "  imgs = imgs.select(BANDS)\n",
    "  imgs = imgs.map(lambda x: x.clip(bounds))\n",
    "  \n",
    "  total = imgs.size().getInfo()\n",
    "  print(f'{image_id}: {total}')\n",
    "  imgs = imgs.toList(total)\n",
    "\n",
    "  for i in range(total):\n",
    "    img = ee.Image(imgs.get(i))\n",
    "    metadata = img.toDictionary().getInfo()\n",
    "\n",
    "    timestamp = datetime.fromtimestamp(img.date().getInfo()['value'] / 1000)\n",
    "    day = timestamp.isoformat().split('T')[0]\n",
    "\n",
    "    filename = f'{image_id}_{day}'\n",
    "\n",
    "    task = ee.batch.Export.image.toDrive(\n",
    "        image=img,\n",
    "        description=filename,\n",
    "        scale=10,\n",
    "        region=bounds,\n",
    "        fileNamePrefix=filename,\n",
    "        folder=DRIVE_FOLDER,\n",
    "        skipEmptyTiles=True,\n",
    "        crs=CRS,\n",
    "    )\n",
    "    task.start()\n",
    "    tasklist.append(task)\n",
    "    \n",
    "    with open(f'data/Sentinel2/{filename}.json', 'w') as f:\n",
    "      json.dump(metadata, f)\n",
    "      \n",
    "  print(f\"Done with {image_id}\")\n",
    "  break"
   ]
  },
  {
   "cell_type": "markdown",
   "id": "feae6aac",
   "metadata": {},
   "source": [
    "# The `wxee` way\n",
    "\n",
    "We seem to get lots of `nan` bands this way... Not sure why. Let's not use wxee."
   ]
  },
  {
   "cell_type": "code",
   "execution_count": null,
   "id": "36be7ae6",
   "metadata": {},
   "outputs": [],
   "source": [
    "import wxee\n",
    "wxee.Initialize()\n",
    "\n",
    "BANDS = ['B1', 'B2', 'B3', 'B4', 'B5', 'B6', 'B7', 'B8', 'B8A', 'B9', 'B10', 'B11', 'B12']\n",
    "\n",
    "s2 = ee.ImageCollection(\"COPERNICUS/S2_HARMONIZED\")\n",
    "\n",
    "lookback  = pd.Timedelta(days=14)\n",
    "lookahead = pd.Timedelta(days=7)\n",
    "\n",
    "id2paths = {}\n",
    "\n",
    "for (image_id, image_date, region), shapes in tqdm(gdf.groupby(['image_id', 'image_date', 'region'])):\n",
    "  if Path(f'data/Sentinel2/{image_id}/').exists():\n",
    "    # Skip already downloaded tiles\n",
    "    continue\n",
    "  \n",
    "  centroid_x = 0.5 * (shapes.bounds.minx.min() + shapes.bounds.maxx.max())\n",
    "  UTMZone = int(math.ceil((180 + centroid_x) / 6))\n",
    "  CRS = f'EPSG:326{UTMZone:02d}'\n",
    "  \n",
    "  shapes = shapes.to_crs(CRS)\n",
    "  bounds = shapes.bounds  \n",
    "  bounds = ee.Geometry.Rectangle(\n",
    "    # xMin, yMin, xMax, yMax\n",
    "    [bounds.minx.min(), bounds.miny.min(),\n",
    "     bounds.maxx.max(), bounds.maxy.max()],\n",
    "    proj=CRS, geodesic=True, evenOdd=False)\n",
    "  \n",
    "  date = pd.to_datetime(image_date)\n",
    "  \n",
    "  imgs = s2\n",
    "  imgs = imgs.filterDate(date-lookback, date+lookahead)\n",
    "  imgs = imgs.filterBounds(bounds)\n",
    "  # imgs = imgs.filter(ee.Filter.intersects(leftField='.all', rightValue=ee.Feature(bounds)))\n",
    "  imgs = imgs.filter(ee.Filter.contains(leftField='.all', rightValue=ee.Feature(bounds)))\n",
    "  imgs = imgs.filter(ee.Filter.lt('CLOUDY_PIXEL_PERCENTAGE', 20))\n",
    "  imgs = imgs.map(lambda x: x.clip(bounds))\n",
    "   \n",
    "  # acquisition_times = imgs.aggregate_array(\"system:time_start\").getInfo()\n",
    "  # closest = np.argmin(np.abs(np.asarray(acquisition_times) - date.value / 1e6))\n",
    "  # img = imgs.toList(imgs, len(acquisition_times)).get(closest)\n",
    "  \n",
    "  try:\n",
    "    data = imgs.wx.to_xarray(scale=10, crs=CRS)\n",
    "  except ee.EEException:\n",
    "    print(f'Got EEException for {image_id}, retrying bandwise...')\n",
    "    data = []\n",
    "    for band in BANDS:\n",
    "      data.append(imgs.select([band]).wx.to_xarray(scale=10, crs=CRS))\n",
    "    data = xarray.merge(data)\n",
    "    \n",
    "  if not data.dims:\n",
    "    # Empty data...\n",
    "    continue\n",
    "  \n",
    "  for time, image in data.groupby('time'):\n",
    "    day = str(time).split('T')[0]\n",
    "    \n",
    "    isnan = np.isnan(image).all()\n",
    "    if all(isnan[b] for b in isnan):\n",
    "      continue\n",
    "    \n",
    "    outpath = Path(f'data/Sentinel2/{image_id}/{day}.tif')\n",
    "    outpath.parent.mkdir(parents=True, exist_ok=True)\n",
    "    image.rio.to_raster(outpath)\n",
    "  # break\n",
    "    \n",
    "  # id2paths[image_id] = paths"
   ]
  },
  {
   "cell_type": "code",
   "execution_count": null,
   "id": "dd7ce843",
   "metadata": {},
   "outputs": [],
   "source": []
  }
 ],
 "metadata": {
  "kernelspec": {
   "display_name": "Python 3 (ipykernel)",
   "language": "python",
   "name": "python3"
  },
  "language_info": {
   "codemirror_mode": {
    "name": "ipython",
    "version": 3
   },
   "file_extension": ".py",
   "mimetype": "text/x-python",
   "name": "python",
   "nbconvert_exporter": "python",
   "pygments_lexer": "ipython3",
   "version": "3.9.13"
  }
 },
 "nbformat": 4,
 "nbformat_minor": 5
}
