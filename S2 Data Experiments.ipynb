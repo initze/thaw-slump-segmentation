{
 "cells": [
  {
   "cell_type": "code",
   "execution_count": 7,
   "id": "2edcf7d2",
   "metadata": {},
   "outputs": [],
   "source": [
    "import ee\n",
    "import hvplot.xarray\n",
    "import hvplot.pandas\n",
    "import xarray\n",
    "\n",
    "import rasterio as rio\n",
    "import rioxarray\n",
    "\n",
    "import xarray\n",
    "import numpy as np\n",
    "import pandas as pd\n",
    "import geopandas as gpd\n",
    "from pathlib import Path\n",
    "from tqdm.notebook import tqdm\n",
    "import math\n",
    "import json\n",
    "from datetime import datetime\n",
    "\n",
    "from concurrent.futures import ThreadPoolExecutor"
   ]
  },
  {
   "cell_type": "code",
   "execution_count": 2,
   "id": "787a7beb",
   "metadata": {},
   "outputs": [],
   "source": [
    "SHAPEFILE_ROOT = Path('data/ML_training_labels/retrogressive_thaw_slumps/')\n",
    "OUTFOLDER = Path('data/Sentinel2') "
   ]
  },
  {
   "cell_type": "code",
   "execution_count": 3,
   "id": "0b5a6036",
   "metadata": {},
   "outputs": [],
   "source": [
    "# Build JoinTable to get date from image_id\n",
    "labels = map(gpd.read_file, SHAPEFILE_ROOT.glob('*/TrainingLabel*.shp'))\n",
    "labels = pd.concat(labels).reset_index(drop=True)\n",
    "labels['image_date'] = pd.to_datetime(labels['image_date'])\n",
    "id2date = dict(labels[['image_id', 'image_date']].values)"
   ]
  },
  {
   "cell_type": "code",
   "execution_count": 4,
   "id": "5e0ae476",
   "metadata": {},
   "outputs": [],
   "source": [
    "scenes = map(gpd.read_file, SHAPEFILE_ROOT.glob('*/ImageFootprints*.shp'))\n",
    "scenes = pd.concat(scenes).reset_index(drop=True)\n",
    "scenes = scenes[scenes.image_id.isin(labels.image_id)]\n",
    "scenes['image_date'] = scenes.image_id.apply(id2date.get)"
   ]
  },
  {
   "cell_type": "markdown",
   "id": "74920791",
   "metadata": {},
   "source": [
    "# `geedim` with Tileindex Polygons\n",
    "\n",
    "Best approach so far – TODO: Parallelization"
   ]
  },
  {
   "cell_type": "code",
   "execution_count": 5,
   "id": "c9efd4c0",
   "metadata": {},
   "outputs": [],
   "source": [
    "import geedim as gd\n",
    "gd.Initialize()\n",
    "\n",
    "BANDS = ['B1', 'B2', 'B3', 'B4', 'B5', 'B6', 'B7', 'B8', 'B8A', 'B9', 'B10', 'B11', 'B12']\n",
    "\n",
    "lookback  = pd.Timedelta(days=5)\n",
    "lookahead = pd.Timedelta(days=5)\n",
    "\n",
    "s2 = ee.ImageCollection(\"COPERNICUS/S2_HARMONIZED\").select(BANDS)\n",
    "s2 = gd.MaskedCollection(s2)"
   ]
  },
  {
   "cell_type": "code",
   "execution_count": 9,
   "id": "436b4944",
   "metadata": {
    "scrolled": true
   },
   "outputs": [
    {
     "name": "stdout",
     "output_type": "stream",
     "text": [
      "Found 2 scenes for 4770635_4572716_2021-08-06_2416\n"
     ]
    },
    {
     "data": {
      "application/vnd.jupyter.widget-view+json": {
       "model_id": "b53f5a989665435ba15a1767c5d3cc4f",
       "version_major": 2,
       "version_minor": 0
      },
      "text/plain": [
       "20210806T064629_20210806T064625_T45XWA.tif: |                                               | 0.00/551M (raw) …"
      ]
     },
     "metadata": {},
     "output_type": "display_data"
    },
    {
     "name": "stdout",
     "output_type": "stream",
     "text": [
      "Found 3 scenes for 4713120_5272315_2021-07-21_2463\n",
      "Found 3 scenes for 20190819_080915_1012\n",
      "Found 1 scenes for 20190820_164144_0f21\n"
     ]
    },
    {
     "data": {
      "application/vnd.jupyter.widget-view+json": {
       "model_id": "f4ab307e615342208a6946ef0d3f9127",
       "version_major": 2,
       "version_minor": 0
      },
      "text/plain": [
       "  0%|          | 0/154 [00:04<?, ?it/s]"
      ]
     },
     "metadata": {},
     "output_type": "display_data"
    },
    {
     "data": {
      "application/vnd.jupyter.widget-view+json": {
       "model_id": "02675f7844be4f1e9dfa4a01ed2ae32b",
       "version_major": 2,
       "version_minor": 0
      },
      "text/plain": [
       "20210721T035541_20210721T035540_T52WEE.tif: |                                               | 0.00/550M (raw) …"
      ]
     },
     "metadata": {},
     "output_type": "display_data"
    },
    {
     "name": "stdout",
     "output_type": "stream",
     "text": [
      "Found 1 scenes for 20190928_201422_1035\n",
      "Found 5 scenes for 20190620_201330_100a\n",
      "Found 2 scenes for 20190813_082915_68_105c\n",
      "Found 3 scenes for 20180829_025607_1034\n",
      "Found 0 scenes for 20190808_201538_1018\n",
      "Found 4 scenes for 20190905_081014_1004\n",
      "Found 1 scenes for 20190714_194359_1035\n"
     ]
    },
    {
     "name": "stderr",
     "output_type": "stream",
     "text": [
      "IOStream.flush timed out\n",
      "IOStream.flush timed out\n",
      "IOStream.flush timed out\n",
      "IOStream.flush timed out\n",
      "IOStream.flush timed out\n",
      "IOStream.flush timed out\n"
     ]
    },
    {
     "name": "stdout",
     "output_type": "stream",
     "text": [
      "Found 6 scenes for 20190702_160543_0f49\n",
      "Found 1 scenes for 20180710_025407_101b\n",
      "Found 2 scenes for 20190703_201902_1006\n",
      "Found 2 scenes for 20190607_001259_0f44\n",
      "Found 4 scenes for 20190905_195023_1032\n"
     ]
    },
    {
     "data": {
      "application/vnd.jupyter.widget-view+json": {
       "model_id": "9152cdef32b049e9b0d06eb61711db25",
       "version_major": 2,
       "version_minor": 0
      },
      "text/plain": [
       "20190821T204021_20190821T204118_T09WWT.tif: |                                              | 0.00/5.89M (raw) …"
      ]
     },
     "metadata": {},
     "output_type": "display_data"
    },
    {
     "data": {
      "application/vnd.jupyter.widget-view+json": {
       "model_id": "8a42a5a0a0dd4a78b02251b54f213482",
       "version_major": 2,
       "version_minor": 0
      },
      "text/plain": [
       "20190815T083601_20190815T083603_T38WPC.tif: |                                              | 0.00/8.05M (raw) …"
      ]
     },
     "metadata": {},
     "output_type": "display_data"
    },
    {
     "name": "stdout",
     "output_type": "stream",
     "text": [
      "Found 2 scenes for 20190703_201901_1006\n",
      "Found 2 scenes for 20180716_025343_0f35\n",
      "Found 2 scenes for 20190713_184806_71_1067\n",
      "Found 5 scenes for 20190815_080516_0f4e\n",
      "Found 1 scenes for 20180923_080226_0f34\n",
      "Found 1 scenes for 20190822_081236_101f\n",
      "Found 3 scenes for 20190606_030140_0f3f\n",
      "Found 4 scenes for 20190607_204203_1044\n",
      "Found 1 scenes for 20180703_192559_1006\n",
      "Found 3 scenes for 20190619_203634_0f4e\n",
      "Found 3 scenes for 20190815_080515_0f4e\n",
      "Found 2 scenes for 20190713_184804_64_1067\n",
      "Found 4 scenes for 20190622_164801_1048\n",
      "Found 3 scenes for 20190621_204124_0f12\n",
      "Found 3 scenes for 20190704_172438_93_1067\n",
      "Found 2 scenes for 20190907_081309_100c\n",
      "Found 4 scenes for 20190815_030626_1001\n"
     ]
    },
    {
     "name": "stderr",
     "output_type": "stream",
     "text": [
      "IOStream.flush timed out\n",
      "IOStream.flush timed out\n",
      "IOStream.flush timed out\n",
      "IOStream.flush timed out\n",
      "IOStream.flush timed out\n",
      "IOStream.flush timed out\n",
      "IOStream.flush timed out\n",
      "IOStream.flush timed out\n",
      "IOStream.flush timed out\n",
      "IOStream.flush timed out\n",
      "IOStream.flush timed out\n",
      "IOStream.flush timed out\n",
      "IOStream.flush timed out\n",
      "IOStream.flush timed out\n",
      "IOStream.flush timed out\n"
     ]
    },
    {
     "name": "stdout",
     "output_type": "stream",
     "text": [
      "Found 4 scenes for 20190618_013707_30_1062\n",
      "Found 3 scenes for 20190619_203635_0f4e\n"
     ]
    },
    {
     "name": "stderr",
     "output_type": "stream",
     "text": [
      "IOStream.flush timed out\n",
      "IOStream.flush timed out\n"
     ]
    },
    {
     "data": {
      "application/vnd.jupyter.widget-view+json": {
       "model_id": "16fd7f1ef0374a068718d72d9cb7bc54",
       "version_major": 2,
       "version_minor": 0
      },
      "text/plain": [
       "20190925T204209_20190925T204208_T08WNB.tif: |                                              | 0.00/15.9M (raw) …"
      ]
     },
     "metadata": {},
     "output_type": "display_data"
    },
    {
     "data": {
      "application/vnd.jupyter.widget-view+json": {
       "model_id": "3adcd1b50a0f4860a119632cf057d764",
       "version_major": 2,
       "version_minor": 0
      },
      "text/plain": [
       "20190813T084609_20190813T084941_T38WPC.tif: |                                              | 0.00/99.3M (raw) …"
      ]
     },
     "metadata": {},
     "output_type": "display_data"
    },
    {
     "data": {
      "application/vnd.jupyter.widget-view+json": {
       "model_id": "0a7206e85b8c40ca969cf4f8e0c62249",
       "version_major": 2,
       "version_minor": 0
      },
      "text/plain": [
       "20180828T034529_20180828T034525_T51WWS.tif: |                                              | 0.00/42.5M (raw) …"
      ]
     },
     "metadata": {},
     "output_type": "display_data"
    },
    {
     "data": {
      "application/vnd.jupyter.widget-view+json": {
       "model_id": "ceb7b2563e4941ef8259c35dbeae596a",
       "version_major": 2,
       "version_minor": 0
      },
      "text/plain": [
       "20190714T202849_20190714T202852_T09WWT.tif: |                                              | 0.00/78.2M (raw) …"
      ]
     },
     "metadata": {},
     "output_type": "display_data"
    },
    {
     "data": {
      "application/vnd.jupyter.widget-view+json": {
       "model_id": "ea93ca136b1f4ed08d3416e4978490f1",
       "version_major": 2,
       "version_minor": 0
      },
      "text/plain": [
       "20190702T204021_20190702T204023_T10XFF.tif: |                                              | 0.00/18.1M (raw) …"
      ]
     },
     "metadata": {},
     "output_type": "display_data"
    },
    {
     "data": {
      "application/vnd.jupyter.widget-view+json": {
       "model_id": "409b8fcddb7042e09aeb10e66b68782a",
       "version_major": 2,
       "version_minor": 0
      },
      "text/plain": [
       "20180714T034541_20180714T034723_T51WWS.tif: |                                              | 0.00/70.0M (raw) …"
      ]
     },
     "metadata": {},
     "output_type": "display_data"
    },
    {
     "data": {
      "application/vnd.jupyter.widget-view+json": {
       "model_id": "015d25c3750642f38796b93e3042eedd",
       "version_major": 2,
       "version_minor": 0
      },
      "text/plain": [
       "20190617T204029_20190617T204229_T08WNB.tif: |                                              | 0.00/26.2M (raw) …"
      ]
     },
     "metadata": {},
     "output_type": "display_data"
    },
    {
     "data": {
      "application/vnd.jupyter.widget-view+json": {
       "model_id": "f9be8cabc79b436b8e82a5b0f2922726",
       "version_major": 2,
       "version_minor": 0
      },
      "text/plain": [
       "20180716T033539_20180716T033533_T51WWS.tif: |                                              | 0.00/88.2M (raw) …"
      ]
     },
     "metadata": {},
     "output_type": "display_data"
    },
    {
     "data": {
      "application/vnd.jupyter.widget-view+json": {
       "model_id": "ca7d4565aef14e508c622e131301cbf4",
       "version_major": 2,
       "version_minor": 0
      },
      "text/plain": [
       "20190902T202929_20190902T203500_T09WWT.tif: |                                              | 0.00/86.9M (raw) …"
      ]
     },
     "metadata": {},
     "output_type": "display_data"
    },
    {
     "data": {
      "application/vnd.jupyter.widget-view+json": {
       "model_id": "97671551e30643ae9156e372e1536f6e",
       "version_major": 2,
       "version_minor": 0
      },
      "text/plain": [
       "20190905T085559_20190905T090010_T38WPC.tif: |                                              | 0.00/26.6M (raw) …"
      ]
     },
     "metadata": {},
     "output_type": "display_data"
    },
    {
     "data": {
      "application/vnd.jupyter.widget-view+json": {
       "model_id": "9f7867af05b3468ab6e1cee427a552d9",
       "version_major": 2,
       "version_minor": 0
      },
      "text/plain": [
       "20190628T210031_20190628T210026_T08WNB.tif: |                                              | 0.00/77.3M (raw) …"
      ]
     },
     "metadata": {},
     "output_type": "display_data"
    },
    {
     "data": {
      "application/vnd.jupyter.widget-view+json": {
       "model_id": "fffee810f7fa45e8b4816045aaaec84f",
       "version_major": 2,
       "version_minor": 0
      },
      "text/plain": [
       "20190606T033541_20190606T033537_T51WWS.tif: |                                              | 0.00/54.4M (raw) …"
      ]
     },
     "metadata": {},
     "output_type": "display_data"
    },
    {
     "data": {
      "application/vnd.jupyter.widget-view+json": {
       "model_id": "fa3b464040094a39ae5a67fe9d9b0a2d",
       "version_major": 2,
       "version_minor": 0
      },
      "text/plain": [
       "20190628T210031_20190628T210026_T08WNB.tif: |                                              | 0.00/55.6M (raw) …"
      ]
     },
     "metadata": {},
     "output_type": "display_data"
    },
    {
     "data": {
      "application/vnd.jupyter.widget-view+json": {
       "model_id": "635edeca8b294daf9265a62f68fbcd79",
       "version_major": 2,
       "version_minor": 0
      },
      "text/plain": [
       "20190710T205029_20190710T205203_T08WNB.tif: |                                              | 0.00/69.1M (raw) …"
      ]
     },
     "metadata": {},
     "output_type": "display_data"
    },
    {
     "data": {
      "application/vnd.jupyter.widget-view+json": {
       "model_id": "51ab7fdd04844d2282f271ee78c19ec1",
       "version_major": 2,
       "version_minor": 0
      },
      "text/plain": [
       "20190813T084609_20190813T084941_T38WPB.tif: |                                              | 0.00/89.6M (raw) …"
      ]
     },
     "metadata": {},
     "output_type": "display_data"
    },
    {
     "data": {
      "application/vnd.jupyter.widget-view+json": {
       "model_id": "00896625e10545f8819f5bc6bb06d1f5",
       "version_major": 2,
       "version_minor": 0
      },
      "text/plain": [
       "20190601T033549_20190601T033543_T51WWS.tif: |                                              | 0.00/86.1M (raw) …"
      ]
     },
     "metadata": {},
     "output_type": "display_data"
    },
    {
     "data": {
      "application/vnd.jupyter.widget-view+json": {
       "model_id": "76defd8b559b4127a79ebc706cc0d88b",
       "version_major": 2,
       "version_minor": 0
      },
      "text/plain": [
       "20190818T084601_20190818T085006_T38WPB.tif: |                                              | 0.00/95.0M (raw) …"
      ]
     },
     "metadata": {},
     "output_type": "display_data"
    },
    {
     "data": {
      "application/vnd.jupyter.widget-view+json": {
       "model_id": "6cd7acb8ec204792838315d4b47bc4d8",
       "version_major": 2,
       "version_minor": 0
      },
      "text/plain": [
       "20190606T211519_20190606T211521_T07WET.tif: |                                              | 0.00/43.2M (raw) …"
      ]
     },
     "metadata": {},
     "output_type": "display_data"
    },
    {
     "data": {
      "application/vnd.jupyter.widget-view+json": {
       "model_id": "7b69d6834f764f1aac81536eaaa56613",
       "version_major": 2,
       "version_minor": 0
      },
      "text/plain": [
       "20190813T084609_20190813T084941_T38WPC.tif: |                                              | 0.00/57.0M (raw) …"
      ]
     },
     "metadata": {},
     "output_type": "display_data"
    },
    {
     "data": {
      "application/vnd.jupyter.widget-view+json": {
       "model_id": "a0eaa0c60afe46fe9ceb17d39e4ecfac",
       "version_major": 2,
       "version_minor": 0
      },
      "text/plain": [
       "20190710T205029_20190710T205203_T08WNB.tif: |                                              | 0.00/88.3M (raw) …"
      ]
     },
     "metadata": {},
     "output_type": "display_data"
    },
    {
     "data": {
      "application/vnd.jupyter.widget-view+json": {
       "model_id": "e7a2ab83d43f467194c92be086ad4cee",
       "version_major": 2,
       "version_minor": 0
      },
      "text/plain": [
       "20190621T211521_20190621T211517_T07WET.tif: |                                              | 0.00/82.8M (raw) …"
      ]
     },
     "metadata": {},
     "output_type": "display_data"
    },
    {
     "data": {
      "application/vnd.jupyter.widget-view+json": {
       "model_id": "e314c3957d664f86ae7912345aaa52d7",
       "version_major": 2,
       "version_minor": 0
      },
      "text/plain": [
       "20190617T204029_20190617T204229_T09WWT.tif: |                                              | 0.00/84.7M (raw) …"
      ]
     },
     "metadata": {},
     "output_type": "display_data"
    },
    {
     "data": {
      "application/vnd.jupyter.widget-view+json": {
       "model_id": "7b549ba012944258a158241f18f054a9",
       "version_major": 2,
       "version_minor": 0
      },
      "text/plain": [
       "20190621T211521_20190621T211517_T07WET.tif: |                                              | 0.00/75.0M (raw) …"
      ]
     },
     "metadata": {},
     "output_type": "display_data"
    },
    {
     "data": {
      "application/vnd.jupyter.widget-view+json": {
       "model_id": "c180dd82556a49cdb776141edcd452c8",
       "version_major": 2,
       "version_minor": 0
      },
      "text/plain": [
       "20190703T200901_20190703T200857_T11XMB.tif: |                                              | 0.00/88.3M (raw) …"
      ]
     },
     "metadata": {},
     "output_type": "display_data"
    },
    {
     "name": "stderr",
     "output_type": "stream",
     "text": [
      "IOStream.flush timed out\n"
     ]
    },
    {
     "data": {
      "application/vnd.jupyter.widget-view+json": {
       "model_id": "e1a0c2a4483c4a00bd48af9d28752ccf",
       "version_major": 2,
       "version_minor": 0
      },
      "text/plain": [
       "20190905T085559_20190905T090010_T38WPB.tif: |                                              | 0.00/91.3M (raw) …"
      ]
     },
     "metadata": {},
     "output_type": "display_data"
    },
    {
     "name": "stderr",
     "output_type": "stream",
     "text": [
      "IOStream.flush timed out\n",
      "IOStream.flush timed out\n"
     ]
    },
    {
     "data": {
      "application/vnd.jupyter.widget-view+json": {
       "model_id": "ebaf73d9f9ce4d0aa54ef31786077782",
       "version_major": 2,
       "version_minor": 0
      },
      "text/plain": [
       "20190811T035541_20190811T035540_T51WWS.tif: |                                              | 0.00/70.1M (raw) …"
      ]
     },
     "metadata": {},
     "output_type": "display_data"
    },
    {
     "name": "stderr",
     "output_type": "stream",
     "text": [
      "IOStream.flush timed out\n",
      "IOStream.flush timed out\n"
     ]
    },
    {
     "data": {
      "application/vnd.jupyter.widget-view+json": {
       "model_id": "f6ccd4b2e51048b092992c75259530c5",
       "version_major": 2,
       "version_minor": 0
      },
      "text/plain": [
       "20190621T211521_20190621T211517_T07WET.tif: |                                              | 0.00/64.5M (raw) …"
      ]
     },
     "metadata": {},
     "output_type": "display_data"
    },
    {
     "name": "stderr",
     "output_type": "stream",
     "text": [
      "IOStream.flush timed out\n"
     ]
    },
    {
     "data": {
      "application/vnd.jupyter.widget-view+json": {
       "model_id": "30251812ff8e49a6befa91cea3e9a321",
       "version_major": 2,
       "version_minor": 0
      },
      "text/plain": [
       "20190617T035549_20190617T035544_T51WWS.tif: |                                              | 0.00/88.3M (raw) …"
      ]
     },
     "metadata": {},
     "output_type": "display_data"
    },
    {
     "name": "stderr",
     "output_type": "stream",
     "text": [
      "IOStream.flush timed out\n"
     ]
    },
    {
     "name": "stdout",
     "output_type": "stream",
     "text": [
      "Found 3 scenes for 20190904_193047_0e2f\n"
     ]
    },
    {
     "data": {
      "application/vnd.jupyter.widget-view+json": {
       "model_id": "97e02b3867a24bcc9c36b2bea87b20c4",
       "version_major": 2,
       "version_minor": 0
      },
      "text/plain": [
       "20190903T195919_20190903T195919_T11XMB.tif: |                                              | 0.00/88.3M (raw) …"
      ]
     },
     "metadata": {},
     "output_type": "display_data"
    },
    {
     "name": "stderr",
     "output_type": "stream",
     "text": [
      "IOStream.flush timed out\n"
     ]
    },
    {
     "data": {
      "application/vnd.jupyter.widget-view+json": {
       "model_id": "12cc0a6815044d10b2a9106b3196139a",
       "version_major": 2,
       "version_minor": 0
      },
      "text/plain": [
       "20190818T084601_20190818T085006_T38WPC.tif: |                                              | 0.00/8.05M (raw) …"
      ]
     },
     "metadata": {},
     "output_type": "display_data"
    },
    {
     "name": "stderr",
     "output_type": "stream",
     "text": [
      "IOStream.flush timed out\n",
      "IOStream.flush timed out\n"
     ]
    },
    {
     "data": {
      "application/vnd.jupyter.widget-view+json": {
       "model_id": "f0065044fa69492a9226f293385af163",
       "version_major": 2,
       "version_minor": 0
      },
      "text/plain": [
       "20210723T034539_20210723T034536_T52WEE.tif: |                                               | 0.00/550M (raw) …"
      ]
     },
     "metadata": {},
     "output_type": "display_data"
    },
    {
     "data": {
      "application/vnd.jupyter.widget-view+json": {
       "model_id": "dcef91f9d4d34f2db8f25e07818deac1",
       "version_major": 2,
       "version_minor": 0
      },
      "text/plain": [
       "20180722T035539_20180722T035534_T51WWS.tif: |                                              | 0.00/67.5M (raw) …"
      ]
     },
     "metadata": {},
     "output_type": "display_data"
    },
    {
     "name": "stdout",
     "output_type": "stream",
     "text": [
      "Found 3 scenes for 20180722_025446_102e\n",
      "Found 4 scenes for 20190727_202026_1034\n"
     ]
    },
    {
     "data": {
      "application/vnd.jupyter.widget-view+json": {
       "model_id": "d1d294a6493849f0b22bd54c20bfc562",
       "version_major": 2,
       "version_minor": 0
      },
      "text/plain": [
       "20190815T083601_20190815T083603_T38WPC.tif: |                                              | 0.00/89.6M (raw) …"
      ]
     },
     "metadata": {},
     "output_type": "display_data"
    },
    {
     "data": {
      "application/vnd.jupyter.widget-view+json": {
       "model_id": "cb8b784e8fb0494e881994a5f407d9ed",
       "version_major": 2,
       "version_minor": 0
      },
      "text/plain": [
       "20190725T205031_20190725T205026_T08WNB.tif: |                                              | 0.00/77.6M (raw) …"
      ]
     },
     "metadata": {},
     "output_type": "display_data"
    },
    {
     "data": {
      "application/vnd.jupyter.widget-view+json": {
       "model_id": "5c03ce1ecb9b4950824b267b62469513",
       "version_major": 2,
       "version_minor": 0
      },
      "text/plain": [
       "20190702T204021_20190702T204023_T11XMA.tif: |                                              | 0.00/14.8M (raw) …"
      ]
     },
     "metadata": {},
     "output_type": "display_data"
    },
    {
     "data": {
      "application/vnd.jupyter.widget-view+json": {
       "model_id": "65efc5b72d574fd3a3e132e030fe3692",
       "version_major": 2,
       "version_minor": 0
      },
      "text/plain": [
       "20180727T204021_20180727T204019_T10XFF.tif: |                                              | 0.00/55.9M (raw) …"
      ]
     },
     "metadata": {},
     "output_type": "display_data"
    },
    {
     "data": {
      "application/vnd.jupyter.widget-view+json": {
       "model_id": "1067bd9d7d6b4d2183f5add1471a1c51",
       "version_major": 2,
       "version_minor": 0
      },
      "text/plain": [
       "20190815T083601_20190815T083603_T38WPC.tif: |                                              | 0.00/99.3M (raw) …"
      ]
     },
     "metadata": {},
     "output_type": "display_data"
    },
    {
     "data": {
      "application/vnd.jupyter.widget-view+json": {
       "model_id": "5236f67cf3954cce831136efde3462e4",
       "version_major": 2,
       "version_minor": 0
      },
      "text/plain": [
       "20190711T033549_20190711T033544_T51WWS.tif: |                                              | 0.00/88.3M (raw) …"
      ]
     },
     "metadata": {},
     "output_type": "display_data"
    },
    {
     "name": "stderr",
     "output_type": "stream",
     "text": [
      "IOStream.flush timed out\n",
      "IOStream.flush timed out\n",
      "IOStream.flush timed out\n",
      "IOStream.flush timed out\n",
      "IOStream.flush timed out\n",
      "IOStream.flush timed out\n",
      "IOStream.flush timed out\n",
      "IOStream.flush timed out\n",
      "IOStream.flush timed out\n",
      "IOStream.flush timed out\n",
      "IOStream.flush timed out\n",
      "IOStream.flush timed out\n",
      "IOStream.flush timed out\n",
      "IOStream.flush timed out\n",
      "IOStream.flush timed out\n",
      "IOStream.flush timed out\n"
     ]
    },
    {
     "name": "stdout",
     "output_type": "stream",
     "text": [
      "Found 3 scenes for 20180729_193040_0f43\n",
      "Found 2 scenes for 20190716_014045_22_106a\n",
      "Found 4 scenes for 20190622_164802_1048\n"
     ]
    },
    {
     "data": {
      "application/vnd.jupyter.widget-view+json": {
       "model_id": "71adf2b92dda4db0b688459992b262d9",
       "version_major": 2,
       "version_minor": 0
      },
      "text/plain": [
       "20190617T204029_20190617T204229_T09WWT.tif: |                                              | 0.00/53.6M (raw) …"
      ]
     },
     "metadata": {},
     "output_type": "display_data"
    },
    {
     "data": {
      "application/vnd.jupyter.widget-view+json": {
       "model_id": "3e1261d5cbd043b0aafb8d104ad51213",
       "version_major": 2,
       "version_minor": 0
      },
      "text/plain": [
       "20190713T210029_20190713T210229_T08WNB.tif: |                                              | 0.00/69.1M (raw) …"
      ]
     },
     "metadata": {},
     "output_type": "display_data"
    },
    {
     "data": {
      "application/vnd.jupyter.widget-view+json": {
       "model_id": "6a89a983729f4db0aefe43e0f230696d",
       "version_major": 2,
       "version_minor": 0
      },
      "text/plain": [
       "20190630T205029_20190630T205138_T08WNB.tif: |                                              | 0.00/77.3M (raw) …"
      ]
     },
     "metadata": {},
     "output_type": "display_data"
    },
    {
     "name": "stderr",
     "output_type": "stream",
     "text": [
      "IOStream.flush timed out\n",
      "IOStream.flush timed out\n",
      "IOStream.flush timed out\n",
      "IOStream.flush timed out\n",
      "IOStream.flush timed out\n",
      "IOStream.flush timed out\n",
      "IOStream.flush timed out\n",
      "IOStream.flush timed out\n",
      "IOStream.flush timed out\n"
     ]
    },
    {
     "name": "stdout",
     "output_type": "stream",
     "text": [
      "Found 2 scenes for 20190607_001300_0f44\n",
      "Found 1 scenes for 20190803_164436_1048\n"
     ]
    },
    {
     "data": {
      "application/vnd.jupyter.widget-view+json": {
       "model_id": "4e030228e90642e0965f0d4f242a1e1b",
       "version_major": 2,
       "version_minor": 0
      },
      "text/plain": [
       "20190905T204019_20190905T204223_T09WWT.tif: |                                              | 0.00/86.9M (raw) …"
      ]
     },
     "metadata": {},
     "output_type": "display_data"
    },
    {
     "data": {
      "application/vnd.jupyter.widget-view+json": {
       "model_id": "cc8cae2724764ae4ba730450a32a994a",
       "version_major": 2,
       "version_minor": 0
      },
      "text/plain": [
       "20190602T035541_20190602T035539_T51WWS.tif: |                                              | 0.00/86.1M (raw) …"
      ]
     },
     "metadata": {},
     "output_type": "display_data"
    },
    {
     "name": "stderr",
     "output_type": "stream",
     "text": [
      "IOStream.flush timed out\n",
      "IOStream.flush timed out\n",
      "IOStream.flush timed out\n"
     ]
    },
    {
     "data": {
      "application/vnd.jupyter.widget-view+json": {
       "model_id": "5f8e196cb9f94e25ad8dec8a52543386",
       "version_major": 2,
       "version_minor": 0
      },
      "text/plain": [
       "20190818T084601_20190818T085006_T38WPC.tif: |                                              | 0.00/89.6M (raw) …"
      ]
     },
     "metadata": {},
     "output_type": "display_data"
    },
    {
     "name": "stderr",
     "output_type": "stream",
     "text": [
      "IOStream.flush timed out\n",
      "IOStream.flush timed out\n"
     ]
    },
    {
     "data": {
      "application/vnd.jupyter.widget-view+json": {
       "model_id": "f22b6dfbffc541f2a946f7269e23ee01",
       "version_major": 2,
       "version_minor": 0
      },
      "text/plain": [
       "20190602T035541_20190602T035539_T51WWS.tif: |                                              | 0.00/78.5M (raw) …"
      ]
     },
     "metadata": {},
     "output_type": "display_data"
    },
    {
     "data": {
      "application/vnd.jupyter.widget-view+json": {
       "model_id": "d73c6817767348379c990064670b27c6",
       "version_major": 2,
       "version_minor": 0
      },
      "text/plain": [
       "20190618T210031_20190618T210025_T08WNB.tif: |                                              | 0.00/26.2M (raw) …"
      ]
     },
     "metadata": {},
     "output_type": "display_data"
    },
    {
     "name": "stderr",
     "output_type": "stream",
     "text": [
      "IOStream.flush timed out\n",
      "IOStream.flush timed out\n",
      "IOStream.flush timed out\n",
      "IOStream.flush timed out\n",
      "IOStream.flush timed out\n",
      "IOStream.flush timed out\n"
     ]
    },
    {
     "data": {
      "application/vnd.jupyter.widget-view+json": {
       "model_id": "d940a4aea3e6487e8c550cba6c4bf00c",
       "version_major": 2,
       "version_minor": 0
      },
      "text/plain": [
       "20190803T202849_20190803T202949_T09WWT.tif: |                                              | 0.00/85.9M (raw) …"
      ]
     },
     "metadata": {},
     "output_type": "display_data"
    },
    {
     "data": {
      "application/vnd.jupyter.widget-view+json": {
       "model_id": "b98e221376af4031811313df29ce2262",
       "version_major": 2,
       "version_minor": 0
      },
      "text/plain": [
       "20190607T213531_20190607T213531_T07WET.tif: |                                              | 0.00/43.2M (raw) …"
      ]
     },
     "metadata": {},
     "output_type": "display_data"
    },
    {
     "data": {
      "application/vnd.jupyter.widget-view+json": {
       "model_id": "a7156dfff9e04cc8bc60002bc397d9e6",
       "version_major": 2,
       "version_minor": 0
      },
      "text/plain": [
       "20190630T205029_20190630T205138_T08WNB.tif: |                                              | 0.00/55.6M (raw) …"
      ]
     },
     "metadata": {},
     "output_type": "display_data"
    },
    {
     "data": {
      "application/vnd.jupyter.widget-view+json": {
       "model_id": "b02a7ccb7c3d4eaf8f746c4405c53c8c",
       "version_major": 2,
       "version_minor": 0
      },
      "text/plain": [
       "20190905T085559_20190905T090010_T38WPB.tif: |                                              | 0.00/26.6M (raw) …"
      ]
     },
     "metadata": {},
     "output_type": "display_data"
    },
    {
     "name": "stderr",
     "output_type": "stream",
     "text": [
      "IOStream.flush timed out\n",
      "IOStream.flush timed out\n",
      "IOStream.flush timed out\n",
      "IOStream.flush timed out\n"
     ]
    },
    {
     "data": {
      "application/vnd.jupyter.widget-view+json": {
       "model_id": "aee68345920d431ba49840feda602eaa",
       "version_major": 2,
       "version_minor": 0
      },
      "text/plain": [
       "20190713T210029_20190713T210229_T08WNB.tif: |                                              | 0.00/88.3M (raw) …"
      ]
     },
     "metadata": {},
     "output_type": "display_data"
    },
    {
     "data": {
      "application/vnd.jupyter.widget-view+json": {
       "model_id": "693e56f7f64f4012b4f9c542e18d5f31",
       "version_major": 2,
       "version_minor": 0
      },
      "text/plain": [
       "20190622T213539_20190622T213537_T07WET.tif: |                                              | 0.00/82.8M (raw) …"
      ]
     },
     "metadata": {},
     "output_type": "display_data"
    },
    {
     "data": {
      "application/vnd.jupyter.widget-view+json": {
       "model_id": "ee09953231144ef3907182557da85ca2",
       "version_major": 2,
       "version_minor": 0
      },
      "text/plain": [
       "20190815T083601_20190815T083603_T38WPC.tif: |                                              | 0.00/57.0M (raw) …"
      ]
     },
     "metadata": {},
     "output_type": "display_data"
    },
    {
     "data": {
      "application/vnd.jupyter.widget-view+json": {
       "model_id": "3883de7f777247dbbf20ccaed59de572",
       "version_major": 2,
       "version_minor": 0
      },
      "text/plain": [
       "20190621T201859_20190621T201857_T09WWT.tif: |                                              | 0.00/84.7M (raw) …"
      ]
     },
     "metadata": {},
     "output_type": "display_data"
    },
    {
     "data": {
      "application/vnd.jupyter.widget-view+json": {
       "model_id": "8354bff2a8fd4e8d91e3216d110988f0",
       "version_major": 2,
       "version_minor": 0
      },
      "text/plain": [
       "20190813T034539_20190813T034541_T51WWS.tif: |                                              | 0.00/70.1M (raw) …"
      ]
     },
     "metadata": {},
     "output_type": "display_data"
    },
    {
     "data": {
      "application/vnd.jupyter.widget-view+json": {
       "model_id": "b3fa19884ae04dcb9d27016bbda44f97",
       "version_major": 2,
       "version_minor": 0
      },
      "text/plain": [
       "20190622T213539_20190622T213537_T07WET.tif: |                                              | 0.00/75.0M (raw) …"
      ]
     },
     "metadata": {},
     "output_type": "display_data"
    },
    {
     "data": {
      "application/vnd.jupyter.widget-view+json": {
       "model_id": "3935eac54bed499cbdbf99b73ff26b75",
       "version_major": 2,
       "version_minor": 0
      },
      "text/plain": [
       "20190704T202849_20190704T203359_T11XMB.tif: |                                              | 0.00/88.3M (raw) …"
      ]
     },
     "metadata": {},
     "output_type": "display_data"
    },
    {
     "data": {
      "application/vnd.jupyter.widget-view+json": {
       "model_id": "f34522b27bc446b6a9dea03b4fc40896",
       "version_major": 2,
       "version_minor": 0
      },
      "text/plain": [
       "20190907T084601_20190907T084906_T38WPB.tif: |                                              | 0.00/91.3M (raw) …"
      ]
     },
     "metadata": {},
     "output_type": "display_data"
    },
    {
     "data": {
      "application/vnd.jupyter.widget-view+json": {
       "model_id": "47831d2e05484c73bcb4a18ac0c76a54",
       "version_major": 2,
       "version_minor": 0
      },
      "text/plain": [
       "20190619T034541_20190619T034538_T51WWS.tif: |                                              | 0.00/88.3M (raw) …"
      ]
     },
     "metadata": {},
     "output_type": "display_data"
    },
    {
     "data": {
      "application/vnd.jupyter.widget-view+json": {
       "model_id": "b5d99b3eb1ff468786e805afad5196f7",
       "version_major": 2,
       "version_minor": 0
      },
      "text/plain": [
       "20190622T213539_20190622T213537_T07WET.tif: |                                              | 0.00/64.5M (raw) …"
      ]
     },
     "metadata": {},
     "output_type": "display_data"
    },
    {
     "data": {
      "application/vnd.jupyter.widget-view+json": {
       "model_id": "a5560970d3274a4f8e7f4e2c1c916534",
       "version_major": 2,
       "version_minor": 0
      },
      "text/plain": [
       "20190818T084601_20190818T085006_T38WPB.tif: |                                              | 0.00/8.05M (raw) …"
      ]
     },
     "metadata": {},
     "output_type": "display_data"
    },
    {
     "data": {
      "application/vnd.jupyter.widget-view+json": {
       "model_id": "a416146bfec04ebaad44180d097b1047",
       "version_major": 2,
       "version_minor": 0
      },
      "text/plain": [
       "20190904T201931_20190904T202032_T11XMB.tif: |                                              | 0.00/88.3M (raw) …"
      ]
     },
     "metadata": {},
     "output_type": "display_data"
    },
    {
     "data": {
      "application/vnd.jupyter.widget-view+json": {
       "model_id": "573a98af18964a6b9a271d616d7260f0",
       "version_major": 2,
       "version_minor": 0
      },
      "text/plain": [
       "20180724T034541_20180724T034535_T51WWS.tif: |                                              | 0.00/67.5M (raw) …"
      ]
     },
     "metadata": {},
     "output_type": "display_data"
    },
    {
     "name": "stdout",
     "output_type": "stream",
     "text": [
      "Found 2 scenes for 20180716_025344_0f35\n"
     ]
    },
    {
     "data": {
      "application/vnd.jupyter.widget-view+json": {
       "model_id": "cee2565e2480481c9488e9f848ac94d0",
       "version_major": 2,
       "version_minor": 0
      },
      "text/plain": [
       "20190719T034541_20190719T034540_T51WWS.tif: |                                              | 0.00/88.3M (raw) …"
      ]
     },
     "metadata": {},
     "output_type": "display_data"
    },
    {
     "data": {
      "application/vnd.jupyter.widget-view+json": {
       "model_id": "33f240a0b6ef4fd5a7f4c18fa87e6854",
       "version_major": 2,
       "version_minor": 0
      },
      "text/plain": [
       "20190703T200901_20190703T200857_T11XMA.tif: |                                              | 0.00/14.8M (raw) …"
      ]
     },
     "metadata": {},
     "output_type": "display_data"
    },
    {
     "data": {
      "application/vnd.jupyter.widget-view+json": {
       "model_id": "b72aa0c0d47a4c4aae0386e9a5dda8bd",
       "version_major": 2,
       "version_minor": 0
      },
      "text/plain": [
       "20180727T204021_20180727T204019_T11XMA.tif: |                                              | 0.00/53.3M (raw) …"
      ]
     },
     "metadata": {},
     "output_type": "display_data"
    },
    {
     "data": {
      "application/vnd.jupyter.widget-view+json": {
       "model_id": "ea7480cc85b64e63abe899f4a4c5cf3f",
       "version_major": 2,
       "version_minor": 0
      },
      "text/plain": [
       "20190727T204029_20190727T204507_T08WNB.tif: |                                              | 0.00/77.6M (raw) …"
      ]
     },
     "metadata": {},
     "output_type": "display_data"
    },
    {
     "data": {
      "application/vnd.jupyter.widget-view+json": {
       "model_id": "93ffdf65a1644bf99147871897e33a3c",
       "version_major": 2,
       "version_minor": 0
      },
      "text/plain": [
       "20190818T084601_20190818T085006_T38WPB.tif: |                                              | 0.00/89.6M (raw) …"
      ]
     },
     "metadata": {},
     "output_type": "display_data"
    },
    {
     "name": "stdout",
     "output_type": "stream",
     "text": [
      "Found 1 scenes for 20180710_025408_101b\n"
     ]
    },
    {
     "data": {
      "application/vnd.jupyter.widget-view+json": {
       "model_id": "d5de4ac231274d35a62bda3c69fb38d3",
       "version_major": 2,
       "version_minor": 0
      },
      "text/plain": [
       "20180714T034541_20180714T034723_T51WWS.tif: |                                              | 0.00/37.9M (raw) …"
      ]
     },
     "metadata": {},
     "output_type": "display_data"
    },
    {
     "name": "stdout",
     "output_type": "stream",
     "text": [
      "Found 3 scenes for 20180829_025608_1034\n"
     ]
    },
    {
     "data": {
      "application/vnd.jupyter.widget-view+json": {
       "model_id": "2b011d8476d343a2a39714504b93e5b3",
       "version_major": 2,
       "version_minor": 0
      },
      "text/plain": [
       "20180714T034541_20180714T034723_T51WWS.tif: |                                              | 0.00/61.6M (raw) …"
      ]
     },
     "metadata": {},
     "output_type": "display_data"
    },
    {
     "data": {
      "application/vnd.jupyter.widget-view+json": {
       "model_id": "b7acc6413bde4203a86987eacf940aca",
       "version_major": 2,
       "version_minor": 0
      },
      "text/plain": [
       "20180825T033529_20180825T033526_T51WWS.tif: |                                              | 0.00/88.3M (raw) …"
      ]
     },
     "metadata": {},
     "output_type": "display_data"
    },
    {
     "data": {
      "application/vnd.jupyter.widget-view+json": {
       "model_id": "ffa165c418d4435baf48f2ae8a093899",
       "version_major": 2,
       "version_minor": 0
      },
      "text/plain": [
       "20190621T201859_20190621T201857_T09WWT.tif: |                                              | 0.00/53.6M (raw) …"
      ]
     },
     "metadata": {},
     "output_type": "display_data"
    },
    {
     "name": "stdout",
     "output_type": "stream",
     "text": [
      "Found 3 scenes for 20190921_080321_1011\n"
     ]
    },
    {
     "data": {
      "application/vnd.jupyter.widget-view+json": {
       "model_id": "a3624247da474e668e6707a42cde5f4c",
       "version_major": 2,
       "version_minor": 0
      },
      "text/plain": [
       "20190919T083619_20190919T083937_T38WPC.tif: |                                              | 0.00/94.2M (raw) …"
      ]
     },
     "metadata": {},
     "output_type": "display_data"
    },
    {
     "name": "stdout",
     "output_type": "stream",
     "text": [
      "Found 4 scenes for 20190618_013705_23_1062\n"
     ]
    },
    {
     "data": {
      "application/vnd.jupyter.widget-view+json": {
       "model_id": "da1b8e3801b7468a8d4bcdc73ee03088",
       "version_major": 2,
       "version_minor": 0
      },
      "text/plain": [
       "20190617T035549_20190617T035544_T51WWS.tif: |                                              | 0.00/44.4M (raw) …"
      ]
     },
     "metadata": {},
     "output_type": "display_data"
    },
    {
     "data": {
      "application/vnd.jupyter.widget-view+json": {
       "model_id": "9fc5f16e8886411e8a4e49d7256e4143",
       "version_major": 2,
       "version_minor": 0
      },
      "text/plain": [
       "20190907T203011_20190907T203043_T09WWT.tif: |                                              | 0.00/86.9M (raw) …"
      ]
     },
     "metadata": {},
     "output_type": "display_data"
    },
    {
     "data": {
      "application/vnd.jupyter.widget-view+json": {
       "model_id": "33c3ef74d8b54c9095fa9f542352a7c2",
       "version_major": 2,
       "version_minor": 0
      },
      "text/plain": [
       "20190606T033541_20190606T033537_T51WWS.tif: |                                              | 0.00/86.1M (raw) …"
      ]
     },
     "metadata": {},
     "output_type": "display_data"
    },
    {
     "data": {
      "application/vnd.jupyter.widget-view+json": {
       "model_id": "dff328566fac407a8e656f31286ba8e2",
       "version_major": 2,
       "version_minor": 0
      },
      "text/plain": [
       "20190606T033541_20190606T033537_T51WWS.tif: |                                              | 0.00/78.5M (raw) …"
      ]
     },
     "metadata": {},
     "output_type": "display_data"
    },
    {
     "data": {
      "application/vnd.jupyter.widget-view+json": {
       "model_id": "f07ef920287a4e128438755686477334",
       "version_major": 2,
       "version_minor": 0
      },
      "text/plain": [
       "20190608T210021_20190608T210314_T07WET.tif: |                                              | 0.00/43.2M (raw) …"
      ]
     },
     "metadata": {},
     "output_type": "display_data"
    },
    {
     "data": {
      "application/vnd.jupyter.widget-view+json": {
       "model_id": "2eed227b66cf465286046e4306f69769",
       "version_major": 2,
       "version_minor": 0
      },
      "text/plain": [
       "20190620T205029_20190620T205539_T08WNB.tif: |                                              | 0.00/26.2M (raw) …"
      ]
     },
     "metadata": {},
     "output_type": "display_data"
    },
    {
     "data": {
      "application/vnd.jupyter.widget-view+json": {
       "model_id": "782b127d0a3b4874b01044712bd260e6",
       "version_major": 2,
       "version_minor": 0
      },
      "text/plain": [
       "20190907T084601_20190907T084906_T38WPC.tif: |                                              | 0.00/26.6M (raw) …"
      ]
     },
     "metadata": {},
     "output_type": "display_data"
    },
    {
     "name": "stdout",
     "output_type": "stream",
     "text": [
      "Found 1 scenes for 20190708_201100_101b\n"
     ]
    },
    {
     "data": {
      "application/vnd.jupyter.widget-view+json": {
       "model_id": "d49bffad6287485c8abd657334621fb5",
       "version_major": 2,
       "version_minor": 0
      },
      "text/plain": [
       "20190710T205029_20190710T205203_T08WNB.tif: |                                              | 0.00/59.1M (raw) …"
      ]
     },
     "metadata": {},
     "output_type": "display_data"
    },
    {
     "name": "stdout",
     "output_type": "stream",
     "text": [
      "Found 4 scenes for 20190815_030625_1001\n"
     ]
    },
    {
     "data": {
      "application/vnd.jupyter.widget-view+json": {
       "model_id": "696353c62f8042d3ad1178dcfba41630",
       "version_major": 2,
       "version_minor": 0
      },
      "text/plain": [
       "20190811T035541_20190811T035540_T51WWS.tif: |                                              | 0.00/54.8M (raw) …"
      ]
     },
     "metadata": {},
     "output_type": "display_data"
    },
    {
     "name": "stdout",
     "output_type": "stream",
     "text": [
      "Found 2 scenes for 20190907_081306_100c\n"
     ]
    },
    {
     "data": {
      "application/vnd.jupyter.widget-view+json": {
       "model_id": "3fd2b0aec39b4246a6249f382058b678",
       "version_major": 2,
       "version_minor": 0
      },
      "text/plain": [
       "20190905T085559_20190905T090010_T38WPC.tif: |                                              | 0.00/45.4M (raw) …"
      ]
     },
     "metadata": {},
     "output_type": "display_data"
    },
    {
     "data": {
      "application/vnd.jupyter.widget-view+json": {
       "model_id": "567e725c8a2348c28cbae729b14e7d8f",
       "version_major": 2,
       "version_minor": 0
      },
      "text/plain": [
       "20190815T033541_20190815T033538_T51WWS.tif: |                                              | 0.00/70.1M (raw) …"
      ]
     },
     "metadata": {},
     "output_type": "display_data"
    },
    {
     "data": {
      "application/vnd.jupyter.widget-view+json": {
       "model_id": "0a644594a869423ebe7a79192023a794",
       "version_major": 2,
       "version_minor": 0
      },
      "text/plain": [
       "20190623T210029_20190623T210228_T07WET.tif: |                                              | 0.00/75.0M (raw) …"
      ]
     },
     "metadata": {},
     "output_type": "display_data"
    },
    {
     "data": {
      "application/vnd.jupyter.widget-view+json": {
       "model_id": "a1242fded939482897c4a5ffb7b77dad",
       "version_major": 2,
       "version_minor": 0
      },
      "text/plain": [
       "20190623T210029_20190623T210228_T07WET.tif: |                                              | 0.00/82.8M (raw) …"
      ]
     },
     "metadata": {},
     "output_type": "display_data"
    },
    {
     "name": "stdout",
     "output_type": "stream",
     "text": [
      "Found 3 scenes for 20190831_030655_0f35\n"
     ]
    },
    {
     "data": {
      "application/vnd.jupyter.widget-view+json": {
       "model_id": "1abb87ad1c6c4c889749102c3db95240",
       "version_major": 2,
       "version_minor": 0
      },
      "text/plain": [
       "20190622T204021_20190622T204141_T09WWT.tif: |                                              | 0.00/84.7M (raw) …"
      ]
     },
     "metadata": {},
     "output_type": "display_data"
    },
    {
     "data": {
      "application/vnd.jupyter.widget-view+json": {
       "model_id": "7262d001ead94b25bfc1ddfcfd213691",
       "version_major": 2,
       "version_minor": 0
      },
      "text/plain": [
       "20190826T035539_20190826T035541_T51WWS.tif: |                                              | 0.00/80.9M (raw) …"
      ]
     },
     "metadata": {},
     "output_type": "display_data"
    },
    {
     "data": {
      "application/vnd.jupyter.widget-view+json": {
       "model_id": "d520dfb30b9445a2ac710e5286d9c04a",
       "version_major": 2,
       "version_minor": 0
      },
      "text/plain": [
       "20190818T084601_20190818T085006_T38WPC.tif: |                                              | 0.00/57.0M (raw) …"
      ]
     },
     "metadata": {},
     "output_type": "display_data"
    },
    {
     "data": {
      "application/vnd.jupyter.widget-view+json": {
       "model_id": "8d7027ebebf14b1e9320b3b61869255e",
       "version_major": 2,
       "version_minor": 0
      },
      "text/plain": [
       "20190708T200859_20190708T201404_T11XMB.tif: |                                              | 0.00/88.3M (raw) …"
      ]
     },
     "metadata": {},
     "output_type": "display_data"
    },
    {
     "name": "stdout",
     "output_type": "stream",
     "text": [
      "Found 4 scenes for 20190628_030541_1027\n",
      "Found 1 scenes for 20190813_082918_17_105c\n"
     ]
    },
    {
     "data": {
      "application/vnd.jupyter.widget-view+json": {
       "model_id": "7ac9da99fe004b6ea5969c7ef8d4762d",
       "version_major": 2,
       "version_minor": 0
      },
      "text/plain": [
       "20190813T084609_20190813T084941_T38WPB.tif: |                                              | 0.00/99.0M (raw) …"
      ]
     },
     "metadata": {},
     "output_type": "display_data"
    },
    {
     "data": {
      "application/vnd.jupyter.widget-view+json": {
       "model_id": "8ade8886431141d28f685d40d5eeb181",
       "version_major": 2,
       "version_minor": 0
      },
      "text/plain": [
       "20190624T034539_20190624T034632_T51WWS.tif: |                                              | 0.00/62.6M (raw) …"
      ]
     },
     "metadata": {},
     "output_type": "display_data"
    },
    {
     "data": {
      "application/vnd.jupyter.widget-view+json": {
       "model_id": "159b23c4dc6943259378fb53dd28cc60",
       "version_major": 2,
       "version_minor": 0
      },
      "text/plain": [
       "20190621T033549_20190621T033543_T51WWS.tif: |                                              | 0.00/88.3M (raw) …"
      ]
     },
     "metadata": {},
     "output_type": "display_data"
    },
    {
     "data": {
      "application/vnd.jupyter.widget-view+json": {
       "model_id": "c67f54ae2a1f4a738175db1013e048a4",
       "version_major": 2,
       "version_minor": 0
      },
      "text/plain": [
       "20190703T200901_20190703T200857_T10XFF.tif: |                                              | 0.00/18.1M (raw) …"
      ]
     },
     "metadata": {},
     "output_type": "display_data"
    },
    {
     "data": {
      "application/vnd.jupyter.widget-view+json": {
       "model_id": "fbb62d994cdb40cb9f0c0df4b8e06fef",
       "version_major": 2,
       "version_minor": 0
      },
      "text/plain": [
       "20190623T210029_20190623T210228_T07WET.tif: |                                              | 0.00/64.5M (raw) …"
      ]
     },
     "metadata": {},
     "output_type": "display_data"
    },
    {
     "data": {
      "application/vnd.jupyter.widget-view+json": {
       "model_id": "06fe65f69e3e4d64a9e9d42c0d4ca00f",
       "version_major": 2,
       "version_minor": 0
      },
      "text/plain": [
       "20180726T033529_20180726T033532_T51WWS.tif: |                                              | 0.00/67.5M (raw) …"
      ]
     },
     "metadata": {},
     "output_type": "display_data"
    },
    {
     "data": {
      "application/vnd.jupyter.widget-view+json": {
       "model_id": "c6329c6ba55744249e245222004f6723",
       "version_major": 2,
       "version_minor": 0
      },
      "text/plain": [
       "20190907T203011_20190907T203043_T11XMB.tif: |                                              | 0.00/88.3M (raw) …"
      ]
     },
     "metadata": {},
     "output_type": "display_data"
    },
    {
     "name": "stdout",
     "output_type": "stream",
     "text": [
      "Found 5 scenes for 20190620_201331_100a\n"
     ]
    },
    {
     "data": {
      "application/vnd.jupyter.widget-view+json": {
       "model_id": "1a637d911cdd46faaddc4f6bd2e6f6ec",
       "version_major": 2,
       "version_minor": 0
      },
      "text/plain": [
       "20190617T204029_20190617T204229_T08WNB.tif: |                                              | 0.00/88.3M (raw) …"
      ]
     },
     "metadata": {},
     "output_type": "display_data"
    },
    {
     "data": {
      "application/vnd.jupyter.widget-view+json": {
       "model_id": "b7f18a76878e465c8a23bd0ac51331ab",
       "version_major": 2,
       "version_minor": 0
      },
      "text/plain": [
       "20190728T210031_20190728T210026_T08WNB.tif: |                                              | 0.00/77.6M (raw) …"
      ]
     },
     "metadata": {},
     "output_type": "display_data"
    },
    {
     "data": {
      "application/vnd.jupyter.widget-view+json": {
       "model_id": "6d3b98c96ed548c6b800814acd687dc0",
       "version_major": 2,
       "version_minor": 0
      },
      "text/plain": [
       "20180801T204019_20180801T204405_T10XFF.tif: |                                              | 0.00/55.9M (raw) …"
      ]
     },
     "metadata": {},
     "output_type": "display_data"
    },
    {
     "data": {
      "application/vnd.jupyter.widget-view+json": {
       "model_id": "b293299a12c94ffa9c06ac8ae3db2e62",
       "version_major": 2,
       "version_minor": 0
      },
      "text/plain": [
       "20180716T033539_20180716T033533_T51WWS.tif: |                                              | 0.00/37.9M (raw) …"
      ]
     },
     "metadata": {},
     "output_type": "display_data"
    },
    {
     "data": {
      "application/vnd.jupyter.widget-view+json": {
       "model_id": "40ac219969114d2c88c6f6fc4605e6b2",
       "version_major": 2,
       "version_minor": 0
      },
      "text/plain": [
       "20180826T035541_20180826T035535_T51WWS.tif: |                                              | 0.00/88.3M (raw) …"
      ]
     },
     "metadata": {},
     "output_type": "display_data"
    },
    {
     "name": "stdout",
     "output_type": "stream",
     "text": [
      "Found 1 scenes for 20190723_080937_103b\n"
     ]
    },
    {
     "data": {
      "application/vnd.jupyter.widget-view+json": {
       "model_id": "8639465666a149ccacbfc7b210357fba",
       "version_major": 2,
       "version_minor": 0
      },
      "text/plain": [
       "20190724T084609_20190724T084607_T38WPB.tif: |                                              | 0.00/94.7M (raw) …"
      ]
     },
     "metadata": {},
     "output_type": "display_data"
    },
    {
     "data": {
      "application/vnd.jupyter.widget-view+json": {
       "model_id": "d06582075e00486ba9ca27e8cf9f9d98",
       "version_major": 2,
       "version_minor": 0
      },
      "text/plain": [
       "20190622T204021_20190622T204141_T09WWT.tif: |                                              | 0.00/53.6M (raw) …"
      ]
     },
     "metadata": {},
     "output_type": "display_data"
    },
    {
     "data": {
      "application/vnd.jupyter.widget-view+json": {
       "model_id": "e30efd77880d405b941c4d79895bb27e",
       "version_major": 2,
       "version_minor": 0
      },
      "text/plain": [
       "20190919T083619_20190919T083937_T38WPB.tif: |                                              | 0.00/94.2M (raw) …"
      ]
     },
     "metadata": {},
     "output_type": "display_data"
    },
    {
     "data": {
      "application/vnd.jupyter.widget-view+json": {
       "model_id": "d679158d634d452289c10f983a7720ee",
       "version_major": 2,
       "version_minor": 0
      },
      "text/plain": [
       "20190619T034541_20190619T034538_T51WWS.tif: |                                              | 0.00/44.4M (raw) …"
      ]
     },
     "metadata": {},
     "output_type": "display_data"
    },
    {
     "data": {
      "application/vnd.jupyter.widget-view+json": {
       "model_id": "54c53f69487b42068443dad20f738e01",
       "version_major": 2,
       "version_minor": 0
      },
      "text/plain": [
       "20190909T202009_20190909T202018_T09WWT.tif: |                                              | 0.00/86.9M (raw) …"
      ]
     },
     "metadata": {},
     "output_type": "display_data"
    },
    {
     "name": "stdout",
     "output_type": "stream",
     "text": [
      "Found 2 scenes for 20190715_000856_0f2a\n",
      "Found 1 scenes for 20190723_080935_103b\n"
     ]
    },
    {
     "data": {
      "application/vnd.jupyter.widget-view+json": {
       "model_id": "1f45f73449da42fca3284ab37bc67026",
       "version_major": 2,
       "version_minor": 0
      },
      "text/plain": [
       "20190711T033549_20190711T033544_T51WWS.tif: |                                              | 0.00/78.7M (raw) …"
      ]
     },
     "metadata": {},
     "output_type": "display_data"
    },
    {
     "data": {
      "application/vnd.jupyter.widget-view+json": {
       "model_id": "0d234bedca634f24805b1425a9e2529f",
       "version_major": 2,
       "version_minor": 0
      },
      "text/plain": [
       "20190611T211521_20190611T211516_T07WET.tif: |                                              | 0.00/43.2M (raw) …"
      ]
     },
     "metadata": {},
     "output_type": "display_data"
    },
    {
     "data": {
      "application/vnd.jupyter.widget-view+json": {
       "model_id": "f07ab398fbf34071bff2aa425c9ebe33",
       "version_major": 2,
       "version_minor": 0
      },
      "text/plain": [
       "20190724T084609_20190724T084607_T38WPB.tif: |                                              | 0.00/94.6M (raw) …"
      ]
     },
     "metadata": {},
     "output_type": "display_data"
    },
    {
     "data": {
      "application/vnd.jupyter.widget-view+json": {
       "model_id": "ce5d3db4b9a04e14ba8d20d7d61e79d2",
       "version_major": 2,
       "version_minor": 0
      },
      "text/plain": [
       "20190622T204021_20190622T204141_T08WNB.tif: |                                              | 0.00/26.2M (raw) …"
      ]
     },
     "metadata": {},
     "output_type": "display_data"
    },
    {
     "data": {
      "application/vnd.jupyter.widget-view+json": {
       "model_id": "a78510a5982b4f59b4a3bdffdfbd44f9",
       "version_major": 2,
       "version_minor": 0
      },
      "text/plain": [
       "20190818T034541_20190818T034537_T51WWS.tif: |                                              | 0.00/70.1M (raw) …"
      ]
     },
     "metadata": {},
     "output_type": "display_data"
    },
    {
     "data": {
      "application/vnd.jupyter.widget-view+json": {
       "model_id": "ec71b5aa8a3c492b9008db6f2148e7a9",
       "version_major": 2,
       "version_minor": 0
      },
      "text/plain": [
       "20190907T084601_20190907T084906_T38WPC.tif: |                                              | 0.00/45.4M (raw) …"
      ]
     },
     "metadata": {},
     "output_type": "display_data"
    },
    {
     "data": {
      "application/vnd.jupyter.widget-view+json": {
       "model_id": "c63d719aa7844d809f906595c8ad7806",
       "version_major": 2,
       "version_minor": 0
      },
      "text/plain": [
       "20190907T084601_20190907T084906_T38WPB.tif: |                                              | 0.00/26.6M (raw) …"
      ]
     },
     "metadata": {},
     "output_type": "display_data"
    },
    {
     "name": "stdout",
     "output_type": "stream",
     "text": [
      "Found 0 scenes for 20190808_201539_1018\n",
      "Found 3 scenes for 20190907_203545_84_105c\n"
     ]
    },
    {
     "data": {
      "application/vnd.jupyter.widget-view+json": {
       "model_id": "30214da01441400fbb2f27c359ee89eb",
       "version_major": 2,
       "version_minor": 0
      },
      "text/plain": [
       "20190813T034539_20190813T034541_T51WWS.tif: |                                              | 0.00/54.8M (raw) …"
      ]
     },
     "metadata": {},
     "output_type": "display_data"
    },
    {
     "name": "stdout",
     "output_type": "stream",
     "text": [
      "Found 0 scenes for 20180825_164604_0f2a\n"
     ]
    },
    {
     "data": {
      "application/vnd.jupyter.widget-view+json": {
       "model_id": "d34f402cfa8542b9bb4e29fdfa8502db",
       "version_major": 2,
       "version_minor": 0
      },
      "text/plain": [
       "20190903T205021_20190903T205021_T08WNB.tif: |                                              | 0.00/88.3M (raw) …"
      ]
     },
     "metadata": {},
     "output_type": "display_data"
    },
    {
     "name": "stdout",
     "output_type": "stream",
     "text": [
      "Found 3 scenes for 20190610_201140_0f15\n",
      "Found 6 scenes for 20190910_194626_103e\n"
     ]
    },
    {
     "data": {
      "application/vnd.jupyter.widget-view+json": {
       "model_id": "3895f418590e48b98a3c4fcd48f5c026",
       "version_major": 2,
       "version_minor": 0
      },
      "text/plain": [
       "20190607T204029_20190607T204229_T08WNB.tif: |                                              | 0.00/61.7M (raw) …"
      ]
     },
     "metadata": {},
     "output_type": "display_data"
    },
    {
     "data": {
      "application/vnd.jupyter.widget-view+json": {
       "model_id": "e80263277984462786dfe4a39d555f33",
       "version_major": 2,
       "version_minor": 0
      },
      "text/plain": [
       "20190905T204019_20190905T204223_T11XMA.tif: |                                              | 0.00/31.8M (raw) …"
      ]
     },
     "metadata": {},
     "output_type": "display_data"
    },
    {
     "data": {
      "application/vnd.jupyter.widget-view+json": {
       "model_id": "d5b63c3fefd6416fabad6f29bf1ba8aa",
       "version_major": 2,
       "version_minor": 0
      },
      "text/plain": [
       "20190624T202849_20190624T203522_T09WWT.tif: |                                              | 0.00/84.7M (raw) …"
      ]
     },
     "metadata": {},
     "output_type": "display_data"
    },
    {
     "data": {
      "application/vnd.jupyter.widget-view+json": {
       "model_id": "7b091f1cbffd46b2a8299eacf33fb8c3",
       "version_major": 2,
       "version_minor": 0
      },
      "text/plain": [
       "20190828T034541_20190828T034749_T51WWS.tif: |                                              | 0.00/80.9M (raw) …"
      ]
     },
     "metadata": {},
     "output_type": "display_data"
    },
    {
     "name": "stdout",
     "output_type": "stream",
     "text": [
      "Found 3 scenes for 20190621_204122_0f12\n",
      "Found 0 scenes for 20180825_164603_0f2a\n"
     ]
    },
    {
     "data": {
      "application/vnd.jupyter.widget-view+json": {
       "model_id": "2dc8f7025f9740d3a9b23b2807b47c65",
       "version_major": 2,
       "version_minor": 0
      },
      "text/plain": [
       "20190621T211521_20190621T211517_T07WET.tif: |                                              | 0.00/77.0M (raw) …"
      ]
     },
     "metadata": {},
     "output_type": "display_data"
    },
    {
     "data": {
      "application/vnd.jupyter.widget-view+json": {
       "model_id": "6543811f594e438c82611fbc0cc19413",
       "version_major": 2,
       "version_minor": 0
      },
      "text/plain": [
       "20190704T202849_20190704T203359_T10XFF.tif: |                                              | 0.00/18.1M (raw) …"
      ]
     },
     "metadata": {},
     "output_type": "display_data"
    },
    {
     "name": "stdout",
     "output_type": "stream",
     "text": [
      "Found 5 scenes for 20190620_201332_100a\n"
     ]
    },
    {
     "data": {
      "application/vnd.jupyter.widget-view+json": {
       "model_id": "aa054d2c439244bc808ecf86ec182780",
       "version_major": 2,
       "version_minor": 0
      },
      "text/plain": [
       "20190617T204029_20190617T204229_T08WNB.tif: |                                              | 0.00/26.6M (raw) …"
      ]
     },
     "metadata": {},
     "output_type": "display_data"
    },
    {
     "name": "stdout",
     "output_type": "stream",
     "text": [
      "Found 2 scenes for 20190907_081307_100c\n"
     ]
    },
    {
     "data": {
      "application/vnd.jupyter.widget-view+json": {
       "model_id": "57d20bdfdf5b4c5db80dd561930f5f29",
       "version_major": 2,
       "version_minor": 0
      },
      "text/plain": [
       "20190905T085559_20190905T090010_T38WPC.tif: |                                              | 0.00/91.1M (raw) …"
      ]
     },
     "metadata": {},
     "output_type": "display_data"
    },
    {
     "data": {
      "application/vnd.jupyter.widget-view+json": {
       "model_id": "6f2d058ca39747028b9f95ada248aab0",
       "version_major": 2,
       "version_minor": 0
      },
      "text/plain": [
       "20190622T035541_20190622T035541_T51WWS.tif: |                                              | 0.00/88.3M (raw) …"
      ]
     },
     "metadata": {},
     "output_type": "display_data"
    },
    {
     "name": "stdout",
     "output_type": "stream",
     "text": [
      "Found 1 scenes for 20190803_164438_1048\n"
     ]
    },
    {
     "data": {
      "application/vnd.jupyter.widget-view+json": {
       "model_id": "49ccd92ef2a449448471b817f81cec20",
       "version_major": 2,
       "version_minor": 0
      },
      "text/plain": [
       "20190803T202849_20190803T202949_T09WWT.tif: |                                              | 0.00/88.2M (raw) …"
      ]
     },
     "metadata": {},
     "output_type": "display_data"
    },
    {
     "data": {
      "application/vnd.jupyter.widget-view+json": {
       "model_id": "2a4a56fcdfe64df0b8d1a2ff38a44962",
       "version_major": 2,
       "version_minor": 0
      },
      "text/plain": [
       "20190626T033541_20190626T033539_T51WWS.tif: |                                              | 0.00/62.6M (raw) …"
      ]
     },
     "metadata": {},
     "output_type": "display_data"
    },
    {
     "name": "stdout",
     "output_type": "stream",
     "text": [
      "Found 4 scenes for 20190607_204205_1044\n"
     ]
    },
    {
     "data": {
      "application/vnd.jupyter.widget-view+json": {
       "model_id": "53299583e1f846a48acd896b08c0a24d",
       "version_major": 2,
       "version_minor": 0
      },
      "text/plain": [
       "20190606T211519_20190606T211521_T07WET.tif: |                                              | 0.00/15.8M (raw) …"
      ]
     },
     "metadata": {},
     "output_type": "display_data"
    },
    {
     "name": "stdout",
     "output_type": "stream",
     "text": [
      "Found 5 scenes for 20190803_000718_0f49\n"
     ]
    },
    {
     "data": {
      "application/vnd.jupyter.widget-view+json": {
       "model_id": "99e18620671f4b39aed14cf21d7c901e",
       "version_major": 2,
       "version_minor": 0
      },
      "text/plain": [
       "20190729T034541_20190729T034539_T51WWS.tif: |                                              | 0.00/64.0M (raw) …"
      ]
     },
     "metadata": {},
     "output_type": "display_data"
    },
    {
     "data": {
      "application/vnd.jupyter.widget-view+json": {
       "model_id": "90e07236134449a9840e77e43b8e1fc8",
       "version_major": 2,
       "version_minor": 0
      },
      "text/plain": [
       "20190618T210031_20190618T210025_T08WNB.tif: |                                              | 0.00/88.3M (raw) …"
      ]
     },
     "metadata": {},
     "output_type": "display_data"
    },
    {
     "data": {
      "application/vnd.jupyter.widget-view+json": {
       "model_id": "915ccb9050b84ffcb251d086d2d5132d",
       "version_major": 2,
       "version_minor": 0
      },
      "text/plain": [
       "20190730T205029_20190730T205119_T08WNB.tif: |                                              | 0.00/77.6M (raw) …"
      ]
     },
     "metadata": {},
     "output_type": "display_data"
    },
    {
     "name": "stdout",
     "output_type": "stream",
     "text": [
      "Found 2 scenes for 20190913_030436_1005\n"
     ]
    },
    {
     "data": {
      "application/vnd.jupyter.widget-view+json": {
       "model_id": "d461a6f8b57a42ca9ab88e38bdce656b",
       "version_major": 2,
       "version_minor": 0
      },
      "text/plain": [
       "20190912T034539_20190912T034535_T51WWS.tif: |                                              | 0.00/80.2M (raw) …"
      ]
     },
     "metadata": {},
     "output_type": "display_data"
    },
    {
     "name": "stdout",
     "output_type": "stream",
     "text": [
      "Found 6 scenes for 20180730_025452_1012\n"
     ]
    },
    {
     "data": {
      "application/vnd.jupyter.widget-view+json": {
       "model_id": "2506a1cef7af438fb77636804fb3ebd7",
       "version_major": 2,
       "version_minor": 0
      },
      "text/plain": [
       "20180726T033529_20180726T033532_T51WWS.tif: |                                              | 0.00/47.3M (raw) …"
      ]
     },
     "metadata": {},
     "output_type": "display_data"
    },
    {
     "data": {
      "application/vnd.jupyter.widget-view+json": {
       "model_id": "998bfdd617764af88eaad055b84b447d",
       "version_major": 2,
       "version_minor": 0
      },
      "text/plain": [
       "20180828T034529_20180828T034525_T51WWS.tif: |                                              | 0.00/88.3M (raw) …"
      ]
     },
     "metadata": {},
     "output_type": "display_data"
    },
    {
     "name": "stdout",
     "output_type": "stream",
     "text": [
      "Found 3 scenes for 20180702_025401_0f31\n"
     ]
    },
    {
     "data": {
      "application/vnd.jupyter.widget-view+json": {
       "model_id": "71baa4fce11b45748286e92e069b284c",
       "version_major": 2,
       "version_minor": 0
      },
      "text/plain": [
       "20180627T035541_20180627T035537_T51WWS.tif: |                                              | 0.00/25.7M (raw) …"
      ]
     },
     "metadata": {},
     "output_type": "display_data"
    },
    {
     "data": {
      "application/vnd.jupyter.widget-view+json": {
       "model_id": "bb98a8bfb27b4864b9f096e295f38086",
       "version_major": 2,
       "version_minor": 0
      },
      "text/plain": [
       "20190624T202849_20190624T203522_T09WWT.tif: |                                              | 0.00/53.6M (raw) …"
      ]
     },
     "metadata": {},
     "output_type": "display_data"
    },
    {
     "data": {
      "application/vnd.jupyter.widget-view+json": {
       "model_id": "7844d883c61b4823bb9dfe00f546d4c2",
       "version_major": 2,
       "version_minor": 0
      },
      "text/plain": [
       "20190621T033549_20190621T033543_T51WWS.tif: |                                              | 0.00/44.4M (raw) …"
      ]
     },
     "metadata": {},
     "output_type": "display_data"
    },
    {
     "data": {
      "application/vnd.jupyter.widget-view+json": {
       "model_id": "4195c38bba6e4e579df1d966aa113bde",
       "version_major": 2,
       "version_minor": 0
      },
      "text/plain": [
       "20190920T085631_20190920T085857_T38WPB.tif: |                                              | 0.00/94.2M (raw) …"
      ]
     },
     "metadata": {},
     "output_type": "display_data"
    },
    {
     "data": {
      "application/vnd.jupyter.widget-view+json": {
       "model_id": "a5f114985f0a4f2280dbf1ed7ad99e2b",
       "version_major": 2,
       "version_minor": 0
      },
      "text/plain": [
       "20190719T034541_20190719T034540_T51WWS.tif: |                                              | 0.00/78.7M (raw) …"
      ]
     },
     "metadata": {},
     "output_type": "display_data"
    },
    {
     "name": "stdout",
     "output_type": "stream",
     "text": [
      "Found 5 scenes for 20190907_195119_1034\n"
     ]
    },
    {
     "data": {
      "application/vnd.jupyter.widget-view+json": {
       "model_id": "3a7c22b6c0b84e97932477895460880a",
       "version_major": 2,
       "version_minor": 0
      },
      "text/plain": [
       "20190902T202929_20190902T203500_T09WWT.tif: |                                              | 0.00/65.5M (raw) …"
      ]
     },
     "metadata": {},
     "output_type": "display_data"
    },
    {
     "name": "stdout",
     "output_type": "stream",
     "text": [
      "Found 2 scenes for 20190903_075606_0e0f\n"
     ]
    },
    {
     "data": {
      "application/vnd.jupyter.widget-view+json": {
       "model_id": "8e86cb2f74904244b4119d50eaa9959e",
       "version_major": 2,
       "version_minor": 0
      },
      "text/plain": [
       "20190905T085559_20190905T090010_T38WPB.tif: |                                              | 0.00/93.3M (raw) …"
      ]
     },
     "metadata": {},
     "output_type": "display_data"
    },
    {
     "data": {
      "application/vnd.jupyter.widget-view+json": {
       "model_id": "5b411988b6b544c5a010f319629ce10a",
       "version_major": 2,
       "version_minor": 0
      },
      "text/plain": [
       "20190623T210029_20190623T210228_T08WNB.tif: |                                              | 0.00/26.2M (raw) …"
      ]
     },
     "metadata": {},
     "output_type": "display_data"
    },
    {
     "name": "stdout",
     "output_type": "stream",
     "text": [
      "Found 4 scenes for 20190607_204204_1044\n"
     ]
    },
    {
     "data": {
      "application/vnd.jupyter.widget-view+json": {
       "model_id": "68080f4160bc48ad8eb690e920f4d9be",
       "version_major": 2,
       "version_minor": 0
      },
      "text/plain": [
       "20190606T211519_20190606T211521_T07WET.tif: |                                              | 0.00/95.0M (raw) …"
      ]
     },
     "metadata": {},
     "output_type": "display_data"
    },
    {
     "name": "stdout",
     "output_type": "stream",
     "text": [
      "Found 1 scenes for 20190714_194400_1035\n"
     ]
    },
    {
     "data": {
      "application/vnd.jupyter.widget-view+json": {
       "model_id": "75883ec3226544bbaabf7d40224ce73d",
       "version_major": 2,
       "version_minor": 0
      },
      "text/plain": [
       "20190714T202849_20190714T202852_T09WWT.tif: |                                              | 0.00/49.5M (raw) …"
      ]
     },
     "metadata": {},
     "output_type": "display_data"
    },
    {
     "name": "stdout",
     "output_type": "stream",
     "text": [
      "Found 4 scenes for 20190727_030648_1040\n",
      "Found 2 scenes for 20190814_080304_100c\n"
     ]
    },
    {
     "data": {
      "application/vnd.jupyter.widget-view+json": {
       "model_id": "0b206202ae304df6817ea2da942f434e",
       "version_major": 2,
       "version_minor": 0
      },
      "text/plain": [
       "20190722T035541_20190722T035542_T51WWS.tif: |                                              | 0.00/49.2M (raw) …"
      ]
     },
     "metadata": {},
     "output_type": "display_data"
    },
    {
     "data": {
      "application/vnd.jupyter.widget-view+json": {
       "model_id": "ecf5d7f0198842d5b91733699f657713",
       "version_major": 2,
       "version_minor": 0
      },
      "text/plain": [
       "20190813T084609_20190813T084941_T38WPB.tif: |                                              | 0.00/85.9M (raw) …"
      ]
     },
     "metadata": {},
     "output_type": "display_data"
    },
    {
     "data": {
      "application/vnd.jupyter.widget-view+json": {
       "model_id": "17ce577a20004777ad567d7e2ce1b677",
       "version_major": 2,
       "version_minor": 0
      },
      "text/plain": [
       "20190906T210021_20190906T210437_T08WNB.tif: |                                              | 0.00/88.3M (raw) …"
      ]
     },
     "metadata": {},
     "output_type": "display_data"
    },
    {
     "data": {
      "application/vnd.jupyter.widget-view+json": {
       "model_id": "c7695a2da67343a5b9f266145acfba73",
       "version_major": 2,
       "version_minor": 0
      },
      "text/plain": [
       "20190815T033541_20190815T033538_T51WWS.tif: |                                              | 0.00/54.8M (raw) …"
      ]
     },
     "metadata": {},
     "output_type": "display_data"
    },
    {
     "name": "stdout",
     "output_type": "stream",
     "text": [
      "Found 1 scenes for 20190819_080917_1012\n"
     ]
    },
    {
     "data": {
      "application/vnd.jupyter.widget-view+json": {
       "model_id": "0c4008ed8e4a4154af1d6e4e551bc8d6",
       "version_major": 2,
       "version_minor": 0
      },
      "text/plain": [
       "20190831T035541_20190831T035537_T51WWS.tif: |                                              | 0.00/80.9M (raw) …"
      ]
     },
     "metadata": {},
     "output_type": "display_data"
    },
    {
     "data": {
      "application/vnd.jupyter.widget-view+json": {
       "model_id": "cb1888ca4ef7496ebbdd5d0c7066021a",
       "version_major": 2,
       "version_minor": 0
      },
      "text/plain": [
       "20190622T213539_20190622T213537_T07WET.tif: |                                              | 0.00/77.0M (raw) …"
      ]
     },
     "metadata": {},
     "output_type": "display_data"
    },
    {
     "data": {
      "application/vnd.jupyter.widget-view+json": {
       "model_id": "563e4c3cdd964da0bae247a41ff50075",
       "version_major": 2,
       "version_minor": 0
      },
      "text/plain": [
       "20190905T204019_20190905T204223_T10XFF.tif: |                                              | 0.00/33.5M (raw) …"
      ]
     },
     "metadata": {},
     "output_type": "display_data"
    },
    {
     "data": {
      "application/vnd.jupyter.widget-view+json": {
       "model_id": "9fd1544e593140f7a60e884b21c74af2",
       "version_major": 2,
       "version_minor": 0
      },
      "text/plain": [
       "20190608T210021_20190608T210314_T08WNB.tif: |                                              | 0.00/61.7M (raw) …"
      ]
     },
     "metadata": {},
     "output_type": "display_data"
    },
    {
     "data": {
      "application/vnd.jupyter.widget-view+json": {
       "model_id": "c5bbdfe9d9894701816353ad635b4baf",
       "version_major": 2,
       "version_minor": 0
      },
      "text/plain": [
       "20190818T084601_20190818T085006_T38WPB.tif: |                                              | 0.00/94.6M (raw) …"
      ]
     },
     "metadata": {},
     "output_type": "display_data"
    },
    {
     "data": {
      "application/vnd.jupyter.widget-view+json": {
       "model_id": "14231dbf808244ae8cece7285ed6d810",
       "version_major": 2,
       "version_minor": 0
      },
      "text/plain": [
       "20190704T202849_20190704T203359_T11XMA.tif: |                                              | 0.00/14.8M (raw) …"
      ]
     },
     "metadata": {},
     "output_type": "display_data"
    },
    {
     "data": {
      "application/vnd.jupyter.widget-view+json": {
       "model_id": "a7e0856c6182445e9238e2f22bb9d28d",
       "version_major": 2,
       "version_minor": 0
      },
      "text/plain": [
       "20190607T213531_20190607T213531_T07WET.tif: |                                              | 0.00/15.8M (raw) …"
      ]
     },
     "metadata": {},
     "output_type": "display_data"
    },
    {
     "data": {
      "application/vnd.jupyter.widget-view+json": {
       "model_id": "d74fd91afa614da9893a03495ab5a6db",
       "version_major": 2,
       "version_minor": 0
      },
      "text/plain": [
       "20190907T084601_20190907T084906_T38WPC.tif: |                                              | 0.00/91.1M (raw) …"
      ]
     },
     "metadata": {},
     "output_type": "display_data"
    },
    {
     "data": {
      "application/vnd.jupyter.widget-view+json": {
       "model_id": "d35ed0a780b04f83a214c0592375a912",
       "version_major": 2,
       "version_minor": 0
      },
      "text/plain": [
       "20190618T210031_20190618T210025_T08WNB.tif: |                                              | 0.00/26.6M (raw) …"
      ]
     },
     "metadata": {},
     "output_type": "display_data"
    },
    {
     "name": "stdout",
     "output_type": "stream",
     "text": [
      "Found 5 scenes for 20190731_000801_1053\n",
      "Found 3 scenes for 20180708_075756_1011\n"
     ]
    },
    {
     "data": {
      "application/vnd.jupyter.widget-view+json": {
       "model_id": "5673832056444fea96cba28b7af0af4e",
       "version_major": 2,
       "version_minor": 0
      },
      "text/plain": [
       "20180704T085021_20180704T085016_T38WPB.tif: |                                              | 0.00/94.7M (raw) …"
      ]
     },
     "metadata": {},
     "output_type": "display_data"
    },
    {
     "data": {
      "application/vnd.jupyter.widget-view+json": {
       "model_id": "659a14da762d44a4bdafa26e5025738f",
       "version_major": 2,
       "version_minor": 0
      },
      "text/plain": [
       "20190727T035549_20190727T035545_T51WWS.tif: |                                              | 0.00/68.9M (raw) …"
      ]
     },
     "metadata": {},
     "output_type": "display_data"
    },
    {
     "data": {
      "application/vnd.jupyter.widget-view+json": {
       "model_id": "2bf8be5d55c24b9a9d82c89bf6f4aabe",
       "version_major": 2,
       "version_minor": 0
      },
      "text/plain": [
       "20190620T205029_20190620T205539_T08WNB.tif: |                                              | 0.00/88.3M (raw) …"
      ]
     },
     "metadata": {},
     "output_type": "display_data"
    },
    {
     "data": {
      "application/vnd.jupyter.widget-view+json": {
       "model_id": "1d6c436ac2934fa48f4914fa7617341e",
       "version_major": 2,
       "version_minor": 0
      },
      "text/plain": [
       "20190627T035549_20190627T035545_T51WWS.tif: |                                              | 0.00/62.6M (raw) …"
      ]
     },
     "metadata": {},
     "output_type": "display_data"
    },
    {
     "data": {
      "application/vnd.jupyter.widget-view+json": {
       "model_id": "62a10bb6ee7a46e49552a3103d4bac73",
       "version_major": 2,
       "version_minor": 0
      },
      "text/plain": [
       "20190915T035539_20190915T035536_T51WWS.tif: |                                              | 0.00/80.2M (raw) …"
      ]
     },
     "metadata": {},
     "output_type": "display_data"
    },
    {
     "data": {
      "application/vnd.jupyter.widget-view+json": {
       "model_id": "2d797f8deb3d49ef99d33806c13229a7",
       "version_major": 2,
       "version_minor": 0
      },
      "text/plain": [
       "20180727T035541_20180727T035537_T51WWS.tif: |                                              | 0.00/47.3M (raw) …"
      ]
     },
     "metadata": {},
     "output_type": "display_data"
    },
    {
     "data": {
      "application/vnd.jupyter.widget-view+json": {
       "model_id": "483d6e5b15174667803d4499945ddffa",
       "version_major": 2,
       "version_minor": 0
      },
      "text/plain": [
       "20190731T033549_20190731T033543_T51WWS.tif: |                                              | 0.00/64.0M (raw) …"
      ]
     },
     "metadata": {},
     "output_type": "display_data"
    },
    {
     "name": "stdout",
     "output_type": "stream",
     "text": [
      "Found 2 scenes for 20190628_064358_48_106a\n",
      "Found 5 scenes for 20190731_000802_1_1053\n"
     ]
    },
    {
     "data": {
      "application/vnd.jupyter.widget-view+json": {
       "model_id": "3f17276b5856401eacd0ebc56e2519b6",
       "version_major": 2,
       "version_minor": 0
      },
      "text/plain": [
       "20190627T085609_20190627T090016_T38WPB.tif: |                                               | 0.00/102M (raw) …"
      ]
     },
     "metadata": {},
     "output_type": "display_data"
    },
    {
     "data": {
      "application/vnd.jupyter.widget-view+json": {
       "model_id": "9b743b26462340f58c0b96a24496b5a0",
       "version_major": 2,
       "version_minor": 0
      },
      "text/plain": [
       "20190727T035549_20190727T035545_T51WWS.tif: |                                              | 0.00/63.8M (raw) …"
      ]
     },
     "metadata": {},
     "output_type": "display_data"
    },
    {
     "data": {
      "application/vnd.jupyter.widget-view+json": {
       "model_id": "4eb87b6d66d74b8c83094a43d2ea7333",
       "version_major": 2,
       "version_minor": 0
      },
      "text/plain": [
       "20180702T035539_20180702T035535_T51WWS.tif: |                                              | 0.00/25.7M (raw) …"
      ]
     },
     "metadata": {},
     "output_type": "display_data"
    },
    {
     "name": "stdout",
     "output_type": "stream",
     "text": [
      "Found 2 scenes for 20190916_030410_1010\n"
     ]
    },
    {
     "data": {
      "application/vnd.jupyter.widget-view+json": {
       "model_id": "1b634f15b3664a7d957d246254b02c1e",
       "version_major": 2,
       "version_minor": 0
      },
      "text/plain": [
       "20190622T035541_20190622T035541_T51WWS.tif: |                                              | 0.00/44.4M (raw) …"
      ]
     },
     "metadata": {},
     "output_type": "display_data"
    },
    {
     "data": {
      "application/vnd.jupyter.widget-view+json": {
       "model_id": "51f70f50d72a4300b2131e3980a677f4",
       "version_major": 2,
       "version_minor": 0
      },
      "text/plain": [
       "20190912T034539_20190912T034535_T51WWS.tif: |                                              | 0.00/59.1M (raw) …"
      ]
     },
     "metadata": {},
     "output_type": "display_data"
    },
    {
     "name": "stdout",
     "output_type": "stream",
     "text": [
      "Found 3 scenes for 20190606_030141_0f3f\n",
      "Found 5 scenes for 20190727_194259_100c\n"
     ]
    },
    {
     "data": {
      "application/vnd.jupyter.widget-view+json": {
       "model_id": "72140f0bacf24951a4946b94b1331744",
       "version_major": 2,
       "version_minor": 0
      },
      "text/plain": [
       "20190723T200901_20190723T201143_T09WWT.tif: |                                              | 0.00/88.3M (raw) …"
      ]
     },
     "metadata": {},
     "output_type": "display_data"
    },
    {
     "data": {
      "application/vnd.jupyter.widget-view+json": {
       "model_id": "154f09002b7d4df08ea31343cdddc534",
       "version_major": 2,
       "version_minor": 0
      },
      "text/plain": [
       "20190601T033549_20190601T033543_T51WWS.tif: |                                              | 0.00/44.1M (raw) …"
      ]
     },
     "metadata": {},
     "output_type": "display_data"
    },
    {
     "name": "stdout",
     "output_type": "stream",
     "text": [
      "Found 5 scenes for 20180921_203252_101f\n"
     ]
    },
    {
     "data": {
      "application/vnd.jupyter.widget-view+json": {
       "model_id": "507577aee9e14a97a251591ff34309a3",
       "version_major": 2,
       "version_minor": 0
      },
      "text/plain": [
       "20180916T210109_20180916T210105_T07WET.tif: |                                              | 0.00/65.2M (raw) …"
      ]
     },
     "metadata": {},
     "output_type": "display_data"
    },
    {
     "data": {
      "application/vnd.jupyter.widget-view+json": {
       "model_id": "00d456e087a9462ea0bc19d81be9c205",
       "version_major": 2,
       "version_minor": 0
      },
      "text/plain": [
       "20190907T084601_20190907T084906_T38WPB.tif: |                                              | 0.00/93.3M (raw) …"
      ]
     },
     "metadata": {},
     "output_type": "display_data"
    },
    {
     "data": {
      "application/vnd.jupyter.widget-view+json": {
       "model_id": "6614a1913a82498c86286885729efb29",
       "version_major": 2,
       "version_minor": 0
      },
      "text/plain": [
       "20190905T204019_20190905T204223_T09WWT.tif: |                                              | 0.00/65.5M (raw) …"
      ]
     },
     "metadata": {},
     "output_type": "display_data"
    },
    {
     "data": {
      "application/vnd.jupyter.widget-view+json": {
       "model_id": "a64d47294300432182f721a8a402f756",
       "version_major": 2,
       "version_minor": 0
      },
      "text/plain": [
       "20190607T213531_20190607T213531_T07WET.tif: |                                              | 0.00/95.0M (raw) …"
      ]
     },
     "metadata": {},
     "output_type": "display_data"
    },
    {
     "name": "stdout",
     "output_type": "stream",
     "text": [
      "Found 6 scenes for 20190702_050924_0f49\n"
     ]
    },
    {
     "data": {
      "application/vnd.jupyter.widget-view+json": {
       "model_id": "47261c28531049339e375b81ecceb6c1",
       "version_major": 2,
       "version_minor": 0
      },
      "text/plain": [
       "20190727T035549_20190727T035545_T51WWS.tif: |                                              | 0.00/49.2M (raw) …"
      ]
     },
     "metadata": {},
     "output_type": "display_data"
    },
    {
     "data": {
      "application/vnd.jupyter.widget-view+json": {
       "model_id": "8961915e9599407584b8af986fde0a15",
       "version_major": 2,
       "version_minor": 0
      },
      "text/plain": [
       "20190818T084601_20190818T085006_T38WPB.tif: |                                              | 0.00/85.9M (raw) …"
      ]
     },
     "metadata": {},
     "output_type": "display_data"
    },
    {
     "data": {
      "application/vnd.jupyter.widget-view+json": {
       "model_id": "58d5dcac63394158936781a12a89bd60",
       "version_major": 2,
       "version_minor": 0
      },
      "text/plain": [
       "20190627T085609_20190627T090016_T38WPC.tif: |                                              | 0.00/83.7M (raw) …"
      ]
     },
     "metadata": {},
     "output_type": "display_data"
    },
    {
     "data": {
      "application/vnd.jupyter.widget-view+json": {
       "model_id": "97d03dbcbf064e0086c1a18f1f3f9ff1",
       "version_major": 2,
       "version_minor": 0
      },
      "text/plain": [
       "20190911T210029_20190911T210040_T08WNB.tif: |                                              | 0.00/88.3M (raw) …"
      ]
     },
     "metadata": {},
     "output_type": "display_data"
    },
    {
     "name": "stdout",
     "output_type": "stream",
     "text": [
      "Found 4 scenes for 20190905_195022_1032\n"
     ]
    },
    {
     "data": {
      "application/vnd.jupyter.widget-view+json": {
       "model_id": "d6806a52fc2d4887a7f61b6231dc6d96",
       "version_major": 2,
       "version_minor": 0
      },
      "text/plain": [
       "20190902T202929_20190902T203500_T09WWT.tif: |                                              | 0.00/43.4M (raw) …"
      ]
     },
     "metadata": {},
     "output_type": "display_data"
    },
    {
     "data": {
      "application/vnd.jupyter.widget-view+json": {
       "model_id": "904c1d62284f446cb47e0f45d7b23c2d",
       "version_major": 2,
       "version_minor": 0
      },
      "text/plain": [
       "20190818T034541_20190818T034537_T51WWS.tif: |                                              | 0.00/54.8M (raw) …"
      ]
     },
     "metadata": {},
     "output_type": "display_data"
    },
    {
     "name": "stdout",
     "output_type": "stream",
     "text": [
      "Found 3 scenes for 20190610_201139_0f15\n"
     ]
    },
    {
     "data": {
      "application/vnd.jupyter.widget-view+json": {
       "model_id": "c696ee472a434d5f9a367c82eb7c392b",
       "version_major": 2,
       "version_minor": 0
      },
      "text/plain": [
       "20190607T204029_20190607T204229_T08WNB.tif: |                                              | 0.00/69.1M (raw) …"
      ]
     },
     "metadata": {},
     "output_type": "display_data"
    },
    {
     "data": {
      "application/vnd.jupyter.widget-view+json": {
       "model_id": "df5bf2ce7e884a0d9a4827595075d9b0",
       "version_major": 2,
       "version_minor": 0
      },
      "text/plain": [
       "20190623T210029_20190623T210228_T07WET.tif: |                                              | 0.00/77.0M (raw) …"
      ]
     },
     "metadata": {},
     "output_type": "display_data"
    },
    {
     "data": {
      "application/vnd.jupyter.widget-view+json": {
       "model_id": "79478e4c82f2460481d5dd0925535dae",
       "version_major": 2,
       "version_minor": 0
      },
      "text/plain": [
       "20190608T210021_20190608T210314_T07WET.tif: |                                              | 0.00/15.8M (raw) …"
      ]
     },
     "metadata": {},
     "output_type": "display_data"
    },
    {
     "name": "stdout",
     "output_type": "stream",
     "text": [
      "Found 1 scenes for 20190726_193720_0f17\n"
     ]
    },
    {
     "data": {
      "application/vnd.jupyter.widget-view+json": {
       "model_id": "a6578f751ea44aac9e7baed26327ab6b",
       "version_major": 2,
       "version_minor": 0
      },
      "text/plain": [
       "20190726T201851_20190726T201854_T11XMB.tif: |                                              | 0.00/88.2M (raw) …"
      ]
     },
     "metadata": {},
     "output_type": "display_data"
    },
    {
     "data": {
      "application/vnd.jupyter.widget-view+json": {
       "model_id": "7eb94d473d824b26a14646ce55f9c783",
       "version_major": 2,
       "version_minor": 0
      },
      "text/plain": [
       "20190907T203011_20190907T203043_T11XMA.tif: |                                              | 0.00/31.8M (raw) …"
      ]
     },
     "metadata": {},
     "output_type": "display_data"
    },
    {
     "data": {
      "application/vnd.jupyter.widget-view+json": {
       "model_id": "93240f3d21b143fa9754fec1dd3dfa3c",
       "version_major": 2,
       "version_minor": 0
      },
      "text/plain": [
       "20190610T205029_20190610T205118_T08WNB.tif: |                                              | 0.00/61.7M (raw) …"
      ]
     },
     "metadata": {},
     "output_type": "display_data"
    },
    {
     "name": "stdout",
     "output_type": "stream",
     "text": [
      "Found 1 scenes for 20190708_201059_101b\n"
     ]
    },
    {
     "data": {
      "application/vnd.jupyter.widget-view+json": {
       "model_id": "db2526da771740af9f9af64bd25622cc",
       "version_major": 2,
       "version_minor": 0
      },
      "text/plain": [
       "20190710T205029_20190710T205203_T08WNB.tif: |                                              | 0.00/71.3M (raw) …"
      ]
     },
     "metadata": {},
     "output_type": "display_data"
    },
    {
     "data": {
      "application/vnd.jupyter.widget-view+json": {
       "model_id": "c4c7c7aa31e04a269978dc5600a01610",
       "version_major": 2,
       "version_minor": 0
      },
      "text/plain": [
       "20190620T205029_20190620T205539_T08WNB.tif: |                                              | 0.00/26.6M (raw) …"
      ]
     },
     "metadata": {},
     "output_type": "display_data"
    },
    {
     "data": {
      "application/vnd.jupyter.widget-view+json": {
       "model_id": "c750b221e85c46fa955b950dc8021e71",
       "version_major": 2,
       "version_minor": 0
      },
      "text/plain": [
       "20190729T034541_20190729T034539_T51WWS.tif: |                                              | 0.00/68.9M (raw) …"
      ]
     },
     "metadata": {},
     "output_type": "display_data"
    },
    {
     "data": {
      "application/vnd.jupyter.widget-view+json": {
       "model_id": "2466ba8ec3db4685ab01ee686964beae",
       "version_major": 2,
       "version_minor": 0
      },
      "text/plain": [
       "20180707T085601_20180707T085802_T38WPB.tif: |                                              | 0.00/94.7M (raw) …"
      ]
     },
     "metadata": {},
     "output_type": "display_data"
    },
    {
     "data": {
      "application/vnd.jupyter.widget-view+json": {
       "model_id": "fbc6841e810943b4aadcaa3ca81d07ef",
       "version_major": 2,
       "version_minor": 0
      },
      "text/plain": [
       "20190622T204021_20190622T204141_T08WNB.tif: |                                              | 0.00/88.3M (raw) …"
      ]
     },
     "metadata": {},
     "output_type": "display_data"
    },
    {
     "name": "stdout",
     "output_type": "stream",
     "text": [
      "Found 2 scenes for 20190719_030813_1006\n"
     ]
    },
    {
     "data": {
      "application/vnd.jupyter.widget-view+json": {
       "model_id": "b66c3c1ceb304753af2fc2ad86d7fd05",
       "version_major": 2,
       "version_minor": 0
      },
      "text/plain": [
       "20190719T034541_20190719T034540_T51WWS.tif: |                                              | 0.00/88.3M (raw) …"
      ]
     },
     "metadata": {},
     "output_type": "display_data"
    },
    {
     "data": {
      "application/vnd.jupyter.widget-view+json": {
       "model_id": "f5a9edd61cf64f50b33a9d208b0b663f",
       "version_major": 2,
       "version_minor": 0
      },
      "text/plain": [
       "20190629T034541_20190629T034539_T51WWS.tif: |                                              | 0.00/62.6M (raw) …"
      ]
     },
     "metadata": {},
     "output_type": "display_data"
    },
    {
     "data": {
      "application/vnd.jupyter.widget-view+json": {
       "model_id": "56ec8c86af914ad2b08ea032433dee2f",
       "version_major": 2,
       "version_minor": 0
      },
      "text/plain": [
       "20180729T034529_20180729T034531_T51WWS.tif: |                                              | 0.00/47.3M (raw) …"
      ]
     },
     "metadata": {},
     "output_type": "display_data"
    },
    {
     "data": {
      "application/vnd.jupyter.widget-view+json": {
       "model_id": "c1f29c8e73ab4e4fbab1933b831f2bb7",
       "version_major": 2,
       "version_minor": 0
      },
      "text/plain": [
       "20180704T034541_20180704T034535_T51WWS.tif: |                                              | 0.00/25.7M (raw) …"
      ]
     },
     "metadata": {},
     "output_type": "display_data"
    },
    {
     "name": "stdout",
     "output_type": "stream",
     "text": [
      "Found 3 scenes for 20180801_075817_1021\n"
     ]
    },
    {
     "data": {
      "application/vnd.jupyter.widget-view+json": {
       "model_id": "89e2ce7ce48845b79cd040f8a89fa80a",
       "version_major": 2,
       "version_minor": 0
      },
      "text/plain": [
       "20190801T035541_20190801T035541_T51WWS.tif: |                                              | 0.00/64.0M (raw) …"
      ]
     },
     "metadata": {},
     "output_type": "display_data"
    },
    {
     "data": {
      "application/vnd.jupyter.widget-view+json": {
       "model_id": "363689a3eff247f98de25c1396f3d51c",
       "version_major": 2,
       "version_minor": 0
      },
      "text/plain": [
       "20180727T085601_20180727T085556_T38WPB.tif: |                                              | 0.00/89.5M (raw) …"
      ]
     },
     "metadata": {},
     "output_type": "display_data"
    },
    {
     "data": {
      "application/vnd.jupyter.widget-view+json": {
       "model_id": "227ec8c766e044ffa21220709ecbdc79",
       "version_major": 2,
       "version_minor": 0
      },
      "text/plain": [
       "20190702T085601_20190702T085636_T38WPB.tif: |                                               | 0.00/102M (raw) …"
      ]
     },
     "metadata": {},
     "output_type": "display_data"
    },
    {
     "data": {
      "application/vnd.jupyter.widget-view+json": {
       "model_id": "c2f22d5c0f88423fabee23cf35abd2e0",
       "version_major": 2,
       "version_minor": 0
      },
      "text/plain": [
       "20190602T035541_20190602T035539_T51WWS.tif: |                                              | 0.00/44.1M (raw) …"
      ]
     },
     "metadata": {},
     "output_type": "display_data"
    },
    {
     "data": {
      "application/vnd.jupyter.widget-view+json": {
       "model_id": "d8b61512396444539f911fbdfe3e2e06",
       "version_major": 2,
       "version_minor": 0
      },
      "text/plain": [
       "20190724T202849_20190724T202957_T09WWT.tif: |                                              | 0.00/88.3M (raw) …"
      ]
     },
     "metadata": {},
     "output_type": "display_data"
    },
    {
     "data": {
      "application/vnd.jupyter.widget-view+json": {
       "model_id": "1a2702af3c06488b9d2aa0316b736167",
       "version_major": 2,
       "version_minor": 0
      },
      "text/plain": [
       "20190915T035539_20190915T035536_T51WWS.tif: |                                              | 0.00/59.1M (raw) …"
      ]
     },
     "metadata": {},
     "output_type": "display_data"
    },
    {
     "data": {
      "application/vnd.jupyter.widget-view+json": {
       "model_id": "e807157b48b54c47b0c13e4c1578051e",
       "version_major": 2,
       "version_minor": 0
      },
      "text/plain": [
       "20190729T034541_20190729T034539_T51WWS.tif: |                                              | 0.00/63.8M (raw) …"
      ]
     },
     "metadata": {},
     "output_type": "display_data"
    },
    {
     "data": {
      "application/vnd.jupyter.widget-view+json": {
       "model_id": "0e3a182463c84490a6410f98f5e3f442",
       "version_major": 2,
       "version_minor": 0
      },
      "text/plain": [
       "20180919T211509_20180919T211505_T07WET.tif: |                                              | 0.00/65.2M (raw) …"
      ]
     },
     "metadata": {},
     "output_type": "display_data"
    },
    {
     "name": "stdout",
     "output_type": "stream",
     "text": [
      "Found 3 scenes for 20190702_050925_0f49\n"
     ]
    },
    {
     "data": {
      "application/vnd.jupyter.widget-view+json": {
       "model_id": "801eefee212844bdb58a2d2a6c09f879",
       "version_major": 2,
       "version_minor": 0
      },
      "text/plain": [
       "20190608T210021_20190608T210314_T07WET.tif: |                                              | 0.00/95.0M (raw) …"
      ]
     },
     "metadata": {},
     "output_type": "display_data"
    },
    {
     "data": {
      "application/vnd.jupyter.widget-view+json": {
       "model_id": "edef1a8c1a6241e3ad93ffc2efefe830",
       "version_major": 2,
       "version_minor": 0
      },
      "text/plain": [
       "20190627T085609_20190627T090016_T38WPC.tif: |                                              | 0.00/53.1M (raw) …"
      ]
     },
     "metadata": {},
     "output_type": "display_data"
    },
    {
     "data": {
      "application/vnd.jupyter.widget-view+json": {
       "model_id": "cff1c74f5fe84b4384b136cc6e90c325",
       "version_major": 2,
       "version_minor": 0
      },
      "text/plain": [
       "20190729T034541_20190729T034539_T51WWS.tif: |                                              | 0.00/49.2M (raw) …"
      ]
     },
     "metadata": {},
     "output_type": "display_data"
    },
    {
     "data": {
      "application/vnd.jupyter.widget-view+json": {
       "model_id": "5f6d371662b84e4b8d50fa74800413ec",
       "version_major": 2,
       "version_minor": 0
      },
      "text/plain": [
       "20190906T200939_20190906T200951_T09WWT.tif: |                                              | 0.00/65.5M (raw) …"
      ]
     },
     "metadata": {},
     "output_type": "display_data"
    },
    {
     "data": {
      "application/vnd.jupyter.widget-view+json": {
       "model_id": "e77590e1dbf14165a070067d95adfae2",
       "version_major": 2,
       "version_minor": 0
      },
      "text/plain": [
       "20190627T085609_20190627T090016_T38WPB.tif: |                                              | 0.00/83.7M (raw) …"
      ]
     },
     "metadata": {},
     "output_type": "display_data"
    },
    {
     "name": "stdout",
     "output_type": "stream",
     "text": [
      "Found 3 scenes for 20190902_203943_103b\n"
     ]
    },
    {
     "data": {
      "application/vnd.jupyter.widget-view+json": {
       "model_id": "8ecc272ed4c2498498243215e95f2ffd",
       "version_major": 2,
       "version_minor": 0
      },
      "text/plain": [
       "20190901T210029_20190901T210024_T07WET.tif: |                                              | 0.00/75.2M (raw) …"
      ]
     },
     "metadata": {},
     "output_type": "display_data"
    },
    {
     "data": {
      "application/vnd.jupyter.widget-view+json": {
       "model_id": "5ef73b3d1cec48e3a024bbf40a2f4355",
       "version_major": 2,
       "version_minor": 0
      },
      "text/plain": [
       "20190905T204019_20190905T204223_T09WWT.tif: |                                              | 0.00/43.4M (raw) …"
      ]
     },
     "metadata": {},
     "output_type": "display_data"
    },
    {
     "name": "stdout",
     "output_type": "stream",
     "text": [
      "Found 3 scenes for 20190902_203942_103b\n"
     ]
    },
    {
     "data": {
      "application/vnd.jupyter.widget-view+json": {
       "model_id": "0db8ba19751a4d3c866d85946e76c865",
       "version_major": 2,
       "version_minor": 0
      },
      "text/plain": [
       "20190608T210021_20190608T210314_T08WNB.tif: |                                              | 0.00/69.1M (raw) …"
      ]
     },
     "metadata": {},
     "output_type": "display_data"
    },
    {
     "data": {
      "application/vnd.jupyter.widget-view+json": {
       "model_id": "65d557c329014b73ac6c425355624b62",
       "version_major": 2,
       "version_minor": 0
      },
      "text/plain": [
       "20190611T211521_20190611T211516_T07WET.tif: |                                              | 0.00/15.8M (raw) …"
      ]
     },
     "metadata": {},
     "output_type": "display_data"
    },
    {
     "data": {
      "application/vnd.jupyter.widget-view+json": {
       "model_id": "b2fa2d2b901445ff86b5f51e019b6f4c",
       "version_major": 2,
       "version_minor": 0
      },
      "text/plain": [
       "20190901T210029_20190901T210024_T07WET.tif: |                                              | 0.00/76.0M (raw) …"
      ]
     },
     "metadata": {},
     "output_type": "display_data"
    },
    {
     "name": "stdout",
     "output_type": "stream",
     "text": [
      "Found 4 scenes for 20190628_030542_1027\n"
     ]
    },
    {
     "data": {
      "application/vnd.jupyter.widget-view+json": {
       "model_id": "c34379def9d345b3bd625d0054d6e647",
       "version_major": 2,
       "version_minor": 0
      },
      "text/plain": [
       "20190624T034539_20190624T034632_T51WWS.tif: |                                              | 0.00/15.8M (raw) …"
      ]
     },
     "metadata": {},
     "output_type": "display_data"
    },
    {
     "name": "stdout",
     "output_type": "stream",
     "text": [
      "Found 3 scenes for 20190904_193046_0e2f\n"
     ]
    },
    {
     "data": {
      "application/vnd.jupyter.widget-view+json": {
       "model_id": "ff359909804045abbbd2e83f1b2045bd",
       "version_major": 2,
       "version_minor": 0
      },
      "text/plain": [
       "20190903T195919_20190903T195919_T11XMB.tif: |                                              | 0.00/37.5M (raw) …"
      ]
     },
     "metadata": {},
     "output_type": "display_data"
    },
    {
     "name": "stdout",
     "output_type": "stream",
     "text": [
      "Found 4 scenes for 20190727_030649_1040\n"
     ]
    },
    {
     "data": {
      "application/vnd.jupyter.widget-view+json": {
       "model_id": "06bc15c5ffa54da291ad0cef2de6c918",
       "version_major": 2,
       "version_minor": 0
      },
      "text/plain": [
       "20190722T035541_20190722T035542_T51WWS.tif: |                                              | 0.00/84.6M (raw) …"
      ]
     },
     "metadata": {},
     "output_type": "display_data"
    },
    {
     "data": {
      "application/vnd.jupyter.widget-view+json": {
       "model_id": "049541f7772c43b9beb55f9a700ccec4",
       "version_major": 2,
       "version_minor": 0
      },
      "text/plain": [
       "20190907T203011_20190907T203043_T10XFF.tif: |                                              | 0.00/33.5M (raw) …"
      ]
     },
     "metadata": {},
     "output_type": "display_data"
    },
    {
     "name": "stdout",
     "output_type": "stream",
     "text": [
      "Found 2 scenes for 20190905_081013_1004\n"
     ]
    },
    {
     "data": {
      "application/vnd.jupyter.widget-view+json": {
       "model_id": "b12fb2dc09b64ee89b5826a8963bd1ad",
       "version_major": 2,
       "version_minor": 0
      },
      "text/plain": [
       "20190905T085559_20190905T090010_T38WPC.tif: |                                              | 0.00/94.8M (raw) …"
      ]
     },
     "metadata": {},
     "output_type": "display_data"
    },
    {
     "data": {
      "application/vnd.jupyter.widget-view+json": {
       "model_id": "5ba220a4f8c64959ada390dcb81f1e3c",
       "version_major": 2,
       "version_minor": 0
      },
      "text/plain": [
       "20190731T033549_20190731T033543_T51WWS.tif: |                                              | 0.00/68.9M (raw) …"
      ]
     },
     "metadata": {},
     "output_type": "display_data"
    },
    {
     "name": "stdout",
     "output_type": "stream",
     "text": [
      "Found 6 scenes for 20190905_081012_1004\n"
     ]
    },
    {
     "data": {
      "application/vnd.jupyter.widget-view+json": {
       "model_id": "9d3744c42ed64e4fa0d32f8ed3e351ff",
       "version_major": 2,
       "version_minor": 0
      },
      "text/plain": [
       "20190831T085601_20190831T085636_T39WVS.tif: |                                              | 0.00/27.6M (raw) …"
      ]
     },
     "metadata": {},
     "output_type": "display_data"
    },
    {
     "data": {
      "application/vnd.jupyter.widget-view+json": {
       "model_id": "1056fe6f059242158b0bbe01f637112d",
       "version_major": 2,
       "version_minor": 0
      },
      "text/plain": [
       "20190622T204021_20190622T204141_T08WNB.tif: |                                              | 0.00/26.6M (raw) …"
      ]
     },
     "metadata": {},
     "output_type": "display_data"
    },
    {
     "data": {
      "application/vnd.jupyter.widget-view+json": {
       "model_id": "8b8a21ac82ce4833ae2a93032eb06f6b",
       "version_major": 2,
       "version_minor": 0
      },
      "text/plain": [
       "20180711T083601_20180711T083601_T38WPB.tif: |                                              | 0.00/94.7M (raw) …"
      ]
     },
     "metadata": {},
     "output_type": "display_data"
    },
    {
     "data": {
      "application/vnd.jupyter.widget-view+json": {
       "model_id": "d23613e256894041b2a34f3e812247e7",
       "version_major": 2,
       "version_minor": 0
      },
      "text/plain": [
       "20190623T210029_20190623T210228_T08WNB.tif: |                                              | 0.00/88.3M (raw) …"
      ]
     },
     "metadata": {},
     "output_type": "display_data"
    },
    {
     "data": {
      "application/vnd.jupyter.widget-view+json": {
       "model_id": "d74de58ce63c460996b4017ba74376fb",
       "version_major": 2,
       "version_minor": 0
      },
      "text/plain": [
       "20190722T035541_20190722T035542_T51WWS.tif: |                                              | 0.00/88.3M (raw) …"
      ]
     },
     "metadata": {},
     "output_type": "display_data"
    },
    {
     "data": {
      "application/vnd.jupyter.widget-view+json": {
       "model_id": "ba9cdabde21f48b8ac6a311e3cf8d79b",
       "version_major": 2,
       "version_minor": 0
      },
      "text/plain": [
       "20180731T033541_20180731T033828_T51WWS.tif: |                                              | 0.00/47.3M (raw) …"
      ]
     },
     "metadata": {},
     "output_type": "display_data"
    },
    {
     "name": "stdout",
     "output_type": "stream",
     "text": [
      "Found 1 scenes for 20190820_164142_0f21\n"
     ]
    },
    {
     "data": {
      "application/vnd.jupyter.widget-view+json": {
       "model_id": "164c853982b94f11b9431447257bdaba",
       "version_major": 2,
       "version_minor": 0
      },
      "text/plain": [
       "20190821T204021_20190821T204118_T09WWT.tif: |                                              | 0.00/54.3M (raw) …"
      ]
     },
     "metadata": {},
     "output_type": "display_data"
    },
    {
     "name": "stdout",
     "output_type": "stream",
     "text": [
      "Found 2 scenes for 20190722_030703_1039\n"
     ]
    },
    {
     "data": {
      "application/vnd.jupyter.widget-view+json": {
       "model_id": "ee673cf74dc24ebd85c8f4330696c90d",
       "version_major": 2,
       "version_minor": 0
      },
      "text/plain": [
       "20190719T034541_20190719T034540_T51WWS.tif: |                                              | 0.00/58.5M (raw) …"
      ]
     },
     "metadata": {},
     "output_type": "display_data"
    },
    {
     "data": {
      "application/vnd.jupyter.widget-view+json": {
       "model_id": "bbd91add5f4a4f08af91aefa6db39ab6",
       "version_major": 2,
       "version_minor": 0
      },
      "text/plain": [
       "20190606T033541_20190606T033537_T51WWS.tif: |                                              | 0.00/44.1M (raw) …"
      ]
     },
     "metadata": {},
     "output_type": "display_data"
    },
    {
     "name": "stdout",
     "output_type": "stream",
     "text": [
      "Found 5 scenes for 20190803_000717_0f49\n"
     ]
    },
    {
     "data": {
      "application/vnd.jupyter.widget-view+json": {
       "model_id": "24b66e39d515441b9cc8723ddd24dfa9",
       "version_major": 2,
       "version_minor": 0
      },
      "text/plain": [
       "20180729T084559_20180729T084555_T38WPB.tif: |                                              | 0.00/89.5M (raw) …"
      ]
     },
     "metadata": {},
     "output_type": "display_data"
    },
    {
     "data": {
      "application/vnd.jupyter.widget-view+json": {
       "model_id": "63b5d24ed4954f26b3e83f5b2814772d",
       "version_major": 2,
       "version_minor": 0
      },
      "text/plain": [
       "20190803T034539_20190803T034546_T51WWS.tif: |                                              | 0.00/64.0M (raw) …"
      ]
     },
     "metadata": {},
     "output_type": "display_data"
    },
    {
     "data": {
      "application/vnd.jupyter.widget-view+json": {
       "model_id": "25e01185bec24c059fdb9ed3fdf125d2",
       "version_major": 2,
       "version_minor": 0
      },
      "text/plain": [
       "20190729T034541_20190729T034539_T51WWS.tif: |                                              | 0.00/67.1M (raw) …"
      ]
     },
     "metadata": {},
     "output_type": "display_data"
    },
    {
     "data": {
      "application/vnd.jupyter.widget-view+json": {
       "model_id": "42474c2d52ac4ba9bda693e32cec3000",
       "version_major": 2,
       "version_minor": 0
      },
      "text/plain": [
       "20190726T201851_20190726T201854_T09WWT.tif: |                                              | 0.00/88.3M (raw) …"
      ]
     },
     "metadata": {},
     "output_type": "display_data"
    },
    {
     "data": {
      "application/vnd.jupyter.widget-view+json": {
       "model_id": "0ead49a59eda485aba087673204ea6db",
       "version_major": 2,
       "version_minor": 0
      },
      "text/plain": [
       "20190731T033549_20190731T033543_T51WWS.tif: |                                              | 0.00/63.8M (raw) …"
      ]
     },
     "metadata": {},
     "output_type": "display_data"
    },
    {
     "name": "stdout",
     "output_type": "stream",
     "text": [
      "Found 3 scenes for 20190819_080914_1012\n"
     ]
    },
    {
     "data": {
      "application/vnd.jupyter.widget-view+json": {
       "model_id": "1530096d55db420e9f233ee4f4299ddf",
       "version_major": 2,
       "version_minor": 0
      },
      "text/plain": [
       "20190815T083601_20190815T083603_T38WPC.tif: |                                              | 0.00/94.6M (raw) …"
      ]
     },
     "metadata": {},
     "output_type": "display_data"
    },
    {
     "data": {
      "application/vnd.jupyter.widget-view+json": {
       "model_id": "bbd0d199e66b4aababdf41147757c247",
       "version_major": 2,
       "version_minor": 0
      },
      "text/plain": [
       "20190611T211521_20190611T211516_T07WET.tif: |                                              | 0.00/95.0M (raw) …"
      ]
     },
     "metadata": {},
     "output_type": "display_data"
    },
    {
     "data": {
      "application/vnd.jupyter.widget-view+json": {
       "model_id": "ff448a90eb21482388f19c1a71a93521",
       "version_major": 2,
       "version_minor": 0
      },
      "text/plain": [
       "20190731T033549_20190731T033543_T51WWS.tif: |                                              | 0.00/49.2M (raw) …"
      ]
     },
     "metadata": {},
     "output_type": "display_data"
    },
    {
     "data": {
      "application/vnd.jupyter.widget-view+json": {
       "model_id": "78f6a9455c774f509f73703db9bddf7f",
       "version_major": 2,
       "version_minor": 0
      },
      "text/plain": [
       "20180920T213521_20180920T213524_T07WET.tif: |                                              | 0.00/65.2M (raw) …"
      ]
     },
     "metadata": {},
     "output_type": "display_data"
    },
    {
     "data": {
      "application/vnd.jupyter.widget-view+json": {
       "model_id": "1eb1bee05e1d40ffbe4f57d72304ebf8",
       "version_major": 2,
       "version_minor": 0
      },
      "text/plain": [
       "20190702T085601_20190702T085636_T38WPC.tif: |                                              | 0.00/53.1M (raw) …"
      ]
     },
     "metadata": {},
     "output_type": "display_data"
    },
    {
     "data": {
      "application/vnd.jupyter.widget-view+json": {
       "model_id": "a6ab3f6ef9894e39a1c47d9ea61457a1",
       "version_major": 2,
       "version_minor": 0
      },
      "text/plain": [
       "20190702T085601_20190702T085636_T38WPC.tif: |                                              | 0.00/83.7M (raw) …"
      ]
     },
     "metadata": {},
     "output_type": "display_data"
    },
    {
     "data": {
      "application/vnd.jupyter.widget-view+json": {
       "model_id": "62a3055435b340ac8e0f7033b308964b",
       "version_major": 2,
       "version_minor": 0
      },
      "text/plain": [
       "20190902T212521_20190902T212522_T07WET.tif: |                                              | 0.00/75.2M (raw) …"
      ]
     },
     "metadata": {},
     "output_type": "display_data"
    },
    {
     "name": "stdout",
     "output_type": "stream",
     "text": [
      "Found 1 scenes for 20190921_080320_1011\n"
     ]
    },
    {
     "data": {
      "application/vnd.jupyter.widget-view+json": {
       "model_id": "d154dfbbf1ae47999b7f4bdb7dc61c3a",
       "version_major": 2,
       "version_minor": 0
      },
      "text/plain": [
       "20190907T203011_20190907T203043_T09WWT.tif: |                                              | 0.00/43.4M (raw) …"
      ]
     },
     "metadata": {},
     "output_type": "display_data"
    },
    {
     "data": {
      "application/vnd.jupyter.widget-view+json": {
       "model_id": "a808bffc3b3941d5a75eebd679ccfb70",
       "version_major": 2,
       "version_minor": 0
      },
      "text/plain": [
       "20190610T205029_20190610T205118_T08WNB.tif: |                                              | 0.00/69.1M (raw) …"
      ]
     },
     "metadata": {},
     "output_type": "display_data"
    },
    {
     "data": {
      "application/vnd.jupyter.widget-view+json": {
       "model_id": "ac22ad4f6df74d7396a1a8ebe8ea1ecd",
       "version_major": 2,
       "version_minor": 0
      },
      "text/plain": [
       "20190907T203011_20190907T203043_T09WWT.tif: |                                              | 0.00/65.5M (raw) …"
      ]
     },
     "metadata": {},
     "output_type": "display_data"
    },
    {
     "data": {
      "application/vnd.jupyter.widget-view+json": {
       "model_id": "f61eb79be53b411080054ee0f67ab917",
       "version_major": 2,
       "version_minor": 0
      },
      "text/plain": [
       "20190919T083619_20190919T083937_T38WPC.tif: |                                              | 0.00/42.0M (raw) …"
      ]
     },
     "metadata": {},
     "output_type": "display_data"
    },
    {
     "data": {
      "application/vnd.jupyter.widget-view+json": {
       "model_id": "707ed457b0a84cd0ae74d3b63f20a03c",
       "version_major": 2,
       "version_minor": 0
      },
      "text/plain": [
       "20190626T033541_20190626T033539_T51WWS.tif: |                                              | 0.00/15.8M (raw) …"
      ]
     },
     "metadata": {},
     "output_type": "display_data"
    },
    {
     "data": {
      "application/vnd.jupyter.widget-view+json": {
       "model_id": "8d16fd1b924343d28138d519e1941085",
       "version_major": 2,
       "version_minor": 0
      },
      "text/plain": [
       "20190902T212521_20190902T212522_T07WET.tif: |                                              | 0.00/76.0M (raw) …"
      ]
     },
     "metadata": {},
     "output_type": "display_data"
    },
    {
     "data": {
      "application/vnd.jupyter.widget-view+json": {
       "model_id": "275bc0f6a04e46968ad0b646268dc2a0",
       "version_major": 2,
       "version_minor": 0
      },
      "text/plain": [
       "20190904T201931_20190904T202032_T11XMB.tif: |                                              | 0.00/37.5M (raw) …"
      ]
     },
     "metadata": {},
     "output_type": "display_data"
    },
    {
     "data": {
      "application/vnd.jupyter.widget-view+json": {
       "model_id": "3064a83affd9434f8ee44ee2d3d51996",
       "version_major": 2,
       "version_minor": 0
      },
      "text/plain": [
       "20190727T035549_20190727T035545_T51WWS.tif: |                                              | 0.00/84.6M (raw) …"
      ]
     },
     "metadata": {},
     "output_type": "display_data"
    },
    {
     "data": {
      "application/vnd.jupyter.widget-view+json": {
       "model_id": "c5e6c6a4db82432b9d61ddcb3e019ebd",
       "version_major": 2,
       "version_minor": 0
      },
      "text/plain": [
       "20190801T035541_20190801T035541_T51WWS.tif: |                                              | 0.00/68.9M (raw) …"
      ]
     },
     "metadata": {},
     "output_type": "display_data"
    },
    {
     "data": {
      "application/vnd.jupyter.widget-view+json": {
       "model_id": "6b94ed434a3748889a7ae61c7cde9c56",
       "version_major": 2,
       "version_minor": 0
      },
      "text/plain": [
       "20190905T085559_20190905T090010_T38WPC.tif: |                                              | 0.00/28.6M (raw) …"
      ]
     },
     "metadata": {},
     "output_type": "display_data"
    },
    {
     "data": {
      "application/vnd.jupyter.widget-view+json": {
       "model_id": "47abc160bc444cb784557d607130809e",
       "version_major": 2,
       "version_minor": 0
      },
      "text/plain": [
       "20190907T084601_20190907T084906_T38WPC.tif: |                                              | 0.00/94.8M (raw) …"
      ]
     },
     "metadata": {},
     "output_type": "display_data"
    },
    {
     "data": {
      "application/vnd.jupyter.widget-view+json": {
       "model_id": "8581874d524c46e8bb48cf046911ffab",
       "version_major": 2,
       "version_minor": 0
      },
      "text/plain": [
       "20190911T201021_20190911T201015_T11XMA.tif: |                                              | 0.00/31.8M (raw) …"
      ]
     },
     "metadata": {},
     "output_type": "display_data"
    },
    {
     "data": {
      "application/vnd.jupyter.widget-view+json": {
       "model_id": "6c50bb66dd9c428b862545cb56d8d8a6",
       "version_major": 2,
       "version_minor": 0
      },
      "text/plain": [
       "20190623T210029_20190623T210228_T08WNB.tif: |                                              | 0.00/26.6M (raw) …"
      ]
     },
     "metadata": {},
     "output_type": "display_data"
    },
    {
     "name": "stdout",
     "output_type": "stream",
     "text": [
      "Found 3 scenes for 20190904_193048_0e2f\n",
      "Found 2 scenes for 20190913_030437_1005\n"
     ]
    },
    {
     "data": {
      "application/vnd.jupyter.widget-view+json": {
       "model_id": "7610d7e348944f84912953529d31223f",
       "version_major": 2,
       "version_minor": 0
      },
      "text/plain": [
       "20190903T195919_20190903T195919_T11XMB.tif: |                                              | 0.00/17.6M (raw) …"
      ]
     },
     "metadata": {},
     "output_type": "display_data"
    },
    {
     "data": {
      "application/vnd.jupyter.widget-view+json": {
       "model_id": "084efcbd8de14cb1af90677abf4402a6",
       "version_major": 2,
       "version_minor": 0
      },
      "text/plain": [
       "20190912T034539_20190912T034535_T51WWS.tif: |                                              | 0.00/52.9M (raw) …"
      ]
     },
     "metadata": {},
     "output_type": "display_data"
    },
    {
     "name": "stdout",
     "output_type": "stream",
     "text": [
      "Found 5 scenes for 20190907_195118_1034\n"
     ]
    },
    {
     "data": {
      "application/vnd.jupyter.widget-view+json": {
       "model_id": "a6b8605ded7545328e6fd667ddcc230d",
       "version_major": 2,
       "version_minor": 0
      },
      "text/plain": [
       "20190902T202929_20190902T203500_T09WWT.tif: |                                              | 0.00/65.3M (raw) …"
      ]
     },
     "metadata": {},
     "output_type": "display_data"
    },
    {
     "data": {
      "application/vnd.jupyter.widget-view+json": {
       "model_id": "6635d7e95cf349e293296f6f4e1be5be",
       "version_major": 2,
       "version_minor": 0
      },
      "text/plain": [
       "20180801T035709_20180801T035704_T51WWS.tif: |                                              | 0.00/47.3M (raw) …"
      ]
     },
     "metadata": {},
     "output_type": "display_data"
    },
    {
     "name": "stdout",
     "output_type": "stream",
     "text": [
      "Found 1 scenes for 20190803_164435_1048\n"
     ]
    },
    {
     "data": {
      "application/vnd.jupyter.widget-view+json": {
       "model_id": "cbb1c37c0dda4c38904c1ad4b00a0969",
       "version_major": 2,
       "version_minor": 0
      },
      "text/plain": [
       "20190803T202849_20190803T202949_T09WWT.tif: |                                              | 0.00/50.4M (raw) …"
      ]
     },
     "metadata": {},
     "output_type": "display_data"
    },
    {
     "name": "stdout",
     "output_type": "stream",
     "text": [
      "Found 2 scenes for 20190819_080913_1012\n"
     ]
    },
    {
     "data": {
      "application/vnd.jupyter.widget-view+json": {
       "model_id": "162e6d18d92540a8afc5cea68d9d55e1",
       "version_major": 2,
       "version_minor": 0
      },
      "text/plain": [
       "20190815T083601_20190815T083603_T38WPC.tif: |                                              | 0.00/48.8M (raw) …"
      ]
     },
     "metadata": {},
     "output_type": "display_data"
    },
    {
     "data": {
      "application/vnd.jupyter.widget-view+json": {
       "model_id": "5d469837182547eeb6111e99c3aa0715",
       "version_major": 2,
       "version_minor": 0
      },
      "text/plain": [
       "20190731T033549_20190731T033543_T51WWS.tif: |                                              | 0.00/67.1M (raw) …"
      ]
     },
     "metadata": {},
     "output_type": "display_data"
    },
    {
     "data": {
      "application/vnd.jupyter.widget-view+json": {
       "model_id": "bc7d0d79f28a4f8e8d3ee725def60d71",
       "version_major": 2,
       "version_minor": 0
      },
      "text/plain": [
       "20190722T035541_20190722T035542_T51WWS.tif: |                                              | 0.00/58.5M (raw) …"
      ]
     },
     "metadata": {},
     "output_type": "display_data"
    },
    {
     "data": {
      "application/vnd.jupyter.widget-view+json": {
       "model_id": "1506577a237045a69971e2436c0b7bba",
       "version_major": 2,
       "version_minor": 0
      },
      "text/plain": [
       "20180801T090019_20180801T090014_T38WPB.tif: |                                              | 0.00/89.5M (raw) …"
      ]
     },
     "metadata": {},
     "output_type": "display_data"
    },
    {
     "data": {
      "application/vnd.jupyter.widget-view+json": {
       "model_id": "ce63d6bd8bd34974a368d74eb5f4794b",
       "version_major": 2,
       "version_minor": 0
      },
      "text/plain": [
       "20190727T204029_20190727T204507_T09WWT.tif: |                                              | 0.00/88.3M (raw) …"
      ]
     },
     "metadata": {},
     "output_type": "display_data"
    },
    {
     "data": {
      "application/vnd.jupyter.widget-view+json": {
       "model_id": "c877fd99065a47e8a84669fb8b1946b9",
       "version_major": 2,
       "version_minor": 0
      },
      "text/plain": [
       "20190801T035541_20190801T035541_T51WWS.tif: |                                              | 0.00/63.8M (raw) …"
      ]
     },
     "metadata": {},
     "output_type": "display_data"
    },
    {
     "name": "stdout",
     "output_type": "stream",
     "text": [
      "Found 3 scenes for 20190704_172440_99_1067\n"
     ]
    },
    {
     "data": {
      "application/vnd.jupyter.widget-view+json": {
       "model_id": "27497339cb2748b1a6077eb31936d00d",
       "version_major": 2,
       "version_minor": 0
      },
      "text/plain": [
       "20190818T084601_20190818T085006_T38WPC.tif: |                                              | 0.00/94.6M (raw) …"
      ]
     },
     "metadata": {},
     "output_type": "display_data"
    },
    {
     "data": {
      "application/vnd.jupyter.widget-view+json": {
       "model_id": "f61704ac838e45af9689b68d3eb86846",
       "version_major": 2,
       "version_minor": 0
      },
      "text/plain": [
       "20190806T035549_20190806T035544_T51WWS.tif: |                                              | 0.00/64.0M (raw) …"
      ]
     },
     "metadata": {},
     "output_type": "display_data"
    },
    {
     "data": {
      "application/vnd.jupyter.widget-view+json": {
       "model_id": "dc61e2d908114ba895e75ce8f62a3556",
       "version_major": 2,
       "version_minor": 0
      },
      "text/plain": [
       "20190703T200901_20190703T200857_T11XMB.tif: |                                              | 0.00/74.1M (raw) …"
      ]
     },
     "metadata": {},
     "output_type": "display_data"
    },
    {
     "data": {
      "application/vnd.jupyter.widget-view+json": {
       "model_id": "2f8433fed24440269dd072adb42c9291",
       "version_major": 2,
       "version_minor": 0
      },
      "text/plain": [
       "20190702T085601_20190702T085636_T38WPB.tif: |                                              | 0.00/83.7M (raw) …"
      ]
     },
     "metadata": {},
     "output_type": "display_data"
    },
    {
     "name": "stdout",
     "output_type": "stream",
     "text": [
      "Found 2 scenes for 20190916_030411_1010\n"
     ]
    },
    {
     "data": {
      "application/vnd.jupyter.widget-view+json": {
       "model_id": "90ad3152358a4c01adf0048f9608614e",
       "version_major": 2,
       "version_minor": 0
      },
      "text/plain": [
       "20190912T034539_20190912T034535_T51WWS.tif: |                                              | 0.00/66.7M (raw) …"
      ]
     },
     "metadata": {},
     "output_type": "display_data"
    },
    {
     "data": {
      "application/vnd.jupyter.widget-view+json": {
       "model_id": "5a8b6c6046e04518bc2f0f2ec8cdab5f",
       "version_major": 2,
       "version_minor": 0
      },
      "text/plain": [
       "20190906T210021_20190906T210437_T07WET.tif: |                                              | 0.00/75.2M (raw) …"
      ]
     },
     "metadata": {},
     "output_type": "display_data"
    },
    {
     "data": {
      "application/vnd.jupyter.widget-view+json": {
       "model_id": "0847c92d5b7f49cc98f4eb1857ef3ccb",
       "version_major": 2,
       "version_minor": 0
      },
      "text/plain": [
       "20180921T210141_20180921T210216_T07WET.tif: |                                              | 0.00/65.2M (raw) …"
      ]
     },
     "metadata": {},
     "output_type": "display_data"
    },
    {
     "data": {
      "application/vnd.jupyter.widget-view+json": {
       "model_id": "654992a12fb040ec92515d3165a478e9",
       "version_major": 2,
       "version_minor": 0
      },
      "text/plain": [
       "20190706T083611_20190706T083605_T38WPC.tif: |                                              | 0.00/53.1M (raw) …"
      ]
     },
     "metadata": {},
     "output_type": "display_data"
    },
    {
     "data": {
      "application/vnd.jupyter.widget-view+json": {
       "model_id": "6e5f415697c7459f9002960aeac02c14",
       "version_major": 2,
       "version_minor": 0
      },
      "text/plain": [
       "20190909T202009_20190909T202018_T09WWT.tif: |                                              | 0.00/43.4M (raw) …"
      ]
     },
     "metadata": {},
     "output_type": "display_data"
    },
    {
     "name": "stdout",
     "output_type": "stream",
     "text": [
      "Found 2 scenes for 20190727_160820_1_1020\n"
     ]
    },
    {
     "data": {
      "application/vnd.jupyter.widget-view+json": {
       "model_id": "ca99fff209914f1fb3f792026219ecbd",
       "version_major": 2,
       "version_minor": 0
      },
      "text/plain": [
       "20190627T035549_20190627T035545_T51WWS.tif: |                                              | 0.00/15.8M (raw) …"
      ]
     },
     "metadata": {},
     "output_type": "display_data"
    },
    {
     "name": "stdout",
     "output_type": "stream",
     "text": [
      "Found 1 scenes for 20190726_193719_0f17\n"
     ]
    },
    {
     "data": {
      "application/vnd.jupyter.widget-view+json": {
       "model_id": "540b5a8d23704852bc9ed95688031d77",
       "version_major": 2,
       "version_minor": 0
      },
      "text/plain": [
       "20190726T201851_20190726T201854_T11XMB.tif: |                                              | 0.00/45.4M (raw) …"
      ]
     },
     "metadata": {},
     "output_type": "display_data"
    },
    {
     "data": {
      "application/vnd.jupyter.widget-view+json": {
       "model_id": "30e717021bdf417c99d0a8441460eb5a",
       "version_major": 2,
       "version_minor": 0
      },
      "text/plain": [
       "20190727T204029_20190727T204026_T11XMA.tif: |                                              | 0.00/68.6M (raw) …"
      ]
     },
     "metadata": {},
     "output_type": "display_data"
    },
    {
     "data": {
      "application/vnd.jupyter.widget-view+json": {
       "model_id": "c0ccc74ea6e3492b8f2b0bca5f34d08b",
       "version_major": 2,
       "version_minor": 0
      },
      "text/plain": [
       "20190907T203011_20190907T203043_T11XMB.tif: |                                              | 0.00/37.5M (raw) …"
      ]
     },
     "metadata": {},
     "output_type": "display_data"
    },
    {
     "data": {
      "application/vnd.jupyter.widget-view+json": {
       "model_id": "4472daf58c224c8f8542ba948d9bbdb5",
       "version_major": 2,
       "version_minor": 0
      },
      "text/plain": [
       "20190906T210021_20190906T210437_T07WET.tif: |                                              | 0.00/76.0M (raw) …"
      ]
     },
     "metadata": {},
     "output_type": "display_data"
    },
    {
     "data": {
      "application/vnd.jupyter.widget-view+json": {
       "model_id": "1d3989c3fdb54ffe87741b25e6f71cd2",
       "version_major": 2,
       "version_minor": 0
      },
      "text/plain": [
       "20190729T034541_20190729T034539_T51WWS.tif: |                                              | 0.00/84.6M (raw) …"
      ]
     },
     "metadata": {},
     "output_type": "display_data"
    },
    {
     "data": {
      "application/vnd.jupyter.widget-view+json": {
       "model_id": "4e60192c3ae0463d89b7760545c00f2f",
       "version_major": 2,
       "version_minor": 0
      },
      "text/plain": [
       "20190803T034539_20190803T034546_T51WWS.tif: |                                              | 0.00/68.9M (raw) …"
      ]
     },
     "metadata": {},
     "output_type": "display_data"
    },
    {
     "data": {
      "application/vnd.jupyter.widget-view+json": {
       "model_id": "000a3b4cb28044c190918385848db241",
       "version_major": 2,
       "version_minor": 0
      },
      "text/plain": [
       "20190909T202009_20190909T202018_T09WWT.tif: |                                              | 0.00/65.5M (raw) …"
      ]
     },
     "metadata": {},
     "output_type": "display_data"
    },
    {
     "name": "stdout",
     "output_type": "stream",
     "text": [
      "Found 1 scenes for 20190803_164437_1048\n"
     ]
    },
    {
     "data": {
      "application/vnd.jupyter.widget-view+json": {
       "model_id": "8c6969e945b7481e807b2399c4297f28",
       "version_major": 2,
       "version_minor": 0
      },
      "text/plain": [
       "20190803T202849_20190803T202949_T09WWT.tif: |                                              | 0.00/10.7M (raw) …"
      ]
     },
     "metadata": {},
     "output_type": "display_data"
    },
    {
     "data": {
      "application/vnd.jupyter.widget-view+json": {
       "model_id": "cbfcab469e4f4504b9a1ab85c88d6136",
       "version_major": 2,
       "version_minor": 0
      },
      "text/plain": [
       "20190904T201931_20190904T202032_T11XMB.tif: |                                              | 0.00/17.6M (raw) …"
      ]
     },
     "metadata": {},
     "output_type": "display_data"
    },
    {
     "data": {
      "application/vnd.jupyter.widget-view+json": {
       "model_id": "f97e5761894946f99ba4882663a271f5",
       "version_major": 2,
       "version_minor": 0
      },
      "text/plain": [
       "20190911T201021_20190911T201015_T10XFF.tif: |                                              | 0.00/33.5M (raw) …"
      ]
     },
     "metadata": {},
     "output_type": "display_data"
    },
    {
     "data": {
      "application/vnd.jupyter.widget-view+json": {
       "model_id": "b29595cf69df4faea736842a19930594",
       "version_major": 2,
       "version_minor": 0
      },
      "text/plain": [
       "20190905T085559_20190905T090010_T39WVS.tif: |                                              | 0.00/27.6M (raw) …"
      ]
     },
     "metadata": {},
     "output_type": "display_data"
    },
    {
     "data": {
      "application/vnd.jupyter.widget-view+json": {
       "model_id": "6573504c6a6f4275a1b9be6c0d13e4d3",
       "version_major": 2,
       "version_minor": 0
      },
      "text/plain": [
       "20180803T034541_20180803T034535_T51WWS.tif: |                                              | 0.00/47.3M (raw) …"
      ]
     },
     "metadata": {},
     "output_type": "display_data"
    },
    {
     "data": {
      "application/vnd.jupyter.widget-view+json": {
       "model_id": "4b2cebc2b8cb42d699325826783005ed",
       "version_major": 2,
       "version_minor": 0
      },
      "text/plain": [
       "20190801T035541_20190801T035541_T51WWS.tif: |                                              | 0.00/67.1M (raw) …"
      ]
     },
     "metadata": {},
     "output_type": "display_data"
    },
    {
     "data": {
      "application/vnd.jupyter.widget-view+json": {
       "model_id": "3386127515104105ba01073b26f5bef0",
       "version_major": 2,
       "version_minor": 0
      },
      "text/plain": [
       "20190915T035539_20190915T035536_T51WWS.tif: |                                              | 0.00/52.9M (raw) …"
      ]
     },
     "metadata": {},
     "output_type": "display_data"
    },
    {
     "name": "stdout",
     "output_type": "stream",
     "text": [
      "Found 6 scenes for 20190702_160541_0f49\n"
     ]
    },
    {
     "data": {
      "application/vnd.jupyter.widget-view+json": {
       "model_id": "636bd6e53a934ce892ebe065e27612cb",
       "version_major": 2,
       "version_minor": 0
      },
      "text/plain": [
       "20190702T204021_20190702T204023_T10XFF.tif: |                                              | 0.00/54.7M (raw) …"
      ]
     },
     "metadata": {},
     "output_type": "display_data"
    },
    {
     "name": "stdout",
     "output_type": "stream",
     "text": [
      "Found 1 scenes for 20190820_164143_0f21\n"
     ]
    },
    {
     "data": {
      "application/vnd.jupyter.widget-view+json": {
       "model_id": "f5ce5f9b018348b8b3c06b86bdca2049",
       "version_major": 2,
       "version_minor": 0
      },
      "text/plain": [
       "20190818T084601_20190818T085006_T38WPC.tif: |                                              | 0.00/48.8M (raw) …"
      ]
     },
     "metadata": {},
     "output_type": "display_data"
    },
    {
     "data": {
      "application/vnd.jupyter.widget-view+json": {
       "model_id": "28f7909949544cc3ae533b0ff0951ea5",
       "version_major": 2,
       "version_minor": 0
      },
      "text/plain": [
       "20190821T204021_20190821T204118_T09WWT.tif: |                                              | 0.00/81.7M (raw) …"
      ]
     },
     "metadata": {},
     "output_type": "display_data"
    },
    {
     "name": "stdout",
     "output_type": "stream",
     "text": [
      "Found 4 scenes for 20190829_030343_1006\n"
     ]
    },
    {
     "data": {
      "application/vnd.jupyter.widget-view+json": {
       "model_id": "f87e4d77c4e04593bcbd9a3cab34427b",
       "version_major": 2,
       "version_minor": 0
      },
      "text/plain": [
       "20190905T204019_20190905T204223_T09WWT.tif: |                                              | 0.00/65.3M (raw) …"
      ]
     },
     "metadata": {},
     "output_type": "display_data"
    },
    {
     "data": {
      "application/vnd.jupyter.widget-view+json": {
       "model_id": "282861949e5f406eaccf85b6e16cb0b1",
       "version_major": 2,
       "version_minor": 0
      },
      "text/plain": [
       "20190825T033541_20190825T033537_T51WWS.tif: |                                              | 0.00/79.0M (raw) …"
      ]
     },
     "metadata": {},
     "output_type": "display_data"
    },
    {
     "data": {
      "application/vnd.jupyter.widget-view+json": {
       "model_id": "7d5f554e92bc49b9bb9d75f207db4de2",
       "version_major": 2,
       "version_minor": 0
      },
      "text/plain": [
       "20190728T200859_20190728T200900_T09WWT.tif: |                                              | 0.00/88.3M (raw) …"
      ]
     },
     "metadata": {},
     "output_type": "display_data"
    },
    {
     "name": "stdout",
     "output_type": "stream",
     "text": [
      "Found 0 scenes for 20190801_080518_1014\n",
      "Found 2 scenes for 20190715_000857_0f2a\n"
     ]
    },
    {
     "data": {
      "application/vnd.jupyter.widget-view+json": {
       "model_id": "85abbc4442fa45d9ab8ad46474d01c94",
       "version_major": 2,
       "version_minor": 0
      },
      "text/plain": [
       "20190711T033549_20190711T033544_T51WWS.tif: |                                              | 0.00/54.7M (raw) …"
      ]
     },
     "metadata": {},
     "output_type": "display_data"
    },
    {
     "data": {
      "application/vnd.jupyter.widget-view+json": {
       "model_id": "ea0bf6c490de4cab9f803c7d4163f280",
       "version_major": 2,
       "version_minor": 0
      },
      "text/plain": [
       "20190818T084601_20190818T085006_T38WPB.tif: |                                              | 0.00/94.6M (raw) …"
      ]
     },
     "metadata": {},
     "output_type": "display_data"
    },
    {
     "data": {
      "application/vnd.jupyter.widget-view+json": {
       "model_id": "73ff681bebfb4ca68b612913cbca5080",
       "version_major": 2,
       "version_minor": 0
      },
      "text/plain": [
       "20190704T202849_20190704T203359_T11XMB.tif: |                                              | 0.00/74.1M (raw) …"
      ]
     },
     "metadata": {},
     "output_type": "display_data"
    },
    {
     "data": {
      "application/vnd.jupyter.widget-view+json": {
       "model_id": "6e10bb9d28e14db8b40d69a358603916",
       "version_major": 2,
       "version_minor": 0
      },
      "text/plain": [
       "20190706T083611_20190706T083605_T38WPC.tif: |                                              | 0.00/83.7M (raw) …"
      ]
     },
     "metadata": {},
     "output_type": "display_data"
    },
    {
     "data": {
      "application/vnd.jupyter.widget-view+json": {
       "model_id": "01e89776725b4b92ac5a9fe53381f844",
       "version_major": 2,
       "version_minor": 0
      },
      "text/plain": [
       "20190803T034539_20190803T034546_T51WWS.tif: |                                              | 0.00/63.8M (raw) …"
      ]
     },
     "metadata": {},
     "output_type": "display_data"
    },
    {
     "name": "stdout",
     "output_type": "stream",
     "text": [
      "Found 4 scenes for 20190907_081308_100c\n"
     ]
    },
    {
     "data": {
      "application/vnd.jupyter.widget-view+json": {
       "model_id": "dc9f28d8659c4f7ab8ec89e3448361d5",
       "version_major": 2,
       "version_minor": 0
      },
      "text/plain": [
       "20190905T085559_20190905T090010_T38WPC.tif: |                                              | 0.00/13.8M (raw) …"
      ]
     },
     "metadata": {},
     "output_type": "display_data"
    },
    {
     "data": {
      "application/vnd.jupyter.widget-view+json": {
       "model_id": "b4af16e1f8834fb29b5f2d80b3c5ab75",
       "version_major": 2,
       "version_minor": 0
      },
      "text/plain": [
       "20190629T034541_20190629T034539_T51WWS.tif: |                                              | 0.00/15.8M (raw) …"
      ]
     },
     "metadata": {},
     "output_type": "display_data"
    },
    {
     "name": "stdout",
     "output_type": "stream",
     "text": [
      "Found 6 scenes for 20190702_160542_0f49\n"
     ]
    },
    {
     "data": {
      "application/vnd.jupyter.widget-view+json": {
       "model_id": "fe67dc5afe0f45489bcb16046bc3daf6",
       "version_major": 2,
       "version_minor": 0
      },
      "text/plain": [
       "20190702T204021_20190702T204023_T10XFF.tif: |                                               | 0.00/100M (raw) …"
      ]
     },
     "metadata": {},
     "output_type": "display_data"
    },
    {
     "name": "stdout",
     "output_type": "stream",
     "text": [
      "Found 2 scenes for 20190722_030702_1039\n"
     ]
    },
    {
     "data": {
      "application/vnd.jupyter.widget-view+json": {
       "model_id": "fa37420385a04889a6d3e0aa715662d1",
       "version_major": 2,
       "version_minor": 0
      },
      "text/plain": [
       "20190727T204029_20190727T204026_T10XFF.tif: |                                              | 0.00/79.6M (raw) …"
      ]
     },
     "metadata": {},
     "output_type": "display_data"
    },
    {
     "data": {
      "application/vnd.jupyter.widget-view+json": {
       "model_id": "c6ec813a6a154a04ab9eb1ac1a1bc2b5",
       "version_major": 2,
       "version_minor": 0
      },
      "text/plain": [
       "20190719T034541_20190719T034540_T51WWS.tif: |                                              | 0.00/74.6M (raw) …"
      ]
     },
     "metadata": {},
     "output_type": "display_data"
    },
    {
     "name": "stdout",
     "output_type": "stream",
     "text": [
      "Found 6 scenes for 20190910_194627_103e\n"
     ]
    },
    {
     "data": {
      "application/vnd.jupyter.widget-view+json": {
       "model_id": "24163fb24cb64e57bc20c2545e42e0ae",
       "version_major": 2,
       "version_minor": 0
      },
      "text/plain": [
       "20190915T035539_20190915T035536_T51WWS.tif: |                                              | 0.00/66.7M (raw) …"
      ]
     },
     "metadata": {},
     "output_type": "display_data"
    },
    {
     "name": "stdout",
     "output_type": "stream",
     "text": [
      "Found 4 scenes for 20190829_030342_1006\n"
     ]
    },
    {
     "data": {
      "application/vnd.jupyter.widget-view+json": {
       "model_id": "f898bc9edfd345da80aa62c1adaf74c4",
       "version_major": 2,
       "version_minor": 0
      },
      "text/plain": [
       "20190905T204019_20190905T204223_T11XMA.tif: |                                              | 0.00/59.2M (raw) …"
      ]
     },
     "metadata": {},
     "output_type": "display_data"
    },
    {
     "data": {
      "application/vnd.jupyter.widget-view+json": {
       "model_id": "031930be5aa248e1b097df63394c74e1",
       "version_major": 2,
       "version_minor": 0
      },
      "text/plain": [
       "20190825T033541_20190825T033537_T51WWS.tif: |                                              | 0.00/52.1M (raw) …"
      ]
     },
     "metadata": {},
     "output_type": "display_data"
    },
    {
     "name": "stdout",
     "output_type": "stream",
     "text": [
      "Found 3 scenes for 20180702_025400_0f31\n",
      "Found 1 scenes for 20190928_201421_1035\n"
     ]
    },
    {
     "data": {
      "application/vnd.jupyter.widget-view+json": {
       "model_id": "40e708babdcd4727b7856646f806929e",
       "version_major": 2,
       "version_minor": 0
      },
      "text/plain": [
       "20180627T035541_20180627T035537_T51WWS.tif: |                                              | 0.00/88.2M (raw) …"
      ]
     },
     "metadata": {},
     "output_type": "display_data"
    },
    {
     "data": {
      "application/vnd.jupyter.widget-view+json": {
       "model_id": "9a8544efcf45494d945ff0e0c5229dc9",
       "version_major": 2,
       "version_minor": 0
      },
      "text/plain": [
       "20190925T204209_20190925T204208_T08WNB.tif: |                                              | 0.00/88.3M (raw) …"
      ]
     },
     "metadata": {},
     "output_type": "display_data"
    },
    {
     "name": "stdout",
     "output_type": "stream",
     "text": [
      "Found 1 scenes for 20190723_080936_103b\n"
     ]
    },
    {
     "data": {
      "application/vnd.jupyter.widget-view+json": {
       "model_id": "b5df807ec72b4efb8680b4242612d3fa",
       "version_major": 2,
       "version_minor": 0
      },
      "text/plain": [
       "20190724T084609_20190724T084607_T38WPB.tif: |                                              | 0.00/14.7M (raw) …"
      ]
     },
     "metadata": {},
     "output_type": "display_data"
    },
    {
     "data": {
      "application/vnd.jupyter.widget-view+json": {
       "model_id": "5117e1e1ebe34a498668b1329aa0f682",
       "version_major": 2,
       "version_minor": 0
      },
      "text/plain": [
       "20180924T211511_20180924T211509_T07WET.tif: |                                              | 0.00/65.2M (raw) …"
      ]
     },
     "metadata": {},
     "output_type": "display_data"
    },
    {
     "data": {
      "application/vnd.jupyter.widget-view+json": {
       "model_id": "a85910dc860c43c5823a2614525aa47c",
       "version_major": 2,
       "version_minor": 0
      },
      "text/plain": [
       "20190907T203011_20190907T203043_T11XMB.tif: |                                              | 0.00/17.6M (raw) …"
      ]
     },
     "metadata": {},
     "output_type": "display_data"
    },
    {
     "name": "stdout",
     "output_type": "stream",
     "text": [
      "Found 1 scenes for 20180703_192600_1006\n"
     ]
    },
    {
     "data": {
      "application/vnd.jupyter.widget-view+json": {
       "model_id": "b4bb2cd1d8fc40158d63be03f5db87a3",
       "version_major": 2,
       "version_minor": 0
      },
      "text/plain": [
       "20180703T201009_20180703T201332_T11XMB.tif: |                                              | 0.00/58.8M (raw) …"
      ]
     },
     "metadata": {},
     "output_type": "display_data"
    },
    {
     "name": "stdout",
     "output_type": "stream",
     "text": [
      "Found 3 scenes for 20190921_080322_1011\n"
     ]
    },
    {
     "data": {
      "application/vnd.jupyter.widget-view+json": {
       "model_id": "e7e0652752384d679c77dc7fd9175e37",
       "version_major": 2,
       "version_minor": 0
      },
      "text/plain": [
       "20190919T083619_20190919T083937_T38WPC.tif: |                                              | 0.00/15.6M (raw) …"
      ]
     },
     "metadata": {},
     "output_type": "display_data"
    },
    {
     "data": {
      "application/vnd.jupyter.widget-view+json": {
       "model_id": "ae130979478a41e7a987c492079d928f",
       "version_major": 2,
       "version_minor": 0
      },
      "text/plain": [
       "20190731T033549_20190731T033543_T51WWS.tif: |                                              | 0.00/84.6M (raw) …"
      ]
     },
     "metadata": {},
     "output_type": "display_data"
    },
    {
     "data": {
      "application/vnd.jupyter.widget-view+json": {
       "model_id": "105928f1876043d1bad40962732a132c",
       "version_major": 2,
       "version_minor": 0
      },
      "text/plain": [
       "20190803T034539_20190803T034546_T51WWS.tif: |                                              | 0.00/67.1M (raw) …"
      ]
     },
     "metadata": {},
     "output_type": "display_data"
    },
    {
     "data": {
      "application/vnd.jupyter.widget-view+json": {
       "model_id": "cdadc162334c4024939a4174ddf473a1",
       "version_major": 2,
       "version_minor": 0
      },
      "text/plain": [
       "20190907T084601_20190907T084906_T39WVT.tif: |                                              | 0.00/27.6M (raw) …"
      ]
     },
     "metadata": {},
     "output_type": "display_data"
    },
    {
     "name": "stdout",
     "output_type": "stream",
     "text": [
      "Found 1 scenes for 20190714_194358_1035\n",
      "Found 4 scenes for 20190727_202025_1034\n"
     ]
    },
    {
     "data": {
      "application/vnd.jupyter.widget-view+json": {
       "model_id": "8556e559082846d199012221c489839b",
       "version_major": 2,
       "version_minor": 0
      },
      "text/plain": [
       "20190714T202849_20190714T202852_T09WWT.tif: |                                              | 0.00/84.7M (raw) …"
      ]
     },
     "metadata": {},
     "output_type": "display_data"
    },
    {
     "data": {
      "application/vnd.jupyter.widget-view+json": {
       "model_id": "0a87ce3545864d22851e664eb8c7705a",
       "version_major": 2,
       "version_minor": 0
      },
      "text/plain": [
       "20190725T205031_20190725T205026_T08WNB.tif: |                                              | 0.00/56.0M (raw) …"
      ]
     },
     "metadata": {},
     "output_type": "display_data"
    },
    {
     "data": {
      "application/vnd.jupyter.widget-view+json": {
       "model_id": "f15d787935424ef68ea81d4b6d18ae1a",
       "version_major": 2,
       "version_minor": 0
      },
      "text/plain": [
       "20190702T204021_20190702T204023_T11XMA.tif: |                                              | 0.00/45.9M (raw) …"
      ]
     },
     "metadata": {},
     "output_type": "display_data"
    },
    {
     "name": "stdout",
     "output_type": "stream",
     "text": [
      "Found 6 scenes for 20190702_064217_29_1065\n",
      "Found 2 scenes for 20180704_075857_1044\n"
     ]
    },
    {
     "data": {
      "application/vnd.jupyter.widget-view+json": {
       "model_id": "6323ee1616d0434c9c2f1229ce6eba4a",
       "version_major": 2,
       "version_minor": 0
      },
      "text/plain": [
       "20190627T085609_20190627T090016_T38WPC.tif: |                                              | 0.00/7.35M (raw) …"
      ]
     },
     "metadata": {},
     "output_type": "display_data"
    },
    {
     "name": "stdout",
     "output_type": "stream",
     "text": [
      "Found 1 scenes for 20190928_201420_1035\n"
     ]
    },
    {
     "data": {
      "application/vnd.jupyter.widget-view+json": {
       "model_id": "4a66723073354dfb89293310a681261b",
       "version_major": 2,
       "version_minor": 0
      },
      "text/plain": [
       "20180704T085021_20180704T085016_T38WPB.tif: |                                              | 0.00/88.9M (raw) …"
      ]
     },
     "metadata": {},
     "output_type": "display_data"
    },
    {
     "data": {
      "application/vnd.jupyter.widget-view+json": {
       "model_id": "6fa54e1e2bf54d97aa5047ecf87106ec",
       "version_major": 2,
       "version_minor": 0
      },
      "text/plain": [
       "20190826T035539_20190826T035541_T51WWS.tif: |                                              | 0.00/79.0M (raw) …"
      ]
     },
     "metadata": {},
     "output_type": "display_data"
    },
    {
     "data": {
      "application/vnd.jupyter.widget-view+json": {
       "model_id": "a238a5241b45479d973a5eb1d4134227",
       "version_major": 2,
       "version_minor": 0
      },
      "text/plain": [
       "20190925T204209_20190925T204208_T08WNB.tif: |                                              | 0.00/38.1M (raw) …"
      ]
     },
     "metadata": {},
     "output_type": "display_data"
    },
    {
     "name": "stdout",
     "output_type": "stream",
     "text": [
      "Found 1 scenes for 20190726_193721_0f17\n"
     ]
    },
    {
     "data": {
      "application/vnd.jupyter.widget-view+json": {
       "model_id": "be81d7e83b9144f28821bafbf2295675",
       "version_major": 2,
       "version_minor": 0
      },
      "text/plain": [
       "20190726T201851_20190726T201854_T11XMB.tif: |                                              | 0.00/13.5M (raw) …"
      ]
     },
     "metadata": {},
     "output_type": "display_data"
    },
    {
     "data": {
      "application/vnd.jupyter.widget-view+json": {
       "model_id": "eb74e97828ed4aeeb1a229ed00c63aa0",
       "version_major": 2,
       "version_minor": 0
      },
      "text/plain": [
       "20190708T200859_20190708T201404_T11XMB.tif: |                                              | 0.00/74.1M (raw) …"
      ]
     },
     "metadata": {},
     "output_type": "display_data"
    },
    {
     "data": {
      "application/vnd.jupyter.widget-view+json": {
       "model_id": "d584bd049ff4403db6c985ad581da65f",
       "version_major": 2,
       "version_minor": 0
      },
      "text/plain": [
       "20190906T200939_20190906T200951_T09WWT.tif: |                                              | 0.00/65.3M (raw) …"
      ]
     },
     "metadata": {},
     "output_type": "display_data"
    },
    {
     "name": "stdout",
     "output_type": "stream",
     "text": [
      "Found 4 scenes for 20190622_164800_1048\n"
     ]
    },
    {
     "data": {
      "application/vnd.jupyter.widget-view+json": {
       "model_id": "647854d03a2d475781ff51c3ab83b539",
       "version_major": 2,
       "version_minor": 0
      },
      "text/plain": [
       "20190706T083611_20190706T083605_T38WPB.tif: |                                              | 0.00/83.7M (raw) …"
      ]
     },
     "metadata": {},
     "output_type": "display_data"
    },
    {
     "data": {
      "application/vnd.jupyter.widget-view+json": {
       "model_id": "741dc4c4104544beba7e1c60ee1dc944",
       "version_major": 2,
       "version_minor": 0
      },
      "text/plain": [
       "20190905T085559_20190905T090010_T38WPB.tif: |                                              | 0.00/13.8M (raw) …"
      ]
     },
     "metadata": {},
     "output_type": "display_data"
    },
    {
     "data": {
      "application/vnd.jupyter.widget-view+json": {
       "model_id": "7b843df0a4024a14bed085101462690d",
       "version_major": 2,
       "version_minor": 0
      },
      "text/plain": [
       "20190719T034541_20190719T034540_T51WWS.tif: |                                              | 0.00/54.7M (raw) …"
      ]
     },
     "metadata": {},
     "output_type": "display_data"
    },
    {
     "data": {
      "application/vnd.jupyter.widget-view+json": {
       "model_id": "b568b3c98e7144aab2281edc98d93756",
       "version_major": 2,
       "version_minor": 0
      },
      "text/plain": [
       "20190617T204029_20190617T204229_T09WWT.tif: |                                              | 0.00/53.2M (raw) …"
      ]
     },
     "metadata": {},
     "output_type": "display_data"
    },
    {
     "name": "stdout",
     "output_type": "stream",
     "text": [
      "Found 2 scenes for 20190719_030812_1006\n"
     ]
    },
    {
     "data": {
      "application/vnd.jupyter.widget-view+json": {
       "model_id": "e5cf7a1d00d8489ea3b11ed07fe2e2a1",
       "version_major": 2,
       "version_minor": 0
      },
      "text/plain": [
       "20190719T034541_20190719T034540_T51WWS.tif: |                                              | 0.00/38.6M (raw) …"
      ]
     },
     "metadata": {},
     "output_type": "display_data"
    },
    {
     "data": {
      "application/vnd.jupyter.widget-view+json": {
       "model_id": "09fa6a4e3aea46dfbeb4b9b145902c88",
       "version_major": 2,
       "version_minor": 0
      },
      "text/plain": [
       "20190702T204021_20190702T204023_T11XMA.tif: |                                              | 0.00/88.2M (raw) …"
      ]
     },
     "metadata": {},
     "output_type": "display_data"
    },
    {
     "data": {
      "application/vnd.jupyter.widget-view+json": {
       "model_id": "dda76951623f458dbd8532704ae308d7",
       "version_major": 2,
       "version_minor": 0
      },
      "text/plain": [
       "20190722T035541_20190722T035542_T51WWS.tif: |                                              | 0.00/74.6M (raw) …"
      ]
     },
     "metadata": {},
     "output_type": "display_data"
    },
    {
     "name": "stdout",
     "output_type": "stream",
     "text": [
      "Found 3 scenes for 20190831_030654_0f35\n"
     ]
    },
    {
     "data": {
      "application/vnd.jupyter.widget-view+json": {
       "model_id": "32d382fe132f40cda619ef7d7a1105f4",
       "version_major": 2,
       "version_minor": 0
      },
      "text/plain": [
       "20190826T035539_20190826T035541_T51WWS.tif: |                                              | 0.00/51.8M (raw) …"
      ]
     },
     "metadata": {},
     "output_type": "display_data"
    },
    {
     "name": "stdout",
     "output_type": "stream",
     "text": [
      "Found 1 scenes for 20180923_080225_0f34\n"
     ]
    },
    {
     "data": {
      "application/vnd.jupyter.widget-view+json": {
       "model_id": "56d5d75fa5764795bc9053bf7a187291",
       "version_major": 2,
       "version_minor": 0
      },
      "text/plain": [
       "20180920T085619_20180920T090006_T38WPB.tif: |                                              | 0.00/65.9M (raw) …"
      ]
     },
     "metadata": {},
     "output_type": "display_data"
    },
    {
     "data": {
      "application/vnd.jupyter.widget-view+json": {
       "model_id": "592aefa2cc934c9fa6b8b01626f90830",
       "version_major": 2,
       "version_minor": 0
      },
      "text/plain": [
       "20190905T204019_20190905T204223_T10XFF.tif: |                                              | 0.00/61.4M (raw) …"
      ]
     },
     "metadata": {},
     "output_type": "display_data"
    },
    {
     "name": "stdout",
     "output_type": "stream",
     "text": [
      "Found 3 scenes for 20180729_193041_0f43\n"
     ]
    },
    {
     "data": {
      "application/vnd.jupyter.widget-view+json": {
       "model_id": "556de726a22a4c3d9008b0de1e46671f",
       "version_major": 2,
       "version_minor": 0
      },
      "text/plain": [
       "20180702T035539_20180702T035535_T51WWS.tif: |                                              | 0.00/88.2M (raw) …"
      ]
     },
     "metadata": {},
     "output_type": "display_data"
    },
    {
     "data": {
      "application/vnd.jupyter.widget-view+json": {
       "model_id": "04b321aa54ba4324b3cb9d89a1e122dc",
       "version_major": 2,
       "version_minor": 0
      },
      "text/plain": [
       "20190826T035539_20190826T035541_T51WWS.tif: |                                              | 0.00/52.1M (raw) …"
      ]
     },
     "metadata": {},
     "output_type": "display_data"
    },
    {
     "data": {
      "application/vnd.jupyter.widget-view+json": {
       "model_id": "052240d024f143258d83a09bb1e41af0",
       "version_major": 2,
       "version_minor": 0
      },
      "text/plain": [
       "20180727T204021_20180727T204019_T10XFF.tif: |                                              | 0.00/95.6M (raw) …"
      ]
     },
     "metadata": {},
     "output_type": "display_data"
    },
    {
     "name": "stdout",
     "output_type": "stream",
     "text": [
      "Found 1 scenes for 4694518_0870514_2021-07-15_1064\n"
     ]
    },
    {
     "data": {
      "application/vnd.jupyter.widget-view+json": {
       "model_id": "3cf3009b77a04aa9a508974b69a625b4",
       "version_major": 2,
       "version_minor": 0
      },
      "text/plain": [
       "20210717T210031_20210717T210025_T08WMA.tif: |                                               | 0.00/156M (raw) …"
      ]
     },
     "metadata": {},
     "output_type": "display_data"
    },
    {
     "name": "stdout",
     "output_type": "stream",
     "text": [
      "Found 5 scenes for 20200722_081437_1032\n",
      "Found 3 scenes for 20200814_044133_1026\n"
     ]
    },
    {
     "data": {
      "application/vnd.jupyter.widget-view+json": {
       "model_id": "e57cc31a71a7419e84c85c33040525f0",
       "version_major": 2,
       "version_minor": 0
      },
      "text/plain": [
       "20200722T091601_20200722T091558_T39XWB.tif: |                                              | 0.00/88.2M (raw) …"
      ]
     },
     "metadata": {},
     "output_type": "display_data"
    },
    {
     "data": {
      "application/vnd.jupyter.widget-view+json": {
       "model_id": "5b61051e9b2745b0bc0e2776778510b0",
       "version_major": 2,
       "version_minor": 0
      },
      "text/plain": [
       "20200814T051659_20200814T051654_T49XED.tif: |                                              | 0.00/40.8M (raw) …"
      ]
     },
     "metadata": {},
     "output_type": "display_data"
    },
    {
     "data": {
      "application/vnd.jupyter.widget-view+json": {
       "model_id": "b632f659e8da4edc8b675aa37f53bd72",
       "version_major": 2,
       "version_minor": 0
      },
      "text/plain": [
       "20190919T083619_20190919T083937_T38WPB.tif: |                                              | 0.00/15.6M (raw) …"
      ]
     },
     "metadata": {},
     "output_type": "display_data"
    },
    {
     "data": {
      "application/vnd.jupyter.widget-view+json": {
       "model_id": "7e8d123d0f6f47618fff1697e41f6166",
       "version_major": 2,
       "version_minor": 0
      },
      "text/plain": [
       "20190806T035549_20190806T035544_T51WWS.tif: |                                              | 0.00/67.1M (raw) …"
      ]
     },
     "metadata": {},
     "output_type": "display_data"
    },
    {
     "data": {
      "application/vnd.jupyter.widget-view+json": {
       "model_id": "9345318778fb4bdd98313513b0fc5469",
       "version_major": 2,
       "version_minor": 0
      },
      "text/plain": [
       "20190627T085609_20190627T090016_T38WPB.tif: |                                              | 0.00/7.35M (raw) …"
      ]
     },
     "metadata": {},
     "output_type": "display_data"
    },
    {
     "data": {
      "application/vnd.jupyter.widget-view+json": {
       "model_id": "28c395eb1dee435fa918774bd4217d34",
       "version_major": 2,
       "version_minor": 0
      },
      "text/plain": [
       "20190907T084601_20190907T084906_T38WPC.tif: |                                              | 0.00/28.6M (raw) …"
      ]
     },
     "metadata": {},
     "output_type": "display_data"
    },
    {
     "name": "stdout",
     "output_type": "stream",
     "text": [
      "Found 6 scenes for 20200814_044131_1026\n"
     ]
    },
    {
     "data": {
      "application/vnd.jupyter.widget-view+json": {
       "model_id": "a293df98cdb94ecaba94a24b68d3c095",
       "version_major": 2,
       "version_minor": 0
      },
      "text/plain": [
       "20200814T051659_20200814T051654_T50XMJ.tif: |                                              | 0.00/77.8M (raw) …"
      ]
     },
     "metadata": {},
     "output_type": "display_data"
    },
    {
     "name": "stdout",
     "output_type": "stream",
     "text": [
      "Found 5 scenes for 20200722_081438_1032\n",
      "Found 3 scenes for 20200814_044132_1026\n"
     ]
    },
    {
     "data": {
      "application/vnd.jupyter.widget-view+json": {
       "model_id": "c37035e97bbb4f77aebdb87e7e3ab51e",
       "version_major": 2,
       "version_minor": 0
      },
      "text/plain": [
       "20200722T091601_20200722T091558_T39XWB.tif: |                                              | 0.00/51.9M (raw) …"
      ]
     },
     "metadata": {},
     "output_type": "display_data"
    },
    {
     "data": {
      "application/vnd.jupyter.widget-view+json": {
       "model_id": "0c849bda742c44349a7eac335d9653ec",
       "version_major": 2,
       "version_minor": 0
      },
      "text/plain": [
       "20200814T051659_20200814T051654_T49XED.tif: |                                               | 0.00/133M (raw) …"
      ]
     },
     "metadata": {},
     "output_type": "display_data"
    },
    {
     "data": {
      "application/vnd.jupyter.widget-view+json": {
       "model_id": "548edeb87cfe4235b78df6202438b5b7",
       "version_major": 2,
       "version_minor": 0
      },
      "text/plain": [
       "20190703T200901_20190703T200857_T11XMA.tif: |                                              | 0.00/45.9M (raw) …"
      ]
     },
     "metadata": {},
     "output_type": "display_data"
    },
    {
     "name": "stdout",
     "output_type": "stream",
     "text": [
      "Found 0 scenes for 4751812_3973218_2021-08-01_1026\n"
     ]
    },
    {
     "data": {
      "application/vnd.jupyter.widget-view+json": {
       "model_id": "fa41fcf407ea44c9bfa69d3f219d797c",
       "version_major": 2,
       "version_minor": 0
      },
      "text/plain": [
       "20180707T085601_20180707T085802_T38WPB.tif: |                                              | 0.00/88.9M (raw) …"
      ]
     },
     "metadata": {},
     "output_type": "display_data"
    },
    {
     "name": "stdout",
     "output_type": "stream",
     "text": [
      "Found 3 scenes for 4706735_4472312_2021-07-19_1034\n"
     ]
    },
    {
     "data": {
      "application/vnd.jupyter.widget-view+json": {
       "model_id": "2bcf0c982d244c42a4b03e343a4e8f2c",
       "version_major": 2,
       "version_minor": 0
      },
      "text/plain": [
       "20190727T204029_20190727T204507_T08WNB.tif: |                                              | 0.00/56.0M (raw) …"
      ]
     },
     "metadata": {},
     "output_type": "display_data"
    },
    {
     "data": {
      "application/vnd.jupyter.widget-view+json": {
       "model_id": "075cf06de487466fb5e587b30b27b599",
       "version_major": 2,
       "version_minor": 0
      },
      "text/plain": [
       "20210720T065629_20210720T065624_T44WME.tif: |                                               | 0.00/551M (raw) …"
      ]
     },
     "metadata": {},
     "output_type": "display_data"
    },
    {
     "name": "stdout",
     "output_type": "stream",
     "text": [
      "Found 2 scenes for 3649691_4572917_2020-08-14_1039\n"
     ]
    },
    {
     "data": {
      "application/vnd.jupyter.widget-view+json": {
       "model_id": "881d4d2ffb374edfb02b47ad6c75c962",
       "version_major": 2,
       "version_minor": 0
      },
      "text/plain": [
       "20190828T034541_20190828T034749_T51WWS.tif: |                                              | 0.00/79.0M (raw) …"
      ]
     },
     "metadata": {},
     "output_type": "display_data"
    },
    {
     "data": {
      "application/vnd.jupyter.widget-view+json": {
       "model_id": "ee802424e18540b7b96f3534c6900d6a",
       "version_major": 2,
       "version_minor": 0
      },
      "text/plain": [
       "20200815T062629_20200815T062631_T45XWB.tif: |                                               | 0.00/521M (raw) …"
      ]
     },
     "metadata": {},
     "output_type": "display_data"
    },
    {
     "name": "stdout",
     "output_type": "stream",
     "text": [
      "Found 3 scenes for 4709512_4372018_2021-07-20_2427\n"
     ]
    },
    {
     "data": {
      "application/vnd.jupyter.widget-view+json": {
       "model_id": "20e4e80d980147878c0b57a3a9b6dfd2",
       "version_major": 2,
       "version_minor": 0
      },
      "text/plain": [
       "20210718T070621_20210718T070624_T43WEV.tif: |                                               | 0.00/440M (raw) …"
      ]
     },
     "metadata": {},
     "output_type": "display_data"
    },
    {
     "data": {
      "application/vnd.jupyter.widget-view+json": {
       "model_id": "84ec90d731dc4aa680c16cbed2533f51",
       "version_major": 2,
       "version_minor": 0
      },
      "text/plain": [
       "20190907T084601_20190907T084906_T38WPC.tif: |                                              | 0.00/13.8M (raw) …"
      ]
     },
     "metadata": {},
     "output_type": "display_data"
    },
    {
     "data": {
      "application/vnd.jupyter.widget-view+json": {
       "model_id": "79c51aa9ed344495972f81ae0dd8eb00",
       "version_major": 2,
       "version_minor": 0
      },
      "text/plain": [
       "20190907T203011_20190907T203043_T09WWT.tif: |                                              | 0.00/65.3M (raw) …"
      ]
     },
     "metadata": {},
     "output_type": "display_data"
    },
    {
     "data": {
      "application/vnd.jupyter.widget-view+json": {
       "model_id": "af305f6deb5142d89677e38a7a3129f1",
       "version_major": 2,
       "version_minor": 0
      },
      "text/plain": [
       "20190722T035541_20190722T035542_T51WWS.tif: |                                              | 0.00/38.6M (raw) …"
      ]
     },
     "metadata": {},
     "output_type": "display_data"
    },
    {
     "data": {
      "application/vnd.jupyter.widget-view+json": {
       "model_id": "1f1fd1fda22b4f2ca63bde6a0966d2af",
       "version_major": 2,
       "version_minor": 0
      },
      "text/plain": [
       "20190703T200901_20190703T200857_T11XMA.tif: |                                              | 0.00/88.2M (raw) …"
      ]
     },
     "metadata": {},
     "output_type": "display_data"
    },
    {
     "data": {
      "application/vnd.jupyter.widget-view+json": {
       "model_id": "aa3e858c16b245e398548f99e3c3128a",
       "version_major": 2,
       "version_minor": 0
      },
      "text/plain": [
       "20190621T201859_20190621T201857_T09WWT.tif: |                                              | 0.00/53.2M (raw) …"
      ]
     },
     "metadata": {},
     "output_type": "display_data"
    },
    {
     "data": {
      "application/vnd.jupyter.widget-view+json": {
       "model_id": "38c06b62bee44c8ba6febe9e7b282b79",
       "version_major": 2,
       "version_minor": 0
      },
      "text/plain": [
       "20180704T034541_20180704T034535_T51WWS.tif: |                                              | 0.00/88.2M (raw) …"
      ]
     },
     "metadata": {},
     "output_type": "display_data"
    },
    {
     "data": {
      "application/vnd.jupyter.widget-view+json": {
       "model_id": "d11803a4a00a4e4287cf08efb9fde95f",
       "version_major": 2,
       "version_minor": 0
      },
      "text/plain": [
       "20190828T034541_20190828T034749_T51WWS.tif: |                                              | 0.00/52.1M (raw) …"
      ]
     },
     "metadata": {},
     "output_type": "display_data"
    },
    {
     "data": {
      "application/vnd.jupyter.widget-view+json": {
       "model_id": "46a1417596ce411e85ca60adf7228b42",
       "version_major": 2,
       "version_minor": 0
      },
      "text/plain": [
       "20190702T085601_20190702T085636_T38WPC.tif: |                                              | 0.00/7.35M (raw) …"
      ]
     },
     "metadata": {},
     "output_type": "display_data"
    },
    {
     "data": {
      "application/vnd.jupyter.widget-view+json": {
       "model_id": "546e6651b01b42efbd25d0088b836e58",
       "version_major": 2,
       "version_minor": 0
      },
      "text/plain": [
       "20190828T034541_20190828T034749_T51WWS.tif: |                                              | 0.00/51.8M (raw) …"
      ]
     },
     "metadata": {},
     "output_type": "display_data"
    },
    {
     "data": {
      "application/vnd.jupyter.widget-view+json": {
       "model_id": "5aa075708f61405b9b03083d3329b5f6",
       "version_major": 2,
       "version_minor": 0
      },
      "text/plain": [
       "20180727T204021_20180727T204019_T11XMA.tif: |                                              | 0.00/88.3M (raw) …"
      ]
     },
     "metadata": {},
     "output_type": "display_data"
    },
    {
     "data": {
      "application/vnd.jupyter.widget-view+json": {
       "model_id": "8b07c26fe9d94a43bfb17e6f4e46301f",
       "version_major": 2,
       "version_minor": 0
      },
      "text/plain": [
       "20190907T203011_20190907T203043_T11XMA.tif: |                                              | 0.00/59.2M (raw) …"
      ]
     },
     "metadata": {},
     "output_type": "display_data"
    },
    {
     "data": {
      "application/vnd.jupyter.widget-view+json": {
       "model_id": "045b5002da9e4f748662566b8388aecf",
       "version_major": 2,
       "version_minor": 0
      },
      "text/plain": [
       "20200815T053651_20200815T053647_T49XED.tif: |                                              | 0.00/40.8M (raw) …"
      ]
     },
     "metadata": {},
     "output_type": "display_data"
    },
    {
     "data": {
      "application/vnd.jupyter.widget-view+json": {
       "model_id": "8fccbcd4ec7243b8b1d1f98800be9346",
       "version_major": 2,
       "version_minor": 0
      },
      "text/plain": [
       "20190920T085631_20190920T085857_T38WPB.tif: |                                              | 0.00/15.6M (raw) …"
      ]
     },
     "metadata": {},
     "output_type": "display_data"
    },
    {
     "data": {
      "application/vnd.jupyter.widget-view+json": {
       "model_id": "3a81ed3789a8489cb2d0e57e2f2781ee",
       "version_major": 2,
       "version_minor": 0
      },
      "text/plain": [
       "20200723T084601_20200723T084817_T39XWB.tif: |                                              | 0.00/88.2M (raw) …"
      ]
     },
     "metadata": {},
     "output_type": "display_data"
    },
    {
     "data": {
      "application/vnd.jupyter.widget-view+json": {
       "model_id": "3d50cd6ef1464cb19b43e0e1660e7c58",
       "version_major": 2,
       "version_minor": 0
      },
      "text/plain": [
       "20200814T051659_20200814T051654_T49XED.tif: |                                              | 0.00/66.9M (raw) …"
      ]
     },
     "metadata": {},
     "output_type": "display_data"
    },
    {
     "data": {
      "application/vnd.jupyter.widget-view+json": {
       "model_id": "9a074e791da841258a1e572371261f83",
       "version_major": 2,
       "version_minor": 0
      },
      "text/plain": [
       "20200723T084601_20200723T084817_T39XWB.tif: |                                              | 0.00/51.9M (raw) …"
      ]
     },
     "metadata": {},
     "output_type": "display_data"
    },
    {
     "data": {
      "application/vnd.jupyter.widget-view+json": {
       "model_id": "407009ca664e42b4ae7edaa207af264a",
       "version_major": 2,
       "version_minor": 0
      },
      "text/plain": [
       "20190907T084601_20190907T084906_T39WVS.tif: |                                              | 0.00/27.6M (raw) …"
      ]
     },
     "metadata": {},
     "output_type": "display_data"
    },
    {
     "data": {
      "application/vnd.jupyter.widget-view+json": {
       "model_id": "8f9ea85655ed4499921fe3a897c19739",
       "version_major": 2,
       "version_minor": 0
      },
      "text/plain": [
       "20190703T200901_20190703T200857_T10XFF.tif: |                                              | 0.00/54.7M (raw) …"
      ]
     },
     "metadata": {},
     "output_type": "display_data"
    },
    {
     "data": {
      "application/vnd.jupyter.widget-view+json": {
       "model_id": "58057730b87546c3bc6bb4f954494b38",
       "version_major": 2,
       "version_minor": 0
      },
      "text/plain": [
       "20190728T210031_20190728T210026_T08WNB.tif: |                                              | 0.00/56.0M (raw) …"
      ]
     },
     "metadata": {},
     "output_type": "display_data"
    },
    {
     "data": {
      "application/vnd.jupyter.widget-view+json": {
       "model_id": "1741e120a6194df2ade438d38049d0aa",
       "version_major": 2,
       "version_minor": 0
      },
      "text/plain": [
       "20200815T053651_20200815T053647_T49XED.tif: |                                               | 0.00/133M (raw) …"
      ]
     },
     "metadata": {},
     "output_type": "display_data"
    },
    {
     "data": {
      "application/vnd.jupyter.widget-view+json": {
       "model_id": "28573103bbcd4ad6a6a32c5c4c1e16c9",
       "version_major": 2,
       "version_minor": 0
      },
      "text/plain": [
       "20190831T035541_20190831T035537_T51WWS.tif: |                                              | 0.00/79.0M (raw) …"
      ]
     },
     "metadata": {},
     "output_type": "display_data"
    },
    {
     "data": {
      "application/vnd.jupyter.widget-view+json": {
       "model_id": "2001a1cef5a944f8a3ae9c94515443e2",
       "version_major": 2,
       "version_minor": 0
      },
      "text/plain": [
       "20190907T084601_20190907T084906_T38WPB.tif: |                                              | 0.00/13.8M (raw) …"
      ]
     },
     "metadata": {},
     "output_type": "display_data"
    },
    {
     "data": {
      "application/vnd.jupyter.widget-view+json": {
       "model_id": "75f354be71ca4e0ab4676ec6359f81c8",
       "version_major": 2,
       "version_minor": 0
      },
      "text/plain": [
       "20190702T085601_20190702T085636_T38WPB.tif: |                                              | 0.00/7.35M (raw) …"
      ]
     },
     "metadata": {},
     "output_type": "display_data"
    },
    {
     "data": {
      "application/vnd.jupyter.widget-view+json": {
       "model_id": "f202c2be0b084ff1935f281035f79ae3",
       "version_major": 2,
       "version_minor": 0
      },
      "text/plain": [
       "20190703T200901_20190703T200857_T10XFF.tif: |                                               | 0.00/100M (raw) …"
      ]
     },
     "metadata": {},
     "output_type": "display_data"
    },
    {
     "data": {
      "application/vnd.jupyter.widget-view+json": {
       "model_id": "bcc286f533b44f98bc292d2b16b8a7aa",
       "version_major": 2,
       "version_minor": 0
      },
      "text/plain": [
       "20190909T202009_20190909T202018_T09WWT.tif: |                                              | 0.00/65.3M (raw) …"
      ]
     },
     "metadata": {},
     "output_type": "display_data"
    },
    {
     "data": {
      "application/vnd.jupyter.widget-view+json": {
       "model_id": "a5e886d1a4834f0cb91185fd0fe8ba01",
       "version_major": 2,
       "version_minor": 0
      },
      "text/plain": [
       "20190622T204021_20190622T204141_T09WWT.tif: |                                              | 0.00/53.2M (raw) …"
      ]
     },
     "metadata": {},
     "output_type": "display_data"
    },
    {
     "data": {
      "application/vnd.jupyter.widget-view+json": {
       "model_id": "9b1d2395466f4088bd837f6a49510410",
       "version_major": 2,
       "version_minor": 0
      },
      "text/plain": [
       "20190831T035541_20190831T035537_T51WWS.tif: |                                              | 0.00/51.8M (raw) …"
      ]
     },
     "metadata": {},
     "output_type": "display_data"
    },
    {
     "data": {
      "application/vnd.jupyter.widget-view+json": {
       "model_id": "ea45314cc3fd462cafd26fd11a295755",
       "version_major": 2,
       "version_minor": 0
      },
      "text/plain": [
       "20190831T035541_20190831T035537_T51WWS.tif: |                                              | 0.00/52.1M (raw) …"
      ]
     },
     "metadata": {},
     "output_type": "display_data"
    },
    {
     "data": {
      "application/vnd.jupyter.widget-view+json": {
       "model_id": "9108466ef1714e988ab4b5269ac57c3a",
       "version_major": 2,
       "version_minor": 0
      },
      "text/plain": [
       "20200816T050701_20200816T050659_T49XED.tif: |                                              | 0.00/40.8M (raw) …"
      ]
     },
     "metadata": {},
     "output_type": "display_data"
    },
    {
     "data": {
      "application/vnd.jupyter.widget-view+json": {
       "model_id": "76477e5c11a34a3aaddccf2a8bd47c1b",
       "version_major": 2,
       "version_minor": 0
      },
      "text/plain": [
       "20180801T204019_20180801T204405_T10XFF.tif: |                                              | 0.00/95.6M (raw) …"
      ]
     },
     "metadata": {},
     "output_type": "display_data"
    },
    {
     "data": {
      "application/vnd.jupyter.widget-view+json": {
       "model_id": "f63df087940842dca24e51ff93d05d5c",
       "version_major": 2,
       "version_minor": 0
      },
      "text/plain": [
       "20200724T090559_20200724T090556_T39XWB.tif: |                                              | 0.00/88.2M (raw) …"
      ]
     },
     "metadata": {},
     "output_type": "display_data"
    },
    {
     "data": {
      "application/vnd.jupyter.widget-view+json": {
       "model_id": "56e36b00ad2e45c89ec09064aeb331d8",
       "version_major": 2,
       "version_minor": 0
      },
      "text/plain": [
       "20190907T203011_20190907T203043_T10XFF.tif: |                                              | 0.00/61.4M (raw) …"
      ]
     },
     "metadata": {},
     "output_type": "display_data"
    },
    {
     "data": {
      "application/vnd.jupyter.widget-view+json": {
       "model_id": "a01b7b1c963249a19cbb6b4192fff4bd",
       "version_major": 2,
       "version_minor": 0
      },
      "text/plain": [
       "20200724T090559_20200724T090556_T39XWB.tif: |                                              | 0.00/51.9M (raw) …"
      ]
     },
     "metadata": {},
     "output_type": "display_data"
    },
    {
     "data": {
      "application/vnd.jupyter.widget-view+json": {
       "model_id": "10ee383adc2940a3a9736cb5ad2cda6f",
       "version_major": 2,
       "version_minor": 0
      },
      "text/plain": [
       "20190704T202849_20190704T203359_T10XFF.tif: |                                              | 0.00/54.7M (raw) …"
      ]
     },
     "metadata": {},
     "output_type": "display_data"
    },
    {
     "data": {
      "application/vnd.jupyter.widget-view+json": {
       "model_id": "837848a0739c4dcdb320598d9aabe69c",
       "version_major": 2,
       "version_minor": 0
      },
      "text/plain": [
       "20200815T053651_20200815T053647_T50XMJ.tif: |                                              | 0.00/77.8M (raw) …"
      ]
     },
     "metadata": {},
     "output_type": "display_data"
    },
    {
     "data": {
      "application/vnd.jupyter.widget-view+json": {
       "model_id": "2bc092e94da240368b87ed99cd7c3b7a",
       "version_major": 2,
       "version_minor": 0
      },
      "text/plain": [
       "20190730T205029_20190730T205119_T08WNB.tif: |                                              | 0.00/56.0M (raw) …"
      ]
     },
     "metadata": {},
     "output_type": "display_data"
    },
    {
     "data": {
      "application/vnd.jupyter.widget-view+json": {
       "model_id": "eb7a29e9f12044038dd821e343d29fdc",
       "version_major": 2,
       "version_minor": 0
      },
      "text/plain": [
       "20190706T083611_20190706T083605_T38WPC.tif: |                                              | 0.00/7.35M (raw) …"
      ]
     },
     "metadata": {},
     "output_type": "display_data"
    },
    {
     "data": {
      "application/vnd.jupyter.widget-view+json": {
       "model_id": "b7d8b7a60d7a4c898c4a1cdcf00bb4d5",
       "version_major": 2,
       "version_minor": 0
      },
      "text/plain": [
       "20200816T050701_20200816T050659_T49XED.tif: |                                               | 0.00/133M (raw) …"
      ]
     },
     "metadata": {},
     "output_type": "display_data"
    },
    {
     "data": {
      "application/vnd.jupyter.widget-view+json": {
       "model_id": "1e932ec3446843d1a0995e967d4441b7",
       "version_major": 2,
       "version_minor": 0
      },
      "text/plain": [
       "20210720T065629_20210720T065624_T43WFV.tif: |                                               | 0.00/619M (raw) …"
      ]
     },
     "metadata": {},
     "output_type": "display_data"
    },
    {
     "data": {
      "application/vnd.jupyter.widget-view+json": {
       "model_id": "072152c6e0db4eb0b65aff8004186286",
       "version_major": 2,
       "version_minor": 0
      },
      "text/plain": [
       "20200818T063629_20200818T063629_T45XWB.tif: |                                               | 0.00/521M (raw) …"
      ]
     },
     "metadata": {},
     "output_type": "display_data"
    },
    {
     "data": {
      "application/vnd.jupyter.widget-view+json": {
       "model_id": "e8b68981832b4418a28babccd47bfb4e",
       "version_major": 2,
       "version_minor": 0
      },
      "text/plain": [
       "20210720T065629_20210720T065624_T43WEV.tif: |                                               | 0.00/440M (raw) …"
      ]
     },
     "metadata": {},
     "output_type": "display_data"
    },
    {
     "data": {
      "application/vnd.jupyter.widget-view+json": {
       "model_id": "1d1035db819947b08171e40d89fedf2b",
       "version_major": 2,
       "version_minor": 0
      },
      "text/plain": [
       "20190704T202849_20190704T203359_T10XFF.tif: |                                               | 0.00/100M (raw) …"
      ]
     },
     "metadata": {},
     "output_type": "display_data"
    },
    {
     "data": {
      "application/vnd.jupyter.widget-view+json": {
       "model_id": "ef0c9571dc8b4947b953e5b00cfee23d",
       "version_major": 2,
       "version_minor": 0
      },
      "text/plain": [
       "20190624T202849_20190624T203522_T09WWT.tif: |                                              | 0.00/53.2M (raw) …"
      ]
     },
     "metadata": {},
     "output_type": "display_data"
    },
    {
     "data": {
      "application/vnd.jupyter.widget-view+json": {
       "model_id": "676b90ff3c15445299113f632a4ee620",
       "version_major": 2,
       "version_minor": 0
      },
      "text/plain": [
       "20190706T083611_20190706T083605_T38WPB.tif: |                                              | 0.00/7.35M (raw) …"
      ]
     },
     "metadata": {},
     "output_type": "display_data"
    },
    {
     "data": {
      "application/vnd.jupyter.widget-view+json": {
       "model_id": "79f30cf7369d43e0ad0b5b56621b80aa",
       "version_major": 2,
       "version_minor": 0
      },
      "text/plain": [
       "20200725T083559_20200725T083754_T39XWB.tif: |                                              | 0.00/88.2M (raw) …"
      ]
     },
     "metadata": {},
     "output_type": "display_data"
    },
    {
     "data": {
      "application/vnd.jupyter.widget-view+json": {
       "model_id": "dee17801dd6f4c289bd95cdefe1f5655",
       "version_major": 2,
       "version_minor": 0
      },
      "text/plain": [
       "20200725T083559_20200725T083754_T39XWB.tif: |                                              | 0.00/51.9M (raw) …"
      ]
     },
     "metadata": {},
     "output_type": "display_data"
    },
    {
     "data": {
      "application/vnd.jupyter.widget-view+json": {
       "model_id": "939c44f00bf44b51904768b31b176aeb",
       "version_major": 2,
       "version_minor": 0
      },
      "text/plain": [
       "20200815T053651_20200815T053647_T49XED.tif: |                                              | 0.00/66.9M (raw) …"
      ]
     },
     "metadata": {},
     "output_type": "display_data"
    },
    {
     "data": {
      "application/vnd.jupyter.widget-view+json": {
       "model_id": "dfdcc8a510b2410e81cc4b74df3e6223",
       "version_major": 2,
       "version_minor": 0
      },
      "text/plain": [
       "20190911T201021_20190911T201015_T11XMA.tif: |                                              | 0.00/59.2M (raw) …"
      ]
     },
     "metadata": {},
     "output_type": "display_data"
    },
    {
     "data": {
      "application/vnd.jupyter.widget-view+json": {
       "model_id": "3d4a8f7987924caebfe7044c6367b67f",
       "version_major": 2,
       "version_minor": 0
      },
      "text/plain": [
       "20190704T202849_20190704T203359_T11XMA.tif: |                                              | 0.00/45.9M (raw) …"
      ]
     },
     "metadata": {},
     "output_type": "display_data"
    },
    {
     "data": {
      "application/vnd.jupyter.widget-view+json": {
       "model_id": "72234d6476f842b9a44f0f07fc3bf935",
       "version_major": 2,
       "version_minor": 0
      },
      "text/plain": [
       "20190704T202849_20190704T203359_T11XMA.tif: |                                              | 0.00/88.2M (raw) …"
      ]
     },
     "metadata": {},
     "output_type": "display_data"
    },
    {
     "data": {
      "application/vnd.jupyter.widget-view+json": {
       "model_id": "e076dffaf7e14517bf539e1390de328c",
       "version_major": 2,
       "version_minor": 0
      },
      "text/plain": [
       "20200726T085601_20200726T085601_T39XWB.tif: |                                              | 0.00/88.2M (raw) …"
      ]
     },
     "metadata": {},
     "output_type": "display_data"
    },
    {
     "data": {
      "application/vnd.jupyter.widget-view+json": {
       "model_id": "a941e12465a04f23a1aa4bd29bac4121",
       "version_major": 2,
       "version_minor": 0
      },
      "text/plain": [
       "20200726T085601_20200726T085601_T39XWB.tif: |                                              | 0.00/51.9M (raw) …"
      ]
     },
     "metadata": {},
     "output_type": "display_data"
    },
    {
     "data": {
      "application/vnd.jupyter.widget-view+json": {
       "model_id": "7c2704746f4f4fe8bb76a0a8574f2b6a",
       "version_major": 2,
       "version_minor": 0
      },
      "text/plain": [
       "20200816T050701_20200816T050659_T50XMJ.tif: |                                              | 0.00/77.8M (raw) …"
      ]
     },
     "metadata": {},
     "output_type": "display_data"
    },
    {
     "data": {
      "application/vnd.jupyter.widget-view+json": {
       "model_id": "f157860e870843f68ecfed1880b1a5cc",
       "version_major": 2,
       "version_minor": 0
      },
      "text/plain": [
       "20190911T201021_20190911T201015_T10XFF.tif: |                                              | 0.00/61.4M (raw) …"
      ]
     },
     "metadata": {},
     "output_type": "display_data"
    },
    {
     "data": {
      "application/vnd.jupyter.widget-view+json": {
       "model_id": "a841eb1076fa438282eb1efce713af05",
       "version_major": 2,
       "version_minor": 0
      },
      "text/plain": [
       "20210721T071621_20210721T071725_T44WME.tif: |                                               | 0.00/551M (raw) …"
      ]
     },
     "metadata": {},
     "output_type": "display_data"
    },
    {
     "data": {
      "application/vnd.jupyter.widget-view+json": {
       "model_id": "a160ce4ebeb6439ea0df9dad3014ca69",
       "version_major": 2,
       "version_minor": 0
      },
      "text/plain": [
       "20210723T070629_20210723T070721_T43WEV.tif: |                                               | 0.00/440M (raw) …"
      ]
     },
     "metadata": {},
     "output_type": "display_data"
    },
    {
     "data": {
      "application/vnd.jupyter.widget-view+json": {
       "model_id": "6dc36739dc0d40a9b2aaad0e03eb0ea0",
       "version_major": 2,
       "version_minor": 0
      },
      "text/plain": [
       "20200816T050701_20200816T050659_T49XED.tif: |                                              | 0.00/66.9M (raw) …"
      ]
     },
     "metadata": {},
     "output_type": "display_data"
    }
   ],
   "source": [
    "def get_scene(i):\n",
    "  image_id, image_date, geom = scenes.loc[i, ['image_id', 'image_date', 'geometry']]\n",
    "\n",
    "  minx, miny, maxx, maxy = geom.bounds\n",
    "  centroid_x = 0.5 * (minx + maxx)\n",
    "  UTMZone = int(math.ceil((180 + centroid_x) / 6))\n",
    "  CRS = f'EPSG:326{UTMZone:02d}'\n",
    "  geom = gpd.GeoSeries(geom, crs='EPSG:4326').to_crs(CRS)[0]\n",
    "  \n",
    "  # Define ROI as a ee Geometry\n",
    "  bounds = ee.Geometry.Polygon(list(geom.exterior.coords),\n",
    "    proj=CRS, evenOdd=False)\n",
    "\n",
    "  imgs = s2.search(\n",
    "    start_date=image_date - lookback,  # Select starting `lookback` days before PSOrthoTile\n",
    "    end_date=image_date + lookahead,   # Select until `lookahead` days after PSOrthoTile\n",
    "    region=bounds,\n",
    "    fill_portion=90,             # Ensure at least 90% of pixels are valid\n",
    "    custom_filter='CLOUDY_PIXEL_PERCENTAGE < 20'  # Filter Scenes with too many clouds\n",
    "  )\n",
    "  \n",
    "  print(f'Found {len(imgs.properties)} scenes for {image_id}')\n",
    "  for img in imgs.properties:\n",
    "    s2_id = img.split('/')[-1]\n",
    "    outpath = Path(f'data/Sentinel2/{image_id}/{s2_id}.tif')\n",
    "    if outpath.exists():\n",
    "      continue\n",
    "    outpath.parent.mkdir(parents=True, exist_ok=True)\n",
    "    \n",
    "    # By default, geedim downloads scenes at native resolution and CRS\n",
    "    gd.MaskedImage.from_id(img).download(outpath, region=bounds)\n",
    "    \n",
    "    # Save S2 image metadata, we might need that later\n",
    "    with outpath.with_suffix('.json').open('w') as f:\n",
    "      json.dump(imgs.properties[img], f)\n",
    "\n",
    "      \n",
    "with ThreadPoolExecutor(32) as executor:\n",
    "  list(tqdm(executor.map(get_scene, scenes.index), total=len(scenes)))"
   ]
  },
  {
   "cell_type": "markdown",
   "id": "09e7bb88",
   "metadata": {},
   "source": [
    "# The `geedim` way\n",
    "\n",
    "Best approach so far – TODO: Parallelization"
   ]
  },
  {
   "cell_type": "code",
   "execution_count": null,
   "id": "35912c18",
   "metadata": {},
   "outputs": [],
   "source": [
    "import geedim as gd\n",
    "gd.Initialize()\n",
    "\n",
    "BANDS = ['B1', 'B2', 'B3', 'B4', 'B5', 'B6', 'B7', 'B8', 'B8A', 'B9', 'B10', 'B11', 'B12']\n",
    "\n",
    "lookback  = pd.Timedelta(days=5)\n",
    "lookahead = pd.Timedelta(days=5)\n",
    "\n",
    "s2 = gd.MaskedCollection.from_name(\"COPERNICUS/S2_HARMONIZED\")"
   ]
  },
  {
   "cell_type": "code",
   "execution_count": null,
   "id": "0f8d6da7",
   "metadata": {},
   "outputs": [],
   "source": [
    "for (image_id, image_date, region), shapes in tqdm(gdf.groupby(['image_id', 'image_date', 'region'])):\n",
    "  date = pd.to_datetime(image_date) \n",
    "\n",
    "  # Calculate UTM Zone from the region centroid\n",
    "  centroid_x = 0.5 * (shapes.bounds.minx.min() + shapes.bounds.maxx.max())\n",
    "  UTMZone = int(math.ceil((180 + centroid_x) / 6))\n",
    "  CRS = f'EPSG:326{UTMZone:02d}'\n",
    "  \n",
    "  # Define ROI as a ee Geometry\n",
    "  shapes = shapes.to_crs(CRS)\n",
    "  bounds = shapes.bounds\n",
    "  bounds = ee.Geometry.Rectangle(\n",
    "    # xMin, yMin, xMax, yMax\n",
    "    [bounds.minx.min(), bounds.miny.min(),\n",
    "     bounds.maxx.max(), bounds.maxy.max()],\n",
    "    proj=CRS, geodesic=True, evenOdd=False)\n",
    "\n",
    "  \n",
    "  imgs = s2.search(\n",
    "    start_date=date - lookback,  # Select starting `lookback` days before PSOrthoTile\n",
    "    end_date=date + lookahead,   # Select until `lookahead` days after PSOrthoTile\n",
    "    region=bounds,\n",
    "    fill_portion=90,             # Ensure at least 90% of pixels are valid\n",
    "    custom_filter='CLOUDY_PIXEL_PERCENTAGE < 20'  # Filter Scenes with too many clouds\n",
    "  )\n",
    "  \n",
    "  print(f'Found {len(imgs.properties)} scenes for {image_id}')\n",
    "  for img in imgs.properties:\n",
    "    s2_id = img.split('/')[-1]\n",
    "    outpath = Path(f'data/Sentinel2/{image_id}/{s2_id}.tif')\n",
    "    outpath.parent.mkdir(parents=True, exist_ok=True)\n",
    "    \n",
    "    # By default, geedim downloads scenes at native resolution and CRS\n",
    "    gd.MaskedImage.from_id(img).download(outpath, region=bounds)\n",
    "    \n",
    "    # Save S2 image metadata, we might need that later\n",
    "    with outpath.with_suffix('.json').open('w') as f:\n",
    "      json.dump(imgs.properties[img], f)"
   ]
  },
  {
   "cell_type": "markdown",
   "id": "233f3816",
   "metadata": {},
   "source": [
    "# The vanilla `ee` way\n",
    "\n",
    "Works, but is kind of clumsy with regards to getting the data in and out of GDrive."
   ]
  },
  {
   "cell_type": "code",
   "execution_count": null,
   "id": "c235976e",
   "metadata": {
    "scrolled": false
   },
   "outputs": [],
   "source": [
    "ee.Initialize()\n",
    "\n",
    "DRIVE_FOLDER = 'RTS_S2'\n",
    "BANDS = ['B1', 'B2', 'B3', 'B4', 'B5', 'B6', 'B7', 'B8', 'B8A', 'B9', 'B10', 'B11', 'B12']\n",
    "\n",
    "s2 = ee.ImageCollection(\"COPERNICUS/S2_HARMONIZED\")\n",
    "\n",
    "lookback  = pd.Timedelta(days=14)\n",
    "lookahead = pd.Timedelta(days=7)\n",
    "\n",
    "tasklist = []\n",
    "\n",
    "for (image_id, image_date, region), shapes in tqdm(gdf.groupby(['image_id', 'image_date', 'region'])): \n",
    "  centroid_x = 0.5 * (shapes.bounds.minx.min() + shapes.bounds.maxx.max())\n",
    "  UTMZone = int(math.ceil((180 + centroid_x) / 6))\n",
    "  CRS = f'EPSG:326{UTMZone:02d}'\n",
    "  \n",
    "  shapes = shapes.to_crs(CRS)\n",
    "  bounds = shapes.bounds\n",
    "  bounds = ee.Geometry.Rectangle(\n",
    "    # xMin, yMin, xMax, yMax\n",
    "    [bounds.minx.min(), bounds.miny.min(),\n",
    "     bounds.maxx.max(), bounds.maxy.max()],\n",
    "    proj=CRS, geodesic=True, evenOdd=False)\n",
    "  \n",
    "  date = pd.to_datetime(image_date)\n",
    "  \n",
    "  imgs = s2\n",
    "  imgs = imgs.filterDate(date-lookback, date+lookahead)\n",
    "  imgs = imgs.filterBounds(bounds)\n",
    "  # imgs = imgs.filter(ee.Filter.intersects(leftField='.all', rightValue=ee.Feature(bounds)))\n",
    "  imgs = imgs.filter(ee.Filter.contains(leftField='.all', rightValue=ee.Feature(bounds)))\n",
    "  imgs = imgs.filter(ee.Filter.lt('CLOUDY_PIXEL_PERCENTAGE', 20))\n",
    "  imgs = imgs.select(BANDS)\n",
    "  imgs = imgs.map(lambda x: x.clip(bounds))\n",
    "  \n",
    "  total = imgs.size().getInfo()\n",
    "  print(f'{image_id}: {total}')\n",
    "  imgs = imgs.toList(total)\n",
    "\n",
    "  for i in range(total):\n",
    "    img = ee.Image(imgs.get(i))\n",
    "    metadata = img.toDictionary().getInfo()\n",
    "\n",
    "    timestamp = datetime.fromtimestamp(img.date().getInfo()['value'] / 1000)\n",
    "    day = timestamp.isoformat().split('T')[0]\n",
    "\n",
    "    filename = f'{image_id}_{day}'\n",
    "\n",
    "    task = ee.batch.Export.image.toDrive(\n",
    "        image=img,\n",
    "        description=filename,\n",
    "        scale=10,\n",
    "        region=bounds,\n",
    "        fileNamePrefix=filename,\n",
    "        folder=DRIVE_FOLDER,\n",
    "        skipEmptyTiles=True,\n",
    "        crs=CRS,\n",
    "    )\n",
    "    task.start()\n",
    "    tasklist.append(task)\n",
    "    \n",
    "    with open(f'data/Sentinel2/{filename}.json', 'w') as f:\n",
    "      json.dump(metadata, f)\n",
    "      \n",
    "  print(f\"Done with {image_id}\")\n",
    "  break"
   ]
  },
  {
   "cell_type": "markdown",
   "id": "feae6aac",
   "metadata": {},
   "source": [
    "# The `wxee` way\n",
    "\n",
    "We seem to get lots of `nan` bands this way... Not sure why. Let's not use wxee."
   ]
  },
  {
   "cell_type": "code",
   "execution_count": null,
   "id": "36be7ae6",
   "metadata": {},
   "outputs": [],
   "source": [
    "import wxee\n",
    "wxee.Initialize()\n",
    "\n",
    "BANDS = ['B1', 'B2', 'B3', 'B4', 'B5', 'B6', 'B7', 'B8', 'B8A', 'B9', 'B10', 'B11', 'B12']\n",
    "\n",
    "s2 = ee.ImageCollection(\"COPERNICUS/S2_HARMONIZED\")\n",
    "\n",
    "lookback  = pd.Timedelta(days=14)\n",
    "lookahead = pd.Timedelta(days=7)\n",
    "\n",
    "id2paths = {}\n",
    "\n",
    "for (image_id, image_date, region), shapes in tqdm(gdf.groupby(['image_id', 'image_date', 'region'])):\n",
    "  if Path(f'data/Sentinel2/{image_id}/').exists():\n",
    "    # Skip already downloaded tiles\n",
    "    continue\n",
    "  \n",
    "  centroid_x = 0.5 * (shapes.bounds.minx.min() + shapes.bounds.maxx.max())\n",
    "  UTMZone = int(math.ceil((180 + centroid_x) / 6))\n",
    "  CRS = f'EPSG:326{UTMZone:02d}'\n",
    "  \n",
    "  shapes = shapes.to_crs(CRS)\n",
    "  bounds = shapes.bounds  \n",
    "  bounds = ee.Geometry.Rectangle(\n",
    "    # xMin, yMin, xMax, yMax\n",
    "    [bounds.minx.min(), bounds.miny.min(),\n",
    "     bounds.maxx.max(), bounds.maxy.max()],\n",
    "    proj=CRS, geodesic=True, evenOdd=False)\n",
    "  \n",
    "  date = pd.to_datetime(image_date)\n",
    "  \n",
    "  imgs = s2\n",
    "  imgs = imgs.filterDate(date-lookback, date+lookahead)\n",
    "  imgs = imgs.filterBounds(bounds)\n",
    "  # imgs = imgs.filter(ee.Filter.intersects(leftField='.all', rightValue=ee.Feature(bounds)))\n",
    "  imgs = imgs.filter(ee.Filter.contains(leftField='.all', rightValue=ee.Feature(bounds)))\n",
    "  imgs = imgs.filter(ee.Filter.lt('CLOUDY_PIXEL_PERCENTAGE', 20))\n",
    "  imgs = imgs.map(lambda x: x.clip(bounds))\n",
    "   \n",
    "  # acquisition_times = imgs.aggregate_array(\"system:time_start\").getInfo()\n",
    "  # closest = np.argmin(np.abs(np.asarray(acquisition_times) - date.value / 1e6))\n",
    "  # img = imgs.toList(imgs, len(acquisition_times)).get(closest)\n",
    "  \n",
    "  try:\n",
    "    data = imgs.wx.to_xarray(scale=10, crs=CRS)\n",
    "  except ee.EEException:\n",
    "    print(f'Got EEException for {image_id}, retrying bandwise...')\n",
    "    data = []\n",
    "    for band in BANDS:\n",
    "      data.append(imgs.select([band]).wx.to_xarray(scale=10, crs=CRS))\n",
    "    data = xarray.merge(data)\n",
    "    \n",
    "  if not data.dims:\n",
    "    # Empty data...\n",
    "    continue\n",
    "  \n",
    "  for time, image in data.groupby('time'):\n",
    "    day = str(time).split('T')[0]\n",
    "    \n",
    "    isnan = np.isnan(image).all()\n",
    "    if all(isnan[b] for b in isnan):\n",
    "      continue\n",
    "    \n",
    "    outpath = Path(f'data/Sentinel2/{image_id}/{day}.tif')\n",
    "    outpath.parent.mkdir(parents=True, exist_ok=True)\n",
    "    image.rio.to_raster(outpath)\n",
    "  # break\n",
    "    \n",
    "  # id2paths[image_id] = paths"
   ]
  },
  {
   "cell_type": "code",
   "execution_count": null,
   "id": "dd7ce843",
   "metadata": {},
   "outputs": [],
   "source": []
  }
 ],
 "metadata": {
  "kernelspec": {
   "display_name": "Python 3 (ipykernel)",
   "language": "python",
   "name": "python3"
  },
  "language_info": {
   "codemirror_mode": {
    "name": "ipython",
    "version": 3
   },
   "file_extension": ".py",
   "mimetype": "text/x-python",
   "name": "python",
   "nbconvert_exporter": "python",
   "pygments_lexer": "ipython3",
   "version": "3.9.13"
  }
 },
 "nbformat": 4,
 "nbformat_minor": 5
}
