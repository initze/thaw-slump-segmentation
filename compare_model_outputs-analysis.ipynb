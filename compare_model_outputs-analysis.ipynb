{
 "cells": [
  {
   "cell_type": "markdown",
   "metadata": {},
   "source": [
    "# Compare model outputs of AICORE DL Model\n"
   ]
  },
  {
   "cell_type": "markdown",
   "metadata": {},
   "source": [
    "### Imports "
   ]
  },
  {
   "cell_type": "code",
   "execution_count": null,
   "metadata": {},
   "outputs": [],
   "source": [
    "import plotly.express as px\n",
    "import pandas as pd\n",
    "import os\n",
    "import glob\n",
    "from pathlib import Path\n",
    "import yaml\n",
    "import datetime\n",
    "import numpy as np\n",
    "import seaborn as sns\n",
    "import matplotlib.pyplot as plt\n",
    "import matplotlib as mpl\n",
    "\n",
    "# workaround buggy autocomplete\n",
    "%config Completer.use_jedi = False"
   ]
  },
  {
   "cell_type": "code",
   "execution_count": null,
   "metadata": {},
   "outputs": [],
   "source": [
    "def calc_rank(df, feature='basename'):\n",
    "    basenames = pd.unique(df[feature])\n",
    "    for basename in basenames:\n",
    "        idx = (df[df.basename == basename]).sort_values(by='IoU', ascending=False).index\n",
    "        df.loc[idx, 'rank'] = np.arange(1, 101, dtype=np.int)\n",
    "    return df"
   ]
  },
  {
   "cell_type": "code",
   "execution_count": null,
   "metadata": {},
   "outputs": [],
   "source": [
    "def print_overview(df):\n",
    "    sites = pd.unique(df.region)\n",
    "    for site in sites:\n",
    "        data = df[df.basename.str.contains(site)]\n",
    "        print('\\n', site)\n",
    "        print(data.groupby(by='basename').max().sort_values(by='a_b', ascending=False).set_index('a_b')['Epoch'])"
   ]
  },
  {
   "cell_type": "markdown",
   "metadata": {},
   "source": [
    "### Import Data"
   ]
  },
  {
   "cell_type": "code",
   "execution_count": null,
   "metadata": {},
   "outputs": [],
   "source": [
    "df_val = pd.read_pickle('df_val_filtered.pkl')"
   ]
  },
  {
   "cell_type": "code",
   "execution_count": null,
   "metadata": {},
   "outputs": [],
   "source": [
    "df_train = pd.read_pickle('df_train_filtered.pkl')"
   ]
  },
  {
   "cell_type": "markdown",
   "metadata": {},
   "source": [
    "### Check data completeness "
   ]
  },
  {
   "cell_type": "code",
   "execution_count": null,
   "metadata": {},
   "outputs": [],
   "source": [
    "print_overview(df_val)"
   ]
  },
  {
   "cell_type": "markdown",
   "metadata": {},
   "source": [
    "### Data + Feature Engineering "
   ]
  },
  {
   "cell_type": "code",
   "execution_count": null,
   "metadata": {},
   "outputs": [],
   "source": [
    "df_val = calc_rank(df_val)\n",
    "df_train = calc_rank(df_train)"
   ]
  },
  {
   "cell_type": "markdown",
   "metadata": {},
   "source": [
    "### Data Analysis "
   ]
  },
  {
   "cell_type": "markdown",
   "metadata": {},
   "source": [
    "#### Best runs result per run\n",
    "1. Maximum\n",
    "2. 95 %\n",
    "3. 50 %"
   ]
  },
  {
   "cell_type": "markdown",
   "metadata": {},
   "source": [
    "#### Show best individual run per config sorted by IoU:"
   ]
  },
  {
   "cell_type": "markdown",
   "metadata": {},
   "source": [
    "#### Plot Best (1, 5, 10, 20, 50) IoU for each configuraion "
   ]
  },
  {
   "cell_type": "code",
   "execution_count": null,
   "metadata": {},
   "outputs": [],
   "source": [
    "query = 'rank in (1, 5, 10, 20, 50)'\n",
    "cm = sns.light_palette(\"green\", as_cmap=True)\n",
    "df_vals_by_basename = df_val.pivot_table(values='IoU', index='rank', columns='basename').query(query).T\n",
    "df_vals_by_basename.style.background_gradient(cmap=cm)"
   ]
  },
  {
   "cell_type": "markdown",
   "metadata": {},
   "source": [
    "#### Show results of best config per region "
   ]
  },
  {
   "cell_type": "code",
   "execution_count": null,
   "metadata": {},
   "outputs": [],
   "source": [
    "sites = pd.unique(df_val['region'])"
   ]
  },
  {
   "cell_type": "code",
   "execution_count": null,
   "metadata": {},
   "outputs": [],
   "source": [
    "site = 'Horton'\n",
    "query1 = 'rank in (1, 5, 10, 20, 50)'\n",
    "stack = []\n",
    "for site in sites:\n",
    "    query2 = f'region == \"{site}\"'\n",
    "    filtered = df_val.query(query2).query(query).pivot(index='basename', columns='rank', values='IoU')\n",
    "    out = filtered.sort_values(by=1.0, axis=0, ascending=False).iloc[0]\n",
    "    stack.append(out)\n",
    "region_best = pd.concat(stack, axis=1).T\n",
    "\n",
    "cm = sns.light_palette(\"green\", as_cmap=True)\n",
    "region_best.style.background_gradient(cmap=cm)"
   ]
  },
  {
   "cell_type": "markdown",
   "metadata": {},
   "source": [
    "#### show stats by architecture/backbone "
   ]
  },
  {
   "cell_type": "code",
   "execution_count": null,
   "metadata": {},
   "outputs": [],
   "source": [
    "query = 'rank in (1, 5, 10, 20, 50, 75, 100)'\n",
    "cm = sns.light_palette(\"green\", as_cmap=True)\n",
    "df_vals_by_basename = df_val.query(query).pivot_table(values='IoU', index='rank', columns='a_b', aggfunc='mean').T\n",
    "df_vals_by_basename.style.background_gradient(cmap=cm)"
   ]
  },
  {
   "cell_type": "markdown",
   "metadata": {},
   "source": [
    "## Plots "
   ]
  },
  {
   "cell_type": "code",
   "execution_count": null,
   "metadata": {},
   "outputs": [],
   "source": [
    "# put data into plottable shape\n",
    "id_vars = ['Epoch', 'basename', 'type', 'architecture', 'a_b', 'backbone']\n",
    "\n",
    "df_train_melt = df_train.melt(id_vars=id_vars, value_vars=['IoU']).sort_values(by='Epoch')\n",
    "df_val_melt = df_val.melt(id_vars=id_vars, value_vars=['IoU']).sort_values(by='Epoch')\n",
    "# merge\n",
    "df_melt = pd.concat([df_val_melt])\n",
    "#df_melt = pd.concat([df_train_melt, df_val_melt])"
   ]
  },
  {
   "cell_type": "markdown",
   "metadata": {},
   "source": [
    "### Training data "
   ]
  },
  {
   "cell_type": "markdown",
   "metadata": {},
   "source": [
    "### Validation data "
   ]
  },
  {
   "cell_type": "markdown",
   "metadata": {},
   "source": [
    "#### Performance per Epoch IoU"
   ]
  },
  {
   "cell_type": "code",
   "execution_count": null,
   "metadata": {},
   "outputs": [],
   "source": [
    "df_val.head(3)"
   ]
  },
  {
   "cell_type": "markdown",
   "metadata": {},
   "source": [
    "#### Plot  difference in region, architecture, backbone"
   ]
  },
  {
   "cell_type": "code",
   "execution_count": null,
   "metadata": {},
   "outputs": [],
   "source": [
    "df_val.columns"
   ]
  },
  {
   "cell_type": "code",
   "execution_count": null,
   "metadata": {},
   "outputs": [],
   "source": [
    "filt = df_val"
   ]
  },
  {
   "cell_type": "code",
   "execution_count": null,
   "metadata": {},
   "outputs": [],
   "source": [
    "# 'backbone' 'architecture' 'region'\n",
    "group = 'backbone'\n",
    "fig, axes = plt.subplots(1,2, figsize=(12,3))\n",
    "ax0 = axes[0]\n",
    "p0 = sns.lineplot(data=filt, x='Epoch', y='IoU', hue=group, ax=ax0)\n",
    "p0.legend(loc='upper left', bbox_to_anchor=(0, -0.2), ncol=3)\n",
    "\n",
    "ax1 = axes[1]\n",
    "p1 = sns.lineplot(data=filt, x='rank', y='IoU', hue=group, ax=ax1)\n",
    "p1.legend(loc='upper left', bbox_to_anchor=(0, -0.2), ncol=3)\n",
    "\n",
    "for ax in axes:\n",
    "    ax.grid()\n",
    "    ax.set_xlim(1,100)\n",
    "    ax.set_ylim(0,0.6)\n",
    "    \n",
    "fig.savefig(f'figures/{group}_epoch_rank', dpi=300, bbox_inches=mpl.transforms.Bbox([[0,-1],[12,3]]))"
   ]
  },
  {
   "cell_type": "code",
   "execution_count": null,
   "metadata": {},
   "outputs": [],
   "source": []
  },
  {
   "cell_type": "code",
   "execution_count": null,
   "metadata": {},
   "outputs": [],
   "source": [
    "df_val_melt = df_val.melt(id_vars=id_vars, value_vars=['IoU']).sort_values(by='Epoch')\n",
    "p = px.line(df_val_melt.sort_values(by=['Epoch', 'architecture', 'backbone']), x='Epoch' , y='value' , color='basename', line_dash='architecture', line_group='backbone')\n",
    "p.update_layout(legend_orientation='h', )"
   ]
  },
  {
   "cell_type": "code",
   "execution_count": null,
   "metadata": {},
   "outputs": [],
   "source": [
    "df_val_melt_PR = df_val.melt(id_vars=id_vars, value_vars=['P-R']).sort_values(by='Epoch')\n",
    "p = px.line(df_val_melt_PR.sort_values(by=['Epoch', 'architecture', 'backbone']), x='Epoch' , y='value' , color='basename', line_dash='architecture', line_group='backbone')\n",
    "p.update_layout(legend_orientation='h', )"
   ]
  },
  {
   "cell_type": "markdown",
   "metadata": {},
   "source": [
    "#### Plot mean values of configurations "
   ]
  },
  {
   "cell_type": "code",
   "execution_count": null,
   "metadata": {},
   "outputs": [],
   "source": [
    "group_vals = ['Epoch', 'architecture']\n",
    "df_train_melt['ds'] = df_train_melt.apply(lambda x: x.architecture, axis=1)\n",
    "mean_vals = df_train_melt.groupby(group_vals).mean().reset_index(drop=False)\n",
    "px.line(mean_vals, x='Epoch', y='value', color=group_vals[1])"
   ]
  },
  {
   "cell_type": "markdown",
   "metadata": {},
   "source": [
    "### Backbone "
   ]
  },
  {
   "cell_type": "markdown",
   "metadata": {},
   "source": [
    "#### Mean performance "
   ]
  },
  {
   "cell_type": "code",
   "execution_count": null,
   "metadata": {},
   "outputs": [],
   "source": [
    "mean_vals"
   ]
  },
  {
   "cell_type": "code",
   "execution_count": null,
   "metadata": {},
   "outputs": [],
   "source": [
    "group_vals = ['Epoch', 'backbone']\n",
    "df_val_melt['ds'] = df_val_melt.apply(lambda x: x.architecture, axis=1)\n",
    "mean_vals = df_val_melt.groupby(group_vals).mean().reset_index(drop=False)\n",
    "px.line(mean_vals, x='Epoch', y='value', color=group_vals[1])"
   ]
  },
  {
   "cell_type": "code",
   "execution_count": null,
   "metadata": {},
   "outputs": [],
   "source": [
    "group_vals = ['Epoch', 'architecture']\n",
    "df_val_melt['ds'] = df_val_melt.apply(lambda x: x.architecture, axis=1)\n",
    "mean_vals = df_val_melt.groupby(group_vals).mean().reset_index(drop=False)\n",
    "px.line(mean_vals, x='Epoch', y='value', color=group_vals[1])"
   ]
  },
  {
   "cell_type": "markdown",
   "metadata": {},
   "source": [
    "### Indivual configs per site "
   ]
  },
  {
   "cell_type": "markdown",
   "metadata": {},
   "source": [
    "#### Regional comparison UNet "
   ]
  },
  {
   "cell_type": "code",
   "execution_count": null,
   "metadata": {},
   "outputs": [],
   "source": [
    "backbone = 'resnet50'\n",
    "architecture = 'UNet'\n",
    "stack_height = 6\n",
    "loss = 'FocalLoss'\n",
    "data_sources = '[planet, ndvi, tcvis, relative_elevation, slope]'"
   ]
  },
  {
   "cell_type": "code",
   "execution_count": null,
   "metadata": {},
   "outputs": [],
   "source": [
    "query = f'backbone == \"{backbone}\" & architecture == \"{architecture}\" & stack_height == \"{stack_height}\" & loss_function == \"{loss}\"'\n",
    "plot_data = df_val.query(query)\n",
    "px.line(plot_data, x='Epoch', y='IoU', color='basename')"
   ]
  },
  {
   "cell_type": "markdown",
   "metadata": {},
   "source": [
    "#### Regional comparison DeepLabV3"
   ]
  },
  {
   "cell_type": "code",
   "execution_count": null,
   "metadata": {},
   "outputs": [],
   "source": [
    "backbone = 'resnet50'\n",
    "architecture = 'DeepLabV3'\n",
    "stack_height = 6\n",
    "loss = 'FocalLoss'\n",
    "data_sources = '[planet, ndvi, tcvis, relative_elevation, slope]'"
   ]
  },
  {
   "cell_type": "code",
   "execution_count": null,
   "metadata": {},
   "outputs": [],
   "source": [
    "query = f'backbone == \"{backbone}\" & architecture == \"{architecture}\" & stack_height == \"{stack_height}\" & loss_function == \"{loss}\"'\n",
    "plot_data = df_val.query(query)\n",
    "px.line(plot_data, x='Epoch', y='IoU', color='basename')"
   ]
  },
  {
   "cell_type": "markdown",
   "metadata": {},
   "source": [
    "#### Regional comparison UnetPlusPlus"
   ]
  },
  {
   "cell_type": "code",
   "execution_count": null,
   "metadata": {},
   "outputs": [],
   "source": [
    "backbone = 'resnet50'\n",
    "architecture = 'UnetPlusPlus'\n",
    "stack_height = 6\n",
    "loss = 'FocalLoss'\n",
    "data_sources = '[planet, ndvi, tcvis, relative_elevation, slope]'"
   ]
  },
  {
   "cell_type": "code",
   "execution_count": null,
   "metadata": {},
   "outputs": [],
   "source": [
    "query = f'backbone == \"{backbone}\" & architecture == \"{architecture}\" & stack_height == \"{stack_height}\" & loss_function == \"{loss}\"'\n",
    "plot_data = df_val.query(query)\n",
    "px.line(plot_data, x='Epoch', y='IoU', color='basename')"
   ]
  },
  {
   "cell_type": "markdown",
   "metadata": {},
   "source": [
    "#### Sorted IoU by config"
   ]
  },
  {
   "cell_type": "code",
   "execution_count": null,
   "metadata": {},
   "outputs": [],
   "source": [
    "\n",
    "pd.unique(plot_data.basename)"
   ]
  },
  {
   "cell_type": "code",
   "execution_count": null,
   "metadata": {},
   "outputs": [],
   "source": [
    "#for region in regions:\n",
    "query = f'region == \"Horton\"'\n",
    "plot_data = df_val.query(query)\n",
    "basenames = pd.unique(plot_data.basename)\n",
    "for basename in basenames:\n",
    "    idx = (plot_data[plot_data.basename == basename]).sort_values(by='IoU', ascending=False).index\n",
    "    plot_data.loc[idx, 'rank'] = np.arange(100, dtype=np.int)\n",
    "metric = 'IoU'\n",
    "px.line(plot_data.sort_values(by=metric), x='rank', y=metric, color='basename')"
   ]
  },
  {
   "cell_type": "code",
   "execution_count": null,
   "metadata": {},
   "outputs": [],
   "source": [
    "regions"
   ]
  },
  {
   "cell_type": "code",
   "execution_count": null,
   "metadata": {},
   "outputs": [],
   "source": [
    "query = f'region == \"Lena\"'\n",
    "plot_data = df_val.query(query)\n",
    "for basename in basenames:\n",
    "    idx = (plot_data[plot_data.basename == basename]).sort_values(by='IoU', ascending=False).index\n",
    "    plot_data.loc[idx, 'rank'] = np.arange(100, dtype=np.int)\n",
    "metric = 'IoU'\n",
    "px.line(plot_data.sort_values(by=metric), x='rank', y=metric, color='basename')"
   ]
  },
  {
   "cell_type": "code",
   "execution_count": null,
   "metadata": {},
   "outputs": [],
   "source": [
    "site = 'V__Horton'\n",
    "#df_val[df_val.basename.str.contains(site)].sort_values(by='IoU', ascending=False).drop_duplicates().head(5)"
   ]
  },
  {
   "cell_type": "code",
   "execution_count": null,
   "metadata": {},
   "outputs": [],
   "source": [
    "plot_data = df_val[df_val.basename.str.contains(site)]\n",
    "px.line(plot_data, x='Epoch', y='IoU', color='basename')\n",
    "#data.groupby(by='basename').max().sort_values(by='IoU', ascending=False).set_index('a-b')"
   ]
  },
  {
   "cell_type": "code",
   "execution_count": null,
   "metadata": {},
   "outputs": [],
   "source": []
  }
 ],
 "metadata": {
  "kernelspec": {
   "display_name": "Python 3",
   "language": "python",
   "name": "python3"
  },
  "language_info": {
   "codemirror_mode": {
    "name": "ipython",
    "version": 3
   },
   "file_extension": ".py",
   "mimetype": "text/x-python",
   "name": "python",
   "nbconvert_exporter": "python",
   "pygments_lexer": "ipython3",
   "version": "3.7.7"
  }
 },
 "nbformat": 4,
 "nbformat_minor": 2
}
