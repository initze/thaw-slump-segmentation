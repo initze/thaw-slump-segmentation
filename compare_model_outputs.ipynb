{
 "cells": [
  {
   "cell_type": "markdown",
   "metadata": {},
   "source": [
    "# Compare model outputs of AICORE DL Model\n"
   ]
  },
  {
   "cell_type": "markdown",
   "metadata": {},
   "source": [
    "### Imports "
   ]
  },
  {
   "cell_type": "code",
   "execution_count": null,
   "metadata": {},
   "outputs": [],
   "source": [
    "import plotly.express as px\n",
    "import pandas as pd\n",
    "import os\n",
    "import glob\n",
    "from pathlib import Path\n",
    "import yaml\n",
    "import datetime\n",
    "\n",
    "# workaround buggy autocomplete\n",
    "%config Completer.use_jedi = False"
   ]
  },
  {
   "cell_type": "markdown",
   "metadata": {},
   "source": [
    "### Functions "
   ]
  },
  {
   "cell_type": "code",
   "execution_count": null,
   "metadata": {},
   "outputs": [],
   "source": [
    "def get_props_from_config(config_file):\n",
    "    config = yaml.load(open(config_file), Loader=yaml.BaseLoader)\n",
    "    m = config['model']\n",
    "    try:\n",
    "        resume = config['resume'][1]\n",
    "    except:\n",
    "        resume = ''\n",
    "    return config, resume"
   ]
  },
  {
   "cell_type": "code",
   "execution_count": null,
   "metadata": {},
   "outputs": [],
   "source": [
    "def get_vals_from_dir(subdir):\n",
    "    basename = subdir.name\n",
    "    \n",
    "    df_tr = pd.read_csv(subdir / 'train.csv')\n",
    "    df_tr['basename'] = basename[:]\n",
    "    df_tr['type'] = 'train'\n",
    "    df_tr['region'] = basename.split('__')[2]\n",
    "    #df_list_tr.append(df_tr)\n",
    "    \n",
    "    \n",
    "    df_v = pd.read_csv(s / 'val.csv')\n",
    "    df_v['basename'] = basename[:]\n",
    "    df_v['type'] = 'val'\n",
    "    df_v['region'] = basename.split('__')[2]\n",
    "    #df_list_v.append(df_v)\n",
    "    \n",
    "    return df_tr, df_v"
   ]
  },
  {
   "cell_type": "markdown",
   "metadata": {},
   "source": [
    "### Settings "
   ]
  },
  {
   "cell_type": "markdown",
   "metadata": {},
   "source": [
    "need to open dir in explorer to connect !!!"
   ]
  },
  {
   "cell_type": "code",
   "execution_count": null,
   "metadata": {},
   "outputs": [],
   "source": [
    "#LOGDIR = Path('logs') / '0.3.1'\n",
    "#LOGDIR = Path(r'O:\\p_aicore\\initze\\aicore-uc2_augmentation\\logs')\n",
    "LOGDIR = Path(r'L:\\initze\\aicore-uc2_augmentation\\logs')\n",
    "#SUB_REGEX = '*'\n",
    "SUB_REGEX = '*CV6*'"
   ]
  },
  {
   "cell_type": "code",
   "execution_count": null,
   "metadata": {},
   "outputs": [],
   "source": [
    "subdirs = list(LOGDIR.glob(SUB_REGEX))"
   ]
  },
  {
   "cell_type": "markdown",
   "metadata": {},
   "source": [
    "### Data Loading \n",
    "- add config reader"
   ]
  },
  {
   "cell_type": "code",
   "execution_count": null,
   "metadata": {},
   "outputs": [],
   "source": [
    "df_list_tr = []\n",
    "df_list_v = []\n",
    "for s in subdirs:\n",
    "    try:\n",
    "        df_tr, df_v = get_vals_from_dir(s)\n",
    "    except:\n",
    "        continue\n",
    "    config_file = s / 'config.yml'\n",
    "    #try:\n",
    "    #architecture, backbone, resume, loss_function, stack_height, data_sources = get_props_from_config(config_file)\n",
    "    config, resume = get_props_from_config(config_file)\n",
    "    #except:\n",
    "    for df in [df_tr, df_v]:\n",
    "        df['architecture'] = config['model']['architecture']\n",
    "        df['backbone'] = config['model']['encoder']\n",
    "        df['loss_function'] = config['loss_function']\n",
    "        df['a-b'] = df['architecture'] + '_' + df['backbone']\n",
    "        df['resume'] = resume\n",
    "        df['stack_height'] = config['model_args']['stack_height']\n",
    "        df['timestamp'] = datetime.datetime.strptime(config['run_info']['timestamp'], '%Y-%m-%d_%H-%M-%S')\n",
    "        df['data_sources'] = df.apply(lambda x: config['data_sources'], axis=1)\n",
    "        df['P-R'] = df['Precision'] - df['Recall']\n",
    "    \n",
    "    df_list_tr.append(df_tr)\n",
    "    df_list_v.append(df_v)\n",
    "\n",
    "df_train = pd.concat(df_list_tr).reset_index()\n",
    "df_val = pd.concat(df_list_v).reset_index()"
   ]
  },
  {
   "cell_type": "code",
   "execution_count": null,
   "metadata": {},
   "outputs": [],
   "source": [
    "len(df_val)"
   ]
  },
  {
   "cell_type": "markdown",
   "metadata": {},
   "source": [
    "#### Filter by date"
   ]
  },
  {
   "cell_type": "code",
   "execution_count": null,
   "metadata": {},
   "outputs": [],
   "source": [
    "date = datetime.datetime(2021,3,22)\n",
    "df_train = df_train[df_train.timestamp > date]\n",
    "df_val = df_val[df_val.timestamp > date]"
   ]
  },
  {
   "cell_type": "markdown",
   "metadata": {},
   "source": [
    "#### Merge resumed trainings"
   ]
  },
  {
   "cell_type": "code",
   "execution_count": null,
   "metadata": {},
   "outputs": [],
   "source": [
    "for df in [df_train, df_val]:\n",
    "    idxs = df['resume'] != ''\n",
    "    df.loc[idxs, 'basename'] = df['resume']\n",
    "    df.loc[idxs, 'Epoch'] += 50"
   ]
  },
  {
   "cell_type": "markdown",
   "metadata": {},
   "source": [
    "### Data Export"
   ]
  },
  {
   "cell_type": "code",
   "execution_count": null,
   "metadata": {},
   "outputs": [],
   "source": [
    "pd.to_pickle(df_val, 'df_val_filtered.pkl')"
   ]
  },
  {
   "cell_type": "code",
   "execution_count": null,
   "metadata": {},
   "outputs": [],
   "source": [
    "pd.to_pickle(df_train, 'df_train_filtered.pkl')"
   ]
  },
  {
   "cell_type": "markdown",
   "metadata": {},
   "source": [
    "### Data Analysis "
   ]
  },
  {
   "cell_type": "markdown",
   "metadata": {},
   "source": [
    "#### Best runs result per run\n",
    "1. Maximum\n",
    "2. 95 %\n",
    "3. 50 %"
   ]
  },
  {
   "cell_type": "markdown",
   "metadata": {},
   "source": [
    "#### Show best individual run per config sorted by IoU:"
   ]
  },
  {
   "cell_type": "code",
   "execution_count": null,
   "metadata": {},
   "outputs": [],
   "source": [
    "df_val.sort_values(by='IoU', ascending=False).drop_duplicates(subset='basename').set_index('basename')"
   ]
  },
  {
   "cell_type": "code",
   "execution_count": null,
   "metadata": {},
   "outputs": [],
   "source": [
    "#df_val.groupby(by='basename').quantile(1)"
   ]
  },
  {
   "cell_type": "code",
   "execution_count": null,
   "metadata": {},
   "outputs": [],
   "source": [
    "#df_val.groupby(by='basename').quantile(1).sort_values(by='IoU', ascending=False).head(10)"
   ]
  },
  {
   "cell_type": "code",
   "execution_count": null,
   "metadata": {},
   "outputs": [],
   "source": [
    "#df_val.groupby(by='basename').quantile(.95).sort_values(by='IoU', ascending=False).head(5)"
   ]
  },
  {
   "cell_type": "markdown",
   "metadata": {},
   "source": [
    "#### Show median individual run per config sorted by IoU:"
   ]
  },
  {
   "cell_type": "code",
   "execution_count": null,
   "metadata": {},
   "outputs": [],
   "source": [
    "df_val.groupby(by='basename').median().sort_values(by='IoU', ascending=False)"
   ]
  },
  {
   "cell_type": "code",
   "execution_count": null,
   "metadata": {},
   "outputs": [],
   "source": [
    "df_val[df_val.basename.str.contains(site)].groupby(by='basename').max().sort_values(by='IoU', ascending=False).set_index('a-b')"
   ]
  },
  {
   "cell_type": "markdown",
   "metadata": {},
   "source": [
    "#### SIte specific performance "
   ]
  },
  {
   "cell_type": "code",
   "execution_count": null,
   "metadata": {},
   "outputs": [],
   "source": [
    "df_val[df_val.basename.str.contains(site)].sort_values(by='IoU', ascending=False).drop_duplicates(subset=['basename'])#.set_index('a-b')"
   ]
  },
  {
   "cell_type": "code",
   "execution_count": null,
   "metadata": {},
   "outputs": [],
   "source": [
    "site = 'V__Horton'\n",
    "df_val[df_val.basename.str.contains(site)].sort_values(by='IoU', ascending=False).drop_duplicates().head(5)"
   ]
  },
  {
   "cell_type": "code",
   "execution_count": null,
   "metadata": {},
   "outputs": [],
   "source": [
    "site = 'V__Lena'\n",
    "df_val[df_val.basename.str.contains(site)].sort_values(by='IoU', ascending=False).drop_duplicates().head(5)"
   ]
  },
  {
   "cell_type": "markdown",
   "metadata": {},
   "source": [
    "### Plots "
   ]
  },
  {
   "cell_type": "code",
   "execution_count": null,
   "metadata": {},
   "outputs": [],
   "source": [
    "# put data into plottable shape\n",
    "id_vars = ['Epoch', 'basename', 'type', 'architecture', 'a-b', 'backbone']\n",
    "\n",
    "df_train_melt = df_train.melt(id_vars=id_vars, value_vars=['IoU']).sort_values(by='Epoch')\n",
    "df_val_melt = df_val.melt(id_vars=id_vars, value_vars=['IoU']).sort_values(by='Epoch')\n",
    "# merge\n",
    "df_melt = pd.concat([df_val_melt])\n",
    "#df_melt = pd.concat([df_train_melt, df_val_melt])"
   ]
  },
  {
   "cell_type": "markdown",
   "metadata": {},
   "source": [
    "### Training data "
   ]
  },
  {
   "cell_type": "code",
   "execution_count": null,
   "metadata": {},
   "outputs": [],
   "source": [
    "#px.line(df_melt, x='Epoch' , y='value' , color='basename', line_group='type')\n",
    "df_train_melt = df_train.melt(id_vars=id_vars, value_vars=['IoU']).sort_values(by='Epoch')\n",
    "p = px.line(df_train_melt, x='Epoch' , y='value' , color='basename', line_group='architecture')\n",
    "p.update_layout(legend_orientation='h', )"
   ]
  },
  {
   "cell_type": "markdown",
   "metadata": {},
   "source": [
    "### Validation data "
   ]
  },
  {
   "cell_type": "markdown",
   "metadata": {},
   "source": [
    "#### Performance per Epoch IoU"
   ]
  },
  {
   "cell_type": "code",
   "execution_count": null,
   "metadata": {},
   "outputs": [],
   "source": [
    "df_val_melt = df_val.melt(id_vars=id_vars, value_vars=['IoU']).sort_values(by='Epoch')\n",
    "p = px.line(df_val_melt.sort_values(by=['Epoch', 'architecture', 'backbone']), x='Epoch' , y='value' , color='basename', line_dash='architecture', line_group='backbone')\n",
    "p.update_layout(legend_orientation='h', )"
   ]
  },
  {
   "cell_type": "code",
   "execution_count": null,
   "metadata": {},
   "outputs": [],
   "source": [
    "df_val_melt_PR = df_val.melt(id_vars=id_vars, value_vars=['P-R']).sort_values(by='Epoch')\n",
    "p = px.line(df_val_melt_PR.sort_values(by=['Epoch', 'architecture', 'backbone']), x='Epoch' , y='value' , color='basename', line_dash='architecture', line_group='backbone')\n",
    "p.update_layout(legend_orientation='h', )"
   ]
  },
  {
   "cell_type": "markdown",
   "metadata": {},
   "source": [
    "#### Plot mean values of configurations "
   ]
  },
  {
   "cell_type": "code",
   "execution_count": null,
   "metadata": {},
   "outputs": [],
   "source": [
    "group_vals = ['Epoch', 'architecture']\n",
    "df_train_melt['ds'] = df_train_melt.apply(lambda x: x.architecture, axis=1)\n",
    "mean_vals = df_train_melt.groupby(group_vals).mean().reset_index(drop=False)\n",
    "px.line(mean_vals, x='Epoch', y='value', color=group_vals[1])"
   ]
  },
  {
   "cell_type": "markdown",
   "metadata": {},
   "source": [
    "### Backbone "
   ]
  },
  {
   "cell_type": "markdown",
   "metadata": {},
   "source": [
    "#### Mean performance "
   ]
  },
  {
   "cell_type": "code",
   "execution_count": null,
   "metadata": {},
   "outputs": [],
   "source": [
    "mean_vals"
   ]
  },
  {
   "cell_type": "code",
   "execution_count": null,
   "metadata": {},
   "outputs": [],
   "source": [
    "group_vals = ['Epoch', 'backbone']\n",
    "df_val_melt['ds'] = df_val_melt.apply(lambda x: x.architecture, axis=1)\n",
    "mean_vals = df_val_melt.groupby(group_vals).mean().reset_index(drop=False)\n",
    "px.line(mean_vals, x='Epoch', y='value', color=group_vals[1])"
   ]
  },
  {
   "cell_type": "code",
   "execution_count": null,
   "metadata": {},
   "outputs": [],
   "source": [
    "group_vals = ['Epoch', 'architecture']\n",
    "df_val_melt['ds'] = df_val_melt.apply(lambda x: x.architecture, axis=1)\n",
    "mean_vals = df_val_melt.groupby(group_vals).mean().reset_index(drop=False)\n",
    "px.line(mean_vals, x='Epoch', y='value', color=group_vals[1])"
   ]
  },
  {
   "cell_type": "markdown",
   "metadata": {},
   "source": [
    "### Indivual configs per site "
   ]
  },
  {
   "cell_type": "markdown",
   "metadata": {},
   "source": [
    "#### Regional comparison UNet "
   ]
  },
  {
   "cell_type": "code",
   "execution_count": null,
   "metadata": {},
   "outputs": [],
   "source": [
    "backbone = 'resnet50'\n",
    "architecture = 'UNet'\n",
    "stack_height = 6\n",
    "loss = 'FocalLoss'\n",
    "data_sources = '[planet, ndvi, tcvis, relative_elevation, slope]'"
   ]
  },
  {
   "cell_type": "code",
   "execution_count": null,
   "metadata": {},
   "outputs": [],
   "source": [
    "query = f'backbone == \"{backbone}\" & architecture == \"{architecture}\" & stack_height == \"{stack_height}\" & loss_function == \"{loss}\"'\n",
    "plot_data = df_val.query(query)\n",
    "px.line(plot_data, x='Epoch', y='IoU', color='basename')"
   ]
  },
  {
   "cell_type": "markdown",
   "metadata": {},
   "source": [
    "#### Regional comparison UnetPlusPlus"
   ]
  },
  {
   "cell_type": "code",
   "execution_count": null,
   "metadata": {},
   "outputs": [],
   "source": [
    "backbone = 'resnet50'\n",
    "architecture = 'UnetPlusPlus'\n",
    "stack_height = 6\n",
    "loss = 'FocalLoss'\n",
    "data_sources = '[planet, ndvi, tcvis, relative_elevation, slope]'"
   ]
  },
  {
   "cell_type": "code",
   "execution_count": null,
   "metadata": {},
   "outputs": [],
   "source": [
    "query = f'backbone == \"{backbone}\" & architecture == \"{architecture}\" & stack_height == \"{stack_height}\" & loss_function == \"{loss}\"'\n",
    "plot_data = df_val.query(query)\n",
    "px.line(plot_data, x='Epoch', y='IoU', color='basename')"
   ]
  },
  {
   "cell_type": "code",
   "execution_count": null,
   "metadata": {},
   "outputs": [],
   "source": []
  }
 ],
 "metadata": {
  "kernelspec": {
   "display_name": "Python 3",
   "language": "python",
   "name": "python3"
  },
  "language_info": {
   "codemirror_mode": {
    "name": "ipython",
    "version": 3
   },
   "file_extension": ".py",
   "mimetype": "text/x-python",
   "name": "python",
   "nbconvert_exporter": "python",
   "pygments_lexer": "ipython3",
   "version": "3.7.7"
  }
 },
 "nbformat": 4,
 "nbformat_minor": 2
}
