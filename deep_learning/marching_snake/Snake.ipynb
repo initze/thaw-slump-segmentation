{
 "cells": [
  {
   "cell_type": "code",
   "execution_count": 54,
   "metadata": {},
   "outputs": [],
   "source": [
    "import torch\n",
    "import torch.nn as nn\n",
    "import torch.nn.functional as F\n",
    "\n",
    "import matplotlib.pyplot as plt\n",
    "plt.style.use('tableau-colorblind10')"
   ]
  },
  {
   "cell_type": "code",
   "execution_count": 138,
   "metadata": {},
   "outputs": [],
   "source": [
    "def make_toy_batch(batchsize=2):\n",
    "    img = torch.zeros(batchsize, 1, 256, 256)\n",
    "    mask = torch.zeros_like(img)\n",
    "    for b in range(batchsize):\n",
    "        x = torch.randint(32, 255-32, [])\n",
    "        y = torch.randint(32, 255-32, [])\n",
    "\n",
    "        mask[b,:,y-16:y+16,x-16:x+16] = 1\n",
    "        img[b,:,y-16:y+16,x-16:x+16] = torch.rand(1,1,32,32) > 0.8\n",
    "    \n",
    "    return img, mask"
   ]
  },
  {
   "cell_type": "code",
   "execution_count": 139,
   "metadata": {},
   "outputs": [],
   "source": [
    "def marching_cubes(coarse):\n",
    "    coarse_class = coarse > 0\n",
    "    NW = coarse_class[:,:,:-1,:-1]\n",
    "    NE = coarse_class[:,:,:-1,1:]\n",
    "    SW = coarse_class[:,:,1:,:-1]\n",
    "    SE = coarse_class[:,:,1:,1:]\n",
    "\n",
    "    cells = torch.stack([NW, NE, SW, SE], dim=-1)\n",
    "    cellsum = cells.sum(dim=-1)\n",
    "    interest_mask = (cellsum > 0) * (cellsum < 4)\n",
    "    print(cellsum.sum())\n",
    "    plt.imshow(interest_mask[0,0])\n",
    "\n",
    "class SnakeNet(nn.Module):\n",
    "    def __init__(self, input_channels, output_channels, base_channels=16):\n",
    "        super().__init__()\n",
    "        bc = base_channels\n",
    "\n",
    "        # Backbone\n",
    "        self.backbone = nn.Sequential(\n",
    "            nn.Conv2d(input_channels, base_channels, 2, stride=2),\n",
    "            nn.Conv2d(1 * bc, 2 * bc, 2, stride=2), nn.Tanh(),\n",
    "            nn.Conv2d(2 * bc, 4 * bc, 2, stride=2), nn.Tanh(),\n",
    "            nn.Conv2d(4 * bc, 8 * bc, 2, stride=2), nn.Tanh(),\n",
    "        )\n",
    "        \n",
    "        self.make_coarse = nn.Conv2d(8 * bc, 1, 1)\n",
    "\n",
    "    def forward(self, x):\n",
    "        features = self.backbone(x)\n",
    "        coarse = self.make_coarse(features)\n",
    "\n",
    "        # Do Marching squares\n",
    "        x = features\n",
    "\n",
    "        return x, coarse"
   ]
  },
  {
   "cell_type": "code",
   "execution_count": 144,
   "metadata": {},
   "outputs": [
    {
     "name": "stdout",
     "output_type": "stream",
     "text": [
      "0.1560410112142563\n",
      "0.1834889054298401\n",
      "0.14803507924079895\n",
      "0.1466134935617447\n",
      "0.10694143176078796\n",
      "0.1321132481098175\n",
      "0.08916190266609192\n",
      "0.0635504424571991\n",
      "0.045418158173561096\n",
      "0.046652719378471375\n",
      "torch.Size([2, 1, 256, 256]) -> torch.Size([2, 1, 16, 16])\n"
     ]
    }
   ],
   "source": [
    "net = SnakeNet(1, 1)\n",
    "opt = torch.optim.Adam(net.parameters(), 1e-3)\n",
    "\n",
    "for i in range(100):\n",
    "    img, mask = make_toy_batch()\n",
    "    N, C, H, W = img.shape\n",
    "    coarse_target = mask.view(N, C, H // 16, 16, W // 16, 16)\n",
    "    coarse_target = coarse_target.transpose(3, 4)\n",
    "    coarse_target = coarse_target.reshape(N, C, H // 16, W // 16, -1)\n",
    "    coarse_target = coarse_target.max(dim=-1)[0]\n",
    "    x, coarse = net(img)\n",
    "\n",
    "    coarse_loss = F.binary_cross_entropy_with_logits(coarse, coarse_target)\n",
    "    opt.zero_grad()\n",
    "    coarse_loss.backward()\n",
    "    opt.step()\n",
    "    if i % 10 == 10-1:\n",
    "        print(coarse_loss.item())\n",
    "\n",
    "print(img.shape, '->', coarse.shape)"
   ]
  },
  {
   "cell_type": "code",
   "execution_count": 146,
   "metadata": {},
   "outputs": [
    {
     "name": "stdout",
     "output_type": "stream",
     "text": [
      "tensor(40)\n"
     ]
    },
    {
     "data": {
      "image/png": "[encoded data removed]",
      "text/plain": [
       "<Figure size 720x432 with 2 Axes>"
      ]
     },
     "metadata": {
      "needs_background": "light"
     },
     "output_type": "display_data"
    }
   ],
   "source": [
    "plt.subplot(1, 2, 1)\n",
    "plt.imshow(img[0,0])\n",
    "plt.subplot(1, 2, 2)\n",
    "marching_cubes(coarse)"
   ]
  },
  {
   "cell_type": "code",
   "execution_count": 70,
   "metadata": {},
   "outputs": [
    {
     "name": "stdout",
     "output_type": "stream",
     "text": [
      "tensor(167) tensor(90)\n"
     ]
    },
    {
     "data": {
      "text/plain": [
       "<matplotlib.image.AxesImage at 0x7fd29ec4b580>"
      ]
     },
     "execution_count": 70,
     "metadata": {},
     "output_type": "execute_result"
    },
    {
     "data": {
      "image/png": "[encoded data removed]",
      "text/plain": [
       "<Figure size 720x432 with 1 Axes>"
      ]
     },
     "metadata": {
      "needs_background": "light"
     },
     "output_type": "display_data"
    }
   ],
   "source": [
    "plt.imshow(make_toy_example()[0,0])"
   ]
  },
  {
   "cell_type": "code",
   "execution_count": 77,
   "metadata": {},
   "outputs": [
    {
     "name": "stdout",
     "output_type": "stream",
     "text": [
      "tensor(163) tensor(80)\n"
     ]
    },
    {
     "data": {
      "text/plain": [
       "tensor(0.)"
      ]
     },
     "execution_count": 77,
     "metadata": {},
     "output_type": "execute_result"
    }
   ],
   "source": []
  },
  {
   "cell_type": "code",
   "execution_count": null,
   "metadata": {},
   "outputs": [],
   "source": []
  }
 ],
 "metadata": {
  "kernelspec": {
   "display_name": "Python 3",
   "language": "python",
   "name": "python3"
  },
  "language_info": {
   "codemirror_mode": {
    "name": "ipython",
    "version": 3
   },
   "file_extension": ".py",
   "mimetype": "text/x-python",
   "name": "python",
   "nbconvert_exporter": "python",
   "pygments_lexer": "ipython3",
   "version": "3.8.2"
  }
 },
 "nbformat": 4,
 "nbformat_minor": 4
}
