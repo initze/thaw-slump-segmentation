{
 "cells": [
  {
   "cell_type": "code",
   "execution_count": 1,
   "metadata": {},
   "outputs": [],
   "source": [
    "from pathlib import Path\n",
    "\n",
    "import geopandas as gpd\n",
    "import pandas as pd\n",
    "from rich import print\n",
    "from shapely.geometry import Point\n",
    "\n",
    "NITZE_COVERAGE_FNAME = 'RTS_INitze_v1_coverage_2018-2023_annual.parquet'\n",
    "NITZE_LEVEL2_FNAME = 'RTS_INitze_v1_rts_2018-2023_v1_05_level2.parquet'\n",
    "\n",
    "region = 'Banks_Island'\n",
    "buffer = 100\n",
    "year = 2023\n",
    "\n",
    "lewkowicz_data = Path('../data/publication/Lewkowicz')\n",
    "nitze_data = Path('../data/publication/v5')"
   ]
  },
  {
   "cell_type": "code",
   "execution_count": null,
   "metadata": {},
   "outputs": [],
   "source": [
    "# Load nitze data\n",
    "nitze_coverage = gpd.read_parquet(nitze_data / NITZE_COVERAGE_FNAME)\n",
    "nitze_level2 = gpd.read_parquet(nitze_data / NITZE_LEVEL2_FNAME)\n",
    "\n",
    "\n",
    "print(f'Processing {region}...')\n",
    "# Load lewkowicz data\n",
    "fname = lewkowicz_data / f'{region}_RTS_activity.txt'\n",
    "df = pd.read_csv(fname, sep='\\t')\n",
    "geometry = [Point(xy) for xy in zip(df['Longitude'], df['Latitude'])]\n",
    "lewkowicz_full = gpd.GeoDataFrame(df, geometry=geometry)\n",
    "print(f'Number of total sites in {region}: {len(lewkowicz_full)}')\n",
    "\n",
    "# Set the coordinate reference system (CRS) WGS84\n",
    "lewkowicz_full.set_crs(epsg=4326, inplace=True)\n",
    "\n",
    "# Filter out inactive sites (\"End date (2100=not determined as still active in 2016)\" != 2100)\n",
    "end_data_column = 'End date (2100=not determined as still active in 2016)'\n",
    "lewkowicz_full = lewkowicz_full[lewkowicz_full[end_data_column] != 2100]\n",
    "print(f'Number of active sites in {region}: {len(lewkowicz_full)} ')\n",
    "\n",
    "# Filter out sites that are not part of our coverage\n",
    "region_boundary = gpd.read_file(lewkowicz_data / 'sites' / f'{region}.geojson')\n",
    "nitze_coverage_region = gpd.overlay(nitze_coverage, region_boundary, how='intersection')\n",
    "\n",
    "lewkowicz_intercov = []\n",
    "nitze_intercov = []\n",
    "for year in nitze_coverage_region['year'].unique():\n",
    "    nitze_coverage_region_year = nitze_coverage_region[nitze_coverage_region['year'] == year]\n",
    "\n",
    "    lewkowicz_year = gpd.overlay(lewkowicz_full, nitze_coverage_region_year, how='intersection')\n",
    "    lewkowicz_year['year'] = year\n",
    "    lewkowicz_intercov.append(lewkowicz_year)\n",
    "\n",
    "    nitze_year = nitze_level2[nitze_level2['year'] == year]\n",
    "    nitze_year = gpd.overlay(nitze_year, nitze_coverage_region_year, how='intersection')\n",
    "    nitze_intercov.append(nitze_year)\n",
    "lewkowicz_intercov = pd.concat(lewkowicz_intercov)\n",
    "nitze_intercov = pd.concat(nitze_intercov)\n",
    "\n",
    "# rename year_1 to year and delete year_2 (they are the same)\n",
    "nitze_intercov.rename(columns={'year_1': 'year'}, inplace=True)\n",
    "nitze_intercov.drop(columns=['year_2'], inplace=True)\n",
    "\n",
    "# Delete area_km2 column, since it has lost its meaning after the intersection\n",
    "lewkowicz_intercov.drop(columns=['area_km2'], inplace=True)\n",
    "nitze_intercov.drop(columns=['area_km2'], inplace=True)"
   ]
  },
  {
   "cell_type": "code",
   "execution_count": null,
   "metadata": {},
   "outputs": [],
   "source": [
    "lewkowicz_intercov"
   ]
  },
  {
   "cell_type": "code",
   "execution_count": null,
   "metadata": {},
   "outputs": [],
   "source": [
    "nitze_intercov"
   ]
  },
  {
   "cell_type": "code",
   "execution_count": null,
   "metadata": {},
   "outputs": [],
   "source": [
    "lewkowicz_year = lewkowicz_intercov[lewkowicz_intercov['year'] == year]\n",
    "nitze_year = nitze_intercov[nitze_intercov['year'] == year]\n",
    "# Convert the geometry of lewkowicz to a m projection\n",
    "lewkowicz_year = lewkowicz_year.to_crs(epsg=5937)\n",
    "# Buffer the geometry\n",
    "lewkowicz_year['geometry'] = lewkowicz_year['geometry'].buffer(buffer)\n",
    "# Convert back to WGS84\n",
    "lewkowicz_year = lewkowicz_year.to_crs(epsg=4326)\n",
    "\n",
    "m = nitze_year.explore()\n",
    "m = lewkowicz_year.explore(m=m, color='red')\n",
    "m"
   ]
  },
  {
   "cell_type": "code",
   "execution_count": null,
   "metadata": {},
   "outputs": [],
   "source": [
    "# Find matches between lewkowicz and nitze\n",
    "matches = gpd.sjoin(lewkowicz_year, nitze_year, how='inner', predicate='intersects')\n",
    "print(f'Number of matches in {region} in {year}: {len(matches)}')\n",
    "matches"
   ]
  },
  {
   "cell_type": "code",
   "execution_count": null,
   "metadata": {},
   "outputs": [],
   "source": [
    "# Drop duplicates\n",
    "matches.drop_duplicates('Identifier')"
   ]
  },
  {
   "cell_type": "code",
   "execution_count": null,
   "metadata": {},
   "outputs": [],
   "source": [
    "nitze_year.crs"
   ]
  },
  {
   "cell_type": "code",
   "execution_count": null,
   "metadata": {},
   "outputs": [],
   "source": [
    "m = lewkowicz_year.explore(\n",
    "    color='red',\n",
    "    tiles='https://server.arcgisonline.com/ArcGIS/rest/services/World_Imagery/MapServer/tile/{z}/{y}/{x}',\n",
    "    attr='Esri',\n",
    ")\n",
    "m = nitze_year.explore(m=m)\n",
    "m = matches.explore(m=m, color='green')\n",
    "m"
   ]
  },
  {
   "cell_type": "code",
   "execution_count": null,
   "metadata": {},
   "outputs": [],
   "source": [
    "tp = len(matches)\n",
    "fp = len(nitze_year) - tp\n",
    "fn = len(lewkowicz_year) - tp\n",
    "precision = tp / (tp + fp)\n",
    "recall = tp / (tp + fn)\n",
    "f1 = 2 * (precision * recall) / (precision + recall)\n",
    "accuracy = tp / len(lewkowicz_year)\n",
    "print(f'Precision: {precision:.2f}')\n",
    "print(f'Recall: {recall:.2f}')\n",
    "print(f'F1: {f1:.2f}')\n",
    "print(f'Accuracy: {accuracy:.2f}')"
   ]
  }
 ],
 "metadata": {
  "kernelspec": {
   "display_name": ".venv",
   "language": "python",
   "name": "python3"
  },
  "language_info": {
   "codemirror_mode": {
    "name": "ipython",
    "version": 3
   },
   "file_extension": ".py",
   "mimetype": "text/x-python",
   "name": "python",
   "nbconvert_exporter": "python",
   "pygments_lexer": "ipython3",
   "version": "3.11.9"
  }
 },
 "nbformat": 4,
 "nbformat_minor": 2
}
